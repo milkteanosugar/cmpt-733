{
 "cells": [
  {
   "cell_type": "markdown",
   "metadata": {},
   "source": [
    "First, Thanks to Nwamaka's medium post(https://medium.com/nwamaka-imasogie/clinicalbert-using-deep-learning-transformer-model-to-predict-hospital-readmission-c82ff0e4bb03), which offers the data preprocessing stage as well as some guidance on classification. The following project will read the data from the pre-processed stage, and perform the machine learning techniques on Readmission prediction.\n",
    "\n",
    "This part is a good supplement for real-time text prediction. We can get strucutured data immediately, but it has a lag(The hospital will not count the structured data until the end of the day!). This is the reason why NLP could help on real-time predicting.\n",
    "\n",
    "We will mainly focus on:\n",
    "\n",
    "1. Simple convertion of word vectors\n",
    "\n",
    "2. Data Exploration and unbalanced data issue\n",
    "\n",
    "3. Applying more complex model to improve the roc_auc score\n",
    "\n",
    "We intentionaly kept the code not that consise (you might see repeated use of code). The reason is that we left an analytic procedure to you\n",
    "\n",
    "The result might seems not quite good since both unbalanced data effect and there is few NLP task exploration on this dataset. Even the original author just got 0.76 ROC_AUC score. We want to explore NLP method rather than beating anyone!"
   ]
  },
  {
   "cell_type": "markdown",
   "metadata": {},
   "source": [
    "# Step 1: Read the pre-processed data and EDA\n",
    "\n",
    "1. in this section, we read the data from the what the authoer have preprocessed (3 days readmission except balancing stage).\n",
    "2. we will do data exploaration before applying machine learning model.\n",
    "\n",
    "Imagine that, you only have the text data, nothing else!"
   ]
  },
  {
   "cell_type": "code",
   "execution_count": 1,
   "metadata": {},
   "outputs": [],
   "source": [
    "import pandas as pd\n",
    "import numpy as np\n",
    "import matplotlib.pyplot as plt\n",
    "import seaborn as sns "
   ]
  },
  {
   "cell_type": "code",
   "execution_count": 2,
   "metadata": {},
   "outputs": [],
   "source": [
    "df=pd.read_pickle('./pickle/df_less_3.pkl')"
   ]
  },
  {
   "cell_type": "code",
   "execution_count": 3,
   "metadata": {},
   "outputs": [
    {
     "data": {
      "text/html": [
       "<div>\n",
       "<style scoped>\n",
       "    .dataframe tbody tr th:only-of-type {\n",
       "        vertical-align: middle;\n",
       "    }\n",
       "\n",
       "    .dataframe tbody tr th {\n",
       "        vertical-align: top;\n",
       "    }\n",
       "\n",
       "    .dataframe thead th {\n",
       "        text-align: right;\n",
       "    }\n",
       "</style>\n",
       "<table border=\"1\" class=\"dataframe\">\n",
       "  <thead>\n",
       "    <tr style=\"text-align: right;\">\n",
       "      <th></th>\n",
       "      <th>ID</th>\n",
       "      <th>TEXT</th>\n",
       "    </tr>\n",
       "    <tr>\n",
       "      <th>Label</th>\n",
       "      <th></th>\n",
       "      <th></th>\n",
       "    </tr>\n",
       "  </thead>\n",
       "  <tbody>\n",
       "    <tr>\n",
       "      <td>0.0</td>\n",
       "      <td>355589</td>\n",
       "      <td>355589</td>\n",
       "    </tr>\n",
       "    <tr>\n",
       "      <td>1.0</td>\n",
       "      <td>30135</td>\n",
       "      <td>30135</td>\n",
       "    </tr>\n",
       "  </tbody>\n",
       "</table>\n",
       "</div>"
      ],
      "text/plain": [
       "           ID    TEXT\n",
       "Label                \n",
       "0.0    355589  355589\n",
       "1.0     30135   30135"
      ]
     },
     "execution_count": 3,
     "metadata": {},
     "output_type": "execute_result"
    }
   ],
   "source": [
    "df.groupby('Label').count()\n"
   ]
  },
  {
   "cell_type": "code",
   "execution_count": null,
   "metadata": {},
   "outputs": [],
   "source": []
  },
  {
   "cell_type": "markdown",
   "metadata": {},
   "source": [
    "We can see this is an unbalanced dataset with 1:12 of positive against negative samples.\n"
   ]
  },
  {
   "cell_type": "code",
   "execution_count": 4,
   "metadata": {},
   "outputs": [
    {
     "name": "stdout",
     "output_type": "stream",
     "text": [
      "the maximum length is ... 3517\n",
      "the minimum length is ... 43\n"
     ]
    }
   ],
   "source": [
    "df['text_len']=df.TEXT.apply(lambda x:len(x))\n",
    "print('the maximum length is ...', df.text_len.max())\n",
    "print('the minimum length is ...', df.text_len.min())"
   ]
  },
  {
   "cell_type": "markdown",
   "metadata": {},
   "source": [
    "This is to make sure during word embedding(above is just the string length, not how many words), we wont suffer a very long sentence.In addition, we want to know the range of the possible length of our texts."
   ]
  },
  {
   "cell_type": "code",
   "execution_count": 5,
   "metadata": {},
   "outputs": [
    {
     "data": {
      "text/plain": [
       "ID          0\n",
       "TEXT        0\n",
       "Label       0\n",
       "text_len    0\n",
       "dtype: int64"
      ]
     },
     "execution_count": 5,
     "metadata": {},
     "output_type": "execute_result"
    }
   ],
   "source": [
    "df.isna().sum()"
   ]
  },
  {
   "cell_type": "markdown",
   "metadata": {},
   "source": [
    "Good! we have no NaN data"
   ]
  },
  {
   "cell_type": "markdown",
   "metadata": {},
   "source": [
    "Now, lets split our data to train/val/test."
   ]
  },
  {
   "cell_type": "code",
   "execution_count": 6,
   "metadata": {},
   "outputs": [],
   "source": [
    "from sklearn.model_selection import train_test_split\n",
    "\n",
    "X_train, X_test, y_train, y_test = train_test_split(df.loc[:,['TEXT','text_len']],df['Label'], test_size=0.3, random_state=0)"
   ]
  },
  {
   "cell_type": "code",
   "execution_count": 7,
   "metadata": {},
   "outputs": [
    {
     "data": {
      "text/html": [
       "<div>\n",
       "<style scoped>\n",
       "    .dataframe tbody tr th:only-of-type {\n",
       "        vertical-align: middle;\n",
       "    }\n",
       "\n",
       "    .dataframe tbody tr th {\n",
       "        vertical-align: top;\n",
       "    }\n",
       "\n",
       "    .dataframe thead th {\n",
       "        text-align: right;\n",
       "    }\n",
       "</style>\n",
       "<table border=\"1\" class=\"dataframe\">\n",
       "  <thead>\n",
       "    <tr style=\"text-align: right;\">\n",
       "      <th></th>\n",
       "      <th>TEXT</th>\n",
       "      <th>text_len</th>\n",
       "    </tr>\n",
       "  </thead>\n",
       "  <tbody>\n",
       "    <tr>\n",
       "      <td>294746</td>\n",
       "      <td>explanation given acute change in imaging. len...</td>\n",
       "      <td>2112</td>\n",
       "    </tr>\n",
       "    <tr>\n",
       "      <td>33668</td>\n",
       "      <td>sinus tachycardia. probable left ventricular h...</td>\n",
       "      <td>2195</td>\n",
       "    </tr>\n",
       "    <tr>\n",
       "      <td>197820</td>\n",
       "      <td>course: 66f with afib on coumadin, remote h/o ...</td>\n",
       "      <td>1849</td>\n",
       "    </tr>\n",
       "    <tr>\n",
       "      <td>90785</td>\n",
       "      <td>cholycystitis with common bile duct stones wit...</td>\n",
       "      <td>1883</td>\n",
       "    </tr>\n",
       "    <tr>\n",
       "      <td>34373</td>\n",
       "      <td>full code (was noted to be dnr/dni prior to ad...</td>\n",
       "      <td>1935</td>\n",
       "    </tr>\n",
       "    <tr>\n",
       "      <td>...</td>\n",
       "      <td>...</td>\n",
       "      <td>...</td>\n",
       "    </tr>\n",
       "    <tr>\n",
       "      <td>359783</td>\n",
       "      <td>ivl. piv x site wnl. patent. social: no family...</td>\n",
       "      <td>224</td>\n",
       "    </tr>\n",
       "    <tr>\n",
       "      <td>358083</td>\n",
       "      <td>ml d5w acetaminophen aspirin ec aspirin atorva...</td>\n",
       "      <td>1926</td>\n",
       "    </tr>\n",
       "    <tr>\n",
       "      <td>152315</td>\n",
       "      <td>man with left renal mass and h/o subdural hemm...</td>\n",
       "      <td>1798</td>\n",
       "    </tr>\n",
       "    <tr>\n",
       "      <td>117952</td>\n",
       "      <td>icu care nutrition: glycemic control: lines: 1...</td>\n",
       "      <td>1867</td>\n",
       "    </tr>\n",
       "    <tr>\n",
       "      <td>305711</td>\n",
       "      <td>7:20 p 1//11/006 1:23 p 1:20 p 11:20 p 4:20 p ...</td>\n",
       "      <td>2076</td>\n",
       "    </tr>\n",
       "  </tbody>\n",
       "</table>\n",
       "<p>270006 rows × 2 columns</p>\n",
       "</div>"
      ],
      "text/plain": [
       "                                                     TEXT  text_len\n",
       "294746  explanation given acute change in imaging. len...      2112\n",
       "33668   sinus tachycardia. probable left ventricular h...      2195\n",
       "197820  course: 66f with afib on coumadin, remote h/o ...      1849\n",
       "90785   cholycystitis with common bile duct stones wit...      1883\n",
       "34373   full code (was noted to be dnr/dni prior to ad...      1935\n",
       "...                                                   ...       ...\n",
       "359783  ivl. piv x site wnl. patent. social: no family...       224\n",
       "358083  ml d5w acetaminophen aspirin ec aspirin atorva...      1926\n",
       "152315  man with left renal mass and h/o subdural hemm...      1798\n",
       "117952  icu care nutrition: glycemic control: lines: 1...      1867\n",
       "305711  7:20 p 1//11/006 1:23 p 1:20 p 11:20 p 4:20 p ...      2076\n",
       "\n",
       "[270006 rows x 2 columns]"
      ]
     },
     "execution_count": 7,
     "metadata": {},
     "output_type": "execute_result"
    }
   ],
   "source": [
    "df_train=pd.DataFrame(X_train)\n",
    "df_train"
   ]
  },
  {
   "cell_type": "code",
   "execution_count": 8,
   "metadata": {},
   "outputs": [
    {
     "name": "stdout",
     "output_type": "stream",
     "text": [
      "the ratio of pos/neg in training set  0.08377385754711301\n",
      "the ratio of pos/neg in test set  0.08702350310932422\n"
     ]
    }
   ],
   "source": [
    "print('the ratio of pos/neg in training set ',sum(y_train==1)/sum(y_train==0))\n",
    "print('the ratio of pos/neg in test set ',sum(y_test==1)/sum(y_test==0))"
   ]
  },
  {
   "cell_type": "markdown",
   "metadata": {},
   "source": [
    "Before we do NLP processing, we also want to know weather the basic statistic information is useful to distinguish the readmission. For example, the length of the \"TEXT\" column\n"
   ]
  },
  {
   "cell_type": "code",
   "execution_count": 9,
   "metadata": {},
   "outputs": [
    {
     "data": {
      "text/plain": [
       "[<matplotlib.lines.Line2D at 0x1cd205ed4c8>]"
      ]
     },
     "execution_count": 9,
     "metadata": {},
     "output_type": "execute_result"
    },
    {
     "data": {
      "image/png": "[encoded data removed]",
      "text/plain": [
       "<Figure size 432x288 with 1 Axes>"
      ]
     },
     "metadata": {
      "needs_background": "light"
     },
     "output_type": "display_data"
    }
   ],
   "source": [
    "info=df_train.groupby('text_len',as_index=0).count()\n",
    "\n",
    "plt.plot(info.text_len,info.TEXT)"
   ]
  },
  {
   "cell_type": "markdown",
   "metadata": {},
   "source": [
    "The distribution of text_len against how many Labels seem very normal. We wonder if the pos/neg labels also follow such distribution. Hence, lets do a very simple logistic regression by using only the \"text_len\" as the features."
   ]
  },
  {
   "cell_type": "markdown",
   "metadata": {},
   "source": [
    "Lets check the ratio of pos/neg"
   ]
  },
  {
   "cell_type": "code",
   "execution_count": null,
   "metadata": {
    "scrolled": true
   },
   "outputs": [],
   "source": []
  },
  {
   "cell_type": "code",
   "execution_count": 10,
   "metadata": {},
   "outputs": [
    {
     "name": "stdout",
     "output_type": "stream",
     "text": [
      "the ratio of pos/neg is:  0.08377385754711301\n"
     ]
    }
   ],
   "source": [
    "print('the ratio of pos/neg is: ',sum(y_train==1)/sum(y_train==0))"
   ]
  },
  {
   "cell_type": "markdown",
   "metadata": {},
   "source": [
    "We can see since the data is imbalanced 1:12.5, our grid search should from 1:5 to 1:15.\n",
    "\n",
    "Also, we will use GridSearch to find the best weights.\n",
    "\n",
    "According to the metrics of binary classification. We will use ROC/AUC curve as the evaluation.The benefit is that we could avoid bias on recall/precision trade-off since the final result is based upon the ROC's area.\n",
    "\n",
    "To generate the K-fold, we use RepeatedStratifiedKFold because it could generate sub-group as the original dataset distribution.\n",
    "\n",
    "Finally, we will use the best weights to fit the model.\n",
    "\n",
    "**However, below is a demonstration example to show you how the unbalanced model might cheat you.**"
   ]
  },
  {
   "cell_type": "code",
   "execution_count": 11,
   "metadata": {},
   "outputs": [
    {
     "name": "stdout",
     "output_type": "stream",
     "text": [
      "Best: 0.512811 using {'class_weight': {0: 1, 1: 2}}\n",
      "0.487189 (0.004305) with: {'class_weight': {0: 1, 1: 1}}\n",
      "0.512811 (0.004305) with: {'class_weight': {0: 1, 1: 2}}\n",
      "0.487189 (0.004305) with: {'class_weight': {0: 1, 1: 3}}\n",
      "0.512811 (0.004305) with: {'class_weight': {0: 1, 1: 4}}\n",
      "0.487189 (0.004305) with: {'class_weight': {0: 1, 1: 5}}\n"
     ]
    }
   ],
   "source": [
    "\n",
    "from sklearn.model_selection import GridSearchCV\n",
    "from sklearn.model_selection import RepeatedStratifiedKFold # this gurantee each split is almost follow the distribution of the original dataset\n",
    "from sklearn.linear_model import LogisticRegression\n",
    "\n",
    "X=df_train['text_len'].values.reshape(-1,1)\n",
    "y=y_train.values\n",
    "\n",
    "model = LogisticRegression(solver='lbfgs')\n",
    "\n",
    "grid_val=[dict({0:1,1:j}) for j in range(1,6) ]\n",
    "param_grid = dict(class_weight=grid_val)\n",
    "cv = RepeatedStratifiedKFold(n_splits=6)\n",
    "grid = GridSearchCV(estimator=model, param_grid=param_grid, n_jobs=-1, cv=cv, scoring='roc_auc')\n",
    "\n",
    "grid_result = grid.fit(X, y)\n",
    "\n",
    "print(\"Best: %f using %s\" % (grid_result.best_score_, grid_result.best_params_))\n",
    "\n",
    "means = grid_result.cv_results_['mean_test_score']\n",
    "stds = grid_result.cv_results_['std_test_score']\n",
    "params = grid_result.cv_results_['params']\n",
    "for mean, stdev, param in zip(means, stds, params):\n",
    "    print(\"%f (%f) with: %r\" % (mean, stdev, param))"
   ]
  },
  {
   "cell_type": "code",
   "execution_count": 12,
   "metadata": {},
   "outputs": [
    {
     "name": "stderr",
     "output_type": "stream",
     "text": [
      "F:\\anaconda\\lib\\site-packages\\sklearn\\linear_model\\logistic.py:432: FutureWarning: Default solver will be changed to 'lbfgs' in 0.22. Specify a solver to silence this warning.\n",
      "  FutureWarning)\n"
     ]
    }
   ],
   "source": [
    "cls=LogisticRegression().fit(X, y)"
   ]
  },
  {
   "cell_type": "code",
   "execution_count": 13,
   "metadata": {},
   "outputs": [],
   "source": [
    "sum(cls.predict(X)) #see， we have make all prediction to negative label！\n",
    "\n",
    "from sklearn.metrics import confusion_matrix\n",
    "\n",
    "tn, fp, fn, tp = confusion_matrix(y, cls.predict(X)).ravel()\n"
   ]
  },
  {
   "cell_type": "code",
   "execution_count": 14,
   "metadata": {},
   "outputs": [
    {
     "data": {
      "image/png": "[encoded data removed]",
      "text/plain": [
       "<Figure size 720x504 with 2 Axes>"
      ]
     },
     "metadata": {
      "needs_background": "light"
     },
     "output_type": "display_data"
    }
   ],
   "source": [
    "import numpy as np\n",
    "import matplotlib.pyplot as plt\n",
    "import seaborn  as  sns\n",
    "\n",
    "cm = np.array([[fn,tp],[tn,fp]])\n",
    "\n",
    "plt.figure(figsize=(10,7))\n",
    "sns.heatmap(cm,annot=True,linewidths=1, fmt = 'd')\n",
    "plt.xlabel('predicted')\n",
    "plt.ylabel('Truth')\n",
    "plt.ylim([0,2])\n",
    "plt.show()"
   ]
  },
  {
   "cell_type": "code",
   "execution_count": null,
   "metadata": {},
   "outputs": [],
   "source": []
  },
  {
   "cell_type": "markdown",
   "metadata": {},
   "source": [
    "The above model reports TP+FP=0, which means that all instances were predicted as negative.\n",
    "\n",
    "In addition, it indicates that it is impossible to predict the label only on sentence length!\n",
    "\n",
    "Now, we can see that for unbalanced data, we must consider using AUC curve as the metric, instead of either precision/recall rate"
   ]
  },
  {
   "cell_type": "markdown",
   "metadata": {},
   "source": [
    "# Step 2: First Attempt and Problem Finding\n",
    "\n",
    "1. In this part, we are going to use pre-trained word vector from spacy library.\n",
    "2. The kernel of NLP job is to think about \"word_embedding\". The major methods to convert one word or sentence to a vector are: 'one-hot encoding' 'statistical_based embedding',and 'word_embedding' : \n",
    "\n",
    "\n",
    "\n",
    "\n",
    "\n",
    "\n",
    "\n",
    "    one-hot encoding is sparse and orthogonal between each word, also huge cost on memory space\n",
    "    \n",
    "    word_embedding is an dense representation of words involving the pre-trained information. You could simply think word_embedding is a universal method like dimensionality reduction, signal capture or compression.\n",
    "    \n",
    "    word_embedding includes statis and dynamic types. For example, one word maps to one unique vector is called static embedding(Word2vec). Whereas one word maps to one vector based upon some given contextual texts called dynamic embedding(Bert).\n",
    "    \n",
    "    \n",
    "    \n",
    "\n",
    "In this project, we will focus on  static \"word_embedding\", which is 'Glove'. By the time limitation, We will only focus on static word embedding. Nwamaka already implemented the clinical bert pipeline, we do not want to just simply re-run her code and instead we want to explore the project on our own knowledge and interests.\n",
    "    \n"
   ]
  },
  {
   "cell_type": "code",
   "execution_count": null,
   "metadata": {},
   "outputs": [],
   "source": []
  },
  {
   "cell_type": "markdown",
   "metadata": {},
   "source": [
    "# 2.1: We use the pre-trained model from Spacy library to get the word embedding:\n",
    "\n",
    "\n",
    "Here we use \"en_ner_bionlp13cg_md\" model, which is a very complex model for Named Entity Recognition(NER) task. NER task requires a supervised learning which involves TAGs on each word in a sentence. For example, \"en_ner_bionlp13cg_md\" model's main job is to recognize the possible biological/clinical/medical names in the sentences. We will call the function to get the pre-trained word vector on that task.\n",
    "\n",
    "*please see https://allenai.github.io/scispacy/ for detailed introduction and installation*"
   ]
  },
  {
   "cell_type": "code",
   "execution_count": 15,
   "metadata": {},
   "outputs": [],
   "source": [
    "import scispacy\n",
    "import spacy\n",
    "import en_core_sci_sm   \n",
    "from spacy import displacy\n",
    "from scispacy.abbreviation import AbbreviationDetector\n",
    "from scispacy.umls_linking import UmlsEntityLinker\n",
    "\n",
    "\n",
    "import en_ner_bionlp13cg_md\n",
    "nlp = spacy.load(\"en_ner_bionlp13cg_md\")\n"
   ]
  },
  {
   "cell_type": "code",
   "execution_count": null,
   "metadata": {},
   "outputs": [],
   "source": []
  },
  {
   "cell_type": "code",
   "execution_count": 16,
   "metadata": {},
   "outputs": [],
   "source": [
    "doc=nlp(df_train.TEXT[1])"
   ]
  },
  {
   "cell_type": "markdown",
   "metadata": {},
   "source": [
    "# Attention, you need to close the displacy.serve by yourself to continue running codes below"
   ]
  },
  {
   "cell_type": "code",
   "execution_count": 17,
   "metadata": {},
   "outputs": [
    {
     "name": "stderr",
     "output_type": "stream",
     "text": [
      "F:\\anaconda\\lib\\runpy.py:193: UserWarning: [W011] It looks like you're calling displacy.serve from within a Jupyter notebook or a similar environment. This likely means you're already running a local web server, so there's no need to make displaCy start another one. Instead, you should be able to replace displacy.serve with displacy.render to show the visualization.\n",
      "  \"__main__\", mod_spec)\n"
     ]
    },
    {
     "data": {
      "text/html": [
       "<!DOCTYPE html>\n",
       "<html lang=\"en\">\n",
       "    <head>\n",
       "        <title>displaCy</title>\n",
       "    </head>\n",
       "\n",
       "    <body style=\"font-size: 16px; font-family: -apple-system, BlinkMacSystemFont, 'Segoe UI', Helvetica, Arial, sans-serif, 'Apple Color Emoji', 'Segoe UI Emoji', 'Segoe UI Symbol'; padding: 4rem 2rem; direction: ltr\">\n",
       "<figure style=\"margin-bottom: 6rem\">\n",
       "<div class=\"entities\" style=\"line-height: 2.5; direction: ltr\">sinus rhythm prolonged qt interval is nonspecific but clinical correlation is suggested no previous tracing available for comparison chief complaint: \n",
       "<mark class=\"entity\" style=\"background: #ddd; padding: 0.45em 0.6em; margin: 0 0.25em; line-height: 1; border-radius: 0.35em;\">\n",
       "    gib/hotn i\n",
       "    <span style=\"font-size: 0.8em; font-weight: bold; line-height: 1; border-radius: 0.35em; text-transform: uppercase; vertical-align: middle; margin-left: 0.5rem\">GENE_OR_GENE_PRODUCT</span>\n",
       "</mark>\n",
       " saw and examined the \n",
       "<mark class=\"entity\" style=\"background: #ddd; padding: 0.45em 0.6em; margin: 0 0.25em; line-height: 1; border-radius: 0.35em;\">\n",
       "    patient\n",
       "    <span style=\"font-size: 0.8em; font-weight: bold; line-height: 1; border-radius: 0.35em; text-transform: uppercase; vertical-align: middle; margin-left: 0.5rem\">ORGANISM</span>\n",
       "</mark>\n",
       ", and was physically present with the icu resident for key portions of the services provided. i agree with his / \n",
       "<mark class=\"entity\" style=\"background: #ddd; padding: 0.45em 0.6em; margin: 0 0.25em; line-height: 1; border-radius: 0.35em;\">\n",
       "    her\n",
       "    <span style=\"font-size: 0.8em; font-weight: bold; line-height: 1; border-radius: 0.35em; text-transform: uppercase; vertical-align: middle; margin-left: 0.5rem\">ORGANISM</span>\n",
       "</mark>\n",
       " note above, including assessment and plan. hpi: 62 yo \n",
       "<mark class=\"entity\" style=\"background: #ddd; padding: 0.45em 0.6em; margin: 0 0.25em; line-height: 1; border-radius: 0.35em;\">\n",
       "    man\n",
       "    <span style=\"font-size: 0.8em; font-weight: bold; line-height: 1; border-radius: 0.35em; text-transform: uppercase; vertical-align: middle; margin-left: 0.5rem\">ORGANISM</span>\n",
       "</mark>\n",
       " with \n",
       "<mark class=\"entity\" style=\"background: #ddd; padding: 0.45em 0.6em; margin: 0 0.25em; line-height: 1; border-radius: 0.35em;\">\n",
       "    hep c\n",
       "    <span style=\"font-size: 0.8em; font-weight: bold; line-height: 1; border-radius: 0.35em; text-transform: uppercase; vertical-align: middle; margin-left: 0.5rem\">GENE_OR_GENE_PRODUCT</span>\n",
       "</mark>\n",
       " cirrhosis presents with one episode of hematemesis. in ed vs were stable. initial hct was 26, (prior one 1 month ago was 8). transferred to micu where became hypotensive, started on \n",
       "<mark class=\"entity\" style=\"background: #ddd; padding: 0.45em 0.6em; margin: 0 0.25em; line-height: 1; border-radius: 0.35em;\">\n",
       "    dopamine\n",
       "    <span style=\"font-size: 0.8em; font-weight: bold; line-height: 1; border-radius: 0.35em; text-transform: uppercase; vertical-align: middle; margin-left: 0.5rem\">SIMPLE_CHEMICAL</span>\n",
       "</mark>\n",
       ". repeat hct came back at unable to get ngt. \n",
       "<mark class=\"entity\" style=\"background: #ddd; padding: 0.45em 0.6em; margin: 0 0.25em; line-height: 1; border-radius: 0.35em;\">\n",
       "    central line\n",
       "    <span style=\"font-size: 0.8em; font-weight: bold; line-height: 1; border-radius: 0.35em; text-transform: uppercase; vertical-align: middle; margin-left: 0.5rem\">CELL</span>\n",
       "</mark>\n",
       " placed. of note u/s in ed showed no \n",
       "<mark class=\"entity\" style=\"background: #ddd; padding: 0.45em 0.6em; margin: 0 0.25em; line-height: 1; border-radius: 0.35em;\">\n",
       "    ascites\n",
       "    <span style=\"font-size: 0.8em; font-weight: bold; line-height: 1; border-radius: 0.35em; text-transform: uppercase; vertical-align: middle; margin-left: 0.5rem\">ORGAN</span>\n",
       "</mark>\n",
       ". allergies: no known drug allergies last dose of antibiotics: infusions: \n",
       "<mark class=\"entity\" style=\"background: #ddd; padding: 0.45em 0.6em; margin: 0 0.25em; line-height: 1; border-radius: 0.35em;\">\n",
       "    octreotide\n",
       "    <span style=\"font-size: 0.8em; font-weight: bold; line-height: 1; border-radius: 0.35em; text-transform: uppercase; vertical-align: middle; margin-left: 0.5rem\">SIMPLE_CHEMICAL</span>\n",
       "</mark>\n",
       " - 48 \n",
       "<mark class=\"entity\" style=\"background: #ddd; padding: 0.45em 0.6em; margin: 0 0.25em; line-height: 1; border-radius: 0.35em;\">\n",
       "    mcg/hour\n",
       "    <span style=\"font-size: 0.8em; font-weight: bold; line-height: 1; border-radius: 0.35em; text-transform: uppercase; vertical-align: middle; margin-left: 0.5rem\">GENE_OR_GENE_PRODUCT</span>\n",
       "</mark>\n",
       " other icu medications: other medications: past medical history: family history: social history: \n",
       "<mark class=\"entity\" style=\"background: #ddd; padding: 0.45em 0.6em; margin: 0 0.25em; line-height: 1; border-radius: 0.35em;\">\n",
       "    hep c\n",
       "    <span style=\"font-size: 0.8em; font-weight: bold; line-height: 1; border-radius: 0.35em; text-transform: uppercase; vertical-align: middle; margin-left: 0.5rem\">GENE_OR_GENE_PRODUCT</span>\n",
       "</mark>\n",
       " cirrhosis meds at home: aldactone lasix lisinopril no \n",
       "<mark class=\"entity\" style=\"background: #ddd; padding: 0.45em 0.6em; margin: 0 0.25em; line-height: 1; border-radius: 0.35em;\">\n",
       "    cirrhosis + colon polyps\n",
       "    <span style=\"font-size: 0.8em; font-weight: bold; line-height: 1; border-radius: 0.35em; text-transform: uppercase; vertical-align: middle; margin-left: 0.5rem\">CANCER</span>\n",
       "</mark>\n",
       " occupation: drugs: none \n",
       "<mark class=\"entity\" style=\"background: #ddd; padding: 0.45em 0.6em; margin: 0 0.25em; line-height: 1; border-radius: 0.35em;\">\n",
       "    tobacco\n",
       "    <span style=\"font-size: 0.8em; font-weight: bold; line-height: 1; border-radius: 0.35em; text-transform: uppercase; vertical-align: middle; margin-left: 0.5rem\">ORGANISM</span>\n",
       "</mark>\n",
       ": 20 per day. alcohol: 1 per week. other: lives alone review of systems: constitutional: no(t) fever cardiovascular: no(t) \n",
       "<mark class=\"entity\" style=\"background: #ddd; padding: 0.45em 0.6em; margin: 0 0.25em; line-height: 1; border-radius: 0.35em;\">\n",
       "    chest\n",
       "    <span style=\"font-size: 0.8em; font-weight: bold; line-height: 1; border-radius: 0.35em; text-transform: uppercase; vertical-align: middle; margin-left: 0.5rem\">ORGANISM_SUBDIVISION</span>\n",
       "</mark>\n",
       " pain respiratory: no(t) cough, no(t) dyspnea gastrointestinal: no(t) \n",
       "<mark class=\"entity\" style=\"background: #ddd; padding: 0.45em 0.6em; margin: 0 0.25em; line-height: 1; border-radius: 0.35em;\">\n",
       "    abdominal\n",
       "    <span style=\"font-size: 0.8em; font-weight: bold; line-height: 1; border-radius: 0.35em; text-transform: uppercase; vertical-align: middle; margin-left: 0.5rem\">ORGAN</span>\n",
       "</mark>\n",
       " pain, emesis \n",
       "<mark class=\"entity\" style=\"background: #ddd; padding: 0.45em 0.6em; margin: 0 0.25em; line-height: 1; border-radius: 0.35em;\">\n",
       "    genitourinary\n",
       "    <span style=\"font-size: 0.8em; font-weight: bold; line-height: 1; border-radius: 0.35em; text-transform: uppercase; vertical-align: middle; margin-left: 0.5rem\">ORGAN</span>\n",
       "</mark>\n",
       ": no(t) dysuria integumentary (\n",
       "<mark class=\"entity\" style=\"background: #ddd; padding: 0.45em 0.6em; margin: 0 0.25em; line-height: 1; border-radius: 0.35em;\">\n",
       "    skin\n",
       "    <span style=\"font-size: 0.8em; font-weight: bold; line-height: 1; border-radius: 0.35em; text-transform: uppercase; vertical-align: middle; margin-left: 0.5rem\">ORGAN</span>\n",
       "</mark>\n",
       "): no(t) jaundice endocrine: no(t) hyperglycemia \n",
       "<mark class=\"entity\" style=\"background: #ddd; padding: 0.45em 0.6em; margin: 0 0.25em; line-height: 1; border-radius: 0.35em;\">\n",
       "    heme\n",
       "    <span style=\"font-size: 0.8em; font-weight: bold; line-height: 1; border-radius: 0.35em; text-transform: uppercase; vertical-align: middle; margin-left: 0.5rem\">GENE_OR_GENE_PRODUCT</span>\n",
       "</mark>\n",
       " / \n",
       "<mark class=\"entity\" style=\"background: #ddd; padding: 0.45em 0.6em; margin: 0 0.25em; line-height: 1; border-radius: 0.35em;\">\n",
       "    lymph\n",
       "    <span style=\"font-size: 0.8em; font-weight: bold; line-height: 1; border-radius: 0.35em; text-transform: uppercase; vertical-align: middle; margin-left: 0.5rem\">MULTI-TISSUE_STRUCTURE</span>\n",
       "</mark>\n",
       ": anemia neurologic: no(t) headache psychiatric / sleep: no(t) agitated, somnolent allergy / immunology: no(t) immunocompromised flowsheet data as of 08:47 pm vital signs hemodynamic monitoring fluid balance 24 hours since 12 am hr: 69 (69 - 73) bpm bp: \n",
       "<mark class=\"entity\" style=\"background: #ddd; padding: 0.45em 0.6em; margin: 0 0.25em; line-height: 1; border-radius: 0.35em;\">\n",
       "    77/45(47\n",
       "    <span style=\"font-size: 0.8em; font-weight: bold; line-height: 1; border-radius: 0.35em; text-transform: uppercase; vertical-align: middle; margin-left: 0.5rem\">SIMPLE_CHEMICAL</span>\n",
       "</mark>\n",
       ") {77/36(47) - 90/47(57)} mmhg rr: 12 (11 - 16) insp/min spo2: 97% \n",
       "<mark class=\"entity\" style=\"background: #ddd; padding: 0.45em 0.6em; margin: 0 0.25em; line-height: 1; border-radius: 0.35em;\">\n",
       "    heart\n",
       "    <span style=\"font-size: 0.8em; font-weight: bold; line-height: 1; border-radius: 0.35em; text-transform: uppercase; vertical-align: middle; margin-left: 0.5rem\">ORGAN</span>\n",
       "</mark>\n",
       " rhythm: sr (sinus rhythm) total in: 2,756 ml po: tf: ivf: 1,037 ml \n",
       "<mark class=\"entity\" style=\"background: #ddd; padding: 0.45em 0.6em; margin: 0 0.25em; line-height: 1; border-radius: 0.35em;\">\n",
       "    blood\n",
       "    <span style=\"font-size: 0.8em; font-weight: bold; line-height: 1; border-radius: 0.35em; text-transform: uppercase; vertical-align: middle; margin-left: 0.5rem\">ORGANISM_SUBSTANCE</span>\n",
       "</mark>\n",
       " products: 719 ml total out: 0 ml 150 ml \n",
       "<mark class=\"entity\" style=\"background: #ddd; padding: 0.45em 0.6em; margin: 0 0.25em; line-height: 1; border-radius: 0.35em;\">\n",
       "    urine\n",
       "    <span style=\"font-size: 0.8em; font-weight: bold; line-height: 1; border-radius: 0.35em; text-transform: uppercase; vertical-align: middle; margin-left: 0.5rem\">ORGANISM_SUBSTANCE</span>\n",
       "</mark>\n",
       ": 150 ml ng: \n",
       "<mark class=\"entity\" style=\"background: #ddd; padding: 0.45em 0.6em; margin: 0 0.25em; line-height: 1; border-radius: 0.35em;\">\n",
       "    stool\n",
       "    <span style=\"font-size: 0.8em; font-weight: bold; line-height: 1; border-radius: 0.35em; text-transform: uppercase; vertical-align: middle; margin-left: 0.5rem\">ORGANISM_SUBDIVISION</span>\n",
       "</mark>\n",
       ": drains: balance: 0 ml \n",
       "<mark class=\"entity\" style=\"background: #ddd; padding: 0.45em 0.6em; margin: 0 0.25em; line-height: 1; border-radius: 0.35em;\">\n",
       "    2,606\n",
       "    <span style=\"font-size: 0.8em; font-weight: bold; line-height: 1; border-radius: 0.35em; text-transform: uppercase; vertical-align: middle; margin-left: 0.5rem\">SIMPLE_CHEMICAL</span>\n",
       "</mark>\n",
       " ml respiratory o2 delivery device: \n",
       "<mark class=\"entity\" style=\"background: #ddd; padding: 0.45em 0.6em; margin: 0 0.25em; line-height: 1; border-radius: 0.35em;\">\n",
       "    nasal cannula\n",
       "    <span style=\"font-size: 0.8em; font-weight: bold; line-height: 1; border-radius: 0.35em; text-transform: uppercase; vertical-align: middle; margin-left: 0.5rem\">SIMPLE_CHEMICAL</span>\n",
       "</mark>\n",
       " spo2: 97% abg: 37/29//16/-6 physical examination general appearance: well nourished, no acute distress \n",
       "<mark class=\"entity\" style=\"background: #ddd; padding: 0.45em 0.6em; margin: 0 0.25em; line-height: 1; border-radius: 0.35em;\">\n",
       "    eyes\n",
       "    <span style=\"font-size: 0.8em; font-weight: bold; line-height: 1; border-radius: 0.35em; text-transform: uppercase; vertical-align: middle; margin-left: 0.5rem\">ORGAN</span>\n",
       "</mark>\n",
       " / \n",
       "<mark class=\"entity\" style=\"background: #ddd; padding: 0.45em 0.6em; margin: 0 0.25em; line-height: 1; border-radius: 0.35em;\">\n",
       "    conjunctiva\n",
       "    <span style=\"font-size: 0.8em; font-weight: bold; line-height: 1; border-radius: 0.35em; text-transform: uppercase; vertical-align: middle; margin-left: 0.5rem\">ORGAN</span>\n",
       "</mark>\n",
       ": perrl, no icterus head, \n",
       "<mark class=\"entity\" style=\"background: #ddd; padding: 0.45em 0.6em; margin: 0 0.25em; line-height: 1; border-radius: 0.35em;\">\n",
       "    ears\n",
       "    <span style=\"font-size: 0.8em; font-weight: bold; line-height: 1; border-radius: 0.35em; text-transform: uppercase; vertical-align: middle; margin-left: 0.5rem\">PATHOLOGICAL_FORMATION</span>\n",
       "</mark>\n",
       ", \n",
       "<mark class=\"entity\" style=\"background: #ddd; padding: 0.45em 0.6em; margin: 0 0.25em; line-height: 1; border-radius: 0.35em;\">\n",
       "    nose\n",
       "    <span style=\"font-size: 0.8em; font-weight: bold; line-height: 1; border-radius: 0.35em; text-transform: uppercase; vertical-align: middle; margin-left: 0.5rem\">ORGAN</span>\n",
       "</mark>\n",
       ", \n",
       "<mark class=\"entity\" style=\"background: #ddd; padding: 0.45em 0.6em; margin: 0 0.25em; line-height: 1; border-radius: 0.35em;\">\n",
       "    throat\n",
       "    <span style=\"font-size: 0.8em; font-weight: bold; line-height: 1; border-radius: 0.35em; text-transform: uppercase; vertical-align: middle; margin-left: 0.5rem\">ORGAN</span>\n",
       "</mark>\n",
       ": normocephalic lymphatic:</div>\n",
       "</figure>\n",
       "</body>\n",
       "</html>"
      ],
      "text/plain": [
       "<IPython.core.display.HTML object>"
      ]
     },
     "metadata": {},
     "output_type": "display_data"
    },
    {
     "name": "stdout",
     "output_type": "stream",
     "text": [
      "\n",
      "Using the 'ent' visualizer\n",
      "Serving on http://0.0.0.0:5000 ...\n",
      "\n",
      "Shutting down server on port 5000.\n"
     ]
    }
   ],
   "source": [
    "displacy.serve(doc, style=\"ent\")"
   ]
  },
  {
   "cell_type": "markdown",
   "metadata": {},
   "source": [
    "We can see the entity has been already perfect marked by using this model.Hence, we can use the word vectors directly from this model to convert each sentence to a numerical vector.\n",
    "\n",
    "We first make some samples"
   ]
  },
  {
   "cell_type": "code",
   "execution_count": 18,
   "metadata": {},
   "outputs": [
    {
     "data": {
      "text/html": [
       "<div>\n",
       "<style scoped>\n",
       "    .dataframe tbody tr th:only-of-type {\n",
       "        vertical-align: middle;\n",
       "    }\n",
       "\n",
       "    .dataframe tbody tr th {\n",
       "        vertical-align: top;\n",
       "    }\n",
       "\n",
       "    .dataframe thead th {\n",
       "        text-align: right;\n",
       "    }\n",
       "</style>\n",
       "<table border=\"1\" class=\"dataframe\">\n",
       "  <thead>\n",
       "    <tr style=\"text-align: right;\">\n",
       "      <th></th>\n",
       "      <th>ID</th>\n",
       "      <th>TEXT</th>\n",
       "      <th>text_len</th>\n",
       "    </tr>\n",
       "    <tr>\n",
       "      <th>Label</th>\n",
       "      <th></th>\n",
       "      <th></th>\n",
       "      <th></th>\n",
       "    </tr>\n",
       "  </thead>\n",
       "  <tbody>\n",
       "    <tr>\n",
       "      <td>0.0</td>\n",
       "      <td>2742</td>\n",
       "      <td>2742</td>\n",
       "      <td>2742</td>\n",
       "    </tr>\n",
       "    <tr>\n",
       "      <td>1.0</td>\n",
       "      <td>258</td>\n",
       "      <td>258</td>\n",
       "      <td>258</td>\n",
       "    </tr>\n",
       "  </tbody>\n",
       "</table>\n",
       "</div>"
      ],
      "text/plain": [
       "         ID  TEXT  text_len\n",
       "Label                      \n",
       "0.0    2742  2742      2742\n",
       "1.0     258   258       258"
      ]
     },
     "execution_count": 18,
     "metadata": {},
     "output_type": "execute_result"
    }
   ],
   "source": [
    "df_sample=df.sample(3000,random_state=0)\n",
    "df_sample.groupby('Label').count()"
   ]
  },
  {
   "cell_type": "code",
   "execution_count": 19,
   "metadata": {},
   "outputs": [],
   "source": [
    "import time\n",
    "\n",
    "count=0\n",
    "begin=time.time()\n",
    "def get_ner_wv(text):\n",
    "    global count\n",
    "    global begin\n",
    "    count+=1\n",
    "    if count%1000==0:\n",
    "        print('now processing.... ',count,' time cost...... ',time.time()-begin,' s')\n",
    "    doc=nlp(text)\n",
    "    return doc.vector\n",
    "\n",
    "#df_sample=df_train.sample(3000)\n",
    "#df_train['ner_wv']=df_train.TEXT.apply(get_ner_wv)"
   ]
  },
  {
   "cell_type": "code",
   "execution_count": 20,
   "metadata": {},
   "outputs": [
    {
     "name": "stdout",
     "output_type": "stream",
     "text": [
      "now processing....  1000  time cost......  46.94900703430176  s\n",
      "now processing....  2000  time cost......  91.73923444747925  s\n",
      "now processing....  3000  time cost......  136.30502367019653  s\n"
     ]
    }
   ],
   "source": [
    "df_sample['word2vec']=df_sample.TEXT.apply(get_ner_wv)\n",
    "\n"
   ]
  },
  {
   "cell_type": "code",
   "execution_count": 21,
   "metadata": {},
   "outputs": [
    {
     "data": {
      "text/html": [
       "<div>\n",
       "<style scoped>\n",
       "    .dataframe tbody tr th:only-of-type {\n",
       "        vertical-align: middle;\n",
       "    }\n",
       "\n",
       "    .dataframe tbody tr th {\n",
       "        vertical-align: top;\n",
       "    }\n",
       "\n",
       "    .dataframe thead th {\n",
       "        text-align: right;\n",
       "    }\n",
       "</style>\n",
       "<table border=\"1\" class=\"dataframe\">\n",
       "  <thead>\n",
       "    <tr style=\"text-align: right;\">\n",
       "      <th></th>\n",
       "      <th>ID</th>\n",
       "      <th>TEXT</th>\n",
       "      <th>Label</th>\n",
       "      <th>text_len</th>\n",
       "      <th>word2vec</th>\n",
       "    </tr>\n",
       "  </thead>\n",
       "  <tbody>\n",
       "    <tr>\n",
       "      <td>27280</td>\n",
       "      <td>107136.0</td>\n",
       "      <td>remove picc and send tip...wean neo to map &gt;.....</td>\n",
       "      <td>1.0</td>\n",
       "      <td>1941</td>\n",
       "      <td>[0.029284183, 0.014483439, 0.06752385, 0.00371...</td>\n",
       "    </tr>\n",
       "    <tr>\n",
       "      <td>241706</td>\n",
       "      <td>162488.0</td>\n",
       "      <td>of readiness for learning action: mi teaching ...</td>\n",
       "      <td>0.0</td>\n",
       "      <td>2016</td>\n",
       "      <td>[-0.0017557873, 0.046223473, 0.10897355, 0.027...</td>\n",
       "    </tr>\n",
       "    <tr>\n",
       "      <td>199909</td>\n",
       "      <td>151376.0</td>\n",
       "      <td>is normal (lvef&gt;55%). right ventricle: right v...</td>\n",
       "      <td>0.0</td>\n",
       "      <td>2256</td>\n",
       "      <td>[0.009158471, 0.06597229, 0.0048928526, -0.035...</td>\n",
       "    </tr>\n",
       "    <tr>\n",
       "      <td>175220</td>\n",
       "      <td>145096.0</td>\n",
       "      <td>represents a fat pad, though a loculated anter...</td>\n",
       "      <td>0.0</td>\n",
       "      <td>2163</td>\n",
       "      <td>[-0.006347567, 0.075405955, 0.046496622, -0.00...</td>\n",
       "    </tr>\n",
       "    <tr>\n",
       "      <td>163835</td>\n",
       "      <td>141915.0</td>\n",
       "      <td>was briefly placed on cpap. no abg obtained. v...</td>\n",
       "      <td>0.0</td>\n",
       "      <td>2016</td>\n",
       "      <td>[-0.0011737325, 0.027778277, 0.1136065, -0.004...</td>\n",
       "    </tr>\n",
       "    <tr>\n",
       "      <td>...</td>\n",
       "      <td>...</td>\n",
       "      <td>...</td>\n",
       "      <td>...</td>\n",
       "      <td>...</td>\n",
       "      <td>...</td>\n",
       "    </tr>\n",
       "    <tr>\n",
       "      <td>290671</td>\n",
       "      <td>175091.0</td>\n",
       "      <td>supraventricular tachycardia left axis deviati...</td>\n",
       "      <td>0.0</td>\n",
       "      <td>2077</td>\n",
       "      <td>[0.023522438, 0.047339242, 0.056796785, 0.0157...</td>\n",
       "    </tr>\n",
       "    <tr>\n",
       "      <td>152991</td>\n",
       "      <td>139055.0</td>\n",
       "      <td>16 (11 - 24) insp/min spo2: 93% heart rhythm: ...</td>\n",
       "      <td>0.0</td>\n",
       "      <td>1763</td>\n",
       "      <td>[0.055983152, 0.03939668, 0.09662792, 0.032728...</td>\n",
       "    </tr>\n",
       "    <tr>\n",
       "      <td>384581</td>\n",
       "      <td>199679.0</td>\n",
       "      <td>sinus tachycardia, rate left atrial abnormalit...</td>\n",
       "      <td>0.0</td>\n",
       "      <td>2211</td>\n",
       "      <td>[-0.01792933, 0.046701074, 0.086492136, 0.0291...</td>\n",
       "    </tr>\n",
       "    <tr>\n",
       "      <td>240217</td>\n",
       "      <td>162171.0</td>\n",
       "      <td>seen. pericardium: there is a small to moderat...</td>\n",
       "      <td>0.0</td>\n",
       "      <td>877</td>\n",
       "      <td>[0.0026870752, 0.12834427, 0.022967158, 0.0031...</td>\n",
       "    </tr>\n",
       "    <tr>\n",
       "      <td>300485</td>\n",
       "      <td>177612.0</td>\n",
       "      <td>expected. the fourth ventricle remains obliter...</td>\n",
       "      <td>0.0</td>\n",
       "      <td>2139</td>\n",
       "      <td>[0.022608442, 0.01802392, 0.06332687, 0.006647...</td>\n",
       "    </tr>\n",
       "  </tbody>\n",
       "</table>\n",
       "<p>3000 rows × 5 columns</p>\n",
       "</div>"
      ],
      "text/plain": [
       "              ID                                               TEXT  Label  \\\n",
       "27280   107136.0  remove picc and send tip...wean neo to map >.....    1.0   \n",
       "241706  162488.0  of readiness for learning action: mi teaching ...    0.0   \n",
       "199909  151376.0  is normal (lvef>55%). right ventricle: right v...    0.0   \n",
       "175220  145096.0  represents a fat pad, though a loculated anter...    0.0   \n",
       "163835  141915.0  was briefly placed on cpap. no abg obtained. v...    0.0   \n",
       "...          ...                                                ...    ...   \n",
       "290671  175091.0  supraventricular tachycardia left axis deviati...    0.0   \n",
       "152991  139055.0  16 (11 - 24) insp/min spo2: 93% heart rhythm: ...    0.0   \n",
       "384581  199679.0  sinus tachycardia, rate left atrial abnormalit...    0.0   \n",
       "240217  162171.0  seen. pericardium: there is a small to moderat...    0.0   \n",
       "300485  177612.0  expected. the fourth ventricle remains obliter...    0.0   \n",
       "\n",
       "        text_len                                           word2vec  \n",
       "27280       1941  [0.029284183, 0.014483439, 0.06752385, 0.00371...  \n",
       "241706      2016  [-0.0017557873, 0.046223473, 0.10897355, 0.027...  \n",
       "199909      2256  [0.009158471, 0.06597229, 0.0048928526, -0.035...  \n",
       "175220      2163  [-0.006347567, 0.075405955, 0.046496622, -0.00...  \n",
       "163835      2016  [-0.0011737325, 0.027778277, 0.1136065, -0.004...  \n",
       "...          ...                                                ...  \n",
       "290671      2077  [0.023522438, 0.047339242, 0.056796785, 0.0157...  \n",
       "152991      1763  [0.055983152, 0.03939668, 0.09662792, 0.032728...  \n",
       "384581      2211  [-0.01792933, 0.046701074, 0.086492136, 0.0291...  \n",
       "240217       877  [0.0026870752, 0.12834427, 0.022967158, 0.0031...  \n",
       "300485      2139  [0.022608442, 0.01802392, 0.06332687, 0.006647...  \n",
       "\n",
       "[3000 rows x 5 columns]"
      ]
     },
     "execution_count": 21,
     "metadata": {},
     "output_type": "execute_result"
    }
   ],
   "source": [
    "df_sample"
   ]
  },
  {
   "cell_type": "code",
   "execution_count": 22,
   "metadata": {},
   "outputs": [],
   "source": [
    "def logit_NLP(X,Y,title):\n",
    "    \n",
    "    print('this is for....',title,'\\n\\n\\n*********************')\n",
    "    model = LogisticRegression(solver='lbfgs')\n",
    "\n",
    "    grid_val=[dict({0:1,1:j}) for j in range(1,5) ]\n",
    "    param_grid = dict(class_weight=grid_val)\n",
    "    # define evaluation procedure\n",
    "    cv = RepeatedStratifiedKFold(n_splits=6)\n",
    "    # define grid search\n",
    "    grid = GridSearchCV(estimator=model, param_grid=param_grid, n_jobs=-1, cv=cv, scoring='roc_auc')\n",
    "    # execute the grid search\n",
    "    grid_result = grid.fit(X, Y)\n",
    "    # report the best configuration\n",
    "    print(\"Best: %f using %s\" % (grid_result.best_score_, grid_result.best_params_))\n",
    "    # report all configurations\n",
    "    means = grid_result.cv_results_['mean_test_score']\n",
    "    stds = grid_result.cv_results_['std_test_score']\n",
    "    params = grid_result.cv_results_['params']\n",
    "    for mean, stdev, param in zip(means, stds, params):\n",
    "        print(\"%f (%f) with: %r\" % (mean, stdev, param))\n",
    "    \n",
    "    print('\\n\\n\\n*********************')"
   ]
  },
  {
   "cell_type": "code",
   "execution_count": 23,
   "metadata": {},
   "outputs": [
    {
     "name": "stdout",
     "output_type": "stream",
     "text": [
      "this is for.... word vector \n",
      "\n",
      "\n",
      "*********************\n",
      "Best: 0.566964 using {'class_weight': {0: 1, 1: 4}}\n",
      "0.560954 (0.039526) with: {'class_weight': {0: 1, 1: 1}}\n",
      "0.563428 (0.039004) with: {'class_weight': {0: 1, 1: 2}}\n",
      "0.565391 (0.039223) with: {'class_weight': {0: 1, 1: 3}}\n",
      "0.566964 (0.039450) with: {'class_weight': {0: 1, 1: 4}}\n",
      "\n",
      "\n",
      "\n",
      "*********************\n",
      "this is for.... number \n",
      "\n",
      "\n",
      "*********************\n",
      "Best: 0.539913 using {'class_weight': {0: 1, 1: 3}}\n",
      "0.525201 (0.059190) with: {'class_weight': {0: 1, 1: 1}}\n",
      "0.537130 (0.052535) with: {'class_weight': {0: 1, 1: 2}}\n",
      "0.539913 (0.050453) with: {'class_weight': {0: 1, 1: 3}}\n",
      "0.537130 (0.052535) with: {'class_weight': {0: 1, 1: 4}}\n",
      "\n",
      "\n",
      "\n",
      "*********************\n"
     ]
    }
   ],
   "source": [
    "from sklearn.metrics import roc_auc_score\n",
    "\n",
    "X_wv= df_sample.word2vec.apply(pd.Series).values\n",
    "X_num=df_sample['text_len'].values.reshape(-1,1)\n",
    "Y=df_sample.Label\n",
    "\n",
    "\n",
    "logit_NLP(X_wv,Y,'word vector')\n",
    "logit_NLP(X_num,Y,'number')"
   ]
  },
  {
   "cell_type": "code",
   "execution_count": 24,
   "metadata": {},
   "outputs": [
    {
     "name": "stderr",
     "output_type": "stream",
     "text": [
      "F:\\anaconda\\lib\\site-packages\\sklearn\\ensemble\\forest.py:245: FutureWarning: The default value of n_estimators will change from 10 in version 0.20 to 100 in 0.22.\n",
      "  \"10 in version 0.20 to 100 in 0.22.\", FutureWarning)\n"
     ]
    },
    {
     "data": {
      "text/plain": [
       "0.4956043956043956"
      ]
     },
     "execution_count": 24,
     "metadata": {},
     "output_type": "execute_result"
    }
   ],
   "source": [
    "from sklearn.ensemble import RandomForestClassifier\n",
    "from sklearn.datasets import make_classification\n",
    "\n",
    "\n",
    "\n",
    "clf = RandomForestClassifier(random_state=0)\n",
    "clf.fit(X_wv[1:2500], Y[1:2500])\n",
    "\n",
    "roc_auc_score(Y[2500:],clf.predict(X_wv[2500:]))\n",
    "\n"
   ]
  },
  {
   "cell_type": "code",
   "execution_count": 25,
   "metadata": {},
   "outputs": [
    {
     "data": {
      "text/plain": [
       "0.484981684981685"
      ]
     },
     "execution_count": 25,
     "metadata": {},
     "output_type": "execute_result"
    }
   ],
   "source": [
    "from sklearn import tree\n",
    "\n",
    "clf = tree.DecisionTreeClassifier()\n",
    "clf = clf.fit(X_wv[1:2500], Y[1:2500])\n",
    "roc_auc_score(Y[2500:],clf.predict(X_wv[2500:]))"
   ]
  },
  {
   "cell_type": "code",
   "execution_count": 26,
   "metadata": {},
   "outputs": [
    {
     "name": "stdout",
     "output_type": "stream",
     "text": [
      "74 726\n"
     ]
    }
   ],
   "source": [
    "pred=clf.predict(X_wv[2200:])\n",
    "print(sum(pred==1),sum(pred==0))"
   ]
  },
  {
   "cell_type": "markdown",
   "metadata": {},
   "source": [
    "# Now, we can get two conclusions:\n",
    "    \n",
    "1. We are still facing unbalanced dataset and majority of machine learning model are very sensitive to unbalanced data!\n",
    "\n",
    "2. The count-based information is narrow, we need to expand word to vectors to represent more meanings.\n",
    "\n",
    "*So, do we have some solutions to solve such unbalanced data and applied more complex NLP model？*"
   ]
  },
  {
   "cell_type": "markdown",
   "metadata": {},
   "source": [
    "# Step 3: Solving the problem\n",
    "\n",
    "Unfortunately, there is no end-to-end solution to solve such unbalanced data problem. All methods are facing challenges when the environment changes. That is the reason why the company still requires data team write a lot of SQL to deeply dig the data rather than auto machine learning. \n",
    "\n",
    "Right now, the most popular solutions are still: upsampling, downsampling, modified class weight and SMOTE. SMOTE works in feature space. It means that the output of SMOTE is not a synthetic data which is a real representative of a text inside its feature space.On one side SMOTE works with KNN and on the other hand, feature spaces for NLP problem are dramatically huge. KNN will easily fail in those huge dimensions.\n",
    "\n",
    "Here we already tried adjustment on weights. It does not work well. For SMOTE method, it is to create artificial data point by using interpolation method. You may still think it is a more smoothy method to change the distribution of data, but the trade-off is that it is time-costly.\n",
    "\n",
    "Now, I want to use the fastest method by rebalancing the data from the original dataset."
   ]
  },
  {
   "cell_type": "code",
   "execution_count": null,
   "metadata": {},
   "outputs": [],
   "source": []
  },
  {
   "cell_type": "code",
   "execution_count": 3,
   "metadata": {},
   "outputs": [],
   "source": [
    "\n",
    "\n",
    "split=int(df.shape[0]*0.75)\n",
    "\n",
    "seed=0\n",
    "\n",
    "kaka=df.iloc[0:300000,:].sample(100000)\n",
    "\n",
    "\n",
    "g = df.groupby('Label')\n",
    "final=g.apply(lambda x: x.sample(g.size().min()).reset_index(drop=True))\n",
    "final.index=range(final.shape[0])\n",
    "\n",
    "final=final.sample(30000)\n"
   ]
  },
  {
   "cell_type": "code",
   "execution_count": 4,
   "metadata": {},
   "outputs": [],
   "source": [
    "train_df=final[0:20000]\n",
    "test_df=final[20000:] \n",
    "\n",
    "#we must make sure there is no any overlap dataset between train and test dataset"
   ]
  },
  {
   "cell_type": "code",
   "execution_count": 5,
   "metadata": {},
   "outputs": [
    {
     "data": {
      "text/html": [
       "<div>\n",
       "<style scoped>\n",
       "    .dataframe tbody tr th:only-of-type {\n",
       "        vertical-align: middle;\n",
       "    }\n",
       "\n",
       "    .dataframe tbody tr th {\n",
       "        vertical-align: top;\n",
       "    }\n",
       "\n",
       "    .dataframe thead th {\n",
       "        text-align: right;\n",
       "    }\n",
       "</style>\n",
       "<table border=\"1\" class=\"dataframe\">\n",
       "  <thead>\n",
       "    <tr style=\"text-align: right;\">\n",
       "      <th></th>\n",
       "      <th>ID</th>\n",
       "      <th>TEXT</th>\n",
       "    </tr>\n",
       "    <tr>\n",
       "      <th>Label</th>\n",
       "      <th></th>\n",
       "      <th></th>\n",
       "    </tr>\n",
       "  </thead>\n",
       "  <tbody>\n",
       "    <tr>\n",
       "      <td>0.0</td>\n",
       "      <td>15061</td>\n",
       "      <td>15061</td>\n",
       "    </tr>\n",
       "    <tr>\n",
       "      <td>1.0</td>\n",
       "      <td>14939</td>\n",
       "      <td>14939</td>\n",
       "    </tr>\n",
       "  </tbody>\n",
       "</table>\n",
       "</div>"
      ],
      "text/plain": [
       "          ID   TEXT\n",
       "Label              \n",
       "0.0    15061  15061\n",
       "1.0    14939  14939"
      ]
     },
     "execution_count": 5,
     "metadata": {},
     "output_type": "execute_result"
    }
   ],
   "source": [
    "final.groupby('Label').count()"
   ]
  },
  {
   "cell_type": "code",
   "execution_count": 6,
   "metadata": {},
   "outputs": [
    {
     "data": {
      "text/html": [
       "<div>\n",
       "<style scoped>\n",
       "    .dataframe tbody tr th:only-of-type {\n",
       "        vertical-align: middle;\n",
       "    }\n",
       "\n",
       "    .dataframe tbody tr th {\n",
       "        vertical-align: top;\n",
       "    }\n",
       "\n",
       "    .dataframe thead th {\n",
       "        text-align: right;\n",
       "    }\n",
       "</style>\n",
       "<table border=\"1\" class=\"dataframe\">\n",
       "  <thead>\n",
       "    <tr style=\"text-align: right;\">\n",
       "      <th></th>\n",
       "      <th>ID</th>\n",
       "      <th>TEXT</th>\n",
       "    </tr>\n",
       "    <tr>\n",
       "      <th>Label</th>\n",
       "      <th></th>\n",
       "      <th></th>\n",
       "    </tr>\n",
       "  </thead>\n",
       "  <tbody>\n",
       "    <tr>\n",
       "      <td>0.0</td>\n",
       "      <td>10095</td>\n",
       "      <td>10095</td>\n",
       "    </tr>\n",
       "    <tr>\n",
       "      <td>1.0</td>\n",
       "      <td>9905</td>\n",
       "      <td>9905</td>\n",
       "    </tr>\n",
       "  </tbody>\n",
       "</table>\n",
       "</div>"
      ],
      "text/plain": [
       "          ID   TEXT\n",
       "Label              \n",
       "0.0    10095  10095\n",
       "1.0     9905   9905"
      ]
     },
     "execution_count": 6,
     "metadata": {},
     "output_type": "execute_result"
    }
   ],
   "source": [
    "train_df.groupby('Label').count()"
   ]
  },
  {
   "cell_type": "code",
   "execution_count": 7,
   "metadata": {},
   "outputs": [
    {
     "data": {
      "text/html": [
       "<div>\n",
       "<style scoped>\n",
       "    .dataframe tbody tr th:only-of-type {\n",
       "        vertical-align: middle;\n",
       "    }\n",
       "\n",
       "    .dataframe tbody tr th {\n",
       "        vertical-align: top;\n",
       "    }\n",
       "\n",
       "    .dataframe thead th {\n",
       "        text-align: right;\n",
       "    }\n",
       "</style>\n",
       "<table border=\"1\" class=\"dataframe\">\n",
       "  <thead>\n",
       "    <tr style=\"text-align: right;\">\n",
       "      <th></th>\n",
       "      <th>ID</th>\n",
       "      <th>TEXT</th>\n",
       "    </tr>\n",
       "    <tr>\n",
       "      <th>Label</th>\n",
       "      <th></th>\n",
       "      <th></th>\n",
       "    </tr>\n",
       "  </thead>\n",
       "  <tbody>\n",
       "    <tr>\n",
       "      <td>0.0</td>\n",
       "      <td>4966</td>\n",
       "      <td>4966</td>\n",
       "    </tr>\n",
       "    <tr>\n",
       "      <td>1.0</td>\n",
       "      <td>5034</td>\n",
       "      <td>5034</td>\n",
       "    </tr>\n",
       "  </tbody>\n",
       "</table>\n",
       "</div>"
      ],
      "text/plain": [
       "         ID  TEXT\n",
       "Label            \n",
       "0.0    4966  4966\n",
       "1.0    5034  5034"
      ]
     },
     "execution_count": 7,
     "metadata": {},
     "output_type": "execute_result"
    }
   ],
   "source": [
    "test_df.groupby('Label').count()"
   ]
  },
  {
   "cell_type": "markdown",
   "metadata": {},
   "source": [
    "Above, train dataset holds a sound distribution with 1:1. This could help the model to make classification. But the test dataset should follow the original distribution"
   ]
  },
  {
   "cell_type": "code",
   "execution_count": 8,
   "metadata": {},
   "outputs": [],
   "source": [
    "train_df.to_csv('train.csv')\n",
    "test_df.to_csv('test.csv')"
   ]
  },
  {
   "cell_type": "markdown",
   "metadata": {},
   "source": [
    "# Step 4: NLP and experienment\n",
    "\n",
    "In this stage, we will explore experienment modern techniques in NLP. Performing word embedding+ contrcution of model in Pytorch.\n",
    "There are diverse word embedding method possible to be selected, and each of them might bring different performance. The code below was modified from\n",
    "https://www.kaggle.com/swarnabha/pytorch-text-classification-torchtext-lstm\n",
    "\n",
    "\n",
    "There are several things to be noticed. The RNN model does the same thing like general NN model except it adds one more step to process the sequantial data. For example, it adds a for loop to pass the sequential data until the last output. This property forces the embedding dimensionality to be the same, so the sentences in each batch must keep the same length. We will talk more details as we go there. Before we go, these links are very helpful to read for a better understanding on NLP processing. We will use torchtext to help us maintain the structure of the data. \n",
    "\n",
    "Word Embedding with real example: https://towardsdatascience.com/from-pre-trained-word-embeddings-to-pre-trained-language-models-focus-on-bert-343815627598\n",
    "\n",
    "RNN numpy implementation: https://victorzhou.com/blog/intro-to-rnns/\n",
    "\n",
    "\n",
    "\n",
    "What we did different?\n",
    "\n",
    "1. modified the word embedding methods and parameters\n",
    "\n",
    "2. changed the structure of models\n",
    "\n",
    "3. added ROC_AUC metrics and test dataset within evaluation stage\n",
    "\n",
    "4. picked better hyper-parameters\n",
    "\n",
    "First, lets show a demonstration of how pytorch get the corresponding word vectors.\n"
   ]
  },
  {
   "cell_type": "code",
   "execution_count": 9,
   "metadata": {},
   "outputs": [],
   "source": [
    "\n",
    "import pandas as pd\n",
    "import numpy as np\n",
    "\n",
    "import matplotlib.pyplot as plt\n",
    "from sklearn.model_selection import train_test_split\n",
    "import time\n",
    "\n",
    "import torch\n",
    "from torchtext import data\n",
    "import torch.nn as nn"
   ]
  },
  {
   "cell_type": "code",
   "execution_count": 10,
   "metadata": {},
   "outputs": [
    {
     "data": {
      "text/plain": [
       "Parameter containing:\n",
       "tensor([[ 0.3128, -1.0663],\n",
       "        [ 0.9047, -1.2541],\n",
       "        [-0.5348, -0.4384],\n",
       "        [ 0.5261, -1.1570],\n",
       "        [-0.8455,  0.6700],\n",
       "        [-0.4973,  0.3867],\n",
       "        [ 0.0025,  0.9776],\n",
       "        [-0.2608,  0.4132],\n",
       "        [ 0.8033,  0.1650],\n",
       "        [-0.0236,  0.1517]], requires_grad=True)"
      ]
     },
     "execution_count": 10,
     "metadata": {},
     "output_type": "execute_result"
    }
   ],
   "source": [
    "emb=nn.Embedding(10,2)\n",
    "emb.weight"
   ]
  },
  {
   "cell_type": "code",
   "execution_count": 11,
   "metadata": {},
   "outputs": [
    {
     "data": {
      "text/plain": [
       "tensor([[ 0.9047, -1.2541],\n",
       "        [-0.5348, -0.4384],\n",
       "        [-0.8455,  0.6700],\n",
       "        [ 0.0025,  0.9776]], grad_fn=<EmbeddingBackward>)"
      ]
     },
     "execution_count": 11,
     "metadata": {},
     "output_type": "execute_result"
    }
   ],
   "source": [
    "\n",
    "emb(torch.tensor([1,2,4,6]))"
   ]
  },
  {
   "cell_type": "markdown",
   "metadata": {},
   "source": [
    "nn.embedding does nothing but provide a look-up table for us to check the corresponding word's vector by given the index\n",
    "We will pass the pre-trained embedding to that field when initialize the model"
   ]
  },
  {
   "cell_type": "code",
   "execution_count": null,
   "metadata": {},
   "outputs": [],
   "source": []
  },
  {
   "cell_type": "code",
   "execution_count": 13,
   "metadata": {},
   "outputs": [
    {
     "name": "stdout",
     "output_type": "stream",
     "text": [
      "(20000, 4)\n",
      "do train\n",
      "do valid\n",
      "do test\n"
     ]
    }
   ],
   "source": [
    "train = pd.read_csv(\"train.csv\")\n",
    "test = pd.read_csv(\"test.csv\")\n",
    "\n",
    "print(train.shape)\n",
    "\n",
    "\n",
    "\n",
    "train_df, valid_df = train_test_split(train)\n",
    "\n",
    "\n",
    "\n",
    "\n",
    "import spacy\n",
    "spacy_en = spacy.load(\"en_ner_bionlp13cg_md\")\n",
    "\n",
    "def tokenizer(text): # create a tokenizer function\n",
    "    # return a list of <class 'spacy.tokens.token.Token'>\n",
    "    return [tok.text for tok in spacy_en.tokenizer(text)]\n",
    "\n",
    "\n",
    "TEXT = data.Field(tokenize = tokenizer, include_lengths = True)\n",
    "LABEL = data.LabelField(dtype = torch.float)\n",
    "\n",
    "\n",
    "\n",
    "class DataFrameDataset(data.Dataset):\n",
    "\n",
    "    def __init__(self, df, fields, is_test=False, **kwargs):\n",
    "        examples = []\n",
    "        for i, row in df.iterrows():\n",
    "            label = row.Label if not is_test else None\n",
    "            text = row.TEXT\n",
    "            examples.append(data.Example.fromlist([text, label], fields))\n",
    "\n",
    "        super().__init__(examples, fields, **kwargs)\n",
    "\n",
    "    @staticmethod\n",
    "    def sort_key(ex):\n",
    "        return len(ex.text)\n",
    "\n",
    "    @classmethod\n",
    "    def splits(cls, fields, train_df, val_df=None, test_df=None, **kwargs):\n",
    "        train_data, val_data, test_data = (None, None, None)\n",
    "        data_field = fields\n",
    "\n",
    "        if train_df is not None:\n",
    "            print('do train')\n",
    "            train_data = cls(train_df.copy(), data_field, **kwargs)\n",
    "        if val_df is not None:\n",
    "            print('do valid')\n",
    "            val_data = cls(val_df.copy(), data_field, **kwargs)\n",
    "        if test_df is not None:\n",
    "            print('do test')\n",
    "            test_data = cls(test_df.copy(), data_field, **kwargs)\n",
    "\n",
    "        return tuple(d for d in (train_data, val_data, test_data) if d is not None)\n",
    "    \n",
    "fields = [('text',TEXT), ('label',LABEL)]\n",
    "\n",
    "train_ds, val_ds ,test_ds= DataFrameDataset.splits(fields, train_df=train_df, val_df=valid_df,test_df=test)\n",
    "\n",
    "\n"
   ]
  },
  {
   "cell_type": "code",
   "execution_count": 14,
   "metadata": {},
   "outputs": [],
   "source": [
    "MAX_VOCAB_SIZE = 10000\n",
    "\n",
    "TEXT.build_vocab(train_ds, \n",
    "                 max_size = MAX_VOCAB_SIZE, \n",
    "                 vectors = 'glove.6B.50d',\n",
    "                 unk_init = torch.Tensor.zero_)\n",
    "\n",
    "LABEL.build_vocab(train_ds)\n",
    "\n"
   ]
  },
  {
   "cell_type": "markdown",
   "metadata": {},
   "source": [
    "Above is an essential step which load the pretrained word embedding. The Glove model, is a static model which means we can immediately load a word vector just by calling .vector(word). Static embedding means one-to-one which implies there will be no association with the contextual words. For example: \"I ate apple\", \"Apple stock will split with ratio 2:1 in 2021, reported by Yahoo Finance\" will return the same vector for word apple. For more details, please check the links at the top.\n",
    "\n",
    "Below, we will set the hyper-parameter for classification model. The reason we use RNN(LSTM) model is because we think there are some relationship between the words in each sentence. For example, a bone disease usually requires a radiology as the following precedure."
   ]
  },
  {
   "cell_type": "code",
   "execution_count": 15,
   "metadata": {
    "scrolled": true
   },
   "outputs": [
    {
     "name": "stdout",
     "output_type": "stream",
     "text": [
      "torch.Size([10002, 50])\n",
      "tensor([[ 0.0000,  0.0000,  0.0000,  ...,  0.0000,  0.0000,  0.0000],\n",
      "        [ 0.0000,  0.0000,  0.0000,  ...,  0.0000,  0.0000,  0.0000],\n",
      "        [ 0.1516,  0.3018, -0.1676,  ..., -0.3565,  0.0164,  0.1022],\n",
      "        ...,\n",
      "        [-0.4793, -0.0630, -0.4590,  ...,  0.9031,  0.2111,  0.1730],\n",
      "        [ 0.0000,  0.0000,  0.0000,  ...,  0.0000,  0.0000,  0.0000],\n",
      "        [-0.2764, -0.1602,  0.0258,  ...,  0.0723, -0.0696, -0.1483]])\n",
      "\tTrain Loss: 0.694 | Train Acc: 50.42%\n",
      "\t Val. Acc: 48.64%\n",
      "\t Val. ROC_AUC: 52.54%\n",
      "\tTrain Loss: 0.676 | Train Acc: 58.22%\n",
      "\t Val. Acc: 54.17%\n",
      "\t Val. ROC_AUC: 56.85%\n",
      "\tTrain Loss: 0.593 | Train Acc: 68.72%\n",
      "\t Val. Acc: 56.39%\n",
      "\t Val. ROC_AUC: 58.92%\n",
      "\tTrain Loss: 0.469 | Train Acc: 77.72%\n",
      "\t Val. Acc: 56.39%\n",
      "\t Val. ROC_AUC: 59.21%\n",
      "\tTrain Loss: 0.349 | Train Acc: 84.88%\n",
      "\t Val. Acc: 57.22%\n",
      "\t Val. ROC_AUC: 59.36%\n",
      "\tTrain Loss: 0.250 | Train Acc: 89.40%\n",
      "\t Val. Acc: 55.93%\n",
      "\t Val. ROC_AUC: 58.59%\n",
      "\tTrain Loss: 0.184 | Train Acc: 92.38%\n",
      "\t Val. Acc: 55.95%\n",
      "\t Val. ROC_AUC: 58.38%\n",
      "\tTrain Loss: 0.131 | Train Acc: 94.85%\n",
      "\t Val. Acc: 56.90%\n",
      "\t Val. ROC_AUC: 59.09%\n",
      "\tTrain Loss: 0.099 | Train Acc: 96.15%\n",
      "\t Val. Acc: 56.55%\n",
      "\t Val. ROC_AUC: 58.79%\n",
      "\tTrain Loss: 0.080 | Train Acc: 97.06%\n",
      "\t Val. Acc: 56.47%\n",
      "\t Val. ROC_AUC: 59.06%\n",
      "time:413.745\n"
     ]
    }
   ],
   "source": [
    "BATCH_SIZE = 64\n",
    "\n",
    "device = torch.device('cuda' if torch.cuda.is_available() else 'cpu')\n",
    "#device='cpu'\n",
    "\n",
    "train_iterator, valid_iterator,test_iterator = data.BucketIterator.splits(\n",
    "    (train_ds, val_ds,test_ds), \n",
    "    batch_size = BATCH_SIZE,\n",
    "    sort_within_batch = True,\n",
    "    device = device)\n",
    "\n",
    "\n",
    "num_epochs = 10\n",
    "learning_rate = 0.01\n",
    "\n",
    "INPUT_DIM = len(TEXT.vocab)\n",
    "EMBEDDING_DIM = 50\n",
    "HIDDEN_DIM = 50\n",
    "OUTPUT_DIM = 1\n",
    "N_LAYERS = 2\n",
    "BIDIRECTIONAL = True\n",
    "DROPOUT = 0.2\n",
    "PAD_IDX = TEXT.vocab.stoi[TEXT.pad_token] # padding\n",
    "\n",
    "class LSTM_net(nn.Module):\n",
    "    def __init__(self, vocab_size, embedding_dim, hidden_dim, output_dim, n_layers, \n",
    "                 bidirectional, dropout, pad_idx):\n",
    "        \n",
    "        super().__init__()\n",
    "        \n",
    "        self.embedding = nn.Embedding(vocab_size, embedding_dim, padding_idx = pad_idx)\n",
    "        \n",
    "        self.rnn = nn.LSTM(embedding_dim, \n",
    "                           hidden_dim, \n",
    "                           num_layers=n_layers, \n",
    "                           bidirectional=bidirectional, \n",
    "                           dropout=dropout)\n",
    "        \n",
    "        self.fc1 = nn.Linear(hidden_dim * 2, hidden_dim)\n",
    "        \n",
    "        self.fc2 = nn.Linear(hidden_dim, 1)\n",
    "        \n",
    "        #self.dropout = nn.Dropout(dropout)\n",
    "        \n",
    "    def forward(self, text, text_lengths):\n",
    "        \n",
    "\n",
    "        embedded = self.embedding(text)\n",
    "        \n",
    "\n",
    "        packed_embedded = nn.utils.rnn.pack_padded_sequence(embedded, text_lengths)\n",
    "        \n",
    "        packed_output, (hidden, cell) = self.rnn(packed_embedded)\n",
    "\n",
    "        hidden = torch.cat((hidden[-2,:,:], hidden[-1,:,:]), dim = 1)\n",
    "        output = self.fc1(hidden)\n",
    "        output = self.fc2(output)\n",
    "                \n",
    "        #hidden = [batch size, hid dim * num directions]\n",
    "            \n",
    "        return output\n",
    "    \n",
    "model = LSTM_net(INPUT_DIM, \n",
    "            EMBEDDING_DIM, \n",
    "            HIDDEN_DIM, \n",
    "            OUTPUT_DIM, \n",
    "            N_LAYERS, \n",
    "            BIDIRECTIONAL, \n",
    "            DROPOUT, \n",
    "            PAD_IDX)\n",
    "\n",
    "\n",
    "pretrained_embeddings = TEXT.vocab.vectors\n",
    "\n",
    "print(pretrained_embeddings.shape)\n",
    "model.embedding.weight.data.copy_(pretrained_embeddings)\n",
    "\n",
    "model.embedding.weight.data[PAD_IDX] = torch.zeros(EMBEDDING_DIM)\n",
    "\n",
    "print(model.embedding.weight.data)\n",
    "\n",
    "\n",
    "model.to(device) \n",
    "\n",
    "# Loss and optimizer\n",
    "criterion = nn.BCEWithLogitsLoss()\n",
    "\n",
    "optimizer = torch.optim.Adam(model.parameters(), lr=learning_rate)\n",
    "\n",
    "\n",
    "\n",
    "\n",
    "\n",
    "\n",
    "\n",
    "\n"
   ]
  },
  {
   "cell_type": "code",
   "execution_count": 17,
   "metadata": {},
   "outputs": [],
   "source": [
    "from sklearn.metrics import roc_auc_score\n",
    "\n",
    "def binary_accuracy(preds, y):\n",
    "    \"\"\"\n",
    "    Returns accuracy per batch, i.e. if you get 8/10 right, this returns 0.8, NOT 8\n",
    "    \"\"\"\n",
    "\n",
    "    rounded_preds = (torch.sigmoid(preds)>0.32).float()\n",
    "    #print(rounded_preds)\n",
    "    #print(roc_auc_score(y.cpu().data.numpy(),rounded_preds.cpu().data.numpy()))\n",
    "\n",
    "    \n",
    "    correct = (rounded_preds == y).float() #convert into float for division \n",
    "    acc = correct.sum() / len(correct)\n",
    "    \n",
    "    return acc,rounded_preds,torch.sigmoid(preds)\n",
    "\n",
    "\n",
    "def train(model, iterator):\n",
    "    \n",
    "    epoch_loss = 0\n",
    "    epoch_acc = 0\n",
    "    \n",
    "    model.train()\n",
    "    \n",
    "    pred_collect=torch.empty(0).cuda()\n",
    "    y_collect=torch.empty(0).cuda()\n",
    "    \n",
    "    #count=0\n",
    "    for batch in iterator:\n",
    "        \n",
    "        \n",
    "        text, text_lengths = batch.text\n",
    "        \n",
    "        \n",
    "        \n",
    "        \n",
    "        \n",
    "        optimizer.zero_grad()\n",
    "        predictions = model(text, text_lengths).squeeze(1)\n",
    "        loss = criterion(predictions, batch.label)\n",
    "        acc ,_,pred_y= binary_accuracy(predictions, batch.label)\n",
    "\n",
    "        loss.backward()\n",
    "        optimizer.step()\n",
    "        \n",
    "        epoch_loss = loss.item()+epoch_loss\n",
    "        epoch_acc = acc.item()+epoch_acc\n",
    "        \n",
    "        pred_collect=torch.cat([pred_collect,pred_y])\n",
    "        y_collect=torch.cat([y_collect,batch.label])\n",
    "        \n",
    "    \n",
    "    #print(pred_collect.shape,y_collect.shape)\n",
    "    \n",
    "    auc=roc_auc_score(y_collect.cpu().data.numpy(),pred_collect.cpu().data.numpy())\n",
    "\n",
    "    return epoch_loss / len(iterator), epoch_acc / len(iterator),  auc\n",
    "\n",
    "\n",
    "def evaluate(model, iterator):\n",
    "    \n",
    "    epoch_acc = 0\n",
    "    \n",
    "    model.eval()\n",
    "    \n",
    "    pred_collect=torch.empty(0).cuda()\n",
    "    y_collect=torch.empty(0).cuda()\n",
    "    y_prob=torch.empty(0).cuda()\n",
    "\n",
    "    \n",
    "    \n",
    "    with torch.no_grad():\n",
    "        for batch in iterator:\n",
    "            text, text_lengths = batch.text\n",
    "            predictions = model(text, text_lengths).squeeze(1)\n",
    "            \n",
    "            \n",
    "            acc,pred_y,prob= binary_accuracy(predictions, batch.label)\n",
    "            \n",
    "            epoch_acc = acc.item()+epoch_acc\n",
    "            pred_collect=torch.cat([pred_collect,pred_y])\n",
    "            y_collect=torch.cat([y_collect,batch.label])\n",
    "            y_prob=torch.cat([y_prob,prob])\n",
    "\n",
    "    try:       \n",
    "        auc=roc_auc_score(y_collect.cpu().data.numpy(),y_prob.cpu().data.numpy())  \n",
    "    except:\n",
    "        auc='UNAVAILABLE'\n",
    "    return epoch_acc / len(iterator),auc,y_collect,y_prob\n",
    "\n",
    "\n",
    "t = time.time()\n",
    "loss=[]\n",
    "acc=[]\n",
    "val_acc=[]\n",
    "val_auc=[]\n",
    "\n",
    "y_lab=None\n",
    "y_pro=None\n"
   ]
  },
  {
   "cell_type": "code",
   "execution_count": null,
   "metadata": {},
   "outputs": [],
   "source": [
    "for epoch in range(num_epochs):\n",
    "    \n",
    "    train_loss, train_acc,train_auc = train(model, train_iterator)\n",
    "    valid_acc ,valid_auc,true_y,prob_y= evaluate(model, valid_iterator)\n",
    "\n",
    "    \n",
    "    print(f'\\tTrain Loss: {train_loss:.3f} | Train Acc: {train_acc*100:.2f}%')\n",
    "    print(f'\\t Val. Acc: {valid_acc*100:.2f}%')\n",
    "    print(f'\\t Val. ROC_AUC: {valid_auc*100:.2f}%')\n",
    "\n",
    "    \n",
    "    loss.append(train_loss)\n",
    "    acc.append(train_acc)\n",
    "    val_acc.append(valid_acc)\n",
    "    val_auc.append(valid_auc)\n",
    "\n",
    "    \n",
    "    \n",
    "print(f'time:{time.time()-t:.3f}')\n",
    "\n",
    "\n",
    "\n",
    "_,_,my_lab,my_prob=evaluate(model, valid_iterator)\n",
    "\n",
    "#torch.save(model, 'LSTM_MODEL') save the model\n",
    "\n",
    "pd.DataFrame(val_auc).to_csv('100batch_glove_200_lr_0.005.csv')\n",
    "\n",
    "\n",
    "\n",
    "\n",
    "import matplotlib.pyplot as plt\n",
    "\n",
    "my_prob=my_prob.cpu().data.numpy()\n",
    "my_lab=my_lab.cpu().data.numpy()\n",
    "np.sort(my_prob)\n",
    "\n",
    "combine=[ [i,j] for i,j in zip(my_prob,my_lab)]\n",
    "\n",
    "combine=sorted(combine)\n",
    "\n",
    "combine=np.array(combine).reshape(len(combine),2)\n",
    "\n",
    "combine=pd.DataFrame(combine,columns=['prob','label'])\n",
    "\n",
    "\n",
    "max_thresh=0\n",
    "max_th_ind=None\n",
    "for th in combine.iloc[:,0]: #threshold\n",
    "    combine['label_with_thresh']=combine['prob'].apply(lambda x: x>th)\n",
    "    combine['label_with_thresh']=combine['label_with_thresh'].astype(int)\n",
    "    combine['final']=(combine['label_with_thresh']==combine['label'])\n",
    "    \n",
    "    if combine['final'].sum()/combine.shape[0] >max_thresh:\n",
    "        max_thresh=combine['final'].sum()/combine.shape[0]\n",
    "        max_th_ind=th"
   ]
  },
  {
   "cell_type": "code",
   "execution_count": 16,
   "metadata": {},
   "outputs": [
    {
     "name": "stdout",
     "output_type": "stream",
     "text": [
      "suggested threshold:    0.3204619884490967\n"
     ]
    }
   ],
   "source": [
    "print('suggested threshold:   ',max_th_ind)"
   ]
  },
  {
   "cell_type": "markdown",
   "metadata": {},
   "source": [
    "Now, we can see a tremendous improvement! At least the ROC_AUC curve is no longer 0.5(the minimum).\n",
    "The reason is that, during the training stage, we must let the model learn something from the minor class. If the distribution of data is extremely unbalanced, the classifier is tend to think allocate all samples to the major class. By the GPU and time limitation, we will stop here."
   ]
  },
  {
   "cell_type": "code",
   "execution_count": 18,
   "metadata": {},
   "outputs": [],
   "source": [
    "a,b,c,d=evaluate(model, test_iterator)"
   ]
  },
  {
   "cell_type": "code",
   "execution_count": 19,
   "metadata": {},
   "outputs": [
    {
     "data": {
      "text/plain": [
       "0.5521496815286624"
      ]
     },
     "execution_count": 19,
     "metadata": {},
     "output_type": "execute_result"
    }
   ],
   "source": [
    "a"
   ]
  },
  {
   "cell_type": "code",
   "execution_count": 20,
   "metadata": {},
   "outputs": [
    {
     "data": {
      "text/plain": [
       "0.5749780808948891"
      ]
     },
     "execution_count": 20,
     "metadata": {},
     "output_type": "execute_result"
    }
   ],
   "source": [
    "b"
   ]
  },
  {
   "cell_type": "code",
   "execution_count": 21,
   "metadata": {},
   "outputs": [],
   "source": [
    "torch.cuda.empty_cache() #clear our tinny "
   ]
  },
  {
   "cell_type": "markdown",
   "metadata": {},
   "source": [
    "Lets try what if the training dataset is not balanced"
   ]
  },
  {
   "cell_type": "code",
   "execution_count": 13,
   "metadata": {},
   "outputs": [],
   "source": [
    "def run_LSTM(my_train,my_test,emb_model=None):\n",
    "\n",
    "    train = my_train\n",
    "    test =my_test\n",
    "\n",
    "    print(train.shape)\n",
    "\n",
    "\n",
    "\n",
    "    train_df, valid_df = train_test_split(train)\n",
    "\n",
    "\n",
    "\n",
    "\n",
    "\n",
    "    import spacy\n",
    "    spacy_en = spacy.load(\"en_ner_bionlp13cg_md\")\n",
    "\n",
    "    def tokenizer(text): # create a tokenizer function\n",
    "        # return a list of <class 'spacy.tokens.token.Token'>\n",
    "        return [tok.text for tok in spacy_en.tokenizer(text)]\n",
    "\n",
    "\n",
    "    TEXT = data.Field(tokenize = tokenizer, include_lengths = True)\n",
    "    LABEL = data.LabelField(dtype = torch.float)\n",
    "\n",
    "\n",
    "\n",
    "    class DataFrameDataset(data.Dataset):\n",
    "\n",
    "        def __init__(self, df, fields, is_test=False, **kwargs):\n",
    "            examples = []\n",
    "            for i, row in df.iterrows():\n",
    "                label = row.Label if not is_test else None\n",
    "                text = row.TEXT\n",
    "                examples.append(data.Example.fromlist([text, label], fields))\n",
    "\n",
    "            super().__init__(examples, fields, **kwargs)\n",
    "\n",
    "        @staticmethod\n",
    "        def sort_key(ex):\n",
    "            return len(ex.text)\n",
    "\n",
    "        @classmethod\n",
    "        def splits(cls, fields, train_df, val_df=None, test_df=None, **kwargs):\n",
    "            train_data, val_data, test_data = (None, None, None)\n",
    "            data_field = fields\n",
    "\n",
    "            if train_df is not None:\n",
    "                print('do train')\n",
    "                train_data = cls(train_df.copy(), data_field, **kwargs)\n",
    "            if val_df is not None:\n",
    "                print('do valid')\n",
    "                val_data = cls(val_df.copy(), data_field, **kwargs)\n",
    "            if test_df is not None:\n",
    "                print('do test')\n",
    "                test_data = cls(test_df.copy(), data_field, **kwargs)\n",
    "\n",
    "            return tuple(d for d in (train_data, val_data, test_data) if d is not None)\n",
    "\n",
    "    fields = [('text',TEXT), ('label',LABEL)]\n",
    "\n",
    "    train_ds, val_ds ,test_ds= DataFrameDataset.splits(fields, train_df=train_df, val_df=valid_df,test_df=test)\n",
    "\n",
    "\n",
    "    MAX_VOCAB_SIZE = 10000\n",
    "\n",
    "    TEXT.build_vocab(train_ds, \n",
    "                     max_size = MAX_VOCAB_SIZE, \n",
    "                     vectors = 'glove.6B.50d',\n",
    "                     unk_init = torch.Tensor.zero_)\n",
    "\n",
    "    LABEL.build_vocab(train_ds)\n",
    "\n",
    "\n",
    "    BATCH_SIZE = 64\n",
    "\n",
    "    device = torch.device('cuda' if torch.cuda.is_available() else 'cpu')\n",
    "    #device='cpu'\n",
    "\n",
    "    train_iterator, valid_iterator,test_iterator = data.BucketIterator.splits(\n",
    "        (train_ds, val_ds,test_ds), \n",
    "        batch_size = BATCH_SIZE,\n",
    "        sort_within_batch = True,\n",
    "        device = device)\n",
    "\n",
    "\n",
    "    num_epochs = 10\n",
    "    learning_rate = 0.01\n",
    "\n",
    "    INPUT_DIM = len(TEXT.vocab)\n",
    "    EMBEDDING_DIM = 50\n",
    "    HIDDEN_DIM = 50\n",
    "    OUTPUT_DIM = 1\n",
    "    N_LAYERS = 2\n",
    "    BIDIRECTIONAL = True\n",
    "    DROPOUT = 0.1\n",
    "    PAD_IDX = TEXT.vocab.stoi[TEXT.pad_token] # padding\n",
    "\n",
    "    class LSTM_net(nn.Module):\n",
    "        def __init__(self, vocab_size, embedding_dim, hidden_dim, output_dim, n_layers, \n",
    "                     bidirectional, dropout, pad_idx):\n",
    "\n",
    "            super().__init__()\n",
    "\n",
    "            self.embedding = nn.Embedding(vocab_size, embedding_dim, padding_idx = pad_idx)\n",
    "\n",
    "            self.rnn = nn.LSTM(embedding_dim, \n",
    "                               hidden_dim, \n",
    "                               num_layers=n_layers, \n",
    "                               bidirectional=bidirectional, \n",
    "                               dropout=dropout)\n",
    "\n",
    "            self.fc1 = nn.Linear(hidden_dim * 2, hidden_dim)\n",
    "\n",
    "            self.fc2 = nn.Linear(hidden_dim, 1)\n",
    "\n",
    "            #self.dropout = nn.Dropout(dropout)\n",
    "\n",
    "        def forward(self, text, text_lengths):\n",
    "\n",
    "            # text = [sent len, batch size]\n",
    "\n",
    "\n",
    "            embedded = self.embedding(text)\n",
    "\n",
    "            packed_embedded = nn.utils.rnn.pack_padded_sequence(embedded, text_lengths)\n",
    "\n",
    "            packed_output, (hidden, cell) = self.rnn(packed_embedded)\n",
    "\n",
    "\n",
    "            hidden = torch.cat((hidden[-2,:,:], hidden[-1,:,:]), dim = 1)\n",
    "            output = self.fc1(hidden)\n",
    "            output = self.fc2(output)\n",
    "\n",
    "            #hidden = [batch size, hid dim * num directions]\n",
    "\n",
    "            return output\n",
    "\n",
    "    model = LSTM_net(INPUT_DIM, \n",
    "                EMBEDDING_DIM, \n",
    "                HIDDEN_DIM, \n",
    "                OUTPUT_DIM, \n",
    "                N_LAYERS, \n",
    "                BIDIRECTIONAL, \n",
    "                DROPOUT, \n",
    "                PAD_IDX)\n",
    "\n",
    "\n",
    "    pretrained_embeddings = TEXT.vocab.vectors\n",
    "\n",
    "    print(pretrained_embeddings.shape)\n",
    "    model.embedding.weight.data.copy_(pretrained_embeddings)\n",
    "\n",
    "    model.embedding.weight.data[PAD_IDX] = torch.zeros(EMBEDDING_DIM)\n",
    "\n",
    "    print(model.embedding.weight.data)\n",
    "\n",
    "\n",
    "    model.to(device) #CNN to GPU\n",
    "\n",
    "\n",
    "    # Loss and optimizer\n",
    "    criterion = nn.BCEWithLogitsLoss()\n",
    "\n",
    "    optimizer = torch.optim.Adam(model.parameters(), lr=learning_rate)\n",
    "\n",
    "\n",
    "    from sklearn.metrics import roc_auc_score\n",
    "\n",
    "    def binary_accuracy(preds, y):\n",
    "        \"\"\"\n",
    "        Returns accuracy per batch, i.e. if you get 8/10 right, this returns 0.8, NOT 8\n",
    "        \"\"\"\n",
    "\n",
    "        #round predictions to the closest integer\n",
    "        #print('pred的shape.......',torch.sigmoid(preds).cpu().data.numpy())\n",
    "        #rounded_preds = torch.round(torch.sigmoid(preds))\n",
    "        rounded_preds = (torch.sigmoid(preds)>0.32).float()\n",
    "        #print(rounded_preds)\n",
    "        #print(roc_auc_score(y.cpu().data.numpy(),rounded_preds.cpu().data.numpy()))\n",
    "\n",
    "\n",
    "        correct = (rounded_preds == y).float() #convert into float for division \n",
    "        acc = correct.sum() / len(correct)\n",
    "\n",
    "        return acc,rounded_preds,torch.sigmoid(preds)\n",
    "\n",
    "\n",
    "    def train(model, iterator):\n",
    "\n",
    "        epoch_loss = 0\n",
    "        epoch_acc = 0\n",
    "\n",
    "        model.train()\n",
    "\n",
    "        pred_collect=torch.empty(0).cuda()\n",
    "        y_collect=torch.empty(0).cuda()\n",
    "\n",
    "        #count=0\n",
    "        for batch in iterator:\n",
    "\n",
    "            \n",
    "            text, text_lengths = batch.text\n",
    "\n",
    "\n",
    "\n",
    "\n",
    "\n",
    "            optimizer.zero_grad()\n",
    "            predictions = model(text, text_lengths).squeeze(1)\n",
    "            loss = criterion(predictions, batch.label)\n",
    "            acc ,_,pred_y= binary_accuracy(predictions, batch.label)\n",
    "\n",
    "            loss.backward()\n",
    "            optimizer.step()\n",
    "\n",
    "            epoch_loss = loss.item()+epoch_loss\n",
    "            epoch_acc = acc.item()+epoch_acc\n",
    "\n",
    "            pred_collect=torch.cat([pred_collect,pred_y])\n",
    "            y_collect=torch.cat([y_collect,batch.label])\n",
    "\n",
    "\n",
    "        #print(pred_collect.shape,y_collect.shape)\n",
    "\n",
    "        auc=roc_auc_score(y_collect.cpu().data.numpy(),pred_collect.cpu().data.numpy())\n",
    "\n",
    "        return epoch_loss / len(iterator), epoch_acc / len(iterator),  auc\n",
    "\n",
    "\n",
    "    def evaluate(model, iterator):\n",
    "\n",
    "        epoch_acc = 0\n",
    "\n",
    "        model.eval()\n",
    "\n",
    "        pred_collect=torch.empty(0).cuda()\n",
    "        y_collect=torch.empty(0).cuda()\n",
    "        y_prob=torch.empty(0).cuda()\n",
    "\n",
    "\n",
    "\n",
    "        with torch.no_grad():\n",
    "            for batch in iterator:\n",
    "                text, text_lengths = batch.text\n",
    "                predictions = model(text, text_lengths).squeeze(1)\n",
    "\n",
    "                #print('预测值',predictions.cpu().data.numpy())\n",
    "\n",
    "                acc,pred_y,prob= binary_accuracy(predictions, batch.label)\n",
    "\n",
    "                epoch_acc = acc.item()+epoch_acc\n",
    "                pred_collect=torch.cat([pred_collect,pred_y])\n",
    "                y_collect=torch.cat([y_collect,batch.label])\n",
    "                y_prob=torch.cat([y_prob,prob])\n",
    "\n",
    "        try:       \n",
    "            auc=roc_auc_score(y_collect.cpu().data.numpy(),y_prob.cpu().data.numpy())  \n",
    "        except:\n",
    "            auc='UNAVAILABLE'\n",
    "        return epoch_acc / len(iterator),auc,y_collect,y_prob\n",
    "\n",
    "\n",
    "    t = time.time()\n",
    "    loss=[]\n",
    "    acc=[]\n",
    "    val_acc=[]\n",
    "    val_auc=[]\n",
    "\n",
    "    y_lab=None\n",
    "    y_pro=None\n",
    "\n",
    "    for epoch in range(num_epochs):\n",
    "\n",
    "        train_loss, train_acc,train_auc = train(model, train_iterator)\n",
    "        valid_acc ,valid_auc,true_y,prob_y= evaluate(model, valid_iterator)\n",
    "\n",
    "\n",
    "        print(f'\\tTrain Loss: {train_loss:.3f} | Train Acc: {train_acc*100:.2f}%')\n",
    "        print(f'\\t Val. Acc: {valid_acc*100:.2f}%')\n",
    "        print(f'\\t Val. ROC_AUC: {valid_auc*100:.2f}%')\n",
    "\n",
    "\n",
    "        loss.append(train_loss)\n",
    "        acc.append(train_acc)\n",
    "        val_acc.append(valid_acc)\n",
    "        val_auc.append(valid_auc)"
   ]
  },
  {
   "cell_type": "markdown",
   "metadata": {},
   "source": [
    "You could modify the build_vocab model as you want, we have tested them, actually, the heavier the pre-trained word vecotors is, the better prediction result is! For example, we tested \"fasttext.en.300d\", it is 6GB large and its performance overwhelmed \"glove_200d\". You can try it by yourself!"
   ]
  },
  {
   "cell_type": "code",
   "execution_count": 14,
   "metadata": {},
   "outputs": [
    {
     "name": "stdout",
     "output_type": "stream",
     "text": [
      "(25000, 3)\n",
      "do train\n",
      "do valid\n",
      "do test\n",
      "torch.Size([10002, 50])\n",
      "tensor([[ 0.0000,  0.0000,  0.0000,  ...,  0.0000,  0.0000,  0.0000],\n",
      "        [ 0.0000,  0.0000,  0.0000,  ...,  0.0000,  0.0000,  0.0000],\n",
      "        [ 0.1516,  0.3018, -0.1676,  ..., -0.3565,  0.0164,  0.1022],\n",
      "        ...,\n",
      "        [-0.1632,  0.7213,  0.2655,  ...,  0.9811, -0.3158, -0.4866],\n",
      "        [ 0.6568,  0.3503,  0.2384,  ...,  0.7875, -0.0827, -0.3559],\n",
      "        [-0.4440, -0.1459,  0.2885,  ..., -0.3518,  0.1557,  1.0669]])\n",
      "\tTrain Loss: 0.287 | Train Acc: 91.51%\n",
      "\t Val. Acc: 91.87%\n",
      "\t Val. ROC_AUC: 51.99%\n",
      "\tTrain Loss: 0.269 | Train Acc: 91.90%\n",
      "\t Val. Acc: 91.74%\n",
      "\t Val. ROC_AUC: 52.83%\n",
      "\tTrain Loss: 0.224 | Train Acc: 91.78%\n",
      "\t Val. Acc: 88.41%\n",
      "\t Val. ROC_AUC: 52.06%\n",
      "\tTrain Loss: 0.169 | Train Acc: 92.98%\n",
      "\t Val. Acc: 86.21%\n",
      "\t Val. ROC_AUC: 53.15%\n",
      "\tTrain Loss: 0.119 | Train Acc: 95.12%\n",
      "\t Val. Acc: 86.27%\n",
      "\t Val. ROC_AUC: 53.90%\n",
      "\tTrain Loss: 0.074 | Train Acc: 97.07%\n",
      "\t Val. Acc: 84.58%\n",
      "\t Val. ROC_AUC: 52.71%\n",
      "\tTrain Loss: 0.046 | Train Acc: 98.18%\n",
      "\t Val. Acc: 86.12%\n",
      "\t Val. ROC_AUC: 53.88%\n",
      "\tTrain Loss: 0.037 | Train Acc: 98.59%\n",
      "\t Val. Acc: 84.89%\n",
      "\t Val. ROC_AUC: 52.94%\n",
      "\tTrain Loss: 0.030 | Train Acc: 98.81%\n",
      "\t Val. Acc: 84.41%\n",
      "\t Val. ROC_AUC: 53.98%\n",
      "\tTrain Loss: 0.024 | Train Acc: 99.02%\n",
      "\t Val. Acc: 84.57%\n",
      "\t Val. ROC_AUC: 53.38%\n"
     ]
    }
   ],
   "source": [
    "unbalance_auc=run_LSTM(df.sample(25000),test) #same test data, same size of the training data, but 1:12 distribution"
   ]
  },
  {
   "cell_type": "markdown",
   "metadata": {},
   "source": [
    "This AUC score is lower than balanced dataset"
   ]
  },
  {
   "cell_type": "markdown",
   "metadata": {},
   "source": [
    "Now, we want to try the if the balanced data can perform good even without NLP techniques. We will keep all hyper-parameter as the default set. "
   ]
  },
  {
   "cell_type": "code",
   "execution_count": null,
   "metadata": {},
   "outputs": [],
   "source": [
    "train_df['len']=train_df['TEXT'].apply(lambda x:len(x))\n",
    "test_df['len']=test_df['TEXT'].apply(lambda x:len(x))\n",
    "\n",
    "\n",
    "cls=LogisticRegression().fit(train_df['len'].values.reshape(-1,1),train_df['Label'])\n",
    "test_n_roc=roc_auc_score(test_df['Label'],cls.predict(test_df['len'].values.reshape(-1,1)))\n",
    "train_n_roc=roc_auc_score(train_df['Label'],cls.predict(train_df['len'].values.reshape(-1,1)))"
   ]
  },
  {
   "cell_type": "code",
   "execution_count": null,
   "metadata": {},
   "outputs": [],
   "source": [
    "print('for simple counting on text len its test and train roc_auc are: ',test_n_roc,train_n_roc)"
   ]
  },
  {
   "cell_type": "markdown",
   "metadata": {},
   "source": []
  },
  {
   "cell_type": "code",
   "execution_count": null,
   "metadata": {},
   "outputs": [],
   "source": [
    "\n",
    "clf = tree.DecisionTreeClassifier()\n",
    "clf = clf.fit(train_df['len'].values.reshape(-1,1),train_df['Label'])\n",
    "test_tree_roc=roc_auc_score(test_df['Label'],cls.predict(test_df['len'].values.reshape(-1,1)))\n",
    "train_tree_roc=roc_auc_score(train_df['Label'],cls.predict(train_df['len'].values.reshape(-1,1)))"
   ]
  },
  {
   "cell_type": "code",
   "execution_count": null,
   "metadata": {},
   "outputs": [],
   "source": [
    "print('for tree model on simple counting on text len its test and train roc_auc are: ',test_tree_roc,train_tree_roc)"
   ]
  },
  {
   "cell_type": "markdown",
   "metadata": {},
   "source": [
    "Unfortunately, the pure counting on length means nothing even we solve the unbalanced data!\n",
    "\n",
    "Next, we convert to simple word_vector"
   ]
  },
  {
   "cell_type": "code",
   "execution_count": null,
   "metadata": {},
   "outputs": [],
   "source": [
    "train_df['ner_wv']=train_df.TEXT.apply(get_ner_wv)\n"
   ]
  },
  {
   "cell_type": "code",
   "execution_count": null,
   "metadata": {},
   "outputs": [],
   "source": [
    "test_df['ner_wv']=test_df.TEXT.apply(get_ner_wv)"
   ]
  },
  {
   "cell_type": "markdown",
   "metadata": {},
   "source": [
    "Last, we want to try another pre-trained word2vec which is the spacy's model"
   ]
  },
  {
   "cell_type": "code",
   "execution_count": null,
   "metadata": {},
   "outputs": [],
   "source": [
    "balan_wv_train=train_df.ner_wv.apply(pd.Series).values\n",
    "balan_wv_test=test_df.ner_wv.apply(pd.Series).values\n",
    "cls=LogisticRegression().fit(balan_wv_train,train_df['Label'])\n",
    "test_n_roc=roc_auc_score(test_df['Label'],cls.predict(balan_wv_test))\n",
    "train_n_roc=roc_auc_score(train_df['Label'],cls.predict(balan_wv_train))"
   ]
  },
  {
   "cell_type": "code",
   "execution_count": 13,
   "metadata": {},
   "outputs": [],
   "source": []
  },
  {
   "cell_type": "code",
   "execution_count": null,
   "metadata": {},
   "outputs": [],
   "source": [
    "print('for tree model on average word vector，its test and train roc_auc are: ',test_n_roc,train_n_roc)"
   ]
  },
  {
   "cell_type": "markdown",
   "metadata": {},
   "source": [
    "In conclusion, we first performed trivial experiments on unbalanced dataset with different machine learning models. All models performed bad since the unbalanced effect. After then, we rebalanced our training data, as well as involved NLP techniques to process the sequential text data. The step 4 implemented word embedding and LSTM model. We can see if we let the data be balanced, and use a much complex model, the result would be definitely goes better. For example, only simple text length cannot do anything. Then, we applied the average word vector on each sentence. The result demonstrated an improvement. Last, we applied sequential method(LSTM) with word embedding, there was another improvement on the result! The possible explanation are: the word embedding captures some similarity of word, which assigned same features to the same word; the sequential model capture some relationship between some clinical treatments."
   ]
  },
  {
   "cell_type": "code",
   "execution_count": null,
   "metadata": {},
   "outputs": [],
   "source": []
  }
 ],
 "metadata": {
  "kernelspec": {
   "display_name": "Python 3",
   "language": "python",
   "name": "python3"
  },
  "language_info": {
   "codemirror_mode": {
    "name": "ipython",
    "version": 3
   },
   "file_extension": ".py",
   "mimetype": "text/x-python",
   "name": "python",
   "nbconvert_exporter": "python",
   "pygments_lexer": "ipython3",
   "version": "3.7.4"
  }
 },
 "nbformat": 4,
 "nbformat_minor": 2
}
