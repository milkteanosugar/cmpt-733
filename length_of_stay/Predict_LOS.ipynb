{
 "cells": [
  {
   "cell_type": "markdown",
   "metadata": {
    "colab_type": "text",
    "id": "tLZJdUFjnT8C"
   },
   "source": [
    "# Predicting Length of Stay (LOS)"
   ]
  },
  {
   "cell_type": "markdown",
   "metadata": {
    "colab_type": "text",
    "id": "BAEhHpARnT8E"
   },
   "source": [
    "### How long will a patient stay hospitalized?"
   ]
  },
  {
   "cell_type": "markdown",
   "metadata": {
    "colab_type": "text",
    "id": "AqBRLiKtnT8F"
   },
   "source": [
    "This task covers the clinical problem of forecast `length of stay (LOS)`. Length of Stay is defined as the time between hospital admission and discharge measured in days. It is a key performance indicator that can provide insights from cost analysis to patient outcomes. \n",
    "\n",
    "This notebook derived from publicly available intensive care medical information market (MIMIC-III) database to explore supervised statistical learning models to predict LOS.\n",
    "Accurate prediction of LOS is important for scheduling and hospital resource management.\n",
    "\n",
    "MIMIC-III is a relational database consisting of 26 tables.\n",
    "After reviewing the contents of each table in the MIMIC database, We finally selected the following tables and interpreted them using Pandas: `ADMISSIONS.csv`, `PATIENTS.csv`, `ICUSTAYS.csv`, `SERVICES.csv`, `TRANSFERS.csv`, `CALLOUT.csv`, `CPTEVENTS.csv`, `INPUTEVENTS_CV.csv`, `MICROBIOLOGYEVENTS.csv`, `PRESCRIPTIONS.csv`, `DIAGNOSES_ICD.csv`, `OUTPUTEVENTS.csv`"
   ]
  },
  {
   "cell_type": "markdown",
   "metadata": {
    "colab_type": "text",
    "id": "bknF2CuGnT8G"
   },
   "source": [
    "## 1. Data preparation, Data cleaning and Exploratory Data Analysis"
   ]
  },
  {
   "cell_type": "markdown",
   "metadata": {
    "colab_type": "text",
    "id": "cqztVKeBnT8H"
   },
   "source": [
    "### 1.1 Data Preparation"
   ]
  },
  {
   "cell_type": "code",
   "execution_count": 2,
   "metadata": {
    "colab": {
     "base_uri": "https://localhost:8080/",
     "height": 88
    },
    "colab_type": "code",
    "id": "dSwRZmWtnT8I",
    "outputId": "65eb0d99-9817-4804-a6f2-836f5196ddb2"
   },
   "outputs": [
    {
     "name": "stderr",
     "output_type": "stream",
     "text": [
      "Using TensorFlow backend.\n"
     ]
    }
   ],
   "source": [
    "# import packages\n",
    "import pandas as pd\n",
    "import numpy as np\n",
    "import matplotlib.pyplot as plt\n",
    "import seaborn as sns\n",
    "\n",
    "# sklearn\n",
    "from sklearn.model_selection import train_test_split, GridSearchCV, RandomizedSearchCV\n",
    "from sklearn.metrics import r2_score, mean_squared_error, classification_report,confusion_matrix, roc_curve, auc, roc_auc_score\n",
    "from sklearn.preprocessing import MinMaxScaler, LabelEncoder\n",
    "from sklearn.neighbors import KNeighborsRegressor, KNeighborsClassifier\n",
    "from sklearn.linear_model import LinearRegression, SGDRegressor\n",
    "from sklearn.ensemble import RandomForestRegressor, GradientBoostingRegressor, RandomForestClassifier\n",
    "from sklearn.tree import DecisionTreeRegressor, DecisionTreeClassifier\n",
    "from sklearn.svm import SVR, SVC\n",
    "from tensorflow.keras.constraints import max_norm\n",
    "from sklearn.naive_bayes import GaussianNB\n",
    "from sklearn import linear_model\n",
    "import statsmodels.api as sm\n",
    "\n",
    "# tensorflow\n",
    "import tensorflow as tf\n",
    "from tensorflow.keras import models, regularizers, layers, optimizers, losses, metrics\n",
    "from tensorflow.keras.models import Sequential, load_model\n",
    "from tensorflow.keras.layers import Dense, Dropout, LSTM, Embedding, SpatialDropout1D\n",
    "from tensorflow.keras.utils import to_categorical\n",
    "from keras import backend as K\n",
    "\n",
    "import pickle"
   ]
  },
  {
   "cell_type": "markdown",
   "metadata": {
    "colab_type": "text",
    "id": "ux6FTVK5nT8N"
   },
   "source": [
    "Five tables are used to define and track patient stays: `ADMISSIONS; PATIENTS; ICUSTAYS; SERVICES; and TRANSFERS`. The remaining tables contain data associated with dictionaries for cross-referencing codes against their respective definitions, patient care, such as physiological measurements, caregiver observations, and billing information.\n",
    "\n",
    " SUBJECT_ID refers to a unique patient, HADM_ID refers to a unique admission to the hospital, and ICUSTAY_ID refers to a unique admission to an intensive care unit."
   ]
  },
  {
   "cell_type": "code",
   "execution_count": 0,
   "metadata": {
    "colab": {},
    "colab_type": "code",
    "id": "eHYj8rFcnT8O",
    "outputId": "5d7c1762-15cd-4f31-8201-a3b0fadadfbf",
    "scrolled": true
   },
   "outputs": [
    {
     "name": "stderr",
     "output_type": "stream",
     "text": [
      "/Library/Frameworks/Python.framework/Versions/3.7/lib/python3.7/site-packages/IPython/core/interactiveshell.py:3063: DtypeWarning: Columns (4,5,7,11) have mixed types. Specify dtype option on import or set low_memory=False.\n",
      "  interactivity=interactivity, compiler=compiler, result=result)\n",
      "/Library/Frameworks/Python.framework/Versions/3.7/lib/python3.7/site-packages/IPython/core/interactiveshell.py:3063: DtypeWarning: Columns (7,9,17,20,21) have mixed types. Specify dtype option on import or set low_memory=False.\n",
      "  interactivity=interactivity, compiler=compiler, result=result)\n",
      "/Library/Frameworks/Python.framework/Versions/3.7/lib/python3.7/site-packages/IPython/core/interactiveshell.py:3063: DtypeWarning: Columns (11) have mixed types. Specify dtype option on import or set low_memory=False.\n",
      "  interactivity=interactivity, compiler=compiler, result=result)\n"
     ]
    }
   ],
   "source": [
    "# Data\n",
    "df_adm = pd.read_csv('data/ADMISSIONS.csv')\n",
    "df_pat = pd.read_csv('data/PATIENTS.csv')\n",
    "df_icu = pd.read_csv('data/ICUSTAYS.csv')\n",
    "df_ser = pd.read_csv('data/SERVICES.csv')\n",
    "df_tran = pd.read_csv('data/TRANSFERS.csv')\n",
    "\n",
    "df_call = pd.read_csv('data/CALLOUT.csv')\n",
    "df_cpt = pd.read_csv('data/CPTEVENTS.csv')\n",
    "df_inputcv = pd.read_csv('data/INPUTEVENTS_CV.csv')\n",
    "df_MICROBIO = pd.read_csv('data/MICROBIOLOGYEVENTS.csv')\n",
    "df_drug = pd.read_csv('data/PRESCRIPTIONS.csv')\n",
    "df_diag = pd.read_csv('data/DIAGNOSES_ICD.csv')\n",
    "df_out = pd.read_csv('data/OUTPUTEVENTS.csv')"
   ]
  },
  {
   "cell_type": "markdown",
   "metadata": {
    "colab_type": "text",
    "id": "-clb5ocInT8S"
   },
   "source": [
    "`ADMISSIONS.csv`"
   ]
  },
  {
   "cell_type": "code",
   "execution_count": 0,
   "metadata": {
    "colab": {},
    "colab_type": "code",
    "id": "xSTPnsxonT8S"
   },
   "outputs": [],
   "source": [
    "# select meaningful columns\n",
    "df_adm = df_adm[['SUBJECT_ID', 'HADM_ID', 'ADMITTIME', 'DISCHTIME',  'DEATHTIME',\n",
    "                'INSURANCE', 'RELIGION', 'MARITAL_STATUS', 'ETHNICITY']]"
   ]
  },
  {
   "cell_type": "code",
   "execution_count": 0,
   "metadata": {
    "colab": {},
    "colab_type": "code",
    "id": "QZsUdRB5nT8V"
   },
   "outputs": [],
   "source": [
    "# remove patient who resulting in death\n",
    "df_adm = df_adm[df_adm['DEATHTIME'].isnull()]"
   ]
  },
  {
   "cell_type": "code",
   "execution_count": 0,
   "metadata": {
    "colab": {},
    "colab_type": "code",
    "id": "z3w5Qwo2nT8X"
   },
   "outputs": [],
   "source": [
    "df_adm.drop(['DEATHTIME'], axis=1, inplace=True)"
   ]
  },
  {
   "cell_type": "code",
   "execution_count": 0,
   "metadata": {
    "colab": {},
    "colab_type": "code",
    "id": "ZZTaAHz0nT8Z"
   },
   "outputs": [],
   "source": [
    "df_adm['ADMITTIME'] = pd.to_datetime(df_adm['ADMITTIME'])\n",
    "df_adm['DISCHTIME'] = pd.to_datetime(df_adm['DISCHTIME'])\n",
    "# Define Length of Stay\n",
    "df_adm['LOS'] = (df_adm['DISCHTIME'] - df_adm['ADMITTIME']).dt.days"
   ]
  },
  {
   "cell_type": "code",
   "execution_count": 0,
   "metadata": {
    "colab": {},
    "colab_type": "code",
    "id": "CeEz6VJKnT8a"
   },
   "outputs": [],
   "source": [
    "# remove negative values\n",
    "df_adm = df_adm[df_adm['LOS'] > 0]"
   ]
  },
  {
   "cell_type": "code",
   "execution_count": 0,
   "metadata": {
    "colab": {},
    "colab_type": "code",
    "id": "A33b-shInT8c",
    "outputId": "bc602052-d44a-4fc2-9ff5-fd068105b4e3"
   },
   "outputs": [
    {
     "data": {
      "text/plain": [
       "count    51801.000000\n",
       "mean         9.854964\n",
       "std         12.337576\n",
       "min          1.000000\n",
       "25%          3.000000\n",
       "50%          6.000000\n",
       "75%         11.000000\n",
       "max        294.000000\n",
       "Name: LOS, dtype: float64"
      ]
     },
     "execution_count": 15,
     "metadata": {
      "tags": []
     },
     "output_type": "execute_result"
    }
   ],
   "source": [
    "df_adm['LOS'].describe()"
   ]
  },
  {
   "cell_type": "code",
   "execution_count": 0,
   "metadata": {
    "colab": {},
    "colab_type": "code",
    "id": "qhzQTTM4nT8e",
    "outputId": "4b02fadd-1d31-46a9-bfe0-ee8ca589daf9"
   },
   "outputs": [
    {
     "name": "stdout",
     "output_type": "stream",
     "text": [
      "Average Los is 10 Days\n",
      "Median Los is 6 Days\n"
     ]
    }
   ],
   "source": [
    "mean_los = df_adm['LOS'].mean()\n",
    "median_los = df_adm['LOS'].median()\n",
    "print(('Average Los is {:.0f} Days').format(mean_los))\n",
    "print(('Median Los is {:.0f} Days').format(median_los))"
   ]
  },
  {
   "cell_type": "code",
   "execution_count": 0,
   "metadata": {
    "colab": {},
    "colab_type": "code",
    "id": "3MqDggfynT8g",
    "outputId": "4c739d68-645a-4de3-b812-9ef192214b52"
   },
   "outputs": [
    {
     "data": {
      "text/plain": [
       "Medicare      23919\n",
       "Private       20590\n",
       "Medicaid       5209\n",
       "Government     1634\n",
       "Self Pay        449\n",
       "Name: INSURANCE, dtype: int64"
      ]
     },
     "execution_count": 17,
     "metadata": {
      "tags": []
     },
     "output_type": "execute_result"
    }
   ],
   "source": [
    "df_adm['INSURANCE'].value_counts()"
   ]
  },
  {
   "cell_type": "code",
   "execution_count": 0,
   "metadata": {
    "colab": {},
    "colab_type": "code",
    "id": "dSz_blWjnT8i",
    "outputId": "9f0e4b67-063e-497b-ffd7-997caec20ef5"
   },
   "outputs": [
    {
     "data": {
      "text/plain": [
       "CATHOLIC             18313\n",
       "NOT SPECIFIED        10459\n",
       "UNOBTAINABLE          6920\n",
       "PROTESTANT QUAKER     6335\n",
       "OTHER                 5207\n",
       "JEWISH                4567\n",
       "Name: RELIGION, dtype: int64"
      ]
     },
     "execution_count": 18,
     "metadata": {
      "tags": []
     },
     "output_type": "execute_result"
    }
   ],
   "source": [
    "top_5_religions = df_adm['RELIGION'].value_counts()[:5].index.tolist()\n",
    "\n",
    "df_adm['RELIGION'].loc[~df_adm['RELIGION'].isin(top_5_religions)] = 'OTHER'\n",
    "df_adm['RELIGION'].value_counts()"
   ]
  },
  {
   "cell_type": "code",
   "execution_count": 0,
   "metadata": {
    "colab": {},
    "colab_type": "code",
    "id": "_DRkCA9knT8j",
    "outputId": "e67748fc-f6ec-4ba7-a4ad-996e75ad44dc",
    "scrolled": true
   },
   "outputs": [
    {
     "data": {
      "text/plain": [
       "WHITE                     36048\n",
       "BLACK/AFRICAN AMERICAN     4921\n",
       "OTHER                      4227\n",
       "UNKNOWN/NOT SPECIFIED      3693\n",
       "HISPANIC OR LATINO         1541\n",
       "ASIAN                      1371\n",
       "Name: ETHNICITY, dtype: int64"
      ]
     },
     "execution_count": 19,
     "metadata": {
      "tags": []
     },
     "output_type": "execute_result"
    }
   ],
   "source": [
    "top_5_ethnicity = df_adm['ETHNICITY'].value_counts()[:5].index.tolist()\n",
    "top_5_ethnicity \n",
    "\n",
    "df_adm['ETHNICITY'].loc[~df_adm['ETHNICITY'].isin(top_5_ethnicity)] = 'OTHER'\n",
    "df_adm['ETHNICITY'].value_counts()"
   ]
  },
  {
   "cell_type": "code",
   "execution_count": 0,
   "metadata": {
    "colab": {},
    "colab_type": "code",
    "id": "e_MYwlTOnT8l"
   },
   "outputs": [],
   "source": [
    "df_adm.to_csv('newdata/df_adm.csv')"
   ]
  },
  {
   "cell_type": "markdown",
   "metadata": {
    "colab_type": "text",
    "id": "7Sk7SFVInT8m"
   },
   "source": [
    "`PATIENTS.csv`"
   ]
  },
  {
   "cell_type": "code",
   "execution_count": 0,
   "metadata": {
    "colab": {},
    "colab_type": "code",
    "id": "luLvy2mOnT8n"
   },
   "outputs": [],
   "source": [
    "# DOB stands for date of birth\n",
    "df_pat = df_pat[['SUBJECT_ID', 'GENDER', 'DOB']]"
   ]
  },
  {
   "cell_type": "code",
   "execution_count": 0,
   "metadata": {
    "colab": {},
    "colab_type": "code",
    "id": "oe5Bj5n2nT8o"
   },
   "outputs": [],
   "source": [
    "df_pat['DOB'] = pd.to_datetime(df_pat['DOB'])"
   ]
  },
  {
   "cell_type": "code",
   "execution_count": 0,
   "metadata": {
    "colab": {},
    "colab_type": "code",
    "id": "uSjAJ_-7nT8p"
   },
   "outputs": [],
   "source": [
    "df_pat = df_pat.merge(df_adm, on='SUBJECT_ID', how='inner')"
   ]
  },
  {
   "cell_type": "code",
   "execution_count": 0,
   "metadata": {
    "colab": {},
    "colab_type": "code",
    "id": "QXD_7Hg9nT8q",
    "outputId": "115e0a73-943d-46d4-8442-53236f3a30c0"
   },
   "outputs": [
    {
     "data": {
      "text/html": [
       "<div>\n",
       "<style scoped>\n",
       "    .dataframe tbody tr th:only-of-type {\n",
       "        vertical-align: middle;\n",
       "    }\n",
       "\n",
       "    .dataframe tbody tr th {\n",
       "        vertical-align: top;\n",
       "    }\n",
       "\n",
       "    .dataframe thead th {\n",
       "        text-align: right;\n",
       "    }\n",
       "</style>\n",
       "<table border=\"1\" class=\"dataframe\">\n",
       "  <thead>\n",
       "    <tr style=\"text-align: right;\">\n",
       "      <th></th>\n",
       "      <th>SUBJECT_ID</th>\n",
       "      <th>ADMITTIME</th>\n",
       "      <th>DOB</th>\n",
       "    </tr>\n",
       "  </thead>\n",
       "  <tbody>\n",
       "    <tr>\n",
       "      <td>0</td>\n",
       "      <td>2</td>\n",
       "      <td>2138-07-17 19:04:00</td>\n",
       "      <td>2138-07-17</td>\n",
       "    </tr>\n",
       "    <tr>\n",
       "      <td>1</td>\n",
       "      <td>3</td>\n",
       "      <td>2101-10-20 19:08:00</td>\n",
       "      <td>2025-04-11</td>\n",
       "    </tr>\n",
       "    <tr>\n",
       "      <td>2</td>\n",
       "      <td>4</td>\n",
       "      <td>2191-03-16 00:28:00</td>\n",
       "      <td>2143-05-12</td>\n",
       "    </tr>\n",
       "    <tr>\n",
       "      <td>3</td>\n",
       "      <td>5</td>\n",
       "      <td>2103-02-02 04:31:00</td>\n",
       "      <td>2103-02-02</td>\n",
       "    </tr>\n",
       "    <tr>\n",
       "      <td>4</td>\n",
       "      <td>6</td>\n",
       "      <td>2175-05-30 07:15:00</td>\n",
       "      <td>2109-06-21</td>\n",
       "    </tr>\n",
       "  </tbody>\n",
       "</table>\n",
       "</div>"
      ],
      "text/plain": [
       "   SUBJECT_ID           ADMITTIME        DOB\n",
       "0           2 2138-07-17 19:04:00 2138-07-17\n",
       "1           3 2101-10-20 19:08:00 2025-04-11\n",
       "2           4 2191-03-16 00:28:00 2143-05-12\n",
       "3           5 2103-02-02 04:31:00 2103-02-02\n",
       "4           6 2175-05-30 07:15:00 2109-06-21"
      ]
     },
     "execution_count": 24,
     "metadata": {
      "tags": []
     },
     "output_type": "execute_result"
    }
   ],
   "source": [
    "# take the first admission time\n",
    "df_pat_age = df_pat.groupby(['SUBJECT_ID', 'ADMITTIME'])['DOB'].first().reset_index()\n",
    "df_pat_age.head()"
   ]
  },
  {
   "cell_type": "code",
   "execution_count": 0,
   "metadata": {
    "colab": {},
    "colab_type": "code",
    "id": "c4h15aVVnT8t",
    "outputId": "a97e3433-87e8-47ea-c128-535a98223d11"
   },
   "outputs": [
    {
     "data": {
      "text/html": [
       "<div>\n",
       "<style scoped>\n",
       "    .dataframe tbody tr th:only-of-type {\n",
       "        vertical-align: middle;\n",
       "    }\n",
       "\n",
       "    .dataframe tbody tr th {\n",
       "        vertical-align: top;\n",
       "    }\n",
       "\n",
       "    .dataframe thead th {\n",
       "        text-align: right;\n",
       "    }\n",
       "</style>\n",
       "<table border=\"1\" class=\"dataframe\">\n",
       "  <thead>\n",
       "    <tr style=\"text-align: right;\">\n",
       "      <th></th>\n",
       "      <th>SUBJECT_ID</th>\n",
       "      <th>AGE</th>\n",
       "    </tr>\n",
       "  </thead>\n",
       "  <tbody>\n",
       "    <tr>\n",
       "      <td>0</td>\n",
       "      <td>2</td>\n",
       "      <td>0</td>\n",
       "    </tr>\n",
       "    <tr>\n",
       "      <td>1</td>\n",
       "      <td>3</td>\n",
       "      <td>76</td>\n",
       "    </tr>\n",
       "    <tr>\n",
       "      <td>2</td>\n",
       "      <td>4</td>\n",
       "      <td>47</td>\n",
       "    </tr>\n",
       "    <tr>\n",
       "      <td>3</td>\n",
       "      <td>5</td>\n",
       "      <td>0</td>\n",
       "    </tr>\n",
       "    <tr>\n",
       "      <td>4</td>\n",
       "      <td>6</td>\n",
       "      <td>65</td>\n",
       "    </tr>\n",
       "  </tbody>\n",
       "</table>\n",
       "</div>"
      ],
      "text/plain": [
       "   SUBJECT_ID  AGE\n",
       "0           2    0\n",
       "1           3   76\n",
       "2           4   47\n",
       "3           5    0\n",
       "4           6   65"
      ]
     },
     "execution_count": 25,
     "metadata": {
      "tags": []
     },
     "output_type": "execute_result"
    }
   ],
   "source": [
    "# calculate age for each patient\n",
    "df_pat_age['ADMITTIME'] = pd.to_datetime(df_pat_age['ADMITTIME']).dt.date\n",
    "df_pat_age['DOB'] = pd.to_datetime(df_pat_age['DOB']).dt.date\n",
    "df_pat_age['AGE'] = df_pat_age['ADMITTIME']-df_pat_age['DOB']\n",
    "df_pat_age['AGE'] = df_pat_age['AGE'].astype('timedelta64[D]').dt.days // 365\n",
    "df_pat_age.loc[df_pat_age['AGE']<0]=90\n",
    "df_pat_age = df_pat_age[['SUBJECT_ID', 'AGE']]\n",
    "df_pat_age.head()"
   ]
  },
  {
   "cell_type": "code",
   "execution_count": 0,
   "metadata": {
    "colab": {},
    "colab_type": "code",
    "id": "UVY2vtzdnT8u"
   },
   "outputs": [],
   "source": [
    "df_pat = pd.merge(df_pat, df_pat_age, on=['SUBJECT_ID'], how='inner')"
   ]
  },
  {
   "cell_type": "code",
   "execution_count": 0,
   "metadata": {
    "colab": {},
    "colab_type": "code",
    "id": "T5UFZtoJnT8v"
   },
   "outputs": [],
   "source": [
    "bins= [0,10,18,36,56,100]\n",
    "labels = ['newborn','teens','young-adult','adult','senior']\n",
    "\n",
    "df_pat['AgeGroup'] = pd.cut(df_pat['AGE'], bins=bins, labels=labels, right=False)"
   ]
  },
  {
   "cell_type": "code",
   "execution_count": 0,
   "metadata": {
    "colab": {},
    "colab_type": "code",
    "id": "XOwBDyhnnT8w",
    "outputId": "29a9c6df-9dd9-484b-a057-f9beabb945d0"
   },
   "outputs": [
    {
     "data": {
      "text/html": [
       "<div>\n",
       "<style scoped>\n",
       "    .dataframe tbody tr th:only-of-type {\n",
       "        vertical-align: middle;\n",
       "    }\n",
       "\n",
       "    .dataframe tbody tr th {\n",
       "        vertical-align: top;\n",
       "    }\n",
       "\n",
       "    .dataframe thead th {\n",
       "        text-align: right;\n",
       "    }\n",
       "</style>\n",
       "<table border=\"1\" class=\"dataframe\">\n",
       "  <thead>\n",
       "    <tr style=\"text-align: right;\">\n",
       "      <th></th>\n",
       "      <th>SUBJECT_ID</th>\n",
       "      <th>GENDER</th>\n",
       "      <th>DOB</th>\n",
       "      <th>HADM_ID</th>\n",
       "      <th>ADMITTIME</th>\n",
       "      <th>DISCHTIME</th>\n",
       "      <th>INSURANCE</th>\n",
       "      <th>RELIGION</th>\n",
       "      <th>MARITAL_STATUS</th>\n",
       "      <th>ETHNICITY</th>\n",
       "      <th>LOS</th>\n",
       "      <th>AGE</th>\n",
       "      <th>AgeGroup</th>\n",
       "    </tr>\n",
       "  </thead>\n",
       "  <tbody>\n",
       "    <tr>\n",
       "      <td>0</td>\n",
       "      <td>249</td>\n",
       "      <td>F</td>\n",
       "      <td>2075-03-13</td>\n",
       "      <td>116935</td>\n",
       "      <td>2149-12-17 20:41:00</td>\n",
       "      <td>2149-12-31 14:55:00</td>\n",
       "      <td>Medicare</td>\n",
       "      <td>CATHOLIC</td>\n",
       "      <td>DIVORCED</td>\n",
       "      <td>WHITE</td>\n",
       "      <td>13</td>\n",
       "      <td>74</td>\n",
       "      <td>senior</td>\n",
       "    </tr>\n",
       "    <tr>\n",
       "      <td>1</td>\n",
       "      <td>249</td>\n",
       "      <td>F</td>\n",
       "      <td>2075-03-13</td>\n",
       "      <td>116935</td>\n",
       "      <td>2149-12-17 20:41:00</td>\n",
       "      <td>2149-12-31 14:55:00</td>\n",
       "      <td>Medicare</td>\n",
       "      <td>CATHOLIC</td>\n",
       "      <td>DIVORCED</td>\n",
       "      <td>WHITE</td>\n",
       "      <td>13</td>\n",
       "      <td>79</td>\n",
       "      <td>senior</td>\n",
       "    </tr>\n",
       "    <tr>\n",
       "      <td>2</td>\n",
       "      <td>249</td>\n",
       "      <td>F</td>\n",
       "      <td>2075-03-13</td>\n",
       "      <td>116935</td>\n",
       "      <td>2149-12-17 20:41:00</td>\n",
       "      <td>2149-12-31 14:55:00</td>\n",
       "      <td>Medicare</td>\n",
       "      <td>CATHOLIC</td>\n",
       "      <td>DIVORCED</td>\n",
       "      <td>WHITE</td>\n",
       "      <td>13</td>\n",
       "      <td>81</td>\n",
       "      <td>senior</td>\n",
       "    </tr>\n",
       "    <tr>\n",
       "      <td>3</td>\n",
       "      <td>249</td>\n",
       "      <td>F</td>\n",
       "      <td>2075-03-13</td>\n",
       "      <td>149546</td>\n",
       "      <td>2155-02-03 20:16:00</td>\n",
       "      <td>2155-02-14 11:15:00</td>\n",
       "      <td>Medicare</td>\n",
       "      <td>CATHOLIC</td>\n",
       "      <td>DIVORCED</td>\n",
       "      <td>WHITE</td>\n",
       "      <td>10</td>\n",
       "      <td>74</td>\n",
       "      <td>senior</td>\n",
       "    </tr>\n",
       "    <tr>\n",
       "      <td>4</td>\n",
       "      <td>249</td>\n",
       "      <td>F</td>\n",
       "      <td>2075-03-13</td>\n",
       "      <td>149546</td>\n",
       "      <td>2155-02-03 20:16:00</td>\n",
       "      <td>2155-02-14 11:15:00</td>\n",
       "      <td>Medicare</td>\n",
       "      <td>CATHOLIC</td>\n",
       "      <td>DIVORCED</td>\n",
       "      <td>WHITE</td>\n",
       "      <td>10</td>\n",
       "      <td>79</td>\n",
       "      <td>senior</td>\n",
       "    </tr>\n",
       "  </tbody>\n",
       "</table>\n",
       "</div>"
      ],
      "text/plain": [
       "   SUBJECT_ID GENDER        DOB  HADM_ID           ADMITTIME  \\\n",
       "0         249      F 2075-03-13   116935 2149-12-17 20:41:00   \n",
       "1         249      F 2075-03-13   116935 2149-12-17 20:41:00   \n",
       "2         249      F 2075-03-13   116935 2149-12-17 20:41:00   \n",
       "3         249      F 2075-03-13   149546 2155-02-03 20:16:00   \n",
       "4         249      F 2075-03-13   149546 2155-02-03 20:16:00   \n",
       "\n",
       "            DISCHTIME INSURANCE  RELIGION MARITAL_STATUS ETHNICITY  LOS  AGE  \\\n",
       "0 2149-12-31 14:55:00  Medicare  CATHOLIC       DIVORCED     WHITE   13   74   \n",
       "1 2149-12-31 14:55:00  Medicare  CATHOLIC       DIVORCED     WHITE   13   79   \n",
       "2 2149-12-31 14:55:00  Medicare  CATHOLIC       DIVORCED     WHITE   13   81   \n",
       "3 2155-02-14 11:15:00  Medicare  CATHOLIC       DIVORCED     WHITE   10   74   \n",
       "4 2155-02-14 11:15:00  Medicare  CATHOLIC       DIVORCED     WHITE   10   79   \n",
       "\n",
       "  AgeGroup  \n",
       "0   senior  \n",
       "1   senior  \n",
       "2   senior  \n",
       "3   senior  \n",
       "4   senior  "
      ]
     },
     "execution_count": 28,
     "metadata": {
      "tags": []
     },
     "output_type": "execute_result"
    }
   ],
   "source": [
    "df_pat.head()"
   ]
  },
  {
   "cell_type": "code",
   "execution_count": 0,
   "metadata": {
    "colab": {},
    "colab_type": "code",
    "id": "O1RZOcZ0nT8y"
   },
   "outputs": [],
   "source": [
    "df_pat.to_csv('newdata/df_pat.csv')"
   ]
  },
  {
   "cell_type": "code",
   "execution_count": 0,
   "metadata": {
    "colab": {},
    "colab_type": "code",
    "id": "8tYcp39unT8z"
   },
   "outputs": [],
   "source": [
    "df = df_pat.drop('AGE', axis = 1)"
   ]
  },
  {
   "cell_type": "markdown",
   "metadata": {
    "colab_type": "text",
    "id": "JLZGDbi9nT81"
   },
   "source": [
    "`ICUSTAYS.csv`"
   ]
  },
  {
   "cell_type": "code",
   "execution_count": 0,
   "metadata": {
    "colab": {},
    "colab_type": "code",
    "id": "24rgd7YlnT81"
   },
   "outputs": [],
   "source": [
    "df_icu = pd.read_csv('data/ICUSTAYS.csv')"
   ]
  },
  {
   "cell_type": "code",
   "execution_count": 0,
   "metadata": {
    "colab": {},
    "colab_type": "code",
    "id": "fdFUroC-nT82"
   },
   "outputs": [],
   "source": [
    "df_icu = df_icu[['SUBJECT_ID', 'HADM_ID', 'FIRST_CAREUNIT']]"
   ]
  },
  {
   "cell_type": "code",
   "execution_count": 0,
   "metadata": {
    "colab": {},
    "colab_type": "code",
    "id": "0U5b56fmnT83",
    "outputId": "2ff75d1e-45e5-41ab-8ff8-d872f03c08a2"
   },
   "outputs": [
    {
     "data": {
      "text/plain": [
       "ICU     53432\n",
       "NICU     8100\n",
       "Name: FIRST_CAREUNIT, dtype: int64"
      ]
     },
     "execution_count": 32,
     "metadata": {
      "tags": []
     },
     "output_type": "execute_result"
    }
   ],
   "source": [
    "# change different types of ICUs to ICU\n",
    "df_icu['FIRST_CAREUNIT'] = df_icu['FIRST_CAREUNIT'].replace({'MICU': 'ICU', 'CSRU': 'ICU', \n",
    "                                                            'SICU': 'ICU', 'CCU': 'ICU', 'TSICU': 'ICU'})\n",
    "df_icu['FIRST_CAREUNIT'].value_counts()"
   ]
  },
  {
   "cell_type": "code",
   "execution_count": 0,
   "metadata": {
    "colab": {},
    "colab_type": "code",
    "id": "UR4qR3U0nT85"
   },
   "outputs": [],
   "source": [
    "df_icu = df_icu.merge(df, on=['SUBJECT_ID', 'HADM_ID'], how='inner')"
   ]
  },
  {
   "cell_type": "code",
   "execution_count": 0,
   "metadata": {
    "colab": {},
    "colab_type": "code",
    "id": "q7LNoFJrnT86"
   },
   "outputs": [],
   "source": [
    "df_icu = df_icu.rename(columns={'FIRST_CAREUNIT':'CAREUNIT'})"
   ]
  },
  {
   "cell_type": "code",
   "execution_count": 0,
   "metadata": {
    "colab": {},
    "colab_type": "code",
    "id": "ItFQouqnnT87"
   },
   "outputs": [],
   "source": [
    "df_icu.to_csv('newdata/df_icu.csv')"
   ]
  },
  {
   "cell_type": "code",
   "execution_count": 0,
   "metadata": {
    "colab": {},
    "colab_type": "code",
    "id": "w7FV2Yh8nT88"
   },
   "outputs": [],
   "source": [
    "df = df_icu.copy()"
   ]
  },
  {
   "cell_type": "markdown",
   "metadata": {
    "colab_type": "text",
    "id": "EN4nyGwdnT89"
   },
   "source": [
    "`SERVICES.csv`"
   ]
  },
  {
   "cell_type": "code",
   "execution_count": 0,
   "metadata": {
    "colab": {},
    "colab_type": "code",
    "id": "Q2wZdGGCnT89"
   },
   "outputs": [],
   "source": [
    "df_ser = pd.read_csv('data/SERVICES.csv')"
   ]
  },
  {
   "cell_type": "code",
   "execution_count": 0,
   "metadata": {
    "colab": {},
    "colab_type": "code",
    "id": "cnhFYxfKnT8_",
    "scrolled": true
   },
   "outputs": [],
   "source": [
    "service = df_ser.groupby(['SUBJECT_ID', 'HADM_ID'])['TRANSFERTIME'].count().reset_index()"
   ]
  },
  {
   "cell_type": "code",
   "execution_count": 0,
   "metadata": {
    "colab": {},
    "colab_type": "code",
    "id": "hIya_yjEnT8_",
    "outputId": "321e3104-e50b-4619-c89b-24c489885236"
   },
   "outputs": [
    {
     "data": {
      "text/plain": [
       "MED      24866\n",
       "CMED      9135\n",
       "CSURG     7911\n",
       "NB        7806\n",
       "SURG      5514\n",
       "NSURG     4100\n",
       "TRAUM     3137\n",
       "NMED      2957\n",
       "OMED      2286\n",
       "VSURG     1455\n",
       "TSURG     1338\n",
       "ORTHO     1101\n",
       "GU         436\n",
       "NBB        346\n",
       "GYN        306\n",
       "PSURG      283\n",
       "ENT        247\n",
       "OBS        113\n",
       "DENT         5\n",
       "PSYCH        1\n",
       "Name: CURR_SERVICE, dtype: int64"
      ]
     },
     "execution_count": 47,
     "metadata": {
      "tags": []
     },
     "output_type": "execute_result"
    }
   ],
   "source": [
    "df_ser['CURR_SERVICE'].value_counts()"
   ]
  },
  {
   "cell_type": "code",
   "execution_count": 0,
   "metadata": {
    "colab": {},
    "colab_type": "code",
    "id": "HNc9NugKmZR4",
    "outputId": "0a2e8154-05fe-4596-c24f-d689cca9348c"
   },
   "outputs": [
    {
     "data": {
      "text/plain": [
       "MED      24866\n",
       "CMED      9135\n",
       "CSURG     7911\n",
       "NB        7806\n",
       "SURG      5514\n",
       "OTHER     4176\n",
       "NSURG     4100\n",
       "TRAUM     3137\n",
       "NMED      2957\n",
       "OMED      2286\n",
       "VSURG     1455\n",
       "Name: CURR_SERVICE, dtype: int64"
      ]
     },
     "execution_count": 48,
     "metadata": {
      "tags": []
     },
     "output_type": "execute_result"
    }
   ],
   "source": [
    "top_10_services = df_ser['CURR_SERVICE'].value_counts()[:10].index.tolist()\n",
    "\n",
    "df_ser['CURR_SERVICE'].loc[~df_ser['CURR_SERVICE'].isin(top_10_services)] = 'OTHER'\n",
    "df_ser['CURR_SERVICE'].value_counts()"
   ]
  },
  {
   "cell_type": "code",
   "execution_count": 0,
   "metadata": {
    "colab": {},
    "colab_type": "code",
    "id": "33ipIcuXnT9B"
   },
   "outputs": [],
   "source": [
    "curr = df_ser[['SUBJECT_ID', 'HADM_ID','CURR_SERVICE']]"
   ]
  },
  {
   "cell_type": "code",
   "execution_count": 0,
   "metadata": {
    "colab": {},
    "colab_type": "code",
    "id": "qzVe4lJ0nT9C"
   },
   "outputs": [],
   "source": [
    "df_ser = service.merge(curr, on=['SUBJECT_ID', 'HADM_ID'], how='inner')"
   ]
  },
  {
   "cell_type": "code",
   "execution_count": 0,
   "metadata": {
    "colab": {},
    "colab_type": "code",
    "id": "rizT1lmdnT9D"
   },
   "outputs": [],
   "source": [
    "df_ser = df_ser.merge(df, on=['SUBJECT_ID', 'HADM_ID'], how='inner')"
   ]
  },
  {
   "cell_type": "code",
   "execution_count": 0,
   "metadata": {
    "colab": {},
    "colab_type": "code",
    "id": "rVYjLvMinT9E"
   },
   "outputs": [],
   "source": [
    "df_ser = df_ser.rename(columns={'CURR_SERVICE':'SERVICE'})"
   ]
  },
  {
   "cell_type": "code",
   "execution_count": 0,
   "metadata": {
    "colab": {},
    "colab_type": "code",
    "id": "G0ian2QBnT9F"
   },
   "outputs": [],
   "source": [
    "df = df_ser.copy()"
   ]
  },
  {
   "cell_type": "markdown",
   "metadata": {
    "colab_type": "text",
    "id": "eeC24zI1nT9G"
   },
   "source": [
    "`TRANSFERS.csv`"
   ]
  },
  {
   "cell_type": "code",
   "execution_count": 0,
   "metadata": {
    "colab": {},
    "colab_type": "code",
    "id": "ls3ygSmwnT9G"
   },
   "outputs": [],
   "source": [
    "df_tran = pd.read_csv('data/TRANSFERS.csv')"
   ]
  },
  {
   "cell_type": "code",
   "execution_count": 0,
   "metadata": {
    "colab": {},
    "colab_type": "code",
    "id": "FEhnxsOPnT9H"
   },
   "outputs": [],
   "source": [
    "df_tran = df_tran[['SUBJECT_ID', 'HADM_ID', 'DBSOURCE', 'EVENTTYPE']]"
   ]
  },
  {
   "cell_type": "code",
   "execution_count": 0,
   "metadata": {
    "colab": {},
    "colab_type": "code",
    "id": "TJxTHYD2nT9I"
   },
   "outputs": [],
   "source": [
    "df_tran['DBSOURCE'].loc[df_tran['DBSOURCE'] == 'both'] = 'carevue & metavision'"
   ]
  },
  {
   "cell_type": "code",
   "execution_count": 0,
   "metadata": {
    "colab": {},
    "colab_type": "code",
    "id": "-KwweVEtnT9J",
    "outputId": "2681a7f6-8047-472d-d23f-3273d4a63529",
    "scrolled": true
   },
   "outputs": [
    {
     "data": {
      "text/plain": [
       "transfer     144045\n",
       "discharge     58919\n",
       "admit         58909\n",
       "Name: EVENTTYPE, dtype: int64"
      ]
     },
     "execution_count": 57,
     "metadata": {
      "tags": []
     },
     "output_type": "execute_result"
    }
   ],
   "source": [
    "df_tran['EVENTTYPE'].value_counts()"
   ]
  },
  {
   "cell_type": "code",
   "execution_count": 0,
   "metadata": {
    "colab": {},
    "colab_type": "code",
    "id": "1eVSBEKvnT9K"
   },
   "outputs": [],
   "source": [
    "df_tran = df_tran.merge(df, on=['SUBJECT_ID', 'HADM_ID'], how='inner')"
   ]
  },
  {
   "cell_type": "code",
   "execution_count": 0,
   "metadata": {
    "colab": {},
    "colab_type": "code",
    "id": "nqFFTPN7nT9L"
   },
   "outputs": [],
   "source": [
    "df = df_tran.copy()"
   ]
  },
  {
   "cell_type": "markdown",
   "metadata": {
    "colab_type": "text",
    "id": "x7eu6VotnT9M"
   },
   "source": [
    "`CALLOUT.csv`"
   ]
  },
  {
   "cell_type": "code",
   "execution_count": 0,
   "metadata": {
    "colab": {},
    "colab_type": "code",
    "id": "qxBpPh9fnT9M",
    "outputId": "58b609fc-13f2-4c8a-89c1-9ab5d38c1210",
    "scrolled": true
   },
   "outputs": [
    {
     "data": {
      "text/plain": [
       "Index(['ROW_ID', 'SUBJECT_ID', 'HADM_ID', 'SUBMIT_WARDID', 'SUBMIT_CAREUNIT',\n",
       "       'CURR_WARDID', 'CURR_CAREUNIT', 'CALLOUT_WARDID', 'CALLOUT_SERVICE',\n",
       "       'REQUEST_TELE', 'REQUEST_RESP', 'REQUEST_CDIFF', 'REQUEST_MRSA',\n",
       "       'REQUEST_VRE', 'CALLOUT_STATUS', 'CALLOUT_OUTCOME', 'DISCHARGE_WARDID',\n",
       "       'ACKNOWLEDGE_STATUS', 'CREATETIME', 'UPDATETIME', 'ACKNOWLEDGETIME',\n",
       "       'OUTCOMETIME', 'FIRSTRESERVATIONTIME', 'CURRENTRESERVATIONTIME'],\n",
       "      dtype='object')"
      ]
     },
     "execution_count": 60,
     "metadata": {
      "tags": []
     },
     "output_type": "execute_result"
    }
   ],
   "source": [
    "df_call.columns"
   ]
  },
  {
   "cell_type": "code",
   "execution_count": 0,
   "metadata": {
    "colab": {},
    "colab_type": "code",
    "id": "fRdly5HmnT9N"
   },
   "outputs": [],
   "source": [
    "df_call = df_call[['SUBJECT_ID', 'HADM_ID', 'REQUEST_TELE', 'REQUEST_RESP', 'REQUEST_CDIFF', 'REQUEST_MRSA', 'REQUEST_VRE',]]"
   ]
  },
  {
   "cell_type": "code",
   "execution_count": 0,
   "metadata": {
    "colab": {},
    "colab_type": "code",
    "id": "H6YCiAwknT9O"
   },
   "outputs": [],
   "source": [
    "df_call = df_call.merge(df, on=['SUBJECT_ID', 'HADM_ID'], how='inner')"
   ]
  },
  {
   "cell_type": "code",
   "execution_count": 0,
   "metadata": {
    "colab": {},
    "colab_type": "code",
    "id": "1L6kSHotnT9P"
   },
   "outputs": [],
   "source": [
    "df = df_call.copy()"
   ]
  },
  {
   "cell_type": "markdown",
   "metadata": {
    "colab_type": "text",
    "id": "gbY7Ny8YnT9Q"
   },
   "source": [
    "`CPTEVENTS.csv`"
   ]
  },
  {
   "cell_type": "code",
   "execution_count": 0,
   "metadata": {
    "colab": {},
    "colab_type": "code",
    "id": "agW8N4VWnT9Q"
   },
   "outputs": [],
   "source": [
    "df_cpt = pd.read_csv('data/CPTEVENTS.csv')"
   ]
  },
  {
   "cell_type": "code",
   "execution_count": 0,
   "metadata": {
    "colab": {},
    "colab_type": "code",
    "id": "oUnUBOWAnT9R"
   },
   "outputs": [],
   "source": [
    "df_cpt = df_cpt.groupby(['SUBJECT_ID', 'HADM_ID'])['CPT_CD'].count().reset_index()"
   ]
  },
  {
   "cell_type": "code",
   "execution_count": 0,
   "metadata": {
    "colab": {},
    "colab_type": "code",
    "id": "2rAtoNE7mZSj"
   },
   "outputs": [],
   "source": [
    "df_cpt = df_cpt.rename(columns={'CPT_CD':'Num_CPT'})"
   ]
  },
  {
   "cell_type": "code",
   "execution_count": 0,
   "metadata": {
    "colab": {},
    "colab_type": "code",
    "id": "-ea3ukdhnT9S",
    "scrolled": false
   },
   "outputs": [],
   "source": [
    "df_cpt = df_cpt.merge(df, on=['SUBJECT_ID', 'HADM_ID'], how='inner')"
   ]
  },
  {
   "cell_type": "code",
   "execution_count": 0,
   "metadata": {
    "colab": {},
    "colab_type": "code",
    "id": "RwZqTPoZnT9T"
   },
   "outputs": [],
   "source": [
    "df = df_cpt.copy()"
   ]
  },
  {
   "cell_type": "code",
   "execution_count": 0,
   "metadata": {
    "colab": {},
    "colab_type": "code",
    "id": "-zkPLrOInT9T"
   },
   "outputs": [],
   "source": [
    "df = df.drop_duplicates()"
   ]
  },
  {
   "cell_type": "markdown",
   "metadata": {
    "colab_type": "text",
    "id": "iOtcP2uanT9U"
   },
   "source": [
    "`INPUTEVENTS_CV.csv`"
   ]
  },
  {
   "cell_type": "code",
   "execution_count": 0,
   "metadata": {
    "colab": {},
    "colab_type": "code",
    "id": "PXWkHM0inT9U",
    "outputId": "e43f0b6a-ca15-48cd-99ee-0e205c90c08b"
   },
   "outputs": [
    {
     "data": {
      "text/html": [
       "<div>\n",
       "<style scoped>\n",
       "    .dataframe tbody tr th:only-of-type {\n",
       "        vertical-align: middle;\n",
       "    }\n",
       "\n",
       "    .dataframe tbody tr th {\n",
       "        vertical-align: top;\n",
       "    }\n",
       "\n",
       "    .dataframe thead th {\n",
       "        text-align: right;\n",
       "    }\n",
       "</style>\n",
       "<table border=\"1\" class=\"dataframe\">\n",
       "  <thead>\n",
       "    <tr style=\"text-align: right;\">\n",
       "      <th></th>\n",
       "      <th>ROW_ID</th>\n",
       "      <th>SUBJECT_ID</th>\n",
       "      <th>HADM_ID</th>\n",
       "      <th>ICUSTAY_ID</th>\n",
       "      <th>CHARTTIME</th>\n",
       "      <th>ITEMID</th>\n",
       "      <th>AMOUNT</th>\n",
       "      <th>AMOUNTUOM</th>\n",
       "      <th>RATE</th>\n",
       "      <th>RATEUOM</th>\n",
       "      <th>...</th>\n",
       "      <th>ORDERID</th>\n",
       "      <th>LINKORDERID</th>\n",
       "      <th>STOPPED</th>\n",
       "      <th>NEWBOTTLE</th>\n",
       "      <th>ORIGINALAMOUNT</th>\n",
       "      <th>ORIGINALAMOUNTUOM</th>\n",
       "      <th>ORIGINALROUTE</th>\n",
       "      <th>ORIGINALRATE</th>\n",
       "      <th>ORIGINALRATEUOM</th>\n",
       "      <th>ORIGINALSITE</th>\n",
       "    </tr>\n",
       "  </thead>\n",
       "  <tbody>\n",
       "    <tr>\n",
       "      <td>0</td>\n",
       "      <td>592</td>\n",
       "      <td>24457</td>\n",
       "      <td>184834.0</td>\n",
       "      <td>205776.0</td>\n",
       "      <td>2193-09-11 09:00:00</td>\n",
       "      <td>30056</td>\n",
       "      <td>100.0</td>\n",
       "      <td>ml</td>\n",
       "      <td>NaN</td>\n",
       "      <td>NaN</td>\n",
       "      <td>...</td>\n",
       "      <td>756654</td>\n",
       "      <td>9359133</td>\n",
       "      <td>NaN</td>\n",
       "      <td>NaN</td>\n",
       "      <td>NaN</td>\n",
       "      <td>ml</td>\n",
       "      <td>Oral</td>\n",
       "      <td>NaN</td>\n",
       "      <td>NaN</td>\n",
       "      <td>NaN</td>\n",
       "    </tr>\n",
       "    <tr>\n",
       "      <td>1</td>\n",
       "      <td>593</td>\n",
       "      <td>24457</td>\n",
       "      <td>184834.0</td>\n",
       "      <td>205776.0</td>\n",
       "      <td>2193-09-11 12:00:00</td>\n",
       "      <td>30056</td>\n",
       "      <td>200.0</td>\n",
       "      <td>ml</td>\n",
       "      <td>NaN</td>\n",
       "      <td>NaN</td>\n",
       "      <td>...</td>\n",
       "      <td>3564075</td>\n",
       "      <td>9359133</td>\n",
       "      <td>NaN</td>\n",
       "      <td>NaN</td>\n",
       "      <td>NaN</td>\n",
       "      <td>ml</td>\n",
       "      <td>Oral</td>\n",
       "      <td>NaN</td>\n",
       "      <td>NaN</td>\n",
       "      <td>NaN</td>\n",
       "    </tr>\n",
       "    <tr>\n",
       "      <td>2</td>\n",
       "      <td>594</td>\n",
       "      <td>24457</td>\n",
       "      <td>184834.0</td>\n",
       "      <td>205776.0</td>\n",
       "      <td>2193-09-11 16:00:00</td>\n",
       "      <td>30056</td>\n",
       "      <td>160.0</td>\n",
       "      <td>ml</td>\n",
       "      <td>NaN</td>\n",
       "      <td>NaN</td>\n",
       "      <td>...</td>\n",
       "      <td>422646</td>\n",
       "      <td>9359133</td>\n",
       "      <td>NaN</td>\n",
       "      <td>NaN</td>\n",
       "      <td>NaN</td>\n",
       "      <td>ml</td>\n",
       "      <td>Oral</td>\n",
       "      <td>NaN</td>\n",
       "      <td>NaN</td>\n",
       "      <td>NaN</td>\n",
       "    </tr>\n",
       "    <tr>\n",
       "      <td>3</td>\n",
       "      <td>595</td>\n",
       "      <td>24457</td>\n",
       "      <td>184834.0</td>\n",
       "      <td>205776.0</td>\n",
       "      <td>2193-09-11 19:00:00</td>\n",
       "      <td>30056</td>\n",
       "      <td>240.0</td>\n",
       "      <td>ml</td>\n",
       "      <td>NaN</td>\n",
       "      <td>NaN</td>\n",
       "      <td>...</td>\n",
       "      <td>5137889</td>\n",
       "      <td>9359133</td>\n",
       "      <td>NaN</td>\n",
       "      <td>NaN</td>\n",
       "      <td>NaN</td>\n",
       "      <td>ml</td>\n",
       "      <td>Oral</td>\n",
       "      <td>NaN</td>\n",
       "      <td>NaN</td>\n",
       "      <td>NaN</td>\n",
       "    </tr>\n",
       "    <tr>\n",
       "      <td>4</td>\n",
       "      <td>596</td>\n",
       "      <td>24457</td>\n",
       "      <td>184834.0</td>\n",
       "      <td>205776.0</td>\n",
       "      <td>2193-09-11 21:00:00</td>\n",
       "      <td>30056</td>\n",
       "      <td>50.0</td>\n",
       "      <td>ml</td>\n",
       "      <td>NaN</td>\n",
       "      <td>NaN</td>\n",
       "      <td>...</td>\n",
       "      <td>8343792</td>\n",
       "      <td>9359133</td>\n",
       "      <td>NaN</td>\n",
       "      <td>NaN</td>\n",
       "      <td>NaN</td>\n",
       "      <td>ml</td>\n",
       "      <td>Oral</td>\n",
       "      <td>NaN</td>\n",
       "      <td>NaN</td>\n",
       "      <td>NaN</td>\n",
       "    </tr>\n",
       "  </tbody>\n",
       "</table>\n",
       "<p>5 rows × 22 columns</p>\n",
       "</div>"
      ],
      "text/plain": [
       "   ROW_ID  SUBJECT_ID   HADM_ID  ICUSTAY_ID            CHARTTIME  ITEMID  \\\n",
       "0     592       24457  184834.0    205776.0  2193-09-11 09:00:00   30056   \n",
       "1     593       24457  184834.0    205776.0  2193-09-11 12:00:00   30056   \n",
       "2     594       24457  184834.0    205776.0  2193-09-11 16:00:00   30056   \n",
       "3     595       24457  184834.0    205776.0  2193-09-11 19:00:00   30056   \n",
       "4     596       24457  184834.0    205776.0  2193-09-11 21:00:00   30056   \n",
       "\n",
       "   AMOUNT AMOUNTUOM  RATE RATEUOM  ...  ORDERID  LINKORDERID  STOPPED  \\\n",
       "0   100.0        ml   NaN     NaN  ...   756654      9359133      NaN   \n",
       "1   200.0        ml   NaN     NaN  ...  3564075      9359133      NaN   \n",
       "2   160.0        ml   NaN     NaN  ...   422646      9359133      NaN   \n",
       "3   240.0        ml   NaN     NaN  ...  5137889      9359133      NaN   \n",
       "4    50.0        ml   NaN     NaN  ...  8343792      9359133      NaN   \n",
       "\n",
       "   NEWBOTTLE ORIGINALAMOUNT  ORIGINALAMOUNTUOM  ORIGINALROUTE ORIGINALRATE  \\\n",
       "0        NaN            NaN                 ml           Oral          NaN   \n",
       "1        NaN            NaN                 ml           Oral          NaN   \n",
       "2        NaN            NaN                 ml           Oral          NaN   \n",
       "3        NaN            NaN                 ml           Oral          NaN   \n",
       "4        NaN            NaN                 ml           Oral          NaN   \n",
       "\n",
       "  ORIGINALRATEUOM  ORIGINALSITE  \n",
       "0             NaN           NaN  \n",
       "1             NaN           NaN  \n",
       "2             NaN           NaN  \n",
       "3             NaN           NaN  \n",
       "4             NaN           NaN  \n",
       "\n",
       "[5 rows x 22 columns]"
      ]
     },
     "execution_count": 132,
     "metadata": {
      "tags": []
     },
     "output_type": "execute_result"
    }
   ],
   "source": [
    "df_inputcv.head()"
   ]
  },
  {
   "cell_type": "code",
   "execution_count": 0,
   "metadata": {
    "colab": {},
    "colab_type": "code",
    "id": "DAH9SDk8nT9V"
   },
   "outputs": [],
   "source": [
    "df_inputcv = df_inputcv[['SUBJECT_ID', 'HADM_ID', 'STOPPED']]"
   ]
  },
  {
   "cell_type": "code",
   "execution_count": 0,
   "metadata": {
    "colab": {},
    "colab_type": "code",
    "id": "-oB8ZeXNnT9W",
    "outputId": "33dae683-4a0d-4753-df6d-7bd3ef5632f6"
   },
   "outputs": [
    {
     "data": {
      "text/plain": [
       "D/C'd       241622\n",
       "Stopped     204822\n",
       "Restart      32439\n",
       "NotStopd      1668\n",
       "Name: STOPPED, dtype: int64"
      ]
     },
     "execution_count": 74,
     "metadata": {
      "tags": []
     },
     "output_type": "execute_result"
    }
   ],
   "source": [
    "df_inputcv.STOPPED.value_counts()"
   ]
  },
  {
   "cell_type": "code",
   "execution_count": 0,
   "metadata": {
    "colab": {},
    "colab_type": "code",
    "id": "O9LnwQq-nT9X"
   },
   "outputs": [],
   "source": [
    "df_inputcv = df_inputcv[~df_inputcv['STOPPED'].isnull()]"
   ]
  },
  {
   "cell_type": "code",
   "execution_count": 0,
   "metadata": {
    "colab": {},
    "colab_type": "code",
    "id": "-Ziu3RuynT9Y",
    "scrolled": false
   },
   "outputs": [],
   "source": [
    "df_inputcv = df_inputcv.merge(df, on=['SUBJECT_ID', 'HADM_ID'], how='inner')"
   ]
  },
  {
   "cell_type": "code",
   "execution_count": 0,
   "metadata": {
    "colab": {},
    "colab_type": "code",
    "id": "qyMRDG6HnT9Z"
   },
   "outputs": [],
   "source": [
    "df = df_inputcv.copy()"
   ]
  },
  {
   "cell_type": "code",
   "execution_count": 0,
   "metadata": {
    "colab": {},
    "colab_type": "code",
    "id": "YJEAG69bnT9Z"
   },
   "outputs": [],
   "source": [
    "df = df.drop_duplicates()"
   ]
  },
  {
   "cell_type": "markdown",
   "metadata": {
    "colab_type": "text",
    "id": "k3fRwImknT9a"
   },
   "source": [
    "`PRESCRIPTIONS.csv`"
   ]
  },
  {
   "cell_type": "code",
   "execution_count": 0,
   "metadata": {
    "colab": {},
    "colab_type": "code",
    "id": "nb_Rk1xdnT9a",
    "outputId": "bd9220d1-182f-4434-a338-f34f82c6643d"
   },
   "outputs": [
    {
     "name": "stderr",
     "output_type": "stream",
     "text": [
      "/Library/Frameworks/Python.framework/Versions/3.7/lib/python3.7/site-packages/IPython/core/interactiveshell.py:3063: DtypeWarning: Columns (11) have mixed types. Specify dtype option on import or set low_memory=False.\n",
      "  interactivity=interactivity, compiler=compiler, result=result)\n"
     ]
    }
   ],
   "source": [
    "df_drug = pd.read_csv('data/PRESCRIPTIONS.csv')"
   ]
  },
  {
   "cell_type": "code",
   "execution_count": 0,
   "metadata": {
    "colab": {},
    "colab_type": "code",
    "id": "8fElRu2anT9b",
    "outputId": "1bd03241-31f7-4b57-8c7e-210059b30a02",
    "scrolled": true
   },
   "outputs": [
    {
     "data": {
      "text/plain": [
       "Potassium Chloride              192993\n",
       "Insulin                         143465\n",
       "D5W                             142241\n",
       "Furosemide                      133122\n",
       "0.9% Sodium Chloride            130147\n",
       "                                 ...  \n",
       "Dostinex                             1\n",
       "Dilti                                1\n",
       "Zinc Oxide                           1\n",
       "zz                                   1\n",
       "Mometasone furoate (Nasonex)         1\n",
       "Name: DRUG, Length: 4525, dtype: int64"
      ]
     },
     "execution_count": 79,
     "metadata": {
      "tags": []
     },
     "output_type": "execute_result"
    }
   ],
   "source": [
    "df_drug.DRUG.value_counts()"
   ]
  },
  {
   "cell_type": "code",
   "execution_count": 0,
   "metadata": {
    "colab": {},
    "colab_type": "code",
    "id": "Ph1v2tImnT9c",
    "outputId": "73e270f0-5f06-49c0-82cb-29f98e04ddf6",
    "scrolled": true
   },
   "outputs": [
    {
     "data": {
      "text/html": [
       "<div>\n",
       "<style scoped>\n",
       "    .dataframe tbody tr th:only-of-type {\n",
       "        vertical-align: middle;\n",
       "    }\n",
       "\n",
       "    .dataframe tbody tr th {\n",
       "        vertical-align: top;\n",
       "    }\n",
       "\n",
       "    .dataframe thead th {\n",
       "        text-align: right;\n",
       "    }\n",
       "</style>\n",
       "<table border=\"1\" class=\"dataframe\">\n",
       "  <thead>\n",
       "    <tr style=\"text-align: right;\">\n",
       "      <th></th>\n",
       "      <th>SUBJECT_ID</th>\n",
       "      <th>HADM_ID</th>\n",
       "      <th>DRUG</th>\n",
       "    </tr>\n",
       "  </thead>\n",
       "  <tbody>\n",
       "    <tr>\n",
       "      <td>0</td>\n",
       "      <td>2</td>\n",
       "      <td>163353</td>\n",
       "      <td>4</td>\n",
       "    </tr>\n",
       "    <tr>\n",
       "      <td>1</td>\n",
       "      <td>4</td>\n",
       "      <td>185777</td>\n",
       "      <td>59</td>\n",
       "    </tr>\n",
       "    <tr>\n",
       "      <td>2</td>\n",
       "      <td>6</td>\n",
       "      <td>107064</td>\n",
       "      <td>148</td>\n",
       "    </tr>\n",
       "    <tr>\n",
       "      <td>3</td>\n",
       "      <td>8</td>\n",
       "      <td>159514</td>\n",
       "      <td>4</td>\n",
       "    </tr>\n",
       "    <tr>\n",
       "      <td>4</td>\n",
       "      <td>9</td>\n",
       "      <td>150750</td>\n",
       "      <td>68</td>\n",
       "    </tr>\n",
       "    <tr>\n",
       "      <td>...</td>\n",
       "      <td>...</td>\n",
       "      <td>...</td>\n",
       "      <td>...</td>\n",
       "    </tr>\n",
       "    <tr>\n",
       "      <td>50211</td>\n",
       "      <td>99985</td>\n",
       "      <td>176670</td>\n",
       "      <td>111</td>\n",
       "    </tr>\n",
       "    <tr>\n",
       "      <td>50212</td>\n",
       "      <td>99991</td>\n",
       "      <td>151118</td>\n",
       "      <td>161</td>\n",
       "    </tr>\n",
       "    <tr>\n",
       "      <td>50213</td>\n",
       "      <td>99992</td>\n",
       "      <td>197084</td>\n",
       "      <td>31</td>\n",
       "    </tr>\n",
       "    <tr>\n",
       "      <td>50214</td>\n",
       "      <td>99995</td>\n",
       "      <td>137810</td>\n",
       "      <td>48</td>\n",
       "    </tr>\n",
       "    <tr>\n",
       "      <td>50215</td>\n",
       "      <td>99999</td>\n",
       "      <td>113369</td>\n",
       "      <td>66</td>\n",
       "    </tr>\n",
       "  </tbody>\n",
       "</table>\n",
       "<p>50216 rows × 3 columns</p>\n",
       "</div>"
      ],
      "text/plain": [
       "       SUBJECT_ID  HADM_ID  DRUG\n",
       "0               2   163353     4\n",
       "1               4   185777    59\n",
       "2               6   107064   148\n",
       "3               8   159514     4\n",
       "4               9   150750    68\n",
       "...           ...      ...   ...\n",
       "50211       99985   176670   111\n",
       "50212       99991   151118   161\n",
       "50213       99992   197084    31\n",
       "50214       99995   137810    48\n",
       "50215       99999   113369    66\n",
       "\n",
       "[50216 rows x 3 columns]"
      ]
     },
     "execution_count": 80,
     "metadata": {
      "tags": []
     },
     "output_type": "execute_result"
    }
   ],
   "source": [
    "df_drug.groupby(['SUBJECT_ID', 'HADM_ID'])['DRUG'].count().reset_index()"
   ]
  },
  {
   "cell_type": "code",
   "execution_count": 0,
   "metadata": {
    "colab": {},
    "colab_type": "code",
    "id": "CnMJOxFJnT9d"
   },
   "outputs": [],
   "source": [
    "df_drug = df_drug.groupby(['SUBJECT_ID', 'HADM_ID'])['DRUG'].count().reset_index()"
   ]
  },
  {
   "cell_type": "code",
   "execution_count": 0,
   "metadata": {
    "colab": {},
    "colab_type": "code",
    "id": "Zbcxygo2nT9e"
   },
   "outputs": [],
   "source": [
    "df_drug = df_drug.merge(df, on=['SUBJECT_ID', 'HADM_ID'], how='inner')"
   ]
  },
  {
   "cell_type": "code",
   "execution_count": 0,
   "metadata": {
    "colab": {},
    "colab_type": "code",
    "id": "zovtWt0anT9e"
   },
   "outputs": [],
   "source": [
    "df = df_drug.copy()"
   ]
  },
  {
   "cell_type": "markdown",
   "metadata": {
    "colab_type": "text",
    "id": "jGyS-9PznT9f"
   },
   "source": [
    "`OUTPUTEVENTS.csv`"
   ]
  },
  {
   "cell_type": "code",
   "execution_count": 0,
   "metadata": {
    "colab": {},
    "colab_type": "code",
    "id": "M4BCXEC_nT9f"
   },
   "outputs": [],
   "source": [
    "df_out = df_out.groupby(['SUBJECT_ID', 'HADM_ID'])['ICUSTAY_ID'].count().reset_index()\n",
    "df_out = df_out.rename(columns={'ICUSTAY_ID': 'ICUSTAY'})"
   ]
  },
  {
   "cell_type": "code",
   "execution_count": 0,
   "metadata": {
    "colab": {},
    "colab_type": "code",
    "id": "h42C_7jYmZSz"
   },
   "outputs": [],
   "source": [
    "df_out = df_out.merge(df, on = ['SUBJECT_ID', 'HADM_ID'], how ='inner')\n",
    "df = df_out.drop_duplicates()"
   ]
  },
  {
   "cell_type": "code",
   "execution_count": 0,
   "metadata": {
    "colab": {},
    "colab_type": "code",
    "id": "rBaLhg87nT9g"
   },
   "outputs": [],
   "source": [
    "df.to_csv('newdata/df.csv')"
   ]
  },
  {
   "cell_type": "code",
   "execution_count": 0,
   "metadata": {
    "colab": {},
    "colab_type": "code",
    "id": "-w19i5q_mZS0"
   },
   "outputs": [],
   "source": [
    "df = pd.read_csv('newdata/df.csv')"
   ]
  },
  {
   "cell_type": "markdown",
   "metadata": {
    "colab_type": "text",
    "id": "3-X6_icHnT9h"
   },
   "source": [
    "### 1.2 Feature Engineering"
   ]
  },
  {
   "cell_type": "markdown",
   "metadata": {
    "colab_type": "text",
    "id": "kMN6IGFQnT9h"
   },
   "source": [
    "`DIAGNOSES_ICD.csv`"
   ]
  },
  {
   "cell_type": "code",
   "execution_count": 0,
   "metadata": {
    "colab": {},
    "colab_type": "code",
    "id": "v-S6IPd-nT9h"
   },
   "outputs": [],
   "source": [
    "df_diag = pd.read_csv('data/DIAGNOSES_ICD.csv')"
   ]
  },
  {
   "cell_type": "code",
   "execution_count": 0,
   "metadata": {
    "colab": {},
    "colab_type": "code",
    "id": "u3J9oomCnT9i",
    "outputId": "a21bb9a1-a23b-439d-ee76-1dafa55f6fc8"
   },
   "outputs": [
    {
     "name": "stdout",
     "output_type": "stream",
     "text": [
      "There are 6984 unique ICD9 codes in this dataset.\n"
     ]
    }
   ],
   "source": [
    "print('There are {} unique ICD9 codes in this dataset.'.format(df_diag['ICD9_CODE'].value_counts().count()))"
   ]
  },
  {
   "cell_type": "markdown",
   "metadata": {
    "colab_type": "text",
    "id": "k9zapP4dnT9j"
   },
   "source": [
    "Because it's not feasible to have 6984 unique values to use as features for predicting LOS, We reduce the diagnosis into more general categories. The ICD9 can be arranged into super categories:\n",
    "* 001–139: infectious and parasitic diseases\n",
    "* 140–239: neoplasms\n",
    "* 240–279: endocrine, nutritional and metabolic diseases, and immunity disorders\n",
    "* 280–289: diseases of the blood and blood-forming organs\n",
    "* 290–319: mental disorders\n",
    "* 320–389: diseases of the nervous system and sense organs\n",
    "* 390–459: diseases of the circulatory system\n",
    "* 460–519: diseases of the respiratory system\n",
    "* 520–579: diseases of the digestive system\n",
    "* 580–629: diseases of the genitourinary system\n",
    "* 630–679: complications of pregnancy, childbirth, and the puerperium\n",
    "* 680–709: diseases of the skin and subcutaneous tissue\n",
    "* 710–739: diseases of the musculoskeletal system and connective tissue\n",
    "* 740–759: congenital anomalies\n",
    "* 760–779: certain conditions originating in the perinatal period\n",
    "* 780–799: symptoms, signs, and ill-defined conditions\n",
    "* 800–999: injury and poisoning\n",
    "* E and V codes: external causes of injury and supplemental classification, *using 999 as placeholder even though it overlaps with complications of medical care*"
   ]
  },
  {
   "cell_type": "code",
   "execution_count": 0,
   "metadata": {
    "colab": {},
    "colab_type": "code",
    "id": "syJJzVhMnT9j"
   },
   "outputs": [],
   "source": [
    "bins_icu= [1,140,240,280,290,320,390,460,520,580,630,680,710,740,760,780,800,1000]\n",
    "labels_icu = ['Infectious Diseases','Neoplasms',\n",
    "              'Endocrine, Immunity Disorders',\n",
    "              'Blood Diseases','Mental Disorders',\n",
    "              'Nervous System','Circulatory System', \n",
    "              'Respiratory System', 'Digestive System', \n",
    "              'Genitourinary System', 'Pregnancy',\n",
    "              'Skin and Subcutaneous Tissue', 'Musculoskeletal System', \n",
    "              'Congenital Anomalies', 'Perinatal Period', \n",
    "              'Symptoms Conditions', 'Injury']"
   ]
  },
  {
   "cell_type": "code",
   "execution_count": 0,
   "metadata": {
    "colab": {},
    "colab_type": "code",
    "id": "6UicjWmrnT9k"
   },
   "outputs": [],
   "source": [
    "df_diag['ICD9_CODE'] = df_diag['ICD9_CODE'][~df_diag['ICD9_CODE'].str.contains(\"[A-Za-z]\", na=False)]\n",
    "df_diag['ICD9_CODE'] =  df_diag['ICD9_CODE'].fillna('999').str.slice(start=0, stop=3, step=1)\n",
    "df_diag['ICD9_CODE'] = df_diag['ICD9_CODE'].astype(int)"
   ]
  },
  {
   "cell_type": "code",
   "execution_count": 0,
   "metadata": {
    "colab": {},
    "colab_type": "code",
    "id": "Qg4lBwr4nT9n"
   },
   "outputs": [],
   "source": [
    "df_diag['ICD9'] = pd.cut(df_diag['ICD9_CODE'], bins=bins_icu, labels=labels_icu, right=False)"
   ]
  },
  {
   "cell_type": "code",
   "execution_count": 0,
   "metadata": {
    "colab": {},
    "colab_type": "code",
    "id": "uT_tv8xLnT9p",
    "outputId": "f415a813-1602-4c6e-d89f-47d0981df553"
   },
   "outputs": [
    {
     "data": {
      "text/plain": [
       "Circulatory System               140257\n",
       "Injury                           140244\n",
       "Endocrine, Immunity Disorders     69592\n",
       "Respiratory System                44825\n",
       "Digestive System                  38527\n",
       "Genitourinary System              32867\n",
       "Symptoms Conditions               29691\n",
       "Blood Diseases                    25262\n",
       "Mental Disorders                  24876\n",
       "Nervous System                    23334\n",
       "Infectious Diseases               20264\n",
       "Perinatal Period                  20160\n",
       "Neoplasms                         14235\n",
       "Musculoskeletal System            13392\n",
       "Skin and Subcutaneous Tissue       8789\n",
       "Congenital Anomalies               4078\n",
       "Pregnancy                           654\n",
       "Name: ICD9, dtype: int64"
      ]
     },
     "execution_count": 119,
     "metadata": {
      "tags": []
     },
     "output_type": "execute_result"
    }
   ],
   "source": [
    "df_diag['ICD9'].value_counts()"
   ]
  },
  {
   "cell_type": "code",
   "execution_count": 0,
   "metadata": {
    "colab": {},
    "colab_type": "code",
    "id": "aEFof0e9nT9q",
    "outputId": "7fe077b9-5141-4a36-fdb4-3fc61a12935d"
   },
   "outputs": [
    {
     "data": {
      "text/html": [
       "<div>\n",
       "<style scoped>\n",
       "    .dataframe tbody tr th:only-of-type {\n",
       "        vertical-align: middle;\n",
       "    }\n",
       "\n",
       "    .dataframe tbody tr th {\n",
       "        vertical-align: top;\n",
       "    }\n",
       "\n",
       "    .dataframe thead th {\n",
       "        text-align: right;\n",
       "    }\n",
       "</style>\n",
       "<table border=\"1\" class=\"dataframe\">\n",
       "  <thead>\n",
       "    <tr style=\"text-align: right;\">\n",
       "      <th></th>\n",
       "      <th>ROW_ID</th>\n",
       "      <th>SUBJECT_ID</th>\n",
       "      <th>HADM_ID</th>\n",
       "      <th>SEQ_NUM</th>\n",
       "      <th>ICD9_CODE</th>\n",
       "      <th>ICD9</th>\n",
       "    </tr>\n",
       "  </thead>\n",
       "  <tbody>\n",
       "    <tr>\n",
       "      <td>0</td>\n",
       "      <td>1297</td>\n",
       "      <td>109</td>\n",
       "      <td>172335</td>\n",
       "      <td>1.0</td>\n",
       "      <td>403</td>\n",
       "      <td>Circulatory System</td>\n",
       "    </tr>\n",
       "    <tr>\n",
       "      <td>1</td>\n",
       "      <td>1298</td>\n",
       "      <td>109</td>\n",
       "      <td>172335</td>\n",
       "      <td>2.0</td>\n",
       "      <td>486</td>\n",
       "      <td>Respiratory System</td>\n",
       "    </tr>\n",
       "    <tr>\n",
       "      <td>2</td>\n",
       "      <td>1299</td>\n",
       "      <td>109</td>\n",
       "      <td>172335</td>\n",
       "      <td>3.0</td>\n",
       "      <td>582</td>\n",
       "      <td>Genitourinary System</td>\n",
       "    </tr>\n",
       "    <tr>\n",
       "      <td>3</td>\n",
       "      <td>1300</td>\n",
       "      <td>109</td>\n",
       "      <td>172335</td>\n",
       "      <td>4.0</td>\n",
       "      <td>585</td>\n",
       "      <td>Genitourinary System</td>\n",
       "    </tr>\n",
       "    <tr>\n",
       "      <td>4</td>\n",
       "      <td>1301</td>\n",
       "      <td>109</td>\n",
       "      <td>172335</td>\n",
       "      <td>5.0</td>\n",
       "      <td>425</td>\n",
       "      <td>Circulatory System</td>\n",
       "    </tr>\n",
       "  </tbody>\n",
       "</table>\n",
       "</div>"
      ],
      "text/plain": [
       "   ROW_ID  SUBJECT_ID  HADM_ID  SEQ_NUM  ICD9_CODE                  ICD9\n",
       "0    1297         109   172335      1.0        403    Circulatory System\n",
       "1    1298         109   172335      2.0        486    Respiratory System\n",
       "2    1299         109   172335      3.0        582  Genitourinary System\n",
       "3    1300         109   172335      4.0        585  Genitourinary System\n",
       "4    1301         109   172335      5.0        425    Circulatory System"
      ]
     },
     "execution_count": 120,
     "metadata": {
      "tags": []
     },
     "output_type": "execute_result"
    }
   ],
   "source": [
    "df_diag.head()"
   ]
  },
  {
   "cell_type": "code",
   "execution_count": 0,
   "metadata": {
    "colab": {},
    "colab_type": "code",
    "id": "ifqncBoSnT96",
    "outputId": "c59d3080-e003-4423-8879-3a332b1fff99"
   },
   "outputs": [
    {
     "data": {
      "text/plain": [
       "['Endocrine, Immunity Disorders',\n",
       " 'Nervous System',\n",
       " 'Genitourinary System',\n",
       " 'Digestive System',\n",
       " 'Injury',\n",
       " 'Endocrine, Immunity Disorders',\n",
       " 'Digestive System',\n",
       " 'Circulatory System',\n",
       " 'Endocrine, Immunity Disorders',\n",
       " 'Circulatory System',\n",
       " 'Genitourinary System',\n",
       " 'Endocrine, Immunity Disorders',\n",
       " 'Nervous System',\n",
       " 'Endocrine, Immunity Disorders',\n",
       " 'Skin and Subcutaneous Tissue',\n",
       " 'Injury']"
      ]
     },
     "execution_count": 121,
     "metadata": {
      "tags": []
     },
     "output_type": "execute_result"
    }
   ],
   "source": [
    "Hadm_icd = df_diag.groupby('HADM_ID')['ICD9'].apply(list).reset_index()\n",
    "Hadm_icd.iloc[0]['ICD9']"
   ]
  },
  {
   "cell_type": "code",
   "execution_count": 0,
   "metadata": {
    "colab": {},
    "colab_type": "code",
    "id": "jvh48Xq_nT97"
   },
   "outputs": [],
   "source": [
    "hadm_dummy = pd.get_dummies(Hadm_icd['ICD9'].apply(pd.Series).stack())"
   ]
  },
  {
   "cell_type": "code",
   "execution_count": 0,
   "metadata": {
    "colab": {},
    "colab_type": "code",
    "id": "EGG72ueEnT98",
    "outputId": "df954a35-1856-479c-e5c2-bde0a135a0c7"
   },
   "outputs": [
    {
     "data": {
      "text/html": [
       "<div>\n",
       "<style scoped>\n",
       "    .dataframe tbody tr th:only-of-type {\n",
       "        vertical-align: middle;\n",
       "    }\n",
       "\n",
       "    .dataframe tbody tr th {\n",
       "        vertical-align: top;\n",
       "    }\n",
       "\n",
       "    .dataframe thead th {\n",
       "        text-align: right;\n",
       "    }\n",
       "</style>\n",
       "<table border=\"1\" class=\"dataframe\">\n",
       "  <thead>\n",
       "    <tr style=\"text-align: right;\">\n",
       "      <th></th>\n",
       "      <th>Blood Diseases</th>\n",
       "      <th>Circulatory System</th>\n",
       "      <th>Congenital Anomalies</th>\n",
       "      <th>Digestive System</th>\n",
       "      <th>Endocrine, Immunity Disorders</th>\n",
       "      <th>Genitourinary System</th>\n",
       "      <th>Infectious Diseases</th>\n",
       "      <th>Injury</th>\n",
       "      <th>Mental Disorders</th>\n",
       "      <th>Musculoskeletal System</th>\n",
       "      <th>Neoplasms</th>\n",
       "      <th>Nervous System</th>\n",
       "      <th>Perinatal Period</th>\n",
       "      <th>Pregnancy</th>\n",
       "      <th>Respiratory System</th>\n",
       "      <th>Skin and Subcutaneous Tissue</th>\n",
       "      <th>Symptoms Conditions</th>\n",
       "    </tr>\n",
       "  </thead>\n",
       "  <tbody>\n",
       "    <tr>\n",
       "      <td>0</td>\n",
       "      <td>0</td>\n",
       "      <td>2</td>\n",
       "      <td>0</td>\n",
       "      <td>2</td>\n",
       "      <td>5</td>\n",
       "      <td>2</td>\n",
       "      <td>0</td>\n",
       "      <td>2</td>\n",
       "      <td>0</td>\n",
       "      <td>0</td>\n",
       "      <td>0</td>\n",
       "      <td>2</td>\n",
       "      <td>0</td>\n",
       "      <td>0</td>\n",
       "      <td>0</td>\n",
       "      <td>1</td>\n",
       "      <td>0</td>\n",
       "    </tr>\n",
       "    <tr>\n",
       "      <td>1</td>\n",
       "      <td>1</td>\n",
       "      <td>2</td>\n",
       "      <td>0</td>\n",
       "      <td>4</td>\n",
       "      <td>0</td>\n",
       "      <td>0</td>\n",
       "      <td>1</td>\n",
       "      <td>0</td>\n",
       "      <td>0</td>\n",
       "      <td>0</td>\n",
       "      <td>0</td>\n",
       "      <td>0</td>\n",
       "      <td>0</td>\n",
       "      <td>0</td>\n",
       "      <td>0</td>\n",
       "      <td>0</td>\n",
       "      <td>1</td>\n",
       "    </tr>\n",
       "    <tr>\n",
       "      <td>2</td>\n",
       "      <td>0</td>\n",
       "      <td>0</td>\n",
       "      <td>0</td>\n",
       "      <td>0</td>\n",
       "      <td>1</td>\n",
       "      <td>0</td>\n",
       "      <td>0</td>\n",
       "      <td>2</td>\n",
       "      <td>1</td>\n",
       "      <td>0</td>\n",
       "      <td>1</td>\n",
       "      <td>0</td>\n",
       "      <td>0</td>\n",
       "      <td>0</td>\n",
       "      <td>3</td>\n",
       "      <td>0</td>\n",
       "      <td>1</td>\n",
       "    </tr>\n",
       "    <tr>\n",
       "      <td>3</td>\n",
       "      <td>0</td>\n",
       "      <td>1</td>\n",
       "      <td>0</td>\n",
       "      <td>2</td>\n",
       "      <td>0</td>\n",
       "      <td>0</td>\n",
       "      <td>0</td>\n",
       "      <td>1</td>\n",
       "      <td>0</td>\n",
       "      <td>0</td>\n",
       "      <td>0</td>\n",
       "      <td>0</td>\n",
       "      <td>0</td>\n",
       "      <td>0</td>\n",
       "      <td>1</td>\n",
       "      <td>0</td>\n",
       "      <td>0</td>\n",
       "    </tr>\n",
       "    <tr>\n",
       "      <td>4</td>\n",
       "      <td>1</td>\n",
       "      <td>7</td>\n",
       "      <td>0</td>\n",
       "      <td>0</td>\n",
       "      <td>3</td>\n",
       "      <td>0</td>\n",
       "      <td>0</td>\n",
       "      <td>7</td>\n",
       "      <td>0</td>\n",
       "      <td>0</td>\n",
       "      <td>0</td>\n",
       "      <td>0</td>\n",
       "      <td>0</td>\n",
       "      <td>0</td>\n",
       "      <td>0</td>\n",
       "      <td>0</td>\n",
       "      <td>0</td>\n",
       "    </tr>\n",
       "  </tbody>\n",
       "</table>\n",
       "</div>"
      ],
      "text/plain": [
       "   Blood Diseases  Circulatory System  Congenital Anomalies  Digestive System  \\\n",
       "0               0                   2                     0                 2   \n",
       "1               1                   2                     0                 4   \n",
       "2               0                   0                     0                 0   \n",
       "3               0                   1                     0                 2   \n",
       "4               1                   7                     0                 0   \n",
       "\n",
       "   Endocrine, Immunity Disorders  Genitourinary System  Infectious Diseases  \\\n",
       "0                              5                     2                    0   \n",
       "1                              0                     0                    1   \n",
       "2                              1                     0                    0   \n",
       "3                              0                     0                    0   \n",
       "4                              3                     0                    0   \n",
       "\n",
       "   Injury  Mental Disorders  Musculoskeletal System  Neoplasms  \\\n",
       "0       2                 0                       0          0   \n",
       "1       0                 0                       0          0   \n",
       "2       2                 1                       0          1   \n",
       "3       1                 0                       0          0   \n",
       "4       7                 0                       0          0   \n",
       "\n",
       "   Nervous System  Perinatal Period  Pregnancy  Respiratory System  \\\n",
       "0               2                 0          0                   0   \n",
       "1               0                 0          0                   0   \n",
       "2               0                 0          0                   3   \n",
       "3               0                 0          0                   1   \n",
       "4               0                 0          0                   0   \n",
       "\n",
       "   Skin and Subcutaneous Tissue  Symptoms Conditions  \n",
       "0                             1                    0  \n",
       "1                             0                    1  \n",
       "2                             0                    1  \n",
       "3                             0                    0  \n",
       "4                             0                    0  "
      ]
     },
     "execution_count": 125,
     "metadata": {
      "tags": []
     },
     "output_type": "execute_result"
    }
   ],
   "source": [
    "hadm_item = hadm_dummy.sum(level=0)\n",
    "hadm_item.head()"
   ]
  },
  {
   "cell_type": "code",
   "execution_count": 0,
   "metadata": {
    "colab": {},
    "colab_type": "code",
    "id": "sKEb-vSFnT99",
    "outputId": "af78af8a-34c3-480f-a65b-c1effafca0af",
    "scrolled": true
   },
   "outputs": [
    {
     "data": {
      "text/html": [
       "<div>\n",
       "<style scoped>\n",
       "    .dataframe tbody tr th:only-of-type {\n",
       "        vertical-align: middle;\n",
       "    }\n",
       "\n",
       "    .dataframe tbody tr th {\n",
       "        vertical-align: top;\n",
       "    }\n",
       "\n",
       "    .dataframe thead th {\n",
       "        text-align: right;\n",
       "    }\n",
       "</style>\n",
       "<table border=\"1\" class=\"dataframe\">\n",
       "  <thead>\n",
       "    <tr style=\"text-align: right;\">\n",
       "      <th></th>\n",
       "      <th>Blood Diseases</th>\n",
       "      <th>Circulatory System</th>\n",
       "      <th>Congenital Anomalies</th>\n",
       "      <th>Digestive System</th>\n",
       "      <th>Endocrine, Immunity Disorders</th>\n",
       "      <th>Genitourinary System</th>\n",
       "      <th>Infectious Diseases</th>\n",
       "      <th>Injury</th>\n",
       "      <th>Mental Disorders</th>\n",
       "      <th>Musculoskeletal System</th>\n",
       "      <th>Neoplasms</th>\n",
       "      <th>Nervous System</th>\n",
       "      <th>Perinatal Period</th>\n",
       "      <th>Pregnancy</th>\n",
       "      <th>Respiratory System</th>\n",
       "      <th>Skin and Subcutaneous Tissue</th>\n",
       "      <th>Symptoms Conditions</th>\n",
       "      <th>HADM_ID</th>\n",
       "    </tr>\n",
       "  </thead>\n",
       "  <tbody>\n",
       "    <tr>\n",
       "      <td>0</td>\n",
       "      <td>0</td>\n",
       "      <td>2</td>\n",
       "      <td>0</td>\n",
       "      <td>2</td>\n",
       "      <td>5</td>\n",
       "      <td>2</td>\n",
       "      <td>0</td>\n",
       "      <td>2</td>\n",
       "      <td>0</td>\n",
       "      <td>0</td>\n",
       "      <td>0</td>\n",
       "      <td>2</td>\n",
       "      <td>0</td>\n",
       "      <td>0</td>\n",
       "      <td>0</td>\n",
       "      <td>1</td>\n",
       "      <td>0</td>\n",
       "      <td>100001</td>\n",
       "    </tr>\n",
       "    <tr>\n",
       "      <td>1</td>\n",
       "      <td>1</td>\n",
       "      <td>2</td>\n",
       "      <td>0</td>\n",
       "      <td>4</td>\n",
       "      <td>0</td>\n",
       "      <td>0</td>\n",
       "      <td>1</td>\n",
       "      <td>0</td>\n",
       "      <td>0</td>\n",
       "      <td>0</td>\n",
       "      <td>0</td>\n",
       "      <td>0</td>\n",
       "      <td>0</td>\n",
       "      <td>0</td>\n",
       "      <td>0</td>\n",
       "      <td>0</td>\n",
       "      <td>1</td>\n",
       "      <td>100003</td>\n",
       "    </tr>\n",
       "    <tr>\n",
       "      <td>2</td>\n",
       "      <td>0</td>\n",
       "      <td>0</td>\n",
       "      <td>0</td>\n",
       "      <td>0</td>\n",
       "      <td>1</td>\n",
       "      <td>0</td>\n",
       "      <td>0</td>\n",
       "      <td>2</td>\n",
       "      <td>1</td>\n",
       "      <td>0</td>\n",
       "      <td>1</td>\n",
       "      <td>0</td>\n",
       "      <td>0</td>\n",
       "      <td>0</td>\n",
       "      <td>3</td>\n",
       "      <td>0</td>\n",
       "      <td>1</td>\n",
       "      <td>100006</td>\n",
       "    </tr>\n",
       "    <tr>\n",
       "      <td>3</td>\n",
       "      <td>0</td>\n",
       "      <td>1</td>\n",
       "      <td>0</td>\n",
       "      <td>2</td>\n",
       "      <td>0</td>\n",
       "      <td>0</td>\n",
       "      <td>0</td>\n",
       "      <td>1</td>\n",
       "      <td>0</td>\n",
       "      <td>0</td>\n",
       "      <td>0</td>\n",
       "      <td>0</td>\n",
       "      <td>0</td>\n",
       "      <td>0</td>\n",
       "      <td>1</td>\n",
       "      <td>0</td>\n",
       "      <td>0</td>\n",
       "      <td>100007</td>\n",
       "    </tr>\n",
       "    <tr>\n",
       "      <td>4</td>\n",
       "      <td>1</td>\n",
       "      <td>7</td>\n",
       "      <td>0</td>\n",
       "      <td>0</td>\n",
       "      <td>3</td>\n",
       "      <td>0</td>\n",
       "      <td>0</td>\n",
       "      <td>7</td>\n",
       "      <td>0</td>\n",
       "      <td>0</td>\n",
       "      <td>0</td>\n",
       "      <td>0</td>\n",
       "      <td>0</td>\n",
       "      <td>0</td>\n",
       "      <td>0</td>\n",
       "      <td>0</td>\n",
       "      <td>0</td>\n",
       "      <td>100009</td>\n",
       "    </tr>\n",
       "    <tr>\n",
       "      <td>...</td>\n",
       "      <td>...</td>\n",
       "      <td>...</td>\n",
       "      <td>...</td>\n",
       "      <td>...</td>\n",
       "      <td>...</td>\n",
       "      <td>...</td>\n",
       "      <td>...</td>\n",
       "      <td>...</td>\n",
       "      <td>...</td>\n",
       "      <td>...</td>\n",
       "      <td>...</td>\n",
       "      <td>...</td>\n",
       "      <td>...</td>\n",
       "      <td>...</td>\n",
       "      <td>...</td>\n",
       "      <td>...</td>\n",
       "      <td>...</td>\n",
       "      <td>...</td>\n",
       "    </tr>\n",
       "    <tr>\n",
       "      <td>58971</td>\n",
       "      <td>0</td>\n",
       "      <td>5</td>\n",
       "      <td>0</td>\n",
       "      <td>0</td>\n",
       "      <td>1</td>\n",
       "      <td>0</td>\n",
       "      <td>0</td>\n",
       "      <td>0</td>\n",
       "      <td>0</td>\n",
       "      <td>0</td>\n",
       "      <td>0</td>\n",
       "      <td>0</td>\n",
       "      <td>0</td>\n",
       "      <td>0</td>\n",
       "      <td>3</td>\n",
       "      <td>0</td>\n",
       "      <td>0</td>\n",
       "      <td>199993</td>\n",
       "    </tr>\n",
       "    <tr>\n",
       "      <td>58972</td>\n",
       "      <td>0</td>\n",
       "      <td>4</td>\n",
       "      <td>0</td>\n",
       "      <td>0</td>\n",
       "      <td>1</td>\n",
       "      <td>1</td>\n",
       "      <td>0</td>\n",
       "      <td>0</td>\n",
       "      <td>0</td>\n",
       "      <td>0</td>\n",
       "      <td>0</td>\n",
       "      <td>0</td>\n",
       "      <td>0</td>\n",
       "      <td>0</td>\n",
       "      <td>3</td>\n",
       "      <td>0</td>\n",
       "      <td>0</td>\n",
       "      <td>199994</td>\n",
       "    </tr>\n",
       "    <tr>\n",
       "      <td>58973</td>\n",
       "      <td>0</td>\n",
       "      <td>4</td>\n",
       "      <td>1</td>\n",
       "      <td>0</td>\n",
       "      <td>0</td>\n",
       "      <td>0</td>\n",
       "      <td>1</td>\n",
       "      <td>1</td>\n",
       "      <td>3</td>\n",
       "      <td>0</td>\n",
       "      <td>0</td>\n",
       "      <td>0</td>\n",
       "      <td>0</td>\n",
       "      <td>0</td>\n",
       "      <td>0</td>\n",
       "      <td>0</td>\n",
       "      <td>0</td>\n",
       "      <td>199995</td>\n",
       "    </tr>\n",
       "    <tr>\n",
       "      <td>58974</td>\n",
       "      <td>0</td>\n",
       "      <td>7</td>\n",
       "      <td>0</td>\n",
       "      <td>0</td>\n",
       "      <td>2</td>\n",
       "      <td>0</td>\n",
       "      <td>0</td>\n",
       "      <td>5</td>\n",
       "      <td>0</td>\n",
       "      <td>0</td>\n",
       "      <td>0</td>\n",
       "      <td>0</td>\n",
       "      <td>0</td>\n",
       "      <td>0</td>\n",
       "      <td>1</td>\n",
       "      <td>0</td>\n",
       "      <td>1</td>\n",
       "      <td>199998</td>\n",
       "    </tr>\n",
       "    <tr>\n",
       "      <td>58975</td>\n",
       "      <td>1</td>\n",
       "      <td>2</td>\n",
       "      <td>0</td>\n",
       "      <td>0</td>\n",
       "      <td>1</td>\n",
       "      <td>1</td>\n",
       "      <td>0</td>\n",
       "      <td>2</td>\n",
       "      <td>0</td>\n",
       "      <td>0</td>\n",
       "      <td>0</td>\n",
       "      <td>0</td>\n",
       "      <td>0</td>\n",
       "      <td>0</td>\n",
       "      <td>3</td>\n",
       "      <td>0</td>\n",
       "      <td>3</td>\n",
       "      <td>199999</td>\n",
       "    </tr>\n",
       "  </tbody>\n",
       "</table>\n",
       "<p>58976 rows × 18 columns</p>\n",
       "</div>"
      ],
      "text/plain": [
       "       Blood Diseases  Circulatory System  Congenital Anomalies  \\\n",
       "0                   0                   2                     0   \n",
       "1                   1                   2                     0   \n",
       "2                   0                   0                     0   \n",
       "3                   0                   1                     0   \n",
       "4                   1                   7                     0   \n",
       "...               ...                 ...                   ...   \n",
       "58971               0                   5                     0   \n",
       "58972               0                   4                     0   \n",
       "58973               0                   4                     1   \n",
       "58974               0                   7                     0   \n",
       "58975               1                   2                     0   \n",
       "\n",
       "       Digestive System  Endocrine, Immunity Disorders  Genitourinary System  \\\n",
       "0                     2                              5                     2   \n",
       "1                     4                              0                     0   \n",
       "2                     0                              1                     0   \n",
       "3                     2                              0                     0   \n",
       "4                     0                              3                     0   \n",
       "...                 ...                            ...                   ...   \n",
       "58971                 0                              1                     0   \n",
       "58972                 0                              1                     1   \n",
       "58973                 0                              0                     0   \n",
       "58974                 0                              2                     0   \n",
       "58975                 0                              1                     1   \n",
       "\n",
       "       Infectious Diseases  Injury  Mental Disorders  Musculoskeletal System  \\\n",
       "0                        0       2                 0                       0   \n",
       "1                        1       0                 0                       0   \n",
       "2                        0       2                 1                       0   \n",
       "3                        0       1                 0                       0   \n",
       "4                        0       7                 0                       0   \n",
       "...                    ...     ...               ...                     ...   \n",
       "58971                    0       0                 0                       0   \n",
       "58972                    0       0                 0                       0   \n",
       "58973                    1       1                 3                       0   \n",
       "58974                    0       5                 0                       0   \n",
       "58975                    0       2                 0                       0   \n",
       "\n",
       "       Neoplasms  Nervous System  Perinatal Period  Pregnancy  \\\n",
       "0              0               2                 0          0   \n",
       "1              0               0                 0          0   \n",
       "2              1               0                 0          0   \n",
       "3              0               0                 0          0   \n",
       "4              0               0                 0          0   \n",
       "...          ...             ...               ...        ...   \n",
       "58971          0               0                 0          0   \n",
       "58972          0               0                 0          0   \n",
       "58973          0               0                 0          0   \n",
       "58974          0               0                 0          0   \n",
       "58975          0               0                 0          0   \n",
       "\n",
       "       Respiratory System  Skin and Subcutaneous Tissue  Symptoms Conditions  \\\n",
       "0                       0                             1                    0   \n",
       "1                       0                             0                    1   \n",
       "2                       3                             0                    1   \n",
       "3                       1                             0                    0   \n",
       "4                       0                             0                    0   \n",
       "...                   ...                           ...                  ...   \n",
       "58971                   3                             0                    0   \n",
       "58972                   3                             0                    0   \n",
       "58973                   0                             0                    0   \n",
       "58974                   1                             0                    1   \n",
       "58975                   3                             0                    3   \n",
       "\n",
       "       HADM_ID  \n",
       "0       100001  \n",
       "1       100003  \n",
       "2       100006  \n",
       "3       100007  \n",
       "4       100009  \n",
       "...        ...  \n",
       "58971   199993  \n",
       "58972   199994  \n",
       "58973   199995  \n",
       "58974   199998  \n",
       "58975   199999  \n",
       "\n",
       "[58976 rows x 18 columns]"
      ]
     },
     "execution_count": 126,
     "metadata": {
      "tags": []
     },
     "output_type": "execute_result"
    }
   ],
   "source": [
    "hadm_item = hadm_item.join(Hadm_icd['HADM_ID'], how=\"outer\")\n",
    "hadm_item"
   ]
  },
  {
   "cell_type": "code",
   "execution_count": 0,
   "metadata": {
    "colab": {},
    "colab_type": "code",
    "id": "jp2ynaVvnT99"
   },
   "outputs": [],
   "source": [
    "df_diag = df.merge(hadm_item, on='HADM_ID', how='inner')"
   ]
  },
  {
   "cell_type": "code",
   "execution_count": 0,
   "metadata": {
    "colab": {},
    "colab_type": "code",
    "id": "tPdM02kVnT9-"
   },
   "outputs": [],
   "source": [
    "df_diag.to_csv('newdata/df_diag.csv')"
   ]
  },
  {
   "cell_type": "code",
   "execution_count": 0,
   "metadata": {
    "colab": {},
    "colab_type": "code",
    "id": "MiWznmBznT9_"
   },
   "outputs": [],
   "source": [
    "df = df_diag.copy()"
   ]
  },
  {
   "cell_type": "code",
   "execution_count": 0,
   "metadata": {
    "colab": {},
    "colab_type": "code",
    "id": "b_GWl2pknT9_",
    "outputId": "73701a6e-d8f6-4382-e8d4-807880173c6d"
   },
   "outputs": [
    {
     "data": {
      "text/plain": [
       "SUBJECT_ID                          0\n",
       "HADM_ID                             0\n",
       "ICUSTAY                             0\n",
       "DRUG                                0\n",
       "STOPPED                             0\n",
       "Num_CPT                             0\n",
       "REQUEST_TELE                        0\n",
       "REQUEST_RESP                        0\n",
       "REQUEST_CDIFF                       0\n",
       "REQUEST_MRSA                        0\n",
       "REQUEST_VRE                         0\n",
       "DBSOURCE                            0\n",
       "EVENTTYPE                           0\n",
       "TRANSFERTIME                        0\n",
       "SERVICE                             0\n",
       "CAREUNIT                            0\n",
       "GENDER                              0\n",
       "DOB                                 0\n",
       "ADMITTIME                           0\n",
       "DISCHTIME                           0\n",
       "INSURANCE                           0\n",
       "RELIGION                            0\n",
       "MARITAL_STATUS                   2099\n",
       "ETHNICITY                           0\n",
       "LOS                                 0\n",
       "AgeGroup                            0\n",
       "Blood Diseases                      0\n",
       "Circulatory System                  0\n",
       "Congenital Anomalies                0\n",
       "Digestive System                    0\n",
       "Endocrine, Immunity Disorders       0\n",
       "Genitourinary System                0\n",
       "Infectious Diseases                 0\n",
       "Injury                              0\n",
       "Mental Disorders                    0\n",
       "Musculoskeletal System              0\n",
       "Neoplasms                           0\n",
       "Nervous System                      0\n",
       "Perinatal Period                    0\n",
       "Pregnancy                           0\n",
       "Respiratory System                  0\n",
       "Skin and Subcutaneous Tissue        0\n",
       "Symptoms Conditions                 0\n",
       "dtype: int64"
      ]
     },
     "execution_count": 130,
     "metadata": {
      "tags": []
     },
     "output_type": "execute_result"
    }
   ],
   "source": [
    "# check if any missing value\n",
    "df.isnull().sum()"
   ]
  },
  {
   "cell_type": "code",
   "execution_count": 0,
   "metadata": {
    "colab": {},
    "colab_type": "code",
    "id": "d566SYiBnT-A"
   },
   "outputs": [],
   "source": [
    "df['MARITAL_STATUS'].loc[df['MARITAL_STATUS'].isnull()]='OTHER'"
   ]
  },
  {
   "cell_type": "code",
   "execution_count": 0,
   "metadata": {
    "colab": {},
    "colab_type": "code",
    "id": "samtzPE8nT-B",
    "outputId": "2c5678c9-ed68-4cac-a549-40c00ac7daa9"
   },
   "outputs": [
    {
     "data": {
      "text/plain": [
       "Index(['SUBJECT_ID', 'HADM_ID', 'ICUSTAY', 'DRUG', 'STOPPED', 'Num_CPT',\n",
       "       'REQUEST_TELE', 'REQUEST_RESP', 'REQUEST_CDIFF', 'REQUEST_MRSA',\n",
       "       'REQUEST_VRE', 'DBSOURCE', 'EVENTTYPE', 'TRANSFERTIME', 'SERVICE',\n",
       "       'CAREUNIT', 'GENDER', 'DOB', 'ADMITTIME', 'DISCHTIME', 'INSURANCE',\n",
       "       'RELIGION', 'MARITAL_STATUS', 'ETHNICITY', 'LOS', 'AgeGroup',\n",
       "       'Blood Diseases', 'Circulatory System', 'Congenital Anomalies',\n",
       "       'Digestive System', 'Endocrine, Immunity Disorders',\n",
       "       'Genitourinary System', 'Infectious Diseases', 'Injury',\n",
       "       'Mental Disorders', 'Musculoskeletal System', 'Neoplasms',\n",
       "       'Nervous System', 'Perinatal Period', 'Pregnancy', 'Respiratory System',\n",
       "       'Skin and Subcutaneous Tissue', 'Symptoms Conditions'],\n",
       "      dtype='object')"
      ]
     },
     "execution_count": 132,
     "metadata": {
      "tags": []
     },
     "output_type": "execute_result"
    }
   ],
   "source": [
    "df.columns"
   ]
  },
  {
   "cell_type": "code",
   "execution_count": 0,
   "metadata": {
    "colab": {},
    "colab_type": "code",
    "id": "Q0sgJ6uNnT-C"
   },
   "outputs": [],
   "source": [
    "new_df = df.drop(['SUBJECT_ID', 'HADM_ID', 'DOB', 'ADMITTIME', 'DISCHTIME'], axis=1)"
   ]
  },
  {
   "cell_type": "code",
   "execution_count": 0,
   "metadata": {
    "colab": {},
    "colab_type": "code",
    "id": "aNiYKqPVmZTD"
   },
   "outputs": [],
   "source": [
    "new_df.to_csv('newdata/df_pre.csv')"
   ]
  },
  {
   "cell_type": "code",
   "execution_count": 0,
   "metadata": {
    "colab": {},
    "colab_type": "code",
    "id": "CcNhN9jOnT-C"
   },
   "outputs": [],
   "source": [
    "dummy_columns = ['STOPPED', 'EVENTTYPE', 'SERVICE', 'CAREUNIT', 'AgeGroup', 'DBSOURCE',\n",
    "                 'GENDER', 'INSURANCE', 'RELIGION', 'MARITAL_STATUS','ETHNICITY']"
   ]
  },
  {
   "cell_type": "code",
   "execution_count": 0,
   "metadata": {
    "colab": {},
    "colab_type": "code",
    "id": "VUOSD93onT-D"
   },
   "outputs": [],
   "source": [
    "prefix_columns = ['STOP', 'EVEN', 'SER', 'CARE', 'AGE', 'DB', 'GENDER', 'INSUR', 'RELI', 'MARR', 'ETH']"
   ]
  },
  {
   "cell_type": "code",
   "execution_count": 0,
   "metadata": {
    "colab": {},
    "colab_type": "code",
    "id": "JZ31LlhPnT-E"
   },
   "outputs": [],
   "source": [
    "new_df = pd.get_dummies(new_df, columns=dummy_columns, prefix=prefix_columns)"
   ]
  },
  {
   "cell_type": "code",
   "execution_count": 0,
   "metadata": {
    "colab": {},
    "colab_type": "code",
    "id": "6w3hf6dvnT-E",
    "outputId": "b8937c03-2ba9-4eb4-8642-1e1b51ba9d24"
   },
   "outputs": [
    {
     "name": "stdout",
     "output_type": "stream",
     "text": [
      "<class 'pandas.core.frame.DataFrame'>\n",
      "Int64Index: 67403 entries, 0 to 67402\n",
      "Data columns (total 80 columns):\n",
      "ICUSTAY                          67403 non-null int64\n",
      "DRUG                             67403 non-null int64\n",
      "Num_CPT                          67403 non-null int64\n",
      "REQUEST_TELE                     67403 non-null int64\n",
      "REQUEST_RESP                     67403 non-null int64\n",
      "REQUEST_CDIFF                    67403 non-null int64\n",
      "REQUEST_MRSA                     67403 non-null int64\n",
      "REQUEST_VRE                      67403 non-null int64\n",
      "TRANSFERTIME                     67403 non-null int64\n",
      "LOS                              67403 non-null int64\n",
      "Blood Diseases                   67403 non-null uint8\n",
      "Circulatory System               67403 non-null uint8\n",
      "Congenital Anomalies             67403 non-null uint8\n",
      "Digestive System                 67403 non-null uint8\n",
      "Endocrine, Immunity Disorders    67403 non-null uint8\n",
      "Genitourinary System             67403 non-null uint8\n",
      "Infectious Diseases              67403 non-null uint8\n",
      "Injury                           67403 non-null uint8\n",
      "Mental Disorders                 67403 non-null uint8\n",
      "Musculoskeletal System           67403 non-null uint8\n",
      "Neoplasms                        67403 non-null uint8\n",
      "Nervous System                   67403 non-null uint8\n",
      "Perinatal Period                 67403 non-null uint8\n",
      "Pregnancy                        67403 non-null uint8\n",
      "Respiratory System               67403 non-null uint8\n",
      "Skin and Subcutaneous Tissue     67403 non-null uint8\n",
      "Symptoms Conditions              67403 non-null uint8\n",
      "STOP_D/C'd                       67403 non-null uint8\n",
      "STOP_NotStopd                    67403 non-null uint8\n",
      "STOP_Restart                     67403 non-null uint8\n",
      "STOP_Stopped                     67403 non-null uint8\n",
      "EVEN_admit                       67403 non-null uint8\n",
      "EVEN_discharge                   67403 non-null uint8\n",
      "EVEN_transfer                    67403 non-null uint8\n",
      "SER_CMED                         67403 non-null uint8\n",
      "SER_CSURG                        67403 non-null uint8\n",
      "SER_MED                          67403 non-null uint8\n",
      "SER_NMED                         67403 non-null uint8\n",
      "SER_NSURG                        67403 non-null uint8\n",
      "SER_OMED                         67403 non-null uint8\n",
      "SER_OTHER                        67403 non-null uint8\n",
      "SER_SURG                         67403 non-null uint8\n",
      "SER_TRAUM                        67403 non-null uint8\n",
      "SER_VSURG                        67403 non-null uint8\n",
      "CARE_ICU                         67403 non-null uint8\n",
      "AGE_newborn                      67403 non-null uint8\n",
      "AGE_teens                        67403 non-null uint8\n",
      "AGE_young-adult                  67403 non-null uint8\n",
      "AGE_adult                        67403 non-null uint8\n",
      "AGE_senior                       67403 non-null uint8\n",
      "DB_carevue                       67403 non-null uint8\n",
      "DB_carevue & metavision          67403 non-null uint8\n",
      "DB_metavision                    67403 non-null uint8\n",
      "GENDER_F                         67403 non-null uint8\n",
      "GENDER_M                         67403 non-null uint8\n",
      "INSUR_Government                 67403 non-null uint8\n",
      "INSUR_Medicaid                   67403 non-null uint8\n",
      "INSUR_Medicare                   67403 non-null uint8\n",
      "INSUR_Private                    67403 non-null uint8\n",
      "INSUR_Self Pay                   67403 non-null uint8\n",
      "RELI_CATHOLIC                    67403 non-null uint8\n",
      "RELI_JEWISH                      67403 non-null uint8\n",
      "RELI_NOT SPECIFIED               67403 non-null uint8\n",
      "RELI_OTHER                       67403 non-null uint8\n",
      "RELI_PROTESTANT QUAKER           67403 non-null uint8\n",
      "RELI_UNOBTAINABLE                67403 non-null uint8\n",
      "MARR_DIVORCED                    67403 non-null uint8\n",
      "MARR_LIFE PARTNER                67403 non-null uint8\n",
      "MARR_MARRIED                     67403 non-null uint8\n",
      "MARR_OTHER                       67403 non-null uint8\n",
      "MARR_SEPARATED                   67403 non-null uint8\n",
      "MARR_SINGLE                      67403 non-null uint8\n",
      "MARR_UNKNOWN (DEFAULT)           67403 non-null uint8\n",
      "MARR_WIDOWED                     67403 non-null uint8\n",
      "ETH_ASIAN                        67403 non-null uint8\n",
      "ETH_BLACK/AFRICAN AMERICAN       67403 non-null uint8\n",
      "ETH_HISPANIC OR LATINO           67403 non-null uint8\n",
      "ETH_OTHER                        67403 non-null uint8\n",
      "ETH_UNKNOWN/NOT SPECIFIED        67403 non-null uint8\n",
      "ETH_WHITE                        67403 non-null uint8\n",
      "dtypes: int64(10), uint8(70)\n",
      "memory usage: 10.2 MB\n"
     ]
    }
   ],
   "source": [
    "new_df.info()"
   ]
  },
  {
   "cell_type": "code",
   "execution_count": 0,
   "metadata": {
    "colab": {},
    "colab_type": "code",
    "id": "LUQUDvvXnT-F"
   },
   "outputs": [],
   "source": [
    "new_df.to_csv('newdata/new_df.csv')"
   ]
  },
  {
   "cell_type": "code",
   "execution_count": 0,
   "metadata": {
    "colab": {},
    "colab_type": "code",
    "id": "o57m_YIxnT-F"
   },
   "outputs": [],
   "source": [
    "df_clean = new_df.copy()"
   ]
  },
  {
   "cell_type": "markdown",
   "metadata": {
    "colab_type": "text",
    "id": "EC1CnxVlnT-G"
   },
   "source": [
    "### 1.3 Exploratory Data Analysis"
   ]
  },
  {
   "cell_type": "code",
   "execution_count": 0,
   "metadata": {
    "colab": {},
    "colab_type": "code",
    "id": "EduerZU-nT-G",
    "outputId": "4fcb87e8-04b6-4191-fdaf-a90c664a3e3a"
   },
   "outputs": [
    {
     "data": {
      "text/plain": [
       "(1, 30)"
      ]
     },
     "execution_count": 254,
     "metadata": {
      "tags": []
     },
     "output_type": "execute_result"
    },
    {
     "data": {
      "image/png": "[encoded data removed]",
      "text/plain": [
       "<Figure size 1080x216 with 1 Axes>"
      ]
     },
     "metadata": {
      "needs_background": "light",
      "tags": []
     },
     "output_type": "display_data"
    }
   ],
   "source": [
    "plt.figure(figsize=(15,3))\n",
    "plt.scatter(df_pat['AGE'], df_pat['LOS'], alpha=0.005)\n",
    "plt.ylabel('LOS (days)')\n",
    "plt.xlabel('Age (years)')\n",
    "plt.title('Age versus Length-of-stay')\n",
    "plt.ylim(1, 30)"
   ]
  },
  {
   "cell_type": "code",
   "execution_count": 0,
   "metadata": {
    "colab": {},
    "colab_type": "code",
    "id": "Mv8pLCnWnT-H",
    "outputId": "53b0095f-eeb0-40b7-8107-20d9f02672ca"
   },
   "outputs": [
    {
     "data": {
      "text/plain": [
       "<matplotlib.axes._subplots.AxesSubplot at 0x258947390>"
      ]
     },
     "execution_count": 255,
     "metadata": {
      "tags": []
     },
     "output_type": "execute_result"
    },
    {
     "data": {
      "image/png": "[encoded data removed]",
      "text/plain": [
       "<Figure size 864x360 with 1 Axes>"
      ]
     },
     "metadata": {
      "needs_background": "light",
      "tags": []
     },
     "output_type": "display_data"
    }
   ],
   "source": [
    "plt.figure(figsize=(12,5))\n",
    "sns.barplot(x = df_pat['AgeGroup'], y = df_pat['LOS'])"
   ]
  },
  {
   "cell_type": "code",
   "execution_count": 0,
   "metadata": {
    "colab": {},
    "colab_type": "code",
    "id": "10a_29SjnT-I",
    "outputId": "20209d26-9233-498c-fbdd-40ccf8513392",
    "scrolled": false
   },
   "outputs": [
    {
     "data": {
      "text/plain": [
       "<matplotlib.axes._subplots.AxesSubplot at 0x26c9f1150>"
      ]
     },
     "execution_count": 273,
     "metadata": {
      "tags": []
     },
     "output_type": "execute_result"
    },
    {
     "data": {
      "image/png": "[encoded data removed]",
      "text/plain": [
       "<Figure size 864x360 with 1 Axes>"
      ]
     },
     "metadata": {
      "needs_background": "light",
      "tags": []
     },
     "output_type": "display_data"
    }
   ],
   "source": [
    "plt.figure(figsize=(12,5))\n",
    "sns.boxplot(x = df['MARITAL_STATUS'], y = df['LOS'])"
   ]
  },
  {
   "cell_type": "code",
   "execution_count": 0,
   "metadata": {
    "colab": {},
    "colab_type": "code",
    "id": "M37QtPC_nT-J",
    "outputId": "b757746f-5c3a-4326-e736-cbf968309fff"
   },
   "outputs": [
    {
     "data": {
      "text/plain": [
       "Text(0.5, 1.0, 'Top 30 Drugs Taken by Patients')"
      ]
     },
     "execution_count": 6,
     "metadata": {
      "tags": []
     },
     "output_type": "execute_result"
    },
    {
     "data": {
      "image/png": "[encoded data removed]",
      "text/plain": [
       "<Figure size 1080x504 with 1 Axes>"
      ]
     },
     "metadata": {
      "needs_background": "light",
      "tags": []
     },
     "output_type": "display_data"
    }
   ],
   "source": [
    "plt.figure(figsize=(15,7))\n",
    "top_drug = df_drug['DRUG'].value_counts()[:30]\n",
    "sns.barplot(top_drug.index, top_drug.values)\n",
    "plt.xticks(rotation=90)\n",
    "plt.xlabel('Drug')\n",
    "plt.ylabel('Number of medications')\n",
    "plt.title('Top 30 Drugs Taken by Patients')"
   ]
  },
  {
   "cell_type": "code",
   "execution_count": 0,
   "metadata": {
    "colab": {},
    "colab_type": "code",
    "id": "HAyhSE0onT-J"
   },
   "outputs": [],
   "source": [
    "results = df[['STOPPED', 'LOS']].groupby('STOPPED').median().reset_index()"
   ]
  },
  {
   "cell_type": "code",
   "execution_count": 0,
   "metadata": {
    "colab": {},
    "colab_type": "code",
    "id": "N5flZkbYnT-K",
    "outputId": "946e204a-46f3-4070-e88b-88c8de4d623b"
   },
   "outputs": [
    {
     "data": {
      "text/plain": [
       "[array([25, 25, 25, ..., 37, 37, 37]),\n",
       " array([17, 17, 17, ..., 37, 37, 37]),\n",
       " array([ 9,  9,  9, ..., 37, 37, 37]),\n",
       " array([13, 13, 13, ..., 37, 37, 37])]"
      ]
     },
     "execution_count": 265,
     "metadata": {
      "tags": []
     },
     "output_type": "execute_result"
    }
   ],
   "source": [
    "categories = results['STOPPED'].values.tolist()\n",
    "\n",
    "hist_data = []\n",
    "for cat in categories:\n",
    "    hist_data.append(df['LOS'].loc[df['STOPPED']==cat].values)\n",
    "    \n",
    "hist_data"
   ]
  },
  {
   "cell_type": "code",
   "execution_count": 0,
   "metadata": {
    "colab": {},
    "colab_type": "code",
    "id": "S-wTf1DknT-L",
    "outputId": "689405b0-1e01-4956-97bd-e41f3c86b704"
   },
   "outputs": [
    {
     "data": {
      "image/png": "[encoded data removed]",
      "text/plain": [
       "<Figure size 576x360 with 1 Axes>"
      ]
     },
     "metadata": {
      "needs_background": "light",
      "tags": []
     },
     "output_type": "display_data"
    }
   ],
   "source": [
    "fig, ax = plt.subplots(figsize=(8,5))\n",
    "ax.boxplot(hist_data, 0, '', vert=False)\n",
    "ax.set_yticklabels(categories)\n",
    "ax.set_xlabel('Length of Stay (days)')\n",
    "ax.tick_params(left=False, right=False) \n",
    "ax.set_title('Comparison of {} categories'.format('STOPPED'))\n",
    "plt.tight_layout()\n",
    "plt.show()"
   ]
  },
  {
   "cell_type": "code",
   "execution_count": 0,
   "metadata": {
    "colab": {},
    "colab_type": "code",
    "id": "0Io322AJnT-M",
    "outputId": "11566a58-cb98-4633-fea2-0d0b971d8b32"
   },
   "outputs": [
    {
     "data": {
      "text/plain": [
       "count    67505.000000\n",
       "mean        14.875506\n",
       "std         14.852362\n",
       "min          1.000000\n",
       "25%          6.000000\n",
       "50%         10.000000\n",
       "75%         18.000000\n",
       "max        171.000000\n",
       "Name: LOS, dtype: float64"
      ]
     },
     "execution_count": 256,
     "metadata": {
      "tags": []
     },
     "output_type": "execute_result"
    }
   ],
   "source": [
    "df['LOS'].describe()"
   ]
  },
  {
   "cell_type": "code",
   "execution_count": 0,
   "metadata": {
    "colab": {},
    "colab_type": "code",
    "id": "BR6rQrTrnT-N",
    "outputId": "86ac9702-39c7-40f1-b816-90b0344bb0d5"
   },
   "outputs": [
    {
     "data": {
      "image/png": "[encoded data removed]",
      "text/plain": [
       "<Figure size 1080x432 with 1 Axes>"
      ]
     },
     "metadata": {
      "needs_background": "light",
      "tags": []
     },
     "output_type": "display_data"
    }
   ],
   "source": [
    "plt.figure(figsize=(15, 6))\n",
    "plt.hist(df['LOS'], bins=90)\n",
    "plt.xlim(0, 50)\n",
    "plt.title('Distribution of LOS for hospital admissions')\n",
    "plt.ylabel('Count')\n",
    "plt.xlabel('Length-of-Stay (days)')\n",
    "plt.tick_params(top=False, right=False) \n",
    "plt.show()"
   ]
  },
  {
   "cell_type": "markdown",
   "metadata": {
    "colab_type": "text",
    "id": "jvcMON2KnT-O"
   },
   "source": [
    "## 2. Prediction and Evaluation"
   ]
  },
  {
   "cell_type": "markdown",
   "metadata": {
    "colab_type": "text",
    "id": "PbwiP6d5nT-O"
   },
   "source": [
    "### 2.1 Regression Model"
   ]
  },
  {
   "cell_type": "markdown",
   "metadata": {
    "colab_type": "text",
    "id": "bpKdJPGjnT-O"
   },
   "source": [
    "I will use the Scikit-Learn machine learning library to implementation supervised learning prediction models."
   ]
  },
  {
   "cell_type": "code",
   "execution_count": 0,
   "metadata": {
    "colab": {},
    "colab_type": "code",
    "id": "f7hFMKq0nT-O"
   },
   "outputs": [],
   "source": [
    "df_clean = pd.read_csv('newdata/new_df.csv', index_col=0)"
   ]
  },
  {
   "cell_type": "code",
   "execution_count": 0,
   "metadata": {
    "colab": {},
    "colab_type": "code",
    "id": "FE2u9WLxnT-P",
    "outputId": "f3895ca2-22fb-4b91-9ca3-9774ae1bf408"
   },
   "outputs": [
    {
     "data": {
      "text/html": [
       "<div>\n",
       "<style scoped>\n",
       "    .dataframe tbody tr th:only-of-type {\n",
       "        vertical-align: middle;\n",
       "    }\n",
       "\n",
       "    .dataframe tbody tr th {\n",
       "        vertical-align: top;\n",
       "    }\n",
       "\n",
       "    .dataframe thead th {\n",
       "        text-align: right;\n",
       "    }\n",
       "</style>\n",
       "<table border=\"1\" class=\"dataframe\">\n",
       "  <thead>\n",
       "    <tr style=\"text-align: right;\">\n",
       "      <th></th>\n",
       "      <th>ICUSTAY</th>\n",
       "      <th>DRUG</th>\n",
       "      <th>Num_CPT</th>\n",
       "      <th>REQUEST_TELE</th>\n",
       "      <th>REQUEST_RESP</th>\n",
       "      <th>REQUEST_CDIFF</th>\n",
       "      <th>REQUEST_MRSA</th>\n",
       "      <th>REQUEST_VRE</th>\n",
       "      <th>TRANSFERTIME</th>\n",
       "      <th>LOS</th>\n",
       "      <th>...</th>\n",
       "      <th>MARR_SEPARATED</th>\n",
       "      <th>MARR_SINGLE</th>\n",
       "      <th>MARR_UNKNOWN (DEFAULT)</th>\n",
       "      <th>MARR_WIDOWED</th>\n",
       "      <th>ETH_ASIAN</th>\n",
       "      <th>ETH_BLACK/AFRICAN AMERICAN</th>\n",
       "      <th>ETH_HISPANIC OR LATINO</th>\n",
       "      <th>ETH_OTHER</th>\n",
       "      <th>ETH_UNKNOWN/NOT SPECIFIED</th>\n",
       "      <th>ETH_WHITE</th>\n",
       "    </tr>\n",
       "  </thead>\n",
       "  <tbody>\n",
       "    <tr>\n",
       "      <td>0</td>\n",
       "      <td>6</td>\n",
       "      <td>91</td>\n",
       "      <td>4</td>\n",
       "      <td>0</td>\n",
       "      <td>0</td>\n",
       "      <td>0</td>\n",
       "      <td>0</td>\n",
       "      <td>0</td>\n",
       "      <td>2</td>\n",
       "      <td>25</td>\n",
       "      <td>...</td>\n",
       "      <td>0</td>\n",
       "      <td>0</td>\n",
       "      <td>0</td>\n",
       "      <td>0</td>\n",
       "      <td>0</td>\n",
       "      <td>0</td>\n",
       "      <td>0</td>\n",
       "      <td>0</td>\n",
       "      <td>0</td>\n",
       "      <td>1</td>\n",
       "    </tr>\n",
       "    <tr>\n",
       "      <td>1</td>\n",
       "      <td>6</td>\n",
       "      <td>91</td>\n",
       "      <td>4</td>\n",
       "      <td>0</td>\n",
       "      <td>0</td>\n",
       "      <td>0</td>\n",
       "      <td>0</td>\n",
       "      <td>0</td>\n",
       "      <td>2</td>\n",
       "      <td>25</td>\n",
       "      <td>...</td>\n",
       "      <td>0</td>\n",
       "      <td>0</td>\n",
       "      <td>0</td>\n",
       "      <td>0</td>\n",
       "      <td>0</td>\n",
       "      <td>0</td>\n",
       "      <td>0</td>\n",
       "      <td>0</td>\n",
       "      <td>0</td>\n",
       "      <td>1</td>\n",
       "    </tr>\n",
       "    <tr>\n",
       "      <td>2</td>\n",
       "      <td>6</td>\n",
       "      <td>91</td>\n",
       "      <td>4</td>\n",
       "      <td>0</td>\n",
       "      <td>0</td>\n",
       "      <td>0</td>\n",
       "      <td>0</td>\n",
       "      <td>0</td>\n",
       "      <td>2</td>\n",
       "      <td>25</td>\n",
       "      <td>...</td>\n",
       "      <td>0</td>\n",
       "      <td>0</td>\n",
       "      <td>0</td>\n",
       "      <td>0</td>\n",
       "      <td>0</td>\n",
       "      <td>0</td>\n",
       "      <td>0</td>\n",
       "      <td>0</td>\n",
       "      <td>0</td>\n",
       "      <td>1</td>\n",
       "    </tr>\n",
       "    <tr>\n",
       "      <td>3</td>\n",
       "      <td>6</td>\n",
       "      <td>91</td>\n",
       "      <td>4</td>\n",
       "      <td>0</td>\n",
       "      <td>0</td>\n",
       "      <td>0</td>\n",
       "      <td>0</td>\n",
       "      <td>0</td>\n",
       "      <td>2</td>\n",
       "      <td>25</td>\n",
       "      <td>...</td>\n",
       "      <td>0</td>\n",
       "      <td>0</td>\n",
       "      <td>0</td>\n",
       "      <td>0</td>\n",
       "      <td>0</td>\n",
       "      <td>0</td>\n",
       "      <td>0</td>\n",
       "      <td>0</td>\n",
       "      <td>0</td>\n",
       "      <td>1</td>\n",
       "    </tr>\n",
       "    <tr>\n",
       "      <td>4</td>\n",
       "      <td>6</td>\n",
       "      <td>91</td>\n",
       "      <td>4</td>\n",
       "      <td>0</td>\n",
       "      <td>0</td>\n",
       "      <td>0</td>\n",
       "      <td>0</td>\n",
       "      <td>0</td>\n",
       "      <td>2</td>\n",
       "      <td>25</td>\n",
       "      <td>...</td>\n",
       "      <td>0</td>\n",
       "      <td>0</td>\n",
       "      <td>0</td>\n",
       "      <td>0</td>\n",
       "      <td>0</td>\n",
       "      <td>0</td>\n",
       "      <td>0</td>\n",
       "      <td>0</td>\n",
       "      <td>0</td>\n",
       "      <td>1</td>\n",
       "    </tr>\n",
       "  </tbody>\n",
       "</table>\n",
       "<p>5 rows × 80 columns</p>\n",
       "</div>"
      ],
      "text/plain": [
       "   ICUSTAY  DRUG  Num_CPT  REQUEST_TELE  REQUEST_RESP  REQUEST_CDIFF  \\\n",
       "0        6    91        4             0             0              0   \n",
       "1        6    91        4             0             0              0   \n",
       "2        6    91        4             0             0              0   \n",
       "3        6    91        4             0             0              0   \n",
       "4        6    91        4             0             0              0   \n",
       "\n",
       "   REQUEST_MRSA  REQUEST_VRE  TRANSFERTIME  LOS  ...  MARR_SEPARATED  \\\n",
       "0             0            0             2   25  ...               0   \n",
       "1             0            0             2   25  ...               0   \n",
       "2             0            0             2   25  ...               0   \n",
       "3             0            0             2   25  ...               0   \n",
       "4             0            0             2   25  ...               0   \n",
       "\n",
       "   MARR_SINGLE  MARR_UNKNOWN (DEFAULT)  MARR_WIDOWED  ETH_ASIAN  \\\n",
       "0            0                       0             0          0   \n",
       "1            0                       0             0          0   \n",
       "2            0                       0             0          0   \n",
       "3            0                       0             0          0   \n",
       "4            0                       0             0          0   \n",
       "\n",
       "   ETH_BLACK/AFRICAN AMERICAN  ETH_HISPANIC OR LATINO  ETH_OTHER  \\\n",
       "0                           0                       0          0   \n",
       "1                           0                       0          0   \n",
       "2                           0                       0          0   \n",
       "3                           0                       0          0   \n",
       "4                           0                       0          0   \n",
       "\n",
       "   ETH_UNKNOWN/NOT SPECIFIED  ETH_WHITE  \n",
       "0                          0          1  \n",
       "1                          0          1  \n",
       "2                          0          1  \n",
       "3                          0          1  \n",
       "4                          0          1  \n",
       "\n",
       "[5 rows x 80 columns]"
      ]
     },
     "execution_count": 144,
     "metadata": {
      "tags": []
     },
     "output_type": "execute_result"
    }
   ],
   "source": [
    "df_clean.head()"
   ]
  },
  {
   "cell_type": "markdown",
   "metadata": {
    "colab_type": "text",
    "id": "gRfJRprVnT-P"
   },
   "source": [
    "I first define it as a regression problem, and use the mean square error as a metric.\n",
    "\n",
    "The expected result of the project is to develop a model that will predict hospital LOS better than the industry median and average LOS. To measure the effect, I will use root mean square error (RMSE) to compare the prediction model with the median and average LOS.\n",
    "\n",
    "<img src=\"images/RMSE.png\" width='300'/>\n",
    "\n",
    "The R-squared will be used to determine the best regression model.\n",
    "\n",
    "<img src=\"images/r2.png\" width=\"400\"/>"
   ]
  },
  {
   "cell_type": "code",
   "execution_count": 0,
   "metadata": {
    "colab": {},
    "colab_type": "code",
    "id": "DdABxeLqnT-P"
   },
   "outputs": [],
   "source": [
    "# target \n",
    "LOS = df_clean['LOS'].values  # y\n",
    "# features\n",
    "features = df_clean.drop('LOS', axis=1) # X\n",
    "\n",
    "X_train, X_test, y_train, y_test = train_test_split(features, LOS, test_size = 0.33)"
   ]
  },
  {
   "cell_type": "code",
   "execution_count": 0,
   "metadata": {
    "colab": {},
    "colab_type": "code",
    "id": "iOglowsWnT-Q",
    "outputId": "5e52c50c-056b-4e98-889f-925c0e662ea2"
   },
   "outputs": [
    {
     "name": "stdout",
     "output_type": "stream",
     "text": [
      "Training set has 45160 samples.\n",
      "Testing set has 22243 samples.\n"
     ]
    }
   ],
   "source": [
    "print(\"Training set has {} samples.\".format(X_train.shape[0]))\n",
    "print(\"Testing set has {} samples.\".format(X_test.shape[0]))"
   ]
  },
  {
   "cell_type": "code",
   "execution_count": 0,
   "metadata": {
    "colab": {},
    "colab_type": "code",
    "id": "UmeRCa2enT-R"
   },
   "outputs": [],
   "source": [
    "# Regression models for comparison\n",
    "models = [SGDRegressor(random_state = 0), \n",
    "          GradientBoostingRegressor(random_state = 0), \n",
    "          LinearRegression(),\n",
    "          KNeighborsRegressor(),\n",
    "          RandomForestRegressor(random_state = 0)]"
   ]
  },
  {
   "cell_type": "code",
   "execution_count": 0,
   "metadata": {
    "colab": {},
    "colab_type": "code",
    "id": "DzItr6YFnT-R",
    "outputId": "72554851-bf78-4c6c-b16b-b69ef9ca32af"
   },
   "outputs": [
    {
     "name": "stdout",
     "output_type": "stream",
     "text": [
      "Regression Model: SGDRegressor, R^2: -3.9260424617847845e+23\n",
      "Regression Model: GradientBoostingRegressor, R^2: 0.9063600573487613\n",
      "Regression Model: LinearRegression, R^2: 0.7802898505760767\n",
      "Regression Model: KNeighborsRegressor, R^2: 0.9923082498333268\n",
      "Regression Model: RandomForestRegressor, R^2: 0.9992523680351909\n",
      "{'SGDRegressor': -3.9260424617847845e+23, 'GradientBoostingRegressor': 0.9063600573487613, 'LinearRegression': 0.7802898505760767, 'KNeighborsRegressor': 0.9923082498333268, 'RandomForestRegressor': 0.9992523680351909}\n"
     ]
    }
   ],
   "source": [
    "results = {}\n",
    "for model in models:\n",
    "    reg_model = model\n",
    "    reg_model.fit(X_train, y_train)\n",
    "    y_preds = reg_model.predict(X_test)\n",
    "    name = str(model).split(\"(\")[0]\n",
    "    results[name] = r2_score(y_test, y_preds)\n",
    "    print('Regression Model: {}, R^2: {}'.format(name, r2_score(y_test, y_preds)))\n",
    "    \n",
    "print(results)"
   ]
  },
  {
   "cell_type": "code",
   "execution_count": 0,
   "metadata": {
    "colab": {},
    "colab_type": "code",
    "id": "pSNU31gtnT-S",
    "outputId": "f94c16c2-f25b-41f9-a913-953e46c9e551"
   },
   "outputs": [
    {
     "data": {
      "text/plain": [
       "('RandomForestRegressor', 0.9992523680351909)"
      ]
     },
     "execution_count": 149,
     "metadata": {
      "tags": []
     },
     "output_type": "execute_result"
    }
   ],
   "source": [
    "sorted(results.items(), key=lambda x: x[1], reverse=True)[0]"
   ]
  },
  {
   "cell_type": "code",
   "execution_count": 0,
   "metadata": {
    "colab": {},
    "colab_type": "code",
    "id": "D1mSzP25nT-T"
   },
   "outputs": [],
   "source": [
    "# RandomForestRegressor has the highest R-square\n",
    "reg_model = RandomForestRegressor(random_state = 0)\n",
    "reg_model.fit(X_train, y_train)\n",
    "y_preds = reg_model.predict(X_test)\n",
    "r_square = r2_score(y_test, y_preds)"
   ]
  },
  {
   "cell_type": "code",
   "execution_count": 0,
   "metadata": {
    "colab": {},
    "colab_type": "code",
    "id": "8a8zZsmynT-T",
    "outputId": "650a2184-5563-4592-c220-6527003cfcac"
   },
   "outputs": [
    {
     "name": "stdout",
     "output_type": "stream",
     "text": [
      "The R^2 is 99.93%\n"
     ]
    }
   ],
   "source": [
    "print('The R^2 is {:.2f}%'.format(r_square*100))"
   ]
  },
  {
   "cell_type": "code",
   "execution_count": 0,
   "metadata": {
    "colab": {},
    "colab_type": "code",
    "id": "E8Ds3X91mZTX"
   },
   "outputs": [],
   "source": [
    "with open('newdata/reg_model', 'wb') as f:\n",
    "    pickle.dump(reg_model, f)"
   ]
  },
  {
   "cell_type": "code",
   "execution_count": 0,
   "metadata": {
    "colab": {},
    "colab_type": "code",
    "id": "VzjO3yA_mZTX"
   },
   "outputs": [],
   "source": [
    "with open('newdata/reg_model', 'rb') as f:\n",
    "    reg_model = pickle.load(f)"
   ]
  },
  {
   "cell_type": "code",
   "execution_count": 0,
   "metadata": {
    "colab": {},
    "colab_type": "code",
    "id": "XJY6wWKxmZTY"
   },
   "outputs": [],
   "source": [
    "y_preds = reg_model.predict(X_test)"
   ]
  },
  {
   "cell_type": "code",
   "execution_count": 0,
   "metadata": {
    "colab": {},
    "colab_type": "code",
    "id": "yxUJj5-6nT-U"
   },
   "outputs": [],
   "source": [
    "y_pred_a = pd.DataFrame(y_preds)\n",
    "y_test_a = pd.DataFrame(y_test)\n",
    "pred_act_df = pd.concat([y_test_a, y_pred_a], axis=1).reset_index(drop=True)"
   ]
  },
  {
   "cell_type": "code",
   "execution_count": 0,
   "metadata": {
    "colab": {},
    "colab_type": "code",
    "id": "9OotEdamnT-U"
   },
   "outputs": [],
   "source": [
    "pred_act_df.columns = ['Actual','Predict']"
   ]
  },
  {
   "cell_type": "code",
   "execution_count": 0,
   "metadata": {
    "colab": {},
    "colab_type": "code",
    "id": "Mrlhf2ClnT-V",
    "outputId": "3d8fd06b-139e-4dde-afca-d280a6de08fb"
   },
   "outputs": [
    {
     "data": {
      "text/html": [
       "<div>\n",
       "<style scoped>\n",
       "    .dataframe tbody tr th:only-of-type {\n",
       "        vertical-align: middle;\n",
       "    }\n",
       "\n",
       "    .dataframe tbody tr th {\n",
       "        vertical-align: top;\n",
       "    }\n",
       "\n",
       "    .dataframe thead th {\n",
       "        text-align: right;\n",
       "    }\n",
       "</style>\n",
       "<table border=\"1\" class=\"dataframe\">\n",
       "  <thead>\n",
       "    <tr style=\"text-align: right;\">\n",
       "      <th></th>\n",
       "      <th>Actual</th>\n",
       "      <th>Predict</th>\n",
       "    </tr>\n",
       "  </thead>\n",
       "  <tbody>\n",
       "    <tr>\n",
       "      <td>0</td>\n",
       "      <td>6</td>\n",
       "      <td>6.06</td>\n",
       "    </tr>\n",
       "    <tr>\n",
       "      <td>1</td>\n",
       "      <td>16</td>\n",
       "      <td>15.99</td>\n",
       "    </tr>\n",
       "    <tr>\n",
       "      <td>2</td>\n",
       "      <td>6</td>\n",
       "      <td>5.97</td>\n",
       "    </tr>\n",
       "    <tr>\n",
       "      <td>3</td>\n",
       "      <td>7</td>\n",
       "      <td>7.10</td>\n",
       "    </tr>\n",
       "    <tr>\n",
       "      <td>4</td>\n",
       "      <td>15</td>\n",
       "      <td>15.00</td>\n",
       "    </tr>\n",
       "  </tbody>\n",
       "</table>\n",
       "</div>"
      ],
      "text/plain": [
       "   Actual  Predict\n",
       "0       6     6.06\n",
       "1      16    15.99\n",
       "2       6     5.97\n",
       "3       7     7.10\n",
       "4      15    15.00"
      ]
     },
     "execution_count": 157,
     "metadata": {
      "tags": []
     },
     "output_type": "execute_result"
    }
   ],
   "source": [
    "pred_act_df.head()"
   ]
  },
  {
   "cell_type": "code",
   "execution_count": 0,
   "metadata": {
    "colab": {},
    "colab_type": "code",
    "id": "hRPHXRv_nT-V",
    "outputId": "40301997-6023-4e0f-a231-a90ce4b470d3"
   },
   "outputs": [
    {
     "data": {
      "image/png": "[encoded data removed]",
      "text/plain": [
       "<Figure size 1080x432 with 1 Axes>"
      ]
     },
     "metadata": {
      "needs_background": "light",
      "tags": []
     },
     "output_type": "display_data"
    }
   ],
   "source": [
    "#output samples of our predicted values\n",
    "plt.figure(figsize=(15, 6))\n",
    "plt.scatter(pred_act_df['Actual'], pred_act_df['Predict'], s=10)\n",
    "plt.xlabel('Predicted LOS')\n",
    "plt.ylabel('Actual LOS')\n",
    "plt.plot(ls=\"--\", c=\".3\")\n",
    "plt.title('Actual vs Predicted LOS')\n",
    "plt.show()"
   ]
  },
  {
   "cell_type": "markdown",
   "metadata": {
    "colab_type": "text",
    "id": "Z1uVmivVnT-W"
   },
   "source": [
    "### Feature Importance"
   ]
  },
  {
   "cell_type": "code",
   "execution_count": 0,
   "metadata": {
    "colab": {},
    "colab_type": "code",
    "id": "vwIQUEdMnT-W",
    "outputId": "e0ff6bc2-013b-4a3c-eb45-58c60126a72a"
   },
   "outputs": [
    {
     "data": {
      "text/html": [
       "<div>\n",
       "<style scoped>\n",
       "    .dataframe tbody tr th:only-of-type {\n",
       "        vertical-align: middle;\n",
       "    }\n",
       "\n",
       "    .dataframe tbody tr th {\n",
       "        vertical-align: top;\n",
       "    }\n",
       "\n",
       "    .dataframe thead th {\n",
       "        text-align: right;\n",
       "    }\n",
       "</style>\n",
       "<table border=\"1\" class=\"dataframe\">\n",
       "  <thead>\n",
       "    <tr style=\"text-align: right;\">\n",
       "      <th></th>\n",
       "      <th>Features</th>\n",
       "      <th>Importance</th>\n",
       "    </tr>\n",
       "  </thead>\n",
       "  <tbody>\n",
       "    <tr>\n",
       "      <td>0</td>\n",
       "      <td>DRUG</td>\n",
       "      <td>0.730777</td>\n",
       "    </tr>\n",
       "    <tr>\n",
       "      <td>1</td>\n",
       "      <td>Num_CPT</td>\n",
       "      <td>0.136790</td>\n",
       "    </tr>\n",
       "    <tr>\n",
       "      <td>2</td>\n",
       "      <td>ICUSTAY</td>\n",
       "      <td>0.028921</td>\n",
       "    </tr>\n",
       "    <tr>\n",
       "      <td>3</td>\n",
       "      <td>Infectious Diseases</td>\n",
       "      <td>0.009280</td>\n",
       "    </tr>\n",
       "    <tr>\n",
       "      <td>4</td>\n",
       "      <td>Injury</td>\n",
       "      <td>0.007109</td>\n",
       "    </tr>\n",
       "    <tr>\n",
       "      <td>5</td>\n",
       "      <td>Digestive System</td>\n",
       "      <td>0.006824</td>\n",
       "    </tr>\n",
       "    <tr>\n",
       "      <td>6</td>\n",
       "      <td>Circulatory System</td>\n",
       "      <td>0.006735</td>\n",
       "    </tr>\n",
       "    <tr>\n",
       "      <td>7</td>\n",
       "      <td>Respiratory System</td>\n",
       "      <td>0.005521</td>\n",
       "    </tr>\n",
       "    <tr>\n",
       "      <td>8</td>\n",
       "      <td>Genitourinary System</td>\n",
       "      <td>0.004981</td>\n",
       "    </tr>\n",
       "    <tr>\n",
       "      <td>9</td>\n",
       "      <td>TRANSFERTIME</td>\n",
       "      <td>0.004773</td>\n",
       "    </tr>\n",
       "  </tbody>\n",
       "</table>\n",
       "</div>"
      ],
      "text/plain": [
       "               Features  Importance\n",
       "0                  DRUG    0.730777\n",
       "1               Num_CPT    0.136790\n",
       "2               ICUSTAY    0.028921\n",
       "3   Infectious Diseases    0.009280\n",
       "4                Injury    0.007109\n",
       "5      Digestive System    0.006824\n",
       "6    Circulatory System    0.006735\n",
       "7    Respiratory System    0.005521\n",
       "8  Genitourinary System    0.004981\n",
       "9          TRANSFERTIME    0.004773"
      ]
     },
     "execution_count": 159,
     "metadata": {
      "tags": []
     },
     "output_type": "execute_result"
    }
   ],
   "source": [
    "feature_importance = []\n",
    "for i, feature in enumerate(reg_model.feature_importances_):\n",
    "    feature_importance.append((X_train.columns[i], feature))\n",
    "\n",
    "# top 10 features\n",
    "feature_importance = pd.DataFrame(sorted(feature_importance, key=lambda x: x[1], reverse = True))\n",
    "feature_importance.columns = ['Features', 'Importance']\n",
    "feature_importance[:10]"
   ]
  },
  {
   "cell_type": "code",
   "execution_count": 0,
   "metadata": {
    "colab": {},
    "colab_type": "code",
    "id": "f7RHaWGCnT-X",
    "outputId": "6117a836-8d35-4953-c12b-59dfe66711f7"
   },
   "outputs": [
    {
     "data": {
      "image/png": "[encoded data removed]",
      "text/plain": [
       "<Figure size 1080x432 with 1 Axes>"
      ]
     },
     "metadata": {
      "needs_background": "light",
      "tags": []
     },
     "output_type": "display_data"
    }
   ],
   "source": [
    "# plot\n",
    "x = feature_importance['Features'][:10]\n",
    "y = feature_importance['Importance'][:10]\n",
    "plt.figure(figsize = (15, 6))\n",
    "plt.bar(x, y)\n",
    "plt.title('Top 10 features for predicting LOS')\n",
    "plt.xlabel('Features')\n",
    "plt.ylabel('LOS')\n",
    "plt.xticks(rotation=90)\n",
    "plt.show()"
   ]
  },
  {
   "cell_type": "markdown",
   "metadata": {
    "colab_type": "text",
    "id": "9_0cUGrtnT-Y"
   },
   "source": [
    "#### Compare with Mean and Median LOS"
   ]
  },
  {
   "cell_type": "code",
   "execution_count": 0,
   "metadata": {
    "colab": {},
    "colab_type": "code",
    "id": "-UCgCt37nT-Y"
   },
   "outputs": [],
   "source": [
    "ml_model = 0\n",
    "ml_median = 0\n",
    "ml_ave = 0\n",
    "for i in range(y_preds.shape[0]):\n",
    "    ml_model_rms = np.power((y_preds[i] - y_test[i]), 2)\n",
    "    ml_model += ml_model_rms\n",
    "    median_model = np.power((median_los - y_test[i]), 2)\n",
    "    ml_median += median_model\n",
    "    average_model = np.power((mean_los - y_test[i]), 2)\n",
    "    ml_ave += average_model"
   ]
  },
  {
   "cell_type": "code",
   "execution_count": 0,
   "metadata": {
    "colab": {},
    "colab_type": "code",
    "id": "ljGutBMXnT-Y"
   },
   "outputs": [],
   "source": [
    "Regression_RMSE = ((ml_model ** 0.5)/y_preds.shape[0])*100\n",
    "Median_RMSE = ((ml_median**0.5)/y_preds.shape[0])*100\n",
    "Average_RMSE = ((ml_ave**0.5)/y_preds.shape[0])*100"
   ]
  },
  {
   "cell_type": "code",
   "execution_count": 0,
   "metadata": {
    "colab": {},
    "colab_type": "code",
    "id": "w-YWX6xZnT-Z",
    "outputId": "de05bbc3-4909-488f-a6f9-64fdc1f11a4e"
   },
   "outputs": [
    {
     "name": "stdout",
     "output_type": "stream",
     "text": [
      "Regression Model RMS 0.27%\n",
      "Median Model RMS 11.64%\n",
      "Average Model RMS 10.55%\n"
     ]
    }
   ],
   "source": [
    "print(\"Regression Model RMS {:.2f}%\".format(Regression_RMSE))\n",
    "print(\"Median Model RMS {:.2f}%\".format(Median_RMSE))\n",
    "print(\"Average Model RMS {:.2f}%\".format(Average_RMSE))"
   ]
  },
  {
   "cell_type": "code",
   "execution_count": 0,
   "metadata": {
    "colab": {},
    "colab_type": "code",
    "id": "FK0yO5z-nT-Z"
   },
   "outputs": [],
   "source": [
    "RMSE = [Regression_RMSE, Median_RMSE, Average_RMSE]\n",
    "x = ['Regression Model', 'Average', 'Median']"
   ]
  },
  {
   "cell_type": "code",
   "execution_count": 0,
   "metadata": {
    "colab": {},
    "colab_type": "code",
    "id": "wWrvAtPRnT-a",
    "outputId": "5dbf1114-e52c-48e4-f2cf-a447fb905c30"
   },
   "outputs": [
    {
     "data": {
      "text/plain": [
       "Text(0.5, 0, 'Model Type')"
      ]
     },
     "execution_count": 165,
     "metadata": {
      "tags": []
     },
     "output_type": "execute_result"
    },
    {
     "data": {
      "image/png": "[encoded data removed]",
      "text/plain": [
       "<Figure size 432x288 with 1 Axes>"
      ]
     },
     "metadata": {
      "needs_background": "light",
      "tags": []
     },
     "output_type": "display_data"
    }
   ],
   "source": [
    "plt.barh(x, RMSE)\n",
    "plt.title('RMSE comparisons')\n",
    "plt.ylabel('RMSE')\n",
    "plt.xlabel('Model Type')"
   ]
  },
  {
   "cell_type": "markdown",
   "metadata": {
    "colab_type": "text",
    "id": "TXoFR7gHnT-a"
   },
   "source": [
    "### 2.2 Classification Model"
   ]
  },
  {
   "cell_type": "markdown",
   "metadata": {
    "colab_type": "text",
    "id": "S18r1CM4nT-b"
   },
   "source": [
    "I then frame it as a classification problem with 4 classes, one for ICU shorter than one day, one for less than one week, one for over one week but less than two weeks and one for stay over two weeks."
   ]
  },
  {
   "cell_type": "markdown",
   "metadata": {
    "colab_type": "text",
    "id": "6Cl0vMa7nT-b"
   },
   "source": [
    "<img src=\"images/pre.png\"/>"
   ]
  },
  {
   "cell_type": "code",
   "execution_count": 0,
   "metadata": {
    "colab": {},
    "colab_type": "code",
    "id": "pNpseDJWnT-b"
   },
   "outputs": [],
   "source": [
    "df_clean = pd.read_csv('/content/new_df.csv', index_col=0)"
   ]
  },
  {
   "cell_type": "code",
   "execution_count": 0,
   "metadata": {
    "colab": {},
    "colab_type": "code",
    "id": "2xzk6qnknT-b"
   },
   "outputs": [],
   "source": [
    "# target \n",
    "LOS = df_clean['LOS'].values  # y\n",
    "# features\n",
    "features = df_clean.drop('LOS', axis=1) # X"
   ]
  },
  {
   "cell_type": "code",
   "execution_count": 0,
   "metadata": {
    "colab": {},
    "colab_type": "code",
    "id": "oyRkT4w-nT-c"
   },
   "outputs": [],
   "source": [
    "# frame to 4 classes\n",
    "bins = [0, 4, 8, 15, 300]\n",
    "labels = ['less than three day', 'three to one week', 'one to two weeks', 'more than two weeks']\n",
    "\n",
    "y = pd.cut(LOS, bins=bins, labels=labels, right=False)"
   ]
  },
  {
   "cell_type": "code",
   "execution_count": 0,
   "metadata": {
    "colab": {
     "base_uri": "https://localhost:8080/",
     "height": 102
    },
    "colab_type": "code",
    "id": "QBJVN4xAnT-c",
    "outputId": "c536c18a-8bcc-4066-952f-4b0a63ae3f4b"
   },
   "outputs": [
    {
     "data": {
      "text/plain": [
       "less than three day     6421\n",
       "three to one week      17319\n",
       "one to two weeks       20432\n",
       "more than two weeks    23231\n",
       "dtype: int64"
      ]
     },
     "execution_count": 7,
     "metadata": {
      "tags": []
     },
     "output_type": "execute_result"
    }
   ],
   "source": [
    "y.value_counts()"
   ]
  },
  {
   "cell_type": "code",
   "execution_count": 0,
   "metadata": {
    "colab": {},
    "colab_type": "code",
    "id": "ac-np-HrnT-d"
   },
   "outputs": [],
   "source": [
    "X_train, X_test, y_train, y_test = train_test_split(features, y, test_size = .33, random_state = 42)"
   ]
  },
  {
   "cell_type": "code",
   "execution_count": 0,
   "metadata": {
    "colab": {},
    "colab_type": "code",
    "id": "mJ8iarSGnT-d"
   },
   "outputs": [],
   "source": [
    "# Compare different models\n",
    "model_class = [RandomForestClassifier(), \n",
    "               KNeighborsClassifier(), \n",
    "               linear_model.SGDClassifier(), \n",
    "               GaussianNB()]"
   ]
  },
  {
   "cell_type": "code",
   "execution_count": 0,
   "metadata": {
    "colab": {
     "base_uri": "https://localhost:8080/",
     "height": 85
    },
    "colab_type": "code",
    "id": "N8MhZYrAnT-e",
    "outputId": "a5be4da5-6624-4596-d0cc-591b6eac3e5b"
   },
   "outputs": [
    {
     "name": "stdout",
     "output_type": "stream",
     "text": [
      "Classification Model: RandomForestClassifier, Recall: 99.81%, Precision: 99.88%, Accuracy: 99.89%\n",
      "Classification Model: KNeighborsClassifier, Recall: 95.79%, Precision: 95.51%, Accuracy: 96.38%\n",
      "Classification Model: SGDClassifier, Recall: 65.74%, Precision: 66.43%, Accuracy: 64.52%\n",
      "Classification Model: GaussianNB, Recall: 62.03%, Precision: 57.91%, Accuracy: 59.44%\n"
     ]
    }
   ],
   "source": [
    "for model in model_class:\n",
    "    class_model = model\n",
    "    class_model.fit(X_train, y_train)\n",
    "    \n",
    "    y_preds = class_model.predict(X_test)\n",
    "    \n",
    "    name = str(model).split(\"(\")[0]\n",
    "    \n",
    "    conf_mx = confusion_matrix(y_test, y_preds)\n",
    "\n",
    "    recall = np.mean(np.diag(conf_mx) / np.sum(conf_mx, axis = 1))*100\n",
    "    precision = np.mean(np.diag(conf_mx) / np.sum(conf_mx, axis = 0))*100\n",
    "    accuracy = (np.sum(np.diag(conf_mx)) / np.sum(conf_mx))*100\n",
    "    \n",
    "    print('Classification Model: {}, Recall: {:.2f}%, Precision: {:.2f}%, Accuracy: {:.2f}%'.format(name, recall, precision, accuracy))"
   ]
  },
  {
   "cell_type": "code",
   "execution_count": 0,
   "metadata": {
    "colab": {},
    "colab_type": "code",
    "id": "2w8UntolnT-e"
   },
   "outputs": [],
   "source": [
    "class_model = RandomForestClassifier()"
   ]
  },
  {
   "cell_type": "code",
   "execution_count": 0,
   "metadata": {
    "colab": {},
    "colab_type": "code",
    "id": "DVH5lT-HnT-f"
   },
   "outputs": [],
   "source": [
    "class_model.fit(X_train, y_train)\n",
    "y_preds = class_model.predict(X_test)"
   ]
  },
  {
   "cell_type": "code",
   "execution_count": 0,
   "metadata": {
    "colab": {},
    "colab_type": "code",
    "id": "xPUP_d91nYI1"
   },
   "outputs": [],
   "source": [
    "with open('newdata/class_model', 'wb') as f:\n",
    "    pickle.dump(class_model, f)"
   ]
  },
  {
   "cell_type": "code",
   "execution_count": 0,
   "metadata": {
    "colab": {},
    "colab_type": "code",
    "id": "2XVrN8vBmZTp"
   },
   "outputs": [],
   "source": [
    "with open('newdata/class_model', 'rb') as f:\n",
    "    class_model = pickle.load(f)"
   ]
  },
  {
   "cell_type": "code",
   "execution_count": 0,
   "metadata": {
    "colab": {},
    "colab_type": "code",
    "id": "9iXzzYxtnT-f"
   },
   "outputs": [],
   "source": [
    "conf_mx = confusion_matrix(y_test, y_preds)"
   ]
  },
  {
   "cell_type": "code",
   "execution_count": 9,
   "metadata": {
    "colab": {
     "base_uri": "https://localhost:8080/",
     "height": 85
    },
    "colab_type": "code",
    "id": "iMYEbrkHnT-f",
    "outputId": "caeeca7c-85d5-4185-e367-e11632430900"
   },
   "outputs": [
    {
     "data": {
      "text/plain": [
       "array([[2138,    0,    0,   12],\n",
       "       [   0, 7645,    6,    0],\n",
       "       [   0,    3, 6730,    8],\n",
       "       [   6,    0,    4, 5691]])"
      ]
     },
     "execution_count": 9,
     "metadata": {
      "tags": []
     },
     "output_type": "execute_result"
    }
   ],
   "source": [
    "conf_mx"
   ]
  },
  {
   "cell_type": "code",
   "execution_count": 0,
   "metadata": {
    "colab": {},
    "colab_type": "code",
    "id": "pp06kPg9nT-g"
   },
   "outputs": [],
   "source": [
    "recall = np.mean(np.diag(conf_mx) / np.sum(conf_mx, axis = 1))*100\n",
    "precision = np.mean(np.diag(conf_mx) / np.sum(conf_mx, axis = 0))*100\n",
    "accuracy = (np.sum(np.diag(conf_mx)) / np.sum(conf_mx))*100"
   ]
  },
  {
   "cell_type": "code",
   "execution_count": 11,
   "metadata": {
    "colab": {
     "base_uri": "https://localhost:8080/",
     "height": 34
    },
    "colab_type": "code",
    "id": "T-0QNr1LnT-h",
    "outputId": "a596a86c-101a-4658-e0c3-9cb0d109e6bc"
   },
   "outputs": [
    {
     "name": "stdout",
     "output_type": "stream",
     "text": [
      "Classification Model: RandomForestClassifier, Recall: 99.76%, Precision: 99.80%, Accuracy: 99.82%\n"
     ]
    }
   ],
   "source": [
    "print('Classification Model: RandomForestClassifier, Recall: {:.2f}%, Precision: {:.2f}%, Accuracy: {:.2f}%'.format(recall, precision, accuracy))"
   ]
  },
  {
   "cell_type": "code",
   "execution_count": 12,
   "metadata": {
    "colab": {
     "base_uri": "https://localhost:8080/",
     "height": 204
    },
    "colab_type": "code",
    "id": "GMyCPQdnnT-h",
    "outputId": "bec0d019-79c6-452c-fdf5-6b0c79e7b305",
    "scrolled": true
   },
   "outputs": [
    {
     "name": "stdout",
     "output_type": "stream",
     "text": [
      "                     precision    recall  f1-score   support\n",
      "\n",
      "less than three day       1.00      0.99      1.00      2150\n",
      "more than two weeks       1.00      1.00      1.00      7651\n",
      "   one to two weeks       1.00      1.00      1.00      6741\n",
      "  three to one week       1.00      1.00      1.00      5701\n",
      "\n",
      "           accuracy                           1.00     22243\n",
      "          macro avg       1.00      1.00      1.00     22243\n",
      "       weighted avg       1.00      1.00      1.00     22243\n",
      "\n"
     ]
    }
   ],
   "source": [
    "print(classification_report(y_test,y_preds))"
   ]
  },
  {
   "cell_type": "code",
   "execution_count": 15,
   "metadata": {
    "colab": {
     "base_uri": "https://localhost:8080/",
     "height": 522
    },
    "colab_type": "code",
    "id": "FNyn0b63nT-i",
    "outputId": "1d688daf-e3db-480b-a8f8-1374765add6a"
   },
   "outputs": [
    {
     "data": {
      "image/png": "[encoded data removed]",
      "text/plain": [
       "<Figure size 720x576 with 2 Axes>"
      ]
     },
     "metadata": {
      "tags": []
     },
     "output_type": "display_data"
    }
   ],
   "source": [
    "plt.figure(figsize=(10,8))\n",
    "ax = plt.subplot()\n",
    "sns.set(font_scale=1.4) # Adjust to fit\n",
    "sns.heatmap(conf_mx, ax=ax, cmap=\"Blues\", annot = True, annot_kws={\"size\": 10});  \n",
    "\n",
    "# Labels, title and ticks\n",
    "label_font = {'size':'12'}  # Adjust to fit\n",
    "ax.set_xlabel('Predicted labels', fontdict=label_font);\n",
    "ax.set_ylabel('Observed labels', fontdict=label_font);\n",
    "\n",
    "title_font = {'size':'14'}  # Adjust to fit\n",
    "ax.set_title('Confusion Matrix', fontdict=title_font);\n",
    "\n",
    "ax.tick_params(axis='both', which='major', labelsize=12)  # Adjust to fit\n",
    "ax.xaxis.set_ticklabels(['<= three day', '<= one week', 'one to two weeks', '> two weeks']);\n",
    "ax.yaxis.set_ticklabels(['<= three day', '<= one week', 'one to two weeks', '> two weeks']);\n",
    "plt.show()"
   ]
  },
  {
   "cell_type": "code",
   "execution_count": 0,
   "metadata": {
    "colab": {
     "base_uri": "https://localhost:8080/",
     "height": 359
    },
    "colab_type": "code",
    "id": "aJjSvCojofAD",
    "outputId": "b3883be4-6d1f-4db5-9c26-834d44655179"
   },
   "outputs": [
    {
     "data": {
      "text/html": [
       "<div>\n",
       "<style scoped>\n",
       "    .dataframe tbody tr th:only-of-type {\n",
       "        vertical-align: middle;\n",
       "    }\n",
       "\n",
       "    .dataframe tbody tr th {\n",
       "        vertical-align: top;\n",
       "    }\n",
       "\n",
       "    .dataframe thead th {\n",
       "        text-align: right;\n",
       "    }\n",
       "</style>\n",
       "<table border=\"1\" class=\"dataframe\">\n",
       "  <thead>\n",
       "    <tr style=\"text-align: right;\">\n",
       "      <th></th>\n",
       "      <th>Features</th>\n",
       "      <th>Importance</th>\n",
       "    </tr>\n",
       "  </thead>\n",
       "  <tbody>\n",
       "    <tr>\n",
       "      <td>0</td>\n",
       "      <td>DRUG</td>\n",
       "      <td>0.208575</td>\n",
       "    </tr>\n",
       "    <tr>\n",
       "      <td>1</td>\n",
       "      <td>Num_CPT</td>\n",
       "      <td>0.138877</td>\n",
       "    </tr>\n",
       "    <tr>\n",
       "      <td>2</td>\n",
       "      <td>ICUSTAY</td>\n",
       "      <td>0.121925</td>\n",
       "    </tr>\n",
       "    <tr>\n",
       "      <td>3</td>\n",
       "      <td>Injury</td>\n",
       "      <td>0.033926</td>\n",
       "    </tr>\n",
       "    <tr>\n",
       "      <td>4</td>\n",
       "      <td>Circulatory System</td>\n",
       "      <td>0.032167</td>\n",
       "    </tr>\n",
       "    <tr>\n",
       "      <td>5</td>\n",
       "      <td>Respiratory System</td>\n",
       "      <td>0.028055</td>\n",
       "    </tr>\n",
       "    <tr>\n",
       "      <td>6</td>\n",
       "      <td>Endocrine, Immunity Disorders</td>\n",
       "      <td>0.023524</td>\n",
       "    </tr>\n",
       "    <tr>\n",
       "      <td>7</td>\n",
       "      <td>Digestive System</td>\n",
       "      <td>0.023435</td>\n",
       "    </tr>\n",
       "    <tr>\n",
       "      <td>8</td>\n",
       "      <td>TRANSFERTIME</td>\n",
       "      <td>0.022021</td>\n",
       "    </tr>\n",
       "    <tr>\n",
       "      <td>9</td>\n",
       "      <td>Genitourinary System</td>\n",
       "      <td>0.019176</td>\n",
       "    </tr>\n",
       "  </tbody>\n",
       "</table>\n",
       "</div>"
      ],
      "text/plain": [
       "                        Features  Importance\n",
       "0                           DRUG    0.208575\n",
       "1                        Num_CPT    0.138877\n",
       "2                        ICUSTAY    0.121925\n",
       "3                         Injury    0.033926\n",
       "4             Circulatory System    0.032167\n",
       "5             Respiratory System    0.028055\n",
       "6  Endocrine, Immunity Disorders    0.023524\n",
       "7               Digestive System    0.023435\n",
       "8                   TRANSFERTIME    0.022021\n",
       "9           Genitourinary System    0.019176"
      ]
     },
     "execution_count": 183,
     "metadata": {
      "tags": []
     },
     "output_type": "execute_result"
    }
   ],
   "source": [
    "feature_importance = []\n",
    "for i, feature in enumerate(class_model.feature_importances_):\n",
    "    feature_importance.append((X_train.columns[i], feature))\n",
    "\n",
    "# top 10 features\n",
    "feature_importance = pd.DataFrame(sorted(feature_importance, key=lambda x: x[1], reverse = True))\n",
    "feature_importance.columns = ['Features', 'Importance']\n",
    "feature_importance[:10]"
   ]
  },
  {
   "cell_type": "code",
   "execution_count": 0,
   "metadata": {
    "colab": {
     "base_uri": "https://localhost:8080/",
     "height": 640
    },
    "colab_type": "code",
    "id": "mn-sX__norwE",
    "outputId": "18e52f54-a7ae-44b4-8750-d35aa549e0ac"
   },
   "outputs": [
    {
     "data": {
      "image/png": "[encoded data removed]",
      "text/plain": [
       "<Figure size 1080x432 with 1 Axes>"
      ]
     },
     "metadata": {
      "tags": []
     },
     "output_type": "display_data"
    }
   ],
   "source": [
    "# plot\n",
    "x = feature_importance['Features'][:10]\n",
    "y = feature_importance['Importance'][:10]\n",
    "plt.figure(figsize = (15, 6))\n",
    "plt.bar(x, y)\n",
    "plt.title('Top 10 features for predicting LOS by Classification')\n",
    "plt.xlabel('Features')\n",
    "plt.ylabel('LOS')\n",
    "plt.xticks(rotation=90)\n",
    "plt.show()"
   ]
  },
  {
   "cell_type": "markdown",
   "metadata": {
    "colab_type": "text",
    "id": "T-X-5iyHnT-i"
   },
   "source": [
    "### 2.3 RNN LSTM"
   ]
  },
  {
   "cell_type": "code",
   "execution_count": 4,
   "metadata": {
    "colab": {},
    "colab_type": "code",
    "id": "zrEGlazYnT-j"
   },
   "outputs": [],
   "source": [
    "df_clean = pd.read_csv('newdata/new_df.csv', index_col=0)"
   ]
  },
  {
   "cell_type": "code",
   "execution_count": 0,
   "metadata": {
    "colab": {},
    "colab_type": "code",
    "id": "dv4XPFqInT-j"
   },
   "outputs": [],
   "source": [
    "# target \n",
    "LOS = df_clean['LOS'].values  # y\n",
    "# features\n",
    "features = df_clean.drop('LOS', axis=1) # X\n",
    "\n",
    "# frame to 4 classes\n",
    "bins = [0, 4, 8, 15, 300]\n",
    "labels = ['less than three day', 'three to one week', 'one to two weeks', 'more than two weeks']\n",
    "\n",
    "df_clean['LOS'] = pd.cut(LOS, bins=bins, labels=labels, right=False)"
   ]
  },
  {
   "cell_type": "code",
   "execution_count": 0,
   "metadata": {
    "colab": {
     "base_uri": "https://localhost:8080/",
     "height": 102
    },
    "colab_type": "code",
    "id": "ZF15jaK_nT-k",
    "outputId": "3c4a4596-dd59-45f5-886b-68d814bdfe40"
   },
   "outputs": [
    {
     "data": {
      "text/plain": [
       "more than two weeks    23306\n",
       "one to two weeks       20447\n",
       "three to one week      17331\n",
       "less than three day     6421\n",
       "Name: LOS, dtype: int64"
      ]
     },
     "execution_count": 52,
     "metadata": {
      "tags": []
     },
     "output_type": "execute_result"
    }
   ],
   "source": [
    "df_clean['LOS'].value_counts()"
   ]
  },
  {
   "cell_type": "code",
   "execution_count": 0,
   "metadata": {
    "colab": {},
    "colab_type": "code",
    "id": "xQ0ob6m6nT-k"
   },
   "outputs": [],
   "source": [
    "# make balanced classes\n",
    "# avoid underfitting\n",
    "shuffled = df_clean.reindex(np.random.permutation(df_clean.index))\n",
    "one_week = shuffled[shuffled['LOS'] == 'three to one week'][:10000]\n",
    "one_two = shuffled[shuffled['LOS'] == 'one to two weeks'][:13000]\n",
    "two_more = shuffled[shuffled['LOS'] == 'more than two weeks'][:13000]\n",
    "three_day = shuffled[shuffled['LOS'] == 'less than three day']\n",
    "concated = pd.concat([three_day, one_week, one_two, two_more], ignore_index=True)"
   ]
  },
  {
   "cell_type": "code",
   "execution_count": 0,
   "metadata": {
    "colab": {},
    "colab_type": "code",
    "id": "MBsDk_yonT-l"
   },
   "outputs": [],
   "source": [
    "le = LabelEncoder()\n",
    "labels = le.fit_transform(concated['LOS'])"
   ]
  },
  {
   "cell_type": "code",
   "execution_count": 0,
   "metadata": {
    "colab": {},
    "colab_type": "code",
    "id": "4gL7Rg2unT-l"
   },
   "outputs": [],
   "source": [
    "labels = to_categorical(labels, num_classes=4)"
   ]
  },
  {
   "cell_type": "code",
   "execution_count": 0,
   "metadata": {
    "colab": {
     "base_uri": "https://localhost:8080/",
     "height": 136
    },
    "colab_type": "code",
    "id": "6x5mLI3QnT-m",
    "outputId": "08657cb7-aab6-43f1-8858-378bea587df2"
   },
   "outputs": [
    {
     "data": {
      "text/plain": [
       "array([[1., 0., 0., 0.],\n",
       "       [1., 0., 0., 0.],\n",
       "       [1., 0., 0., 0.],\n",
       "       ...,\n",
       "       [0., 1., 0., 0.],\n",
       "       [0., 1., 0., 0.],\n",
       "       [0., 1., 0., 0.]], dtype=float32)"
      ]
     },
     "execution_count": 56,
     "metadata": {
      "tags": []
     },
     "output_type": "execute_result"
    }
   ],
   "source": [
    "labels"
   ]
  },
  {
   "cell_type": "code",
   "execution_count": 0,
   "metadata": {
    "colab": {
     "base_uri": "https://localhost:8080/",
     "height": 321
    },
    "colab_type": "code",
    "id": "P4iTyKU7nT-n",
    "outputId": "a58f6b8b-b095-4fc1-90c8-d9ae956f2798"
   },
   "outputs": [
    {
     "data": {
      "text/html": [
       "<div>\n",
       "<style scoped>\n",
       "    .dataframe tbody tr th:only-of-type {\n",
       "        vertical-align: middle;\n",
       "    }\n",
       "\n",
       "    .dataframe tbody tr th {\n",
       "        vertical-align: top;\n",
       "    }\n",
       "\n",
       "    .dataframe thead th {\n",
       "        text-align: right;\n",
       "    }\n",
       "</style>\n",
       "<table border=\"1\" class=\"dataframe\">\n",
       "  <thead>\n",
       "    <tr style=\"text-align: right;\">\n",
       "      <th></th>\n",
       "      <th>DRUG</th>\n",
       "      <th>GSN</th>\n",
       "      <th>CPT_CD</th>\n",
       "      <th>REQUEST_TELE</th>\n",
       "      <th>REQUEST_RESP</th>\n",
       "      <th>REQUEST_CDIFF</th>\n",
       "      <th>REQUEST_MRSA</th>\n",
       "      <th>REQUEST_VRE</th>\n",
       "      <th>TRANSFERTIME</th>\n",
       "      <th>blood diseases</th>\n",
       "      <th>circulatory system</th>\n",
       "      <th>complications of pregnancy</th>\n",
       "      <th>congenital anomalies</th>\n",
       "      <th>digestive system</th>\n",
       "      <th>endocrine,immunity disorders</th>\n",
       "      <th>genitourinary system</th>\n",
       "      <th>infectious diseases</th>\n",
       "      <th>injury</th>\n",
       "      <th>mental disorders</th>\n",
       "      <th>musculoskeletal system</th>\n",
       "      <th>neoplasms</th>\n",
       "      <th>nervous system and sense organs</th>\n",
       "      <th>perinatal period</th>\n",
       "      <th>respiratory system</th>\n",
       "      <th>skin and subcutaneous tissue</th>\n",
       "      <th>symptoms,ill-defined conditions</th>\n",
       "      <th>STOP_D/C'd</th>\n",
       "      <th>STOP_NotStopd</th>\n",
       "      <th>STOP_Restart</th>\n",
       "      <th>STOP_Stopped</th>\n",
       "      <th>EVEN_admit</th>\n",
       "      <th>EVEN_discharge</th>\n",
       "      <th>EVEN_transfer</th>\n",
       "      <th>SER_CMED</th>\n",
       "      <th>SER_CSURG</th>\n",
       "      <th>SER_DENT</th>\n",
       "      <th>SER_ENT</th>\n",
       "      <th>SER_GU</th>\n",
       "      <th>SER_GYN</th>\n",
       "      <th>SER_MED</th>\n",
       "      <th>...</th>\n",
       "      <th>SER_SURG</th>\n",
       "      <th>SER_TRAUM</th>\n",
       "      <th>SER_TSURG</th>\n",
       "      <th>SER_VSURG</th>\n",
       "      <th>CARE_ICU</th>\n",
       "      <th>AGE_newborn</th>\n",
       "      <th>AGE_teens</th>\n",
       "      <th>AGE_young-adult</th>\n",
       "      <th>AGE_adult</th>\n",
       "      <th>AGE_senior</th>\n",
       "      <th>DB_carevue</th>\n",
       "      <th>DB_carevue &amp; metavision</th>\n",
       "      <th>DB_metavision</th>\n",
       "      <th>GENDER_F</th>\n",
       "      <th>GENDER_M</th>\n",
       "      <th>INSUR_Government</th>\n",
       "      <th>INSUR_Medicaid</th>\n",
       "      <th>INSUR_Medicare</th>\n",
       "      <th>INSUR_Private</th>\n",
       "      <th>INSUR_Self Pay</th>\n",
       "      <th>RELI_CATHOLIC</th>\n",
       "      <th>RELI_JEWISH</th>\n",
       "      <th>RELI_NOT SPECIFIED</th>\n",
       "      <th>RELI_OTHER</th>\n",
       "      <th>RELI_PROTESTANT QUAKER</th>\n",
       "      <th>RELI_UNOBTAINABLE</th>\n",
       "      <th>MARR_DIVORCED</th>\n",
       "      <th>MARR_LIFE PARTNER</th>\n",
       "      <th>MARR_MARRIED</th>\n",
       "      <th>MARR_OTHER</th>\n",
       "      <th>MARR_SEPARATED</th>\n",
       "      <th>MARR_SINGLE</th>\n",
       "      <th>MARR_UNKNOWN (DEFAULT)</th>\n",
       "      <th>MARR_WIDOWED</th>\n",
       "      <th>ETH_ASIAN</th>\n",
       "      <th>ETH_BLACK/AFRICAN AMERICAN</th>\n",
       "      <th>ETH_HISPANIC OR LATINO</th>\n",
       "      <th>ETH_OTHER</th>\n",
       "      <th>ETH_UNKNOWN/NOT SPECIFIED</th>\n",
       "      <th>ETH_WHITE</th>\n",
       "    </tr>\n",
       "  </thead>\n",
       "  <tbody>\n",
       "    <tr>\n",
       "      <th>0</th>\n",
       "      <td>27</td>\n",
       "      <td>24</td>\n",
       "      <td>4</td>\n",
       "      <td>0</td>\n",
       "      <td>0</td>\n",
       "      <td>0</td>\n",
       "      <td>0</td>\n",
       "      <td>0</td>\n",
       "      <td>1</td>\n",
       "      <td>0</td>\n",
       "      <td>2</td>\n",
       "      <td>0</td>\n",
       "      <td>0</td>\n",
       "      <td>0</td>\n",
       "      <td>1</td>\n",
       "      <td>1</td>\n",
       "      <td>1</td>\n",
       "      <td>1</td>\n",
       "      <td>0</td>\n",
       "      <td>1</td>\n",
       "      <td>0</td>\n",
       "      <td>0</td>\n",
       "      <td>0</td>\n",
       "      <td>1</td>\n",
       "      <td>0</td>\n",
       "      <td>0</td>\n",
       "      <td>0</td>\n",
       "      <td>0</td>\n",
       "      <td>0</td>\n",
       "      <td>1</td>\n",
       "      <td>0</td>\n",
       "      <td>1</td>\n",
       "      <td>0</td>\n",
       "      <td>0</td>\n",
       "      <td>0</td>\n",
       "      <td>0</td>\n",
       "      <td>0</td>\n",
       "      <td>0</td>\n",
       "      <td>0</td>\n",
       "      <td>1</td>\n",
       "      <td>...</td>\n",
       "      <td>0</td>\n",
       "      <td>0</td>\n",
       "      <td>0</td>\n",
       "      <td>0</td>\n",
       "      <td>1</td>\n",
       "      <td>0</td>\n",
       "      <td>0</td>\n",
       "      <td>0</td>\n",
       "      <td>0</td>\n",
       "      <td>1</td>\n",
       "      <td>1</td>\n",
       "      <td>0</td>\n",
       "      <td>0</td>\n",
       "      <td>0</td>\n",
       "      <td>1</td>\n",
       "      <td>0</td>\n",
       "      <td>0</td>\n",
       "      <td>1</td>\n",
       "      <td>0</td>\n",
       "      <td>0</td>\n",
       "      <td>1</td>\n",
       "      <td>0</td>\n",
       "      <td>0</td>\n",
       "      <td>0</td>\n",
       "      <td>0</td>\n",
       "      <td>0</td>\n",
       "      <td>0</td>\n",
       "      <td>0</td>\n",
       "      <td>1</td>\n",
       "      <td>0</td>\n",
       "      <td>0</td>\n",
       "      <td>0</td>\n",
       "      <td>0</td>\n",
       "      <td>0</td>\n",
       "      <td>0</td>\n",
       "      <td>0</td>\n",
       "      <td>0</td>\n",
       "      <td>0</td>\n",
       "      <td>0</td>\n",
       "      <td>1</td>\n",
       "    </tr>\n",
       "    <tr>\n",
       "      <th>1</th>\n",
       "      <td>5</td>\n",
       "      <td>5</td>\n",
       "      <td>3</td>\n",
       "      <td>0</td>\n",
       "      <td>0</td>\n",
       "      <td>0</td>\n",
       "      <td>0</td>\n",
       "      <td>0</td>\n",
       "      <td>1</td>\n",
       "      <td>0</td>\n",
       "      <td>0</td>\n",
       "      <td>0</td>\n",
       "      <td>0</td>\n",
       "      <td>0</td>\n",
       "      <td>0</td>\n",
       "      <td>0</td>\n",
       "      <td>0</td>\n",
       "      <td>9</td>\n",
       "      <td>1</td>\n",
       "      <td>0</td>\n",
       "      <td>0</td>\n",
       "      <td>0</td>\n",
       "      <td>0</td>\n",
       "      <td>0</td>\n",
       "      <td>0</td>\n",
       "      <td>0</td>\n",
       "      <td>0</td>\n",
       "      <td>0</td>\n",
       "      <td>0</td>\n",
       "      <td>1</td>\n",
       "      <td>0</td>\n",
       "      <td>1</td>\n",
       "      <td>0</td>\n",
       "      <td>0</td>\n",
       "      <td>0</td>\n",
       "      <td>0</td>\n",
       "      <td>0</td>\n",
       "      <td>0</td>\n",
       "      <td>0</td>\n",
       "      <td>1</td>\n",
       "      <td>...</td>\n",
       "      <td>0</td>\n",
       "      <td>0</td>\n",
       "      <td>0</td>\n",
       "      <td>0</td>\n",
       "      <td>1</td>\n",
       "      <td>0</td>\n",
       "      <td>0</td>\n",
       "      <td>1</td>\n",
       "      <td>0</td>\n",
       "      <td>0</td>\n",
       "      <td>1</td>\n",
       "      <td>0</td>\n",
       "      <td>0</td>\n",
       "      <td>1</td>\n",
       "      <td>0</td>\n",
       "      <td>0</td>\n",
       "      <td>0</td>\n",
       "      <td>0</td>\n",
       "      <td>1</td>\n",
       "      <td>0</td>\n",
       "      <td>0</td>\n",
       "      <td>0</td>\n",
       "      <td>0</td>\n",
       "      <td>0</td>\n",
       "      <td>0</td>\n",
       "      <td>1</td>\n",
       "      <td>0</td>\n",
       "      <td>0</td>\n",
       "      <td>0</td>\n",
       "      <td>1</td>\n",
       "      <td>0</td>\n",
       "      <td>0</td>\n",
       "      <td>0</td>\n",
       "      <td>0</td>\n",
       "      <td>0</td>\n",
       "      <td>0</td>\n",
       "      <td>0</td>\n",
       "      <td>0</td>\n",
       "      <td>1</td>\n",
       "      <td>0</td>\n",
       "    </tr>\n",
       "    <tr>\n",
       "      <th>2</th>\n",
       "      <td>39</td>\n",
       "      <td>34</td>\n",
       "      <td>5</td>\n",
       "      <td>0</td>\n",
       "      <td>0</td>\n",
       "      <td>0</td>\n",
       "      <td>0</td>\n",
       "      <td>0</td>\n",
       "      <td>1</td>\n",
       "      <td>0</td>\n",
       "      <td>0</td>\n",
       "      <td>0</td>\n",
       "      <td>0</td>\n",
       "      <td>0</td>\n",
       "      <td>1</td>\n",
       "      <td>0</td>\n",
       "      <td>0</td>\n",
       "      <td>2</td>\n",
       "      <td>2</td>\n",
       "      <td>0</td>\n",
       "      <td>0</td>\n",
       "      <td>0</td>\n",
       "      <td>0</td>\n",
       "      <td>2</td>\n",
       "      <td>0</td>\n",
       "      <td>0</td>\n",
       "      <td>0</td>\n",
       "      <td>0</td>\n",
       "      <td>0</td>\n",
       "      <td>1</td>\n",
       "      <td>0</td>\n",
       "      <td>0</td>\n",
       "      <td>1</td>\n",
       "      <td>0</td>\n",
       "      <td>0</td>\n",
       "      <td>0</td>\n",
       "      <td>0</td>\n",
       "      <td>0</td>\n",
       "      <td>0</td>\n",
       "      <td>1</td>\n",
       "      <td>...</td>\n",
       "      <td>0</td>\n",
       "      <td>0</td>\n",
       "      <td>0</td>\n",
       "      <td>0</td>\n",
       "      <td>1</td>\n",
       "      <td>0</td>\n",
       "      <td>0</td>\n",
       "      <td>0</td>\n",
       "      <td>1</td>\n",
       "      <td>0</td>\n",
       "      <td>1</td>\n",
       "      <td>0</td>\n",
       "      <td>0</td>\n",
       "      <td>1</td>\n",
       "      <td>0</td>\n",
       "      <td>0</td>\n",
       "      <td>0</td>\n",
       "      <td>0</td>\n",
       "      <td>1</td>\n",
       "      <td>0</td>\n",
       "      <td>1</td>\n",
       "      <td>0</td>\n",
       "      <td>0</td>\n",
       "      <td>0</td>\n",
       "      <td>0</td>\n",
       "      <td>0</td>\n",
       "      <td>0</td>\n",
       "      <td>0</td>\n",
       "      <td>1</td>\n",
       "      <td>0</td>\n",
       "      <td>0</td>\n",
       "      <td>0</td>\n",
       "      <td>0</td>\n",
       "      <td>0</td>\n",
       "      <td>0</td>\n",
       "      <td>0</td>\n",
       "      <td>0</td>\n",
       "      <td>0</td>\n",
       "      <td>0</td>\n",
       "      <td>1</td>\n",
       "    </tr>\n",
       "    <tr>\n",
       "      <th>3</th>\n",
       "      <td>11</td>\n",
       "      <td>9</td>\n",
       "      <td>5</td>\n",
       "      <td>0</td>\n",
       "      <td>0</td>\n",
       "      <td>0</td>\n",
       "      <td>0</td>\n",
       "      <td>0</td>\n",
       "      <td>1</td>\n",
       "      <td>1</td>\n",
       "      <td>1</td>\n",
       "      <td>0</td>\n",
       "      <td>0</td>\n",
       "      <td>1</td>\n",
       "      <td>1</td>\n",
       "      <td>0</td>\n",
       "      <td>0</td>\n",
       "      <td>3</td>\n",
       "      <td>1</td>\n",
       "      <td>0</td>\n",
       "      <td>1</td>\n",
       "      <td>0</td>\n",
       "      <td>0</td>\n",
       "      <td>0</td>\n",
       "      <td>0</td>\n",
       "      <td>0</td>\n",
       "      <td>0</td>\n",
       "      <td>0</td>\n",
       "      <td>1</td>\n",
       "      <td>0</td>\n",
       "      <td>0</td>\n",
       "      <td>1</td>\n",
       "      <td>0</td>\n",
       "      <td>0</td>\n",
       "      <td>0</td>\n",
       "      <td>0</td>\n",
       "      <td>0</td>\n",
       "      <td>0</td>\n",
       "      <td>0</td>\n",
       "      <td>1</td>\n",
       "      <td>...</td>\n",
       "      <td>0</td>\n",
       "      <td>0</td>\n",
       "      <td>0</td>\n",
       "      <td>0</td>\n",
       "      <td>1</td>\n",
       "      <td>0</td>\n",
       "      <td>0</td>\n",
       "      <td>0</td>\n",
       "      <td>0</td>\n",
       "      <td>1</td>\n",
       "      <td>1</td>\n",
       "      <td>0</td>\n",
       "      <td>0</td>\n",
       "      <td>1</td>\n",
       "      <td>0</td>\n",
       "      <td>0</td>\n",
       "      <td>0</td>\n",
       "      <td>1</td>\n",
       "      <td>0</td>\n",
       "      <td>0</td>\n",
       "      <td>1</td>\n",
       "      <td>0</td>\n",
       "      <td>0</td>\n",
       "      <td>0</td>\n",
       "      <td>0</td>\n",
       "      <td>0</td>\n",
       "      <td>0</td>\n",
       "      <td>0</td>\n",
       "      <td>0</td>\n",
       "      <td>0</td>\n",
       "      <td>0</td>\n",
       "      <td>0</td>\n",
       "      <td>0</td>\n",
       "      <td>1</td>\n",
       "      <td>0</td>\n",
       "      <td>0</td>\n",
       "      <td>0</td>\n",
       "      <td>0</td>\n",
       "      <td>0</td>\n",
       "      <td>1</td>\n",
       "    </tr>\n",
       "    <tr>\n",
       "      <th>4</th>\n",
       "      <td>32</td>\n",
       "      <td>29</td>\n",
       "      <td>3</td>\n",
       "      <td>1</td>\n",
       "      <td>0</td>\n",
       "      <td>0</td>\n",
       "      <td>0</td>\n",
       "      <td>0</td>\n",
       "      <td>1</td>\n",
       "      <td>0</td>\n",
       "      <td>3</td>\n",
       "      <td>0</td>\n",
       "      <td>0</td>\n",
       "      <td>0</td>\n",
       "      <td>1</td>\n",
       "      <td>0</td>\n",
       "      <td>0</td>\n",
       "      <td>1</td>\n",
       "      <td>0</td>\n",
       "      <td>0</td>\n",
       "      <td>0</td>\n",
       "      <td>0</td>\n",
       "      <td>0</td>\n",
       "      <td>0</td>\n",
       "      <td>0</td>\n",
       "      <td>0</td>\n",
       "      <td>1</td>\n",
       "      <td>0</td>\n",
       "      <td>0</td>\n",
       "      <td>0</td>\n",
       "      <td>1</td>\n",
       "      <td>0</td>\n",
       "      <td>0</td>\n",
       "      <td>0</td>\n",
       "      <td>0</td>\n",
       "      <td>0</td>\n",
       "      <td>0</td>\n",
       "      <td>0</td>\n",
       "      <td>0</td>\n",
       "      <td>0</td>\n",
       "      <td>...</td>\n",
       "      <td>0</td>\n",
       "      <td>0</td>\n",
       "      <td>0</td>\n",
       "      <td>0</td>\n",
       "      <td>1</td>\n",
       "      <td>0</td>\n",
       "      <td>0</td>\n",
       "      <td>0</td>\n",
       "      <td>0</td>\n",
       "      <td>1</td>\n",
       "      <td>1</td>\n",
       "      <td>0</td>\n",
       "      <td>0</td>\n",
       "      <td>0</td>\n",
       "      <td>1</td>\n",
       "      <td>0</td>\n",
       "      <td>0</td>\n",
       "      <td>0</td>\n",
       "      <td>1</td>\n",
       "      <td>0</td>\n",
       "      <td>1</td>\n",
       "      <td>0</td>\n",
       "      <td>0</td>\n",
       "      <td>0</td>\n",
       "      <td>0</td>\n",
       "      <td>0</td>\n",
       "      <td>0</td>\n",
       "      <td>0</td>\n",
       "      <td>1</td>\n",
       "      <td>0</td>\n",
       "      <td>0</td>\n",
       "      <td>0</td>\n",
       "      <td>0</td>\n",
       "      <td>0</td>\n",
       "      <td>0</td>\n",
       "      <td>0</td>\n",
       "      <td>0</td>\n",
       "      <td>0</td>\n",
       "      <td>0</td>\n",
       "      <td>1</td>\n",
       "    </tr>\n",
       "  </tbody>\n",
       "</table>\n",
       "<p>5 rows × 87 columns</p>\n",
       "</div>"
      ],
      "text/plain": [
       "   DRUG  GSN  CPT_CD  ...  ETH_OTHER  ETH_UNKNOWN/NOT SPECIFIED  ETH_WHITE\n",
       "0    27   24       4  ...          0                          0          1\n",
       "1     5    5       3  ...          0                          1          0\n",
       "2    39   34       5  ...          0                          0          1\n",
       "3    11    9       5  ...          0                          0          1\n",
       "4    32   29       3  ...          0                          0          1\n",
       "\n",
       "[5 rows x 87 columns]"
      ]
     },
     "execution_count": 57,
     "metadata": {
      "tags": []
     },
     "output_type": "execute_result"
    }
   ],
   "source": [
    "X = concated.drop('LOS', axis=1)\n",
    "X = X.iloc[:, 1:]\n",
    "X.head()"
   ]
  },
  {
   "cell_type": "code",
   "execution_count": 0,
   "metadata": {
    "colab": {},
    "colab_type": "code",
    "id": "9UpkgrcKnT-n"
   },
   "outputs": [],
   "source": [
    "X_train, X_test, y_train, y_test = train_test_split(X, labels, test_size = .33, random_state = 42)"
   ]
  },
  {
   "cell_type": "code",
   "execution_count": 0,
   "metadata": {
    "colab": {},
    "colab_type": "code",
    "id": "oXvCLdK8nT-o"
   },
   "outputs": [],
   "source": [
    "epochs = 100\n",
    "batch_size = 256"
   ]
  },
  {
   "cell_type": "code",
   "execution_count": 0,
   "metadata": {
    "colab": {
     "base_uri": "https://localhost:8080/",
     "height": 374
    },
    "colab_type": "code",
    "id": "Zf8JuQ67nT-o",
    "outputId": "ff0dba8b-74b0-4dc9-fe57-6421ab9c7648"
   },
   "outputs": [
    {
     "name": "stdout",
     "output_type": "stream",
     "text": [
      "Model: \"sequential_1\"\n",
      "_________________________________________________________________\n",
      "Layer (type)                 Output Shape              Param #   \n",
      "=================================================================\n",
      "dense_4 (Dense)              (None, 2048)              180224    \n",
      "_________________________________________________________________\n",
      "dense_5 (Dense)              (None, 2048)              4196352   \n",
      "_________________________________________________________________\n",
      "dropout_2 (Dropout)          (None, 2048)              0         \n",
      "_________________________________________________________________\n",
      "dense_6 (Dense)              (None, 2048)              4196352   \n",
      "_________________________________________________________________\n",
      "dropout_3 (Dropout)          (None, 2048)              0         \n",
      "_________________________________________________________________\n",
      "dense_7 (Dense)              (None, 4)                 8196      \n",
      "=================================================================\n",
      "Total params: 8,581,124\n",
      "Trainable params: 8,581,124\n",
      "Non-trainable params: 0\n",
      "_________________________________________________________________\n",
      "None\n"
     ]
    }
   ],
   "source": [
    "# Use of DROPOUT to avoid over fitting\n",
    "model = Sequential()\n",
    "model.add(Dense(2048, activation='relu', kernel_regularizer=regularizers.l2(0.001), input_shape=(X.shape[1],)))\n",
    "model.add(Dense(2048, activation='relu', kernel_regularizer=regularizers.l2(0.001)))\n",
    "model.add(Dropout(0.5))\n",
    "model.add(Dense(2048, activation='relu', kernel_regularizer=regularizers.l2(0.001)))\n",
    "model.add(Dropout(0.5))\n",
    "model.add(Dense(4, activation='softmax'))\n",
    "\n",
    "model.compile(optimizer=optimizers.Adam(lr=1e-5), loss='categorical_crossentropy', metrics=['accuracy'])\n",
    "\n",
    "\n",
    "# model = Sequential()\n",
    "# model.add(Embedding(100000, 128, input_length=features.shape[1]))\n",
    "# model.add(LSTM(128, dropout=0.8, recurrent_dropout=0.8))\n",
    "# model.add(Dense(4, activation='softmax'))\n",
    "# model.compile(optimizer='adam', loss='categorical_crossentropy', metrics=['accuracy'])\n",
    "print(model.summary())"
   ]
  },
  {
   "cell_type": "code",
   "execution_count": 0,
   "metadata": {
    "colab": {
     "base_uri": "https://localhost:8080/",
     "height": 1000
    },
    "colab_type": "code",
    "id": "Yc4Zl8GonT-p",
    "outputId": "2fa2655c-dc91-49bf-eaa7-173d9757ad7f"
   },
   "outputs": [
    {
     "name": "stdout",
     "output_type": "stream",
     "text": [
      "Epoch 1/100\n",
      "112/112 [==============================] - 1s 12ms/step - loss: 7.1443 - accuracy: 0.3175 - val_loss: 5.3929 - val_accuracy: 0.3955\n",
      "Epoch 2/100\n",
      "112/112 [==============================] - 1s 10ms/step - loss: 5.8886 - accuracy: 0.3642 - val_loss: 5.0013 - val_accuracy: 0.4442\n",
      "Epoch 3/100\n",
      "112/112 [==============================] - 1s 10ms/step - loss: 5.2319 - accuracy: 0.4096 - val_loss: 4.7365 - val_accuracy: 0.4877\n",
      "Epoch 4/100\n",
      "112/112 [==============================] - 1s 10ms/step - loss: 4.8282 - accuracy: 0.4597 - val_loss: 4.4919 - val_accuracy: 0.5921\n",
      "Epoch 5/100\n",
      "112/112 [==============================] - 1s 10ms/step - loss: 4.5329 - accuracy: 0.5170 - val_loss: 4.3059 - val_accuracy: 0.6171\n",
      "Epoch 6/100\n",
      "112/112 [==============================] - 1s 10ms/step - loss: 4.3100 - accuracy: 0.5624 - val_loss: 4.1334 - val_accuracy: 0.6408\n",
      "Epoch 7/100\n",
      "112/112 [==============================] - 1s 10ms/step - loss: 4.1315 - accuracy: 0.5874 - val_loss: 3.9853 - val_accuracy: 0.6464\n",
      "Epoch 8/100\n",
      "112/112 [==============================] - 1s 10ms/step - loss: 3.9793 - accuracy: 0.6161 - val_loss: 3.8393 - val_accuracy: 0.6746\n",
      "Epoch 9/100\n",
      "112/112 [==============================] - 1s 10ms/step - loss: 3.8372 - accuracy: 0.6331 - val_loss: 3.7180 - val_accuracy: 0.6799\n",
      "Epoch 10/100\n",
      "112/112 [==============================] - 1s 10ms/step - loss: 3.7114 - accuracy: 0.6464 - val_loss: 3.6000 - val_accuracy: 0.6933\n",
      "Epoch 11/100\n",
      "112/112 [==============================] - 1s 10ms/step - loss: 3.6005 - accuracy: 0.6578 - val_loss: 3.4959 - val_accuracy: 0.6980\n",
      "Epoch 12/100\n",
      "112/112 [==============================] - 1s 10ms/step - loss: 3.5002 - accuracy: 0.6660 - val_loss: 3.4101 - val_accuracy: 0.6971\n",
      "Epoch 13/100\n",
      "112/112 [==============================] - 1s 10ms/step - loss: 3.4088 - accuracy: 0.6718 - val_loss: 3.3176 - val_accuracy: 0.6985\n",
      "Epoch 14/100\n",
      "112/112 [==============================] - 1s 10ms/step - loss: 3.3187 - accuracy: 0.6768 - val_loss: 3.2334 - val_accuracy: 0.7028\n",
      "Epoch 15/100\n",
      "112/112 [==============================] - 1s 10ms/step - loss: 3.2400 - accuracy: 0.6813 - val_loss: 3.1595 - val_accuracy: 0.7053\n",
      "Epoch 16/100\n",
      "112/112 [==============================] - 1s 10ms/step - loss: 3.1684 - accuracy: 0.6829 - val_loss: 3.1032 - val_accuracy: 0.7038\n",
      "Epoch 17/100\n",
      "112/112 [==============================] - 1s 10ms/step - loss: 3.1006 - accuracy: 0.6903 - val_loss: 3.0293 - val_accuracy: 0.7107\n",
      "Epoch 18/100\n",
      "112/112 [==============================] - 1s 10ms/step - loss: 3.0372 - accuracy: 0.6915 - val_loss: 2.9674 - val_accuracy: 0.7094\n",
      "Epoch 19/100\n",
      "112/112 [==============================] - 1s 10ms/step - loss: 2.9775 - accuracy: 0.6960 - val_loss: 2.9128 - val_accuracy: 0.7133\n",
      "Epoch 20/100\n",
      "112/112 [==============================] - 1s 10ms/step - loss: 2.9228 - accuracy: 0.6974 - val_loss: 2.8624 - val_accuracy: 0.7123\n",
      "Epoch 21/100\n",
      "112/112 [==============================] - 1s 10ms/step - loss: 2.8797 - accuracy: 0.6968 - val_loss: 2.8187 - val_accuracy: 0.7163\n",
      "Epoch 22/100\n",
      "112/112 [==============================] - 1s 10ms/step - loss: 2.8271 - accuracy: 0.7006 - val_loss: 2.7717 - val_accuracy: 0.7146\n",
      "Epoch 23/100\n",
      "112/112 [==============================] - 1s 10ms/step - loss: 2.7830 - accuracy: 0.7020 - val_loss: 2.7316 - val_accuracy: 0.7164\n",
      "Epoch 24/100\n",
      "112/112 [==============================] - 1s 10ms/step - loss: 2.7406 - accuracy: 0.6997 - val_loss: 2.6891 - val_accuracy: 0.7193\n",
      "Epoch 25/100\n",
      "112/112 [==============================] - 1s 10ms/step - loss: 2.7037 - accuracy: 0.7018 - val_loss: 2.6493 - val_accuracy: 0.7213\n",
      "Epoch 26/100\n",
      "112/112 [==============================] - 1s 10ms/step - loss: 2.6678 - accuracy: 0.7049 - val_loss: 2.6183 - val_accuracy: 0.7210\n",
      "Epoch 27/100\n",
      "112/112 [==============================] - 1s 10ms/step - loss: 2.6334 - accuracy: 0.7051 - val_loss: 2.5830 - val_accuracy: 0.7242\n",
      "Epoch 28/100\n",
      "112/112 [==============================] - 1s 10ms/step - loss: 2.5993 - accuracy: 0.7058 - val_loss: 2.5706 - val_accuracy: 0.7181\n",
      "Epoch 29/100\n",
      "112/112 [==============================] - 1s 11ms/step - loss: 2.5721 - accuracy: 0.7070 - val_loss: 2.5270 - val_accuracy: 0.7262\n",
      "Epoch 30/100\n",
      "112/112 [==============================] - 1s 10ms/step - loss: 2.5389 - accuracy: 0.7056 - val_loss: 2.4988 - val_accuracy: 0.7247\n",
      "Epoch 31/100\n",
      "112/112 [==============================] - 1s 10ms/step - loss: 2.5136 - accuracy: 0.7051 - val_loss: 2.4763 - val_accuracy: 0.7222\n",
      "Epoch 32/100\n",
      "112/112 [==============================] - 1s 10ms/step - loss: 2.4861 - accuracy: 0.7099 - val_loss: 2.4447 - val_accuracy: 0.7289\n",
      "Epoch 33/100\n",
      "112/112 [==============================] - 1s 10ms/step - loss: 2.4660 - accuracy: 0.7134 - val_loss: 2.4253 - val_accuracy: 0.7267\n",
      "Epoch 34/100\n",
      "112/112 [==============================] - 1s 10ms/step - loss: 2.4383 - accuracy: 0.7112 - val_loss: 2.4073 - val_accuracy: 0.7231\n",
      "Epoch 35/100\n",
      "112/112 [==============================] - 1s 10ms/step - loss: 2.4137 - accuracy: 0.7123 - val_loss: 2.3779 - val_accuracy: 0.7301\n",
      "Epoch 36/100\n",
      "112/112 [==============================] - 1s 10ms/step - loss: 2.3967 - accuracy: 0.7142 - val_loss: 2.3681 - val_accuracy: 0.7260\n",
      "Epoch 37/100\n",
      "112/112 [==============================] - 1s 10ms/step - loss: 2.3737 - accuracy: 0.7118 - val_loss: 2.3445 - val_accuracy: 0.7265\n",
      "Epoch 38/100\n",
      "112/112 [==============================] - 1s 10ms/step - loss: 2.3526 - accuracy: 0.7141 - val_loss: 2.3211 - val_accuracy: 0.7286\n",
      "Epoch 39/100\n",
      "112/112 [==============================] - 1s 10ms/step - loss: 2.3406 - accuracy: 0.7131 - val_loss: 2.3206 - val_accuracy: 0.7191\n",
      "Epoch 40/100\n",
      "112/112 [==============================] - 1s 10ms/step - loss: 2.3184 - accuracy: 0.7118 - val_loss: 2.2819 - val_accuracy: 0.7309\n",
      "Epoch 41/100\n",
      "112/112 [==============================] - 1s 10ms/step - loss: 2.2919 - accuracy: 0.7188 - val_loss: 2.2686 - val_accuracy: 0.7283\n",
      "Epoch 42/100\n",
      "112/112 [==============================] - 1s 10ms/step - loss: 2.2779 - accuracy: 0.7171 - val_loss: 2.2622 - val_accuracy: 0.7251\n",
      "Epoch 43/100\n",
      "112/112 [==============================] - 1s 10ms/step - loss: 2.2677 - accuracy: 0.7124 - val_loss: 2.2289 - val_accuracy: 0.7331\n",
      "Epoch 44/100\n",
      "112/112 [==============================] - 1s 10ms/step - loss: 2.2399 - accuracy: 0.7189 - val_loss: 2.2142 - val_accuracy: 0.7317\n",
      "Epoch 45/100\n",
      "112/112 [==============================] - 1s 10ms/step - loss: 2.2232 - accuracy: 0.7197 - val_loss: 2.2013 - val_accuracy: 0.7280\n",
      "Epoch 46/100\n",
      "112/112 [==============================] - 1s 10ms/step - loss: 2.2049 - accuracy: 0.7194 - val_loss: 2.1768 - val_accuracy: 0.7336\n",
      "Epoch 47/100\n",
      "112/112 [==============================] - 1s 11ms/step - loss: 2.1862 - accuracy: 0.7230 - val_loss: 2.1982 - val_accuracy: 0.7141\n",
      "Epoch 48/100\n",
      "112/112 [==============================] - 1s 10ms/step - loss: 2.1721 - accuracy: 0.7163 - val_loss: 2.1425 - val_accuracy: 0.7351\n",
      "Epoch 49/100\n",
      "112/112 [==============================] - 1s 10ms/step - loss: 2.1564 - accuracy: 0.7207 - val_loss: 2.1252 - val_accuracy: 0.7373\n",
      "Epoch 50/100\n",
      "112/112 [==============================] - 1s 10ms/step - loss: 2.1370 - accuracy: 0.7206 - val_loss: 2.1132 - val_accuracy: 0.7344\n",
      "Epoch 51/100\n",
      "112/112 [==============================] - 1s 10ms/step - loss: 2.1242 - accuracy: 0.7225 - val_loss: 2.0909 - val_accuracy: 0.7391\n",
      "Epoch 52/100\n",
      "112/112 [==============================] - 1s 10ms/step - loss: 2.1057 - accuracy: 0.7183 - val_loss: 2.0771 - val_accuracy: 0.7368\n",
      "Epoch 53/100\n",
      "112/112 [==============================] - 1s 10ms/step - loss: 2.0875 - accuracy: 0.7220 - val_loss: 2.0618 - val_accuracy: 0.7351\n",
      "Epoch 54/100\n",
      "112/112 [==============================] - 1s 10ms/step - loss: 2.0761 - accuracy: 0.7209 - val_loss: 2.0425 - val_accuracy: 0.7374\n",
      "Epoch 55/100\n",
      "112/112 [==============================] - 1s 10ms/step - loss: 2.0500 - accuracy: 0.7218 - val_loss: 2.0248 - val_accuracy: 0.7376\n",
      "Epoch 56/100\n",
      "112/112 [==============================] - 1s 10ms/step - loss: 2.0380 - accuracy: 0.7219 - val_loss: 2.0253 - val_accuracy: 0.7273\n",
      "Epoch 57/100\n",
      "112/112 [==============================] - 1s 10ms/step - loss: 2.0226 - accuracy: 0.7192 - val_loss: 1.9944 - val_accuracy: 0.7378\n",
      "Epoch 58/100\n",
      "112/112 [==============================] - 1s 10ms/step - loss: 2.0027 - accuracy: 0.7243 - val_loss: 1.9796 - val_accuracy: 0.7341\n",
      "Epoch 59/100\n",
      "112/112 [==============================] - 1s 10ms/step - loss: 1.9873 - accuracy: 0.7240 - val_loss: 1.9608 - val_accuracy: 0.7384\n",
      "Epoch 60/100\n",
      "112/112 [==============================] - 1s 10ms/step - loss: 1.9685 - accuracy: 0.7206 - val_loss: 1.9419 - val_accuracy: 0.7405\n",
      "Epoch 61/100\n",
      "112/112 [==============================] - 1s 10ms/step - loss: 1.9539 - accuracy: 0.7247 - val_loss: 1.9432 - val_accuracy: 0.7285\n",
      "Epoch 62/100\n",
      "112/112 [==============================] - 1s 10ms/step - loss: 1.9389 - accuracy: 0.7237 - val_loss: 1.9107 - val_accuracy: 0.7396\n",
      "Epoch 63/100\n",
      "112/112 [==============================] - 1s 10ms/step - loss: 1.9187 - accuracy: 0.7254 - val_loss: 1.8929 - val_accuracy: 0.7383\n",
      "Epoch 64/100\n",
      "112/112 [==============================] - 1s 10ms/step - loss: 1.9019 - accuracy: 0.7240 - val_loss: 1.8764 - val_accuracy: 0.7404\n",
      "Epoch 65/100\n",
      "112/112 [==============================] - 1s 10ms/step - loss: 1.8862 - accuracy: 0.7265 - val_loss: 1.8579 - val_accuracy: 0.7408\n",
      "Epoch 66/100\n",
      "112/112 [==============================] - 1s 10ms/step - loss: 1.8653 - accuracy: 0.7258 - val_loss: 1.8432 - val_accuracy: 0.7410\n",
      "Epoch 67/100\n",
      "112/112 [==============================] - 1s 10ms/step - loss: 1.8490 - accuracy: 0.7289 - val_loss: 1.8282 - val_accuracy: 0.7382\n",
      "Epoch 68/100\n",
      "112/112 [==============================] - 1s 10ms/step - loss: 1.8350 - accuracy: 0.7240 - val_loss: 1.8193 - val_accuracy: 0.7367\n",
      "Epoch 69/100\n",
      "112/112 [==============================] - 1s 10ms/step - loss: 1.8187 - accuracy: 0.7267 - val_loss: 1.8078 - val_accuracy: 0.7313\n",
      "Epoch 70/100\n",
      "112/112 [==============================] - 1s 10ms/step - loss: 1.8062 - accuracy: 0.7248 - val_loss: 1.7805 - val_accuracy: 0.7415\n",
      "Epoch 71/100\n",
      "112/112 [==============================] - 1s 10ms/step - loss: 1.7853 - accuracy: 0.7287 - val_loss: 1.7602 - val_accuracy: 0.7417\n",
      "Epoch 72/100\n",
      "112/112 [==============================] - 1s 10ms/step - loss: 1.7760 - accuracy: 0.7280 - val_loss: 1.7455 - val_accuracy: 0.7408\n",
      "Epoch 73/100\n",
      "112/112 [==============================] - 1s 10ms/step - loss: 1.7539 - accuracy: 0.7283 - val_loss: 1.7389 - val_accuracy: 0.7331\n",
      "Epoch 74/100\n",
      "112/112 [==============================] - 1s 10ms/step - loss: 1.7420 - accuracy: 0.7252 - val_loss: 1.7160 - val_accuracy: 0.7423\n",
      "Epoch 75/100\n",
      "112/112 [==============================] - 1s 10ms/step - loss: 1.7229 - accuracy: 0.7260 - val_loss: 1.7007 - val_accuracy: 0.7403\n",
      "Epoch 76/100\n",
      "112/112 [==============================] - 1s 10ms/step - loss: 1.7105 - accuracy: 0.7264 - val_loss: 1.6842 - val_accuracy: 0.7438\n",
      "Epoch 77/100\n",
      "112/112 [==============================] - 1s 10ms/step - loss: 1.6931 - accuracy: 0.7283 - val_loss: 1.6700 - val_accuracy: 0.7416\n",
      "Epoch 78/100\n",
      "112/112 [==============================] - 1s 10ms/step - loss: 1.6789 - accuracy: 0.7286 - val_loss: 1.6575 - val_accuracy: 0.7411\n",
      "Epoch 79/100\n",
      "112/112 [==============================] - 1s 10ms/step - loss: 1.6634 - accuracy: 0.7260 - val_loss: 1.6450 - val_accuracy: 0.7402\n",
      "Epoch 80/100\n",
      "112/112 [==============================] - 1s 10ms/step - loss: 1.6452 - accuracy: 0.7269 - val_loss: 1.6226 - val_accuracy: 0.7438\n",
      "Epoch 81/100\n",
      "112/112 [==============================] - 1s 10ms/step - loss: 1.6294 - accuracy: 0.7288 - val_loss: 1.6082 - val_accuracy: 0.7446\n",
      "Epoch 82/100\n",
      "112/112 [==============================] - 1s 10ms/step - loss: 1.6144 - accuracy: 0.7289 - val_loss: 1.5950 - val_accuracy: 0.7457\n",
      "Epoch 83/100\n",
      "112/112 [==============================] - 1s 10ms/step - loss: 1.5983 - accuracy: 0.7323 - val_loss: 1.5932 - val_accuracy: 0.7360\n",
      "Epoch 84/100\n",
      "112/112 [==============================] - 1s 10ms/step - loss: 1.5866 - accuracy: 0.7305 - val_loss: 1.5644 - val_accuracy: 0.7466\n",
      "Epoch 85/100\n",
      "112/112 [==============================] - 1s 10ms/step - loss: 1.5702 - accuracy: 0.7309 - val_loss: 1.5533 - val_accuracy: 0.7453\n",
      "Epoch 86/100\n",
      "112/112 [==============================] - 1s 10ms/step - loss: 1.5645 - accuracy: 0.7289 - val_loss: 1.5380 - val_accuracy: 0.7451\n",
      "Epoch 87/100\n",
      "112/112 [==============================] - 1s 10ms/step - loss: 1.5439 - accuracy: 0.7309 - val_loss: 1.5309 - val_accuracy: 0.7426\n",
      "Epoch 88/100\n",
      "112/112 [==============================] - 1s 10ms/step - loss: 1.5347 - accuracy: 0.7332 - val_loss: 1.5121 - val_accuracy: 0.7452\n",
      "Epoch 89/100\n",
      "112/112 [==============================] - 1s 10ms/step - loss: 1.5208 - accuracy: 0.7317 - val_loss: 1.5121 - val_accuracy: 0.7384\n",
      "Epoch 90/100\n",
      "112/112 [==============================] - 1s 11ms/step - loss: 1.5083 - accuracy: 0.7312 - val_loss: 1.4883 - val_accuracy: 0.7435\n",
      "Epoch 91/100\n",
      "112/112 [==============================] - 1s 10ms/step - loss: 1.4944 - accuracy: 0.7312 - val_loss: 1.4735 - val_accuracy: 0.7475\n",
      "Epoch 92/100\n",
      "112/112 [==============================] - 1s 10ms/step - loss: 1.4824 - accuracy: 0.7299 - val_loss: 1.4739 - val_accuracy: 0.7358\n",
      "Epoch 93/100\n",
      "112/112 [==============================] - 1s 10ms/step - loss: 1.4666 - accuracy: 0.7308 - val_loss: 1.4547 - val_accuracy: 0.7443\n",
      "Epoch 94/100\n",
      "112/112 [==============================] - 1s 10ms/step - loss: 1.4538 - accuracy: 0.7337 - val_loss: 1.4392 - val_accuracy: 0.7471\n",
      "Epoch 95/100\n",
      "112/112 [==============================] - 1s 10ms/step - loss: 1.4397 - accuracy: 0.7330 - val_loss: 1.4262 - val_accuracy: 0.7454\n",
      "Epoch 96/100\n",
      "112/112 [==============================] - 1s 10ms/step - loss: 1.4309 - accuracy: 0.7334 - val_loss: 1.4158 - val_accuracy: 0.7463\n",
      "Epoch 97/100\n",
      "112/112 [==============================] - 1s 10ms/step - loss: 1.4208 - accuracy: 0.7330 - val_loss: 1.4082 - val_accuracy: 0.7456\n",
      "Epoch 98/100\n",
      "112/112 [==============================] - 1s 10ms/step - loss: 1.4191 - accuracy: 0.7306 - val_loss: 1.4095 - val_accuracy: 0.7432\n",
      "Epoch 99/100\n",
      "112/112 [==============================] - 1s 10ms/step - loss: 1.4018 - accuracy: 0.7363 - val_loss: 1.3835 - val_accuracy: 0.7476\n",
      "Epoch 100/100\n",
      "112/112 [==============================] - 1s 10ms/step - loss: 1.3948 - accuracy: 0.7349 - val_loss: 1.3770 - val_accuracy: 0.7453\n"
     ]
    }
   ],
   "source": [
    "history = model.fit(X_train, y_train, epochs=epochs, batch_size=batch_size, validation_data=(X_test, y_test))"
   ]
  },
  {
   "cell_type": "code",
   "execution_count": 0,
   "metadata": {
    "colab": {
     "base_uri": "https://localhost:8080/",
     "height": 569
    },
    "colab_type": "code",
    "id": "Chp2W6nxnT-p",
    "outputId": "8cc250f5-f0a2-4768-9751-483559e61382"
   },
   "outputs": [
    {
     "data": {
      "image/png": "[encoded data removed]",
      "text/plain": [
       "<Figure size 432x288 with 1 Axes>"
      ]
     },
     "metadata": {
      "tags": []
     },
     "output_type": "display_data"
    },
    {
     "data": {
      "image/png": "[encoded data removed]",
      "text/plain": [
       "<Figure size 432x288 with 1 Axes>"
      ]
     },
     "metadata": {
      "tags": []
     },
     "output_type": "display_data"
    }
   ],
   "source": [
    "acc = history.history['accuracy']\n",
    "val_acc = history.history['val_accuracy']\n",
    "loss = history.history['loss']\n",
    "val_loss = history.history['val_loss']\n",
    "\n",
    "epochs = range(1, len(acc) + 1)\n",
    "\n",
    "plt.plot(epochs, acc, 'r', label='Training f1')\n",
    "plt.plot(epochs, val_acc, 'b', label='Validation f1')\n",
    "plt.title('Training and validation f1 Score')\n",
    "plt.legend()\n",
    "\n",
    "plt.figure()\n",
    "\n",
    "plt.plot(epochs, loss, 'r', label='Training loss')\n",
    "plt.plot(epochs, val_loss, 'b', label='Validation loss')\n",
    "plt.title('Training and validation loss')\n",
    "plt.legend()\n",
    "\n",
    "plt.show()"
   ]
  },
  {
   "cell_type": "code",
   "execution_count": 0,
   "metadata": {
    "colab": {},
    "colab_type": "code",
    "id": "cpiGAKbff6my"
   },
   "outputs": [],
   "source": [
    "model.save('/content/los.h5')"
   ]
  },
  {
   "cell_type": "code",
   "execution_count": 0,
   "metadata": {
    "colab": {
     "base_uri": "https://localhost:8080/",
     "height": 54
    },
    "colab_type": "code",
    "id": "tzrI5ew3pS96",
    "outputId": "806ed141-c235-4bbe-a47c-474b5c194c1f"
   },
   "outputs": [
    {
     "name": "stdout",
     "output_type": "stream",
     "text": [
      "WARNING:tensorflow:Error in loading the saved optimizer state. As a result, your model is starting with a freshly initialized optimizer.\n"
     ]
    }
   ],
   "source": [
    "model = load_model('/content/los.h5')"
   ]
  },
  {
   "cell_type": "code",
   "execution_count": 0,
   "metadata": {
    "colab": {},
    "colab_type": "code",
    "id": "-XcPxu9_nT-q"
   },
   "outputs": [],
   "source": [
    "predictions = model.predict(X_test)"
   ]
  },
  {
   "cell_type": "code",
   "execution_count": 0,
   "metadata": {
    "colab": {},
    "colab_type": "code",
    "id": "9k66yFp2nT-q"
   },
   "outputs": [],
   "source": [
    "idx = np.argmax(predictions, axis=-1)\n",
    "predictions = np.zeros(predictions.shape)\n",
    "predictions[np.arange(predictions.shape[0]), idx] = 1"
   ]
  },
  {
   "cell_type": "code",
   "execution_count": 0,
   "metadata": {
    "colab": {
     "base_uri": "https://localhost:8080/",
     "height": 522
    },
    "colab_type": "code",
    "id": "Vo0MV87InT-q",
    "outputId": "5189c951-2999-402a-d5ee-cf2e449139ed"
   },
   "outputs": [
    {
     "data": {
      "image/png": "[encoded data removed]",
      "text/plain": [
       "<Figure size 720x576 with 2 Axes>"
      ]
     },
     "metadata": {
      "tags": []
     },
     "output_type": "display_data"
    }
   ],
   "source": [
    "conf_mx = confusion_matrix(y_test.argmax(axis=1), predictions.argmax(axis=1))\n",
    "plt.figure(figsize=(10,8))\n",
    "ax = plt.subplot()\n",
    "sns.set(font_scale=1.4) # Adjust to fit\n",
    "sns.heatmap(conf_mx, ax=ax, cmap=\"Blues\", annot = True, annot_kws={\"size\": 10});  \n",
    "\n",
    "# Labels, title and ticks\n",
    "label_font = {'size':'12'}  # Adjust to fit\n",
    "ax.set_xlabel('Predicted labels', fontdict=label_font);\n",
    "ax.set_ylabel('Observed labels', fontdict=label_font);\n",
    "\n",
    "title_font = {'size':'14'}  # Adjust to fit\n",
    "ax.set_title('Confusion Matrix', fontdict=title_font);\n",
    "\n",
    "ax.tick_params(axis='both', which='major', labelsize=12)  # Adjust to fit\n",
    "ax.xaxis.set_ticklabels(['<= three day', '<= one week', 'one to two weeks', '> two weeks']);\n",
    "ax.yaxis.set_ticklabels(['<= three day', '<= one week', 'one to two weeks', '> two weeks']);\n",
    "plt.show()"
   ]
  },
  {
   "cell_type": "code",
   "execution_count": 0,
   "metadata": {
    "colab": {},
    "colab_type": "code",
    "id": "LxhJGloYnT-r"
   },
   "outputs": [],
   "source": [
    "# Compute ROC curve and ROC area for each class\n",
    "fpr = dict()\n",
    "tpr = dict()\n",
    "roc_auc = dict()\n",
    "for i in range(4):\n",
    "    fpr[i], tpr[i], _ = roc_curve(y_test[:, i], predictions[:, i])\n",
    "    roc_auc[i] = auc(fpr[i], tpr[i])\n",
    "\n",
    "# Compute micro-average ROC curve and ROC area\n",
    "fpr[\"micro\"], tpr[\"micro\"], _ = roc_curve(y_test.ravel(), predictions.ravel())\n",
    "roc_auc[\"micro\"] = auc(fpr[\"micro\"], tpr[\"micro\"])"
   ]
  },
  {
   "cell_type": "code",
   "execution_count": 0,
   "metadata": {
    "colab": {
     "base_uri": "https://localhost:8080/",
     "height": 315
    },
    "colab_type": "code",
    "id": "N0TeMl48nT-s",
    "outputId": "f8c3646b-8dfa-49d2-b330-d53b6803c3b1"
   },
   "outputs": [
    {
     "data": {
      "image/png": "[encoded data removed]",
      "text/plain": [
       "<Figure size 432x288 with 1 Axes>"
      ]
     },
     "metadata": {
      "tags": []
     },
     "output_type": "display_data"
    }
   ],
   "source": [
    "plt.figure()\n",
    "lw = 2\n",
    "plt.plot(fpr[2], tpr[2], color='darkorange',\n",
    "         lw=lw, label='ROC curve (area = %0.2f)' % roc_auc[2])\n",
    "plt.plot([0, 1], [0, 1], color='navy', lw=lw, linestyle='--')\n",
    "plt.xlim([0.0, 1.0])\n",
    "plt.ylim([0.0, 1.05])\n",
    "plt.xlabel('False Positive Rate')\n",
    "plt.ylabel('True Positive Rate')\n",
    "plt.title('Receiver operating characteristic example')\n",
    "plt.legend(loc=\"lower right\")\n",
    "plt.show()"
   ]
  },
  {
   "cell_type": "code",
   "execution_count": 0,
   "metadata": {
    "colab": {},
    "colab_type": "code",
    "id": "6I1KyShGnT-s"
   },
   "outputs": [],
   "source": [
    "conf_mx = confusion_matrix(y_test.argmax(axis=1), predictions.argmax(axis=1))"
   ]
  },
  {
   "cell_type": "code",
   "execution_count": 0,
   "metadata": {
    "colab": {},
    "colab_type": "code",
    "id": "Or3rBcIfnT-t"
   },
   "outputs": [],
   "source": [
    "recall = np.mean(np.diag(conf_mx) / np.sum(conf_mx, axis = 1))*100\n",
    "precision = np.mean(np.diag(conf_mx) / np.sum(conf_mx, axis = 0))*100\n",
    "accuracy = (np.sum(np.diag(conf_mx)) / np.sum(conf_mx))*100"
   ]
  },
  {
   "cell_type": "code",
   "execution_count": 0,
   "metadata": {
    "colab": {
     "base_uri": "https://localhost:8080/",
     "height": 34
    },
    "colab_type": "code",
    "id": "706LVEEgnT-t",
    "outputId": "09c62366-7cce-4421-f652-66997c4411e9"
   },
   "outputs": [
    {
     "name": "stdout",
     "output_type": "stream",
     "text": [
      "Recall: 75.26%, Precision: 75.21%, Accuracy: 74.53%\n"
     ]
    }
   ],
   "source": [
    "print('Recall: {:.2f}%, Precision: {:.2f}%, Accuracy: {:.2f}%'.format(recall, precision, accuracy))"
   ]
  },
  {
   "cell_type": "markdown",
   "metadata": {
    "colab_type": "text",
    "id": "DXvm1zEsmZUB"
   },
   "source": [
    "# 3. Predict New Admission"
   ]
  },
  {
   "cell_type": "code",
   "execution_count": 3,
   "metadata": {
    "colab": {},
    "colab_type": "code",
    "id": "H-jGko0rmZUC"
   },
   "outputs": [],
   "source": [
    "new_df = pd.read_csv('newdata/new_df.csv', index_col = 0)"
   ]
  },
  {
   "cell_type": "code",
   "execution_count": 52,
   "metadata": {
    "colab": {},
    "colab_type": "code",
    "id": "j-_U4lDtmZUC",
    "outputId": "a50fa4f3-4aa7-4ed5-d305-f24bbe6d898d"
   },
   "outputs": [
    {
     "name": "stdout",
     "output_type": "stream",
     "text": [
      "Enter ICUSTAY days: 394\n",
      "Enter DRUG number: 205\n",
      "Enter CPT number: 63\n",
      "Enter STOPPED type ('TELE', 'RESP', 'CDIFF', 'MRSA', 'VRE', 'None'): TELE\n",
      "Enter TRANSFERTIME: 1\n",
      "Enter one of the ICD9 diagnosis, if more than one, split by '&', no space between, follow the number in ':' \n",
      "        'Blood Diseases', 'Circulatory System', \n",
      "        'Congenital Anomalies','Digestive System', \n",
      "        'Endocrine, Immunity Disorders',\n",
      "       'Genitourinary System', 'Infectious Diseases',\n",
      "       'Injury', 'Mental Disorders', 'Musculoskeletal System', \n",
      "       'Neoplasms', 'Nervous System', 'Perinatal Period', \n",
      "       'Pregnancy', 'Respiratory System',\n",
      "       'Skin and Subcutaneous Tissue', 'Symptoms Conditions', 'None': Endocrine, Immunity Disorders:2&Injury:4&Nervous System:2&Respiratory System:3&Skin and Subcutaneous Tissue:3\n",
      "Enter STOPPED type (D/C'd, NotStopd, Restart,Stopped): Restart\n",
      "Enter EVEN type ('admit', 'discharge', 'transfer'): discharge\n",
      "Enter Service type ('CMED', 'CSURG', 'MED',\n",
      "       'NMED', 'NSURG', 'OMED', 'OTHER', 'SURG',\n",
      "       'TRAUM', 'VSURG'): TRAUM\n",
      "Enter CARE_ICU number: 1\n",
      "Enter Age ('newborn', 'teens', 'young-adult', 'adult', 'senior'): young-adult\n",
      "Enter DB type ('carevue', 'carevue & metavision', 'metavision'): carevue & metavision\n",
      "Enter Gender ('F', 'M'): M\n",
      "Enter Insurance Type ('Government', 'Medicaid', 'Medicare', 'Private', 'Self Pay'): Medicaid\n",
      "Enter Religion Type ('NOT SPECIFIED', 'CATHOLIC', 'JEWISH', 'PROTESTANT QUAKER','UNOBTAINABLE', 'OTHER'): NOT SPECIFIED\n",
      "Enter Marriage ('OTHER', DIVORCED', 'LIFE PARTNER', \n",
      "          'MARRIED', 'SEPARATED', 'SINGLE', 'WIDOWED',\n",
      "          'UNKNOWN (DEFAULT)'): SINGLE\n",
      "Enter Ethnicity Type (ASIAN,BLACK/AFRICAN AMERICAN,HISPANIC OR LATINO,WHITE, OTHER, UNKNOWN/NOT SPECIFIED): WHITE\n"
     ]
    }
   ],
   "source": [
    "lst1 = pd.DataFrame([], columns = ['ICUSTAY_ID'])\n",
    "ICUSTAY_ID = input('Enter ICUSTAY days: ')\n",
    "lst1 = lst1.append({'ICUSTAY_ID': int(ICUSTAY_ID)}, ignore_index=True)\n",
    "\n",
    "lst2 = pd.DataFrame([], columns = ['DRUG'])\n",
    "d = input('Enter DRUG number: ')\n",
    "lst2 = lst2.append({'DRUG': int(d)}, ignore_index=True)\n",
    "\n",
    "lst4 = pd.DataFrame([], columns = ['Num_CPT'])\n",
    "c = input('Enter CPT number: ')\n",
    "lst4 = lst4.append({'Num_CPT': int(c)}, ignore_index=True)\n",
    "\n",
    "a = np.zeros(shape=(1,5))\n",
    "lst5 = pd.DataFrame([], columns = [\"REQUEST_TELE\", 'REQUEST_RESP', 'REQUEST_CDIFF', 'REQUEST_MRSA', 'REQUEST_VRE'])\n",
    "g = input(\"Enter STOPPED type ('TELE', 'RESP', 'CDIFF', 'MRSA', 'VRE', 'None'): \")\n",
    "if g != 'None':\n",
    "    lst5 = lst5.append({'REQUEST_{}'.format(str(g)): int(1)}, ignore_index=True)\n",
    "else:\n",
    "    lst5 = pd.DataFrame(a, columns = [\"REQUEST_TELE\", 'REQUEST_RESP', 'REQUEST_CDIFF', 'REQUEST_MRSA', 'REQUEST_VRE'])\n",
    "\n",
    "lst6 = pd.DataFrame([], columns = ['TRANSFERTIME'])\n",
    "g = input('Enter TRANSFERTIME: ')\n",
    "lst6 = lst6.append({'TRANSFERTIME': int(g)}, ignore_index=True)   \n",
    "\n",
    "\n",
    "a = np.zeros(shape=(1,17))\n",
    "col = ['Blood Diseases', 'Circulatory System', 'Congenital Anomalies',\n",
    "       'Digestive System', 'Endocrine, Immunity Disorders',\n",
    "       'Genitourinary System', 'Infectious Diseases', 'Injury',\n",
    "       'Mental Disorders', 'Musculoskeletal System', 'Neoplasms',\n",
    "       'Nervous System', 'Perinatal Period', 'Pregnancy', 'Respiratory System',\n",
    "       'Skin and Subcutaneous Tissue', 'Symptoms Conditions']\n",
    "lst7 = pd.DataFrame([], columns = col)\n",
    "g = input(\"\"\"Enter one of the ICD9 diagnosis, if more than one, split by '&', no space between, follow the number in ':' \n",
    "        'Blood Diseases', 'Circulatory System', \n",
    "        'Congenital Anomalies','Digestive System', \n",
    "        'Endocrine, Immunity Disorders',\n",
    "       'Genitourinary System', 'Infectious Diseases',\n",
    "       'Injury', 'Mental Disorders', 'Musculoskeletal System', \n",
    "       'Neoplasms', 'Nervous System', 'Perinatal Period', \n",
    "       'Pregnancy', 'Respiratory System',\n",
    "       'Skin and Subcutaneous Tissue', 'Symptoms Conditions', 'None': \"\"\")\n",
    "if g != 'None':\n",
    "    if '&' in g:\n",
    "        k = g.split('&')\n",
    "        for i in k:\n",
    "            j = i.split(':')\n",
    "            lst7 = lst7.append({'{}'.format(str(j[0])): int(j[1])}, ignore_index=True)\n",
    "        lst7 = lst7.max().to_frame().T\n",
    "    else:\n",
    "        lst7 = lst7.append({'{}'.format(str(g)): int(1)}, ignore_index=True)\n",
    "else:\n",
    "    lst7 = pd.DataFrame(a, columns = col)\n",
    "\n",
    "\n",
    "lst8 = pd.DataFrame([], columns = [\"STOP_D/C'd\", 'STOP_NotStopd', 'STOP_Restart', 'STOP_Stopped'])\n",
    "g = input(\"Enter STOPPED type (D/C'd, NotStopd, Restart,Stopped): \")\n",
    "lst8 = lst8.append({'STOP_{}'.format(str(g)): int(1)}, ignore_index=True)\n",
    "\n",
    "\n",
    "lst9 = pd.DataFrame([], columns = ['EVEN_admit', 'EVEN_discharge', 'EVEN_transfer'])\n",
    "g = input(\"Enter EVEN type ('admit', 'discharge', 'transfer'): \")\n",
    "lst9 = lst9.append({'EVEN_{}'.format(str(g)): int(1)}, ignore_index=True)\n",
    "\n",
    "\n",
    "cols = ['SER_CMED', 'SER_CSURG', 'SER_MED',\n",
    "       'SER_NMED', 'SER_NSURG', 'SER_OMED', 'SER_OTHER', 'SER_SURG',\n",
    "       'SER_TRAUM', 'SER_VSURG']\n",
    "lst10 = pd.DataFrame([], columns = cols)\n",
    "g = input(\"\"\"Enter Service type ('CMED', 'CSURG', 'MED',\n",
    "       'NMED', 'NSURG', 'OMED', 'OTHER', 'SURG',\n",
    "       'TRAUM', 'VSURG'): \"\"\")\n",
    "lst10 = lst10.append({'SER_{}'.format(str(g)): int(1)}, ignore_index=True)\n",
    "\n",
    "lsticu = pd.DataFrame([], columns = ['CARE_ICU'])\n",
    "g = input('Enter CARE_ICU number: ')\n",
    "lsticu = lsticu.append({'CARE_ICU': int(g)}, ignore_index=True)  \n",
    "\n",
    "lst11 = pd.DataFrame([], columns = ['AGE_newborn', 'AGE_teens', 'AGE_young-adult', 'AGE_adult', 'AGE_senior'])\n",
    "g = input(\"Enter Age ('newborn', 'teens', 'young-adult', 'adult', 'senior'): \")\n",
    "lst11 = lst11.append({'AGE_{}'.format(str(g)): int(1)}, ignore_index=True)\n",
    "\n",
    "lst12 = pd.DataFrame([], columns = ['DB_carevue',\n",
    "       'DB_carevue & metavision', 'DB_metavision'])\n",
    "g = input(\"Enter DB type ('carevue', 'carevue & metavision', 'metavision'): \")\n",
    "lst12 = lst12.append({'DB_{}'.format(str(g)): int(1)}, ignore_index=True)\n",
    "\n",
    "lst13 = pd.DataFrame([], columns = ['GENDER_F', 'GENDER_M'])\n",
    "g = input(\"Enter Gender ('F', 'M'): \")\n",
    "lst13 = lst13.append({'GENDER_{}'.format(str(g)): int(1)}, ignore_index=True)\n",
    "\n",
    "lst14 = pd.DataFrame([], columns = ['INSUR_Government', 'INSUR_Medicaid', 'INSUR_Medicare', 'INSUR_Private',\n",
    "       'INSUR_Self Pay'])\n",
    "g = input(\"Enter Insurance Type ('Government', 'Medicaid', 'Medicare', 'Private', 'Self Pay'): \")\n",
    "lst14 = lst14.append({'INSUR_{}'.format(str(g)): int(1)}, ignore_index=True)\n",
    "\n",
    "lst15 = pd.DataFrame([], columns = ['RELI_CATHOLIC', 'RELI_JEWISH', 'RELI_NOT SPECIFIED',\n",
    "       'RELI_OTHER', 'RELI_PROTESTANT QUAKER', 'RELI_UNOBTAINABLE'])\n",
    "g = input(\"Enter Religion Type ('NOT SPECIFIED', 'CATHOLIC', 'JEWISH', 'PROTESTANT QUAKER','UNOBTAINABLE', 'OTHER'): \")\n",
    "lst15 = lst15.append({'RELI_{}'.format(str(g)): int(1)}, ignore_index=True)\n",
    "\n",
    "lst16 = pd.DataFrame([], columns = ['MARR_DIVORCED', 'MARR_LIFE PARTNER', 'MARR_MARRIED', 'MARR_OTHER',\n",
    "       'MARR_SEPARATED', 'MARR_SINGLE', 'MARR_UNKNOWN (DEFAULT)',\n",
    "       'MARR_WIDOWED'])\n",
    "g = input(\"\"\"Enter Marriage ('OTHER', DIVORCED', 'LIFE PARTNER', \n",
    "          'MARRIED', 'SEPARATED', 'SINGLE', 'WIDOWED',\n",
    "          'UNKNOWN (DEFAULT)'): \"\"\")\n",
    "lst16 = lst16.append({'MARR_{}'.format(str(g)): int(1)}, ignore_index=True)\n",
    "\n",
    "lst17 = pd.DataFrame([], columns = ['ETH_ASIAN', 'ETH_BLACK/AFRICAN AMERICAN', \n",
    "       'ETH_HISPANIC OR LATINO', 'ETH_OTHER', 'ETH_UNKNOWN/NOT SPECIFIED',\n",
    "       'ETH_WHITE'])\n",
    "g = input(\"Enter Ethnicity Type (ASIAN,BLACK/AFRICAN AMERICAN,HISPANIC OR LATINO,WHITE, OTHER, UNKNOWN/NOT SPECIFIED): \")\n",
    "lst17 = lst17.append({'ETH_{}'.format(str(g)): int(1)}, ignore_index=True)\n"
   ]
  },
  {
   "cell_type": "code",
   "execution_count": 53,
   "metadata": {
    "colab": {},
    "colab_type": "code",
    "id": "6O-bNijumZUE"
   },
   "outputs": [],
   "source": [
    "df_test = pd.concat([lst1,lst2,lst4,lst5,lst6,lst7,lst8,lst9,lst10,lsticu,lst11,lst12,lst13,lst14,lst15,lst16,lst17], axis=1)"
   ]
  },
  {
   "cell_type": "code",
   "execution_count": 54,
   "metadata": {
    "colab": {},
    "colab_type": "code",
    "id": "dMY0D68TmZUF"
   },
   "outputs": [],
   "source": [
    "df_test = df_test.fillna(0)"
   ]
  },
  {
   "cell_type": "code",
   "execution_count": 55,
   "metadata": {},
   "outputs": [
    {
     "data": {
      "text/plain": [
       "array([[394., 205.,  63.,   1.,   0.,   0.,   0.,   0.,   1.,   0.,   0.,\n",
       "          0.,   0.,   2.,   0.,   0.,   4.,   0.,   0.,   0.,   2.,   0.,\n",
       "          0.,   3.,   3.,   0.,   0.,   0.,   1.,   0.,   0.,   1.,   0.,\n",
       "          0.,   0.,   0.,   0.,   0.,   0.,   0.,   0.,   1.,   0.,   1.,\n",
       "          0.,   0.,   1.,   0.,   0.,   0.,   1.,   0.,   0.,   1.,   0.,\n",
       "          1.,   0.,   0.,   0.,   0.,   0.,   1.,   0.,   0.,   0.,   0.,\n",
       "          0.,   0.,   0.,   0.,   1.,   0.,   0.,   0.,   0.,   0.,   0.,\n",
       "          0.,   1.]])"
      ]
     },
     "execution_count": 55,
     "metadata": {},
     "output_type": "execute_result"
    }
   ],
   "source": [
    "df_test.values #Endocrine, Immunity Disorders:2&Injury:4&Nervous System:2&Respiratory System:3&Skin and Subcutaneous Tissue:3"
   ]
  },
  {
   "cell_type": "code",
   "execution_count": 56,
   "metadata": {
    "colab": {},
    "colab_type": "code",
    "id": "49xiJT91mZUF"
   },
   "outputs": [],
   "source": [
    "# By Regression:\n",
    "with open('newdata/reg_model', 'rb') as f:\n",
    "    reg_model = pickle.load(f)"
   ]
  },
  {
   "cell_type": "code",
   "execution_count": 57,
   "metadata": {
    "colab": {},
    "colab_type": "code",
    "id": "0ag75QWnmZUG"
   },
   "outputs": [],
   "source": [
    "pred = reg_model.predict(df_test)"
   ]
  },
  {
   "cell_type": "code",
   "execution_count": 58,
   "metadata": {
    "colab": {},
    "colab_type": "code",
    "id": "YNZzUDaOmZUH",
    "outputId": "5d000a8b-e98f-4afd-a089-669398ee6fbe"
   },
   "outputs": [
    {
     "data": {
      "text/plain": [
       "array([35.97])"
      ]
     },
     "execution_count": 58,
     "metadata": {},
     "output_type": "execute_result"
    }
   ],
   "source": [
    "pred"
   ]
  },
  {
   "cell_type": "code",
   "execution_count": 59,
   "metadata": {
    "colab": {},
    "colab_type": "code",
    "id": "EIy7FKIgmZUI"
   },
   "outputs": [],
   "source": [
    "# By Classification:\n",
    "with open('newdata/class_model', 'rb') as f:\n",
    "    class_model = pickle.load(f)"
   ]
  },
  {
   "cell_type": "code",
   "execution_count": 60,
   "metadata": {
    "colab": {},
    "colab_type": "code",
    "id": "prcpLoF7mZUI"
   },
   "outputs": [],
   "source": [
    "pred_class = class_model.predict(df_test)"
   ]
  },
  {
   "cell_type": "code",
   "execution_count": 61,
   "metadata": {
    "colab": {},
    "colab_type": "code",
    "id": "bIgvs3uomZUJ",
    "outputId": "81994ba3-b637-43c0-9186-318d8a3f9770"
   },
   "outputs": [
    {
     "data": {
      "text/plain": [
       "array(['more than two weeks'], dtype=object)"
      ]
     },
     "execution_count": 61,
     "metadata": {},
     "output_type": "execute_result"
    }
   ],
   "source": [
    "pred_class"
   ]
  },
  {
   "cell_type": "code",
   "execution_count": 62,
   "metadata": {
    "colab": {},
    "colab_type": "code",
    "id": "7LDPi30tmZUL",
    "scrolled": false
   },
   "outputs": [],
   "source": [
    "pd.set_option('display.max_columns', None)\n",
    "first = new_df.tail(1)"
   ]
  },
  {
   "cell_type": "code",
   "execution_count": 63,
   "metadata": {},
   "outputs": [
    {
     "data": {
      "text/html": [
       "<div>\n",
       "<style scoped>\n",
       "    .dataframe tbody tr th:only-of-type {\n",
       "        vertical-align: middle;\n",
       "    }\n",
       "\n",
       "    .dataframe tbody tr th {\n",
       "        vertical-align: top;\n",
       "    }\n",
       "\n",
       "    .dataframe thead th {\n",
       "        text-align: right;\n",
       "    }\n",
       "</style>\n",
       "<table border=\"1\" class=\"dataframe\">\n",
       "  <thead>\n",
       "    <tr style=\"text-align: right;\">\n",
       "      <th></th>\n",
       "      <th>ICUSTAY</th>\n",
       "      <th>DRUG</th>\n",
       "      <th>Num_CPT</th>\n",
       "      <th>REQUEST_TELE</th>\n",
       "      <th>REQUEST_RESP</th>\n",
       "      <th>REQUEST_CDIFF</th>\n",
       "      <th>REQUEST_MRSA</th>\n",
       "      <th>REQUEST_VRE</th>\n",
       "      <th>TRANSFERTIME</th>\n",
       "      <th>LOS</th>\n",
       "      <th>Blood Diseases</th>\n",
       "      <th>Circulatory System</th>\n",
       "      <th>Congenital Anomalies</th>\n",
       "      <th>Digestive System</th>\n",
       "      <th>Endocrine, Immunity Disorders</th>\n",
       "      <th>Genitourinary System</th>\n",
       "      <th>Infectious Diseases</th>\n",
       "      <th>Injury</th>\n",
       "      <th>Mental Disorders</th>\n",
       "      <th>Musculoskeletal System</th>\n",
       "      <th>Neoplasms</th>\n",
       "      <th>Nervous System</th>\n",
       "      <th>Perinatal Period</th>\n",
       "      <th>Pregnancy</th>\n",
       "      <th>Respiratory System</th>\n",
       "      <th>Skin and Subcutaneous Tissue</th>\n",
       "      <th>Symptoms Conditions</th>\n",
       "      <th>STOP_D/C'd</th>\n",
       "      <th>STOP_NotStopd</th>\n",
       "      <th>STOP_Restart</th>\n",
       "      <th>STOP_Stopped</th>\n",
       "      <th>EVEN_admit</th>\n",
       "      <th>EVEN_discharge</th>\n",
       "      <th>EVEN_transfer</th>\n",
       "      <th>SER_CMED</th>\n",
       "      <th>SER_CSURG</th>\n",
       "      <th>SER_MED</th>\n",
       "      <th>SER_NMED</th>\n",
       "      <th>SER_NSURG</th>\n",
       "      <th>SER_OMED</th>\n",
       "      <th>SER_OTHER</th>\n",
       "      <th>SER_SURG</th>\n",
       "      <th>SER_TRAUM</th>\n",
       "      <th>SER_VSURG</th>\n",
       "      <th>CARE_ICU</th>\n",
       "      <th>AGE_newborn</th>\n",
       "      <th>AGE_teens</th>\n",
       "      <th>AGE_young-adult</th>\n",
       "      <th>AGE_adult</th>\n",
       "      <th>AGE_senior</th>\n",
       "      <th>DB_carevue</th>\n",
       "      <th>DB_carevue &amp; metavision</th>\n",
       "      <th>DB_metavision</th>\n",
       "      <th>GENDER_F</th>\n",
       "      <th>GENDER_M</th>\n",
       "      <th>INSUR_Government</th>\n",
       "      <th>INSUR_Medicaid</th>\n",
       "      <th>INSUR_Medicare</th>\n",
       "      <th>INSUR_Private</th>\n",
       "      <th>INSUR_Self Pay</th>\n",
       "      <th>RELI_CATHOLIC</th>\n",
       "      <th>RELI_JEWISH</th>\n",
       "      <th>RELI_NOT SPECIFIED</th>\n",
       "      <th>RELI_OTHER</th>\n",
       "      <th>RELI_PROTESTANT QUAKER</th>\n",
       "      <th>RELI_UNOBTAINABLE</th>\n",
       "      <th>MARR_DIVORCED</th>\n",
       "      <th>MARR_LIFE PARTNER</th>\n",
       "      <th>MARR_MARRIED</th>\n",
       "      <th>MARR_OTHER</th>\n",
       "      <th>MARR_SEPARATED</th>\n",
       "      <th>MARR_SINGLE</th>\n",
       "      <th>MARR_UNKNOWN (DEFAULT)</th>\n",
       "      <th>MARR_WIDOWED</th>\n",
       "      <th>ETH_ASIAN</th>\n",
       "      <th>ETH_BLACK/AFRICAN AMERICAN</th>\n",
       "      <th>ETH_HISPANIC OR LATINO</th>\n",
       "      <th>ETH_OTHER</th>\n",
       "      <th>ETH_UNKNOWN/NOT SPECIFIED</th>\n",
       "      <th>ETH_WHITE</th>\n",
       "    </tr>\n",
       "  </thead>\n",
       "  <tbody>\n",
       "    <tr>\n",
       "      <td>67402</td>\n",
       "      <td>394</td>\n",
       "      <td>205</td>\n",
       "      <td>63</td>\n",
       "      <td>1</td>\n",
       "      <td>1</td>\n",
       "      <td>0</td>\n",
       "      <td>0</td>\n",
       "      <td>0</td>\n",
       "      <td>1</td>\n",
       "      <td>37</td>\n",
       "      <td>0</td>\n",
       "      <td>1</td>\n",
       "      <td>0</td>\n",
       "      <td>0</td>\n",
       "      <td>2</td>\n",
       "      <td>0</td>\n",
       "      <td>0</td>\n",
       "      <td>4</td>\n",
       "      <td>0</td>\n",
       "      <td>0</td>\n",
       "      <td>0</td>\n",
       "      <td>2</td>\n",
       "      <td>0</td>\n",
       "      <td>0</td>\n",
       "      <td>3</td>\n",
       "      <td>3</td>\n",
       "      <td>0</td>\n",
       "      <td>0</td>\n",
       "      <td>0</td>\n",
       "      <td>1</td>\n",
       "      <td>0</td>\n",
       "      <td>0</td>\n",
       "      <td>1</td>\n",
       "      <td>0</td>\n",
       "      <td>0</td>\n",
       "      <td>0</td>\n",
       "      <td>0</td>\n",
       "      <td>0</td>\n",
       "      <td>0</td>\n",
       "      <td>0</td>\n",
       "      <td>0</td>\n",
       "      <td>0</td>\n",
       "      <td>1</td>\n",
       "      <td>0</td>\n",
       "      <td>1</td>\n",
       "      <td>0</td>\n",
       "      <td>0</td>\n",
       "      <td>1</td>\n",
       "      <td>0</td>\n",
       "      <td>0</td>\n",
       "      <td>0</td>\n",
       "      <td>1</td>\n",
       "      <td>0</td>\n",
       "      <td>0</td>\n",
       "      <td>1</td>\n",
       "      <td>0</td>\n",
       "      <td>1</td>\n",
       "      <td>0</td>\n",
       "      <td>0</td>\n",
       "      <td>0</td>\n",
       "      <td>0</td>\n",
       "      <td>0</td>\n",
       "      <td>1</td>\n",
       "      <td>0</td>\n",
       "      <td>0</td>\n",
       "      <td>0</td>\n",
       "      <td>0</td>\n",
       "      <td>0</td>\n",
       "      <td>0</td>\n",
       "      <td>0</td>\n",
       "      <td>0</td>\n",
       "      <td>1</td>\n",
       "      <td>0</td>\n",
       "      <td>0</td>\n",
       "      <td>0</td>\n",
       "      <td>0</td>\n",
       "      <td>0</td>\n",
       "      <td>0</td>\n",
       "      <td>0</td>\n",
       "      <td>1</td>\n",
       "    </tr>\n",
       "  </tbody>\n",
       "</table>\n",
       "</div>"
      ],
      "text/plain": [
       "       ICUSTAY  DRUG  Num_CPT  REQUEST_TELE  REQUEST_RESP  REQUEST_CDIFF  \\\n",
       "67402      394   205       63             1             1              0   \n",
       "\n",
       "       REQUEST_MRSA  REQUEST_VRE  TRANSFERTIME  LOS  Blood Diseases  \\\n",
       "67402             0            0             1   37               0   \n",
       "\n",
       "       Circulatory System  Congenital Anomalies  Digestive System  \\\n",
       "67402                   1                     0                 0   \n",
       "\n",
       "       Endocrine, Immunity Disorders  Genitourinary System  \\\n",
       "67402                              2                     0   \n",
       "\n",
       "       Infectious Diseases  Injury  Mental Disorders  Musculoskeletal System  \\\n",
       "67402                    0       4                 0                       0   \n",
       "\n",
       "       Neoplasms  Nervous System  Perinatal Period  Pregnancy  \\\n",
       "67402          0               2                 0          0   \n",
       "\n",
       "       Respiratory System  Skin and Subcutaneous Tissue  Symptoms Conditions  \\\n",
       "67402                   3                             3                    0   \n",
       "\n",
       "       STOP_D/C'd  STOP_NotStopd  STOP_Restart  STOP_Stopped  EVEN_admit  \\\n",
       "67402           0              0             1             0           0   \n",
       "\n",
       "       EVEN_discharge  EVEN_transfer  SER_CMED  SER_CSURG  SER_MED  SER_NMED  \\\n",
       "67402               1              0         0          0        0         0   \n",
       "\n",
       "       SER_NSURG  SER_OMED  SER_OTHER  SER_SURG  SER_TRAUM  SER_VSURG  \\\n",
       "67402          0         0          0         0          1          0   \n",
       "\n",
       "       CARE_ICU  AGE_newborn  AGE_teens  AGE_young-adult  AGE_adult  \\\n",
       "67402         1            0          0                1          0   \n",
       "\n",
       "       AGE_senior  DB_carevue  DB_carevue & metavision  DB_metavision  \\\n",
       "67402           0           0                        1              0   \n",
       "\n",
       "       GENDER_F  GENDER_M  INSUR_Government  INSUR_Medicaid  INSUR_Medicare  \\\n",
       "67402         0         1                 0               1               0   \n",
       "\n",
       "       INSUR_Private  INSUR_Self Pay  RELI_CATHOLIC  RELI_JEWISH  \\\n",
       "67402              0               0              0            0   \n",
       "\n",
       "       RELI_NOT SPECIFIED  RELI_OTHER  RELI_PROTESTANT QUAKER  \\\n",
       "67402                   1           0                       0   \n",
       "\n",
       "       RELI_UNOBTAINABLE  MARR_DIVORCED  MARR_LIFE PARTNER  MARR_MARRIED  \\\n",
       "67402                  0              0                  0             0   \n",
       "\n",
       "       MARR_OTHER  MARR_SEPARATED  MARR_SINGLE  MARR_UNKNOWN (DEFAULT)  \\\n",
       "67402           0               0            1                       0   \n",
       "\n",
       "       MARR_WIDOWED  ETH_ASIAN  ETH_BLACK/AFRICAN AMERICAN  \\\n",
       "67402             0          0                           0   \n",
       "\n",
       "       ETH_HISPANIC OR LATINO  ETH_OTHER  ETH_UNKNOWN/NOT SPECIFIED  ETH_WHITE  \n",
       "67402                       0          0                          0          1  "
      ]
     },
     "execution_count": 63,
     "metadata": {},
     "output_type": "execute_result"
    }
   ],
   "source": [
    "first"
   ]
  },
  {
   "cell_type": "code",
   "execution_count": 64,
   "metadata": {
    "colab": {},
    "colab_type": "code",
    "id": "zJoSDL11mZUM",
    "outputId": "25f36886-5d2e-4391-9736-6b37a6d22062"
   },
   "outputs": [
    {
     "data": {
      "text/plain": [
       "67402    37\n",
       "Name: LOS, dtype: int64"
      ]
     },
     "execution_count": 64,
     "metadata": {},
     "output_type": "execute_result"
    }
   ],
   "source": [
    "actual = first['LOS']\n",
    "actual"
   ]
  },
  {
   "cell_type": "markdown",
   "metadata": {
    "colab_type": "text",
    "id": "FeIe-mBlmZUP"
   },
   "source": [
    "### Predict LOS vs Actual LOS"
   ]
  },
  {
   "cell_type": "code",
   "execution_count": 76,
   "metadata": {
    "colab": {},
    "colab_type": "code",
    "id": "DVBUdY8WmZUQ",
    "outputId": "4c5f7082-4b10-4bf4-be3a-f5dde37fd8d1"
   },
   "outputs": [
    {
     "name": "stdout",
     "output_type": "stream",
     "text": [
      "Predict LOS is 36 days, Predict LOS class is ['more than two weeks'].\n"
     ]
    }
   ],
   "source": [
    "print('Predict LOS is {} days, Predict LOS class is {}.'.format(round(float(pred)), str(pred_class)))"
   ]
  },
  {
   "cell_type": "code",
   "execution_count": 77,
   "metadata": {
    "colab": {},
    "colab_type": "code",
    "id": "37yZD_8lmZUR",
    "outputId": "12115fbc-879d-47d7-b602-f8b57a59692b"
   },
   "outputs": [
    {
     "name": "stdout",
     "output_type": "stream",
     "text": [
      "Actual LOS is 37 days.\n"
     ]
    }
   ],
   "source": [
    "print('Actual LOS is {} days.'.format(int(actual)))"
   ]
  },
  {
   "cell_type": "code",
   "execution_count": 78,
   "metadata": {
    "colab": {},
    "colab_type": "code",
    "id": "gk8uEO_RmZUS",
    "outputId": "0a177ed0-3c9f-4f2d-9f42-d02089903dff"
   },
   "outputs": [
    {
     "name": "stdout",
     "output_type": "stream",
     "text": [
      "Accuracy is 94.59%.\n"
     ]
    }
   ],
   "source": [
    "print('Accuracy is {:.2f}%.'.format(100 *int(pred)/int(actual)))"
   ]
  },
  {
   "cell_type": "code",
   "execution_count": null,
   "metadata": {},
   "outputs": [],
   "source": []
  }
 ],
 "metadata": {
  "accelerator": "GPU",
  "colab": {
   "collapsed_sections": [
    "3-X6_icHnT9h",
    "PbwiP6d5nT-O",
    "9_0cUGrtnT-Y"
   ],
   "name": "Predict_LOS.ipynb",
   "provenance": [],
   "toc_visible": true
  },
  "kernelspec": {
   "display_name": "Python 3",
   "language": "python",
   "name": "python3"
  },
  "language_info": {
   "codemirror_mode": {
    "name": "ipython",
    "version": 3
   },
   "file_extension": ".py",
   "mimetype": "text/x-python",
   "name": "python",
   "nbconvert_exporter": "python",
   "pygments_lexer": "ipython3",
   "version": "3.7.4"
  }
 },
 "nbformat": 4,
 "nbformat_minor": 1
}
