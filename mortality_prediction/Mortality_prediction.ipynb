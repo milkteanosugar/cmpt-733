{
  "nbformat": 4,
  "nbformat_minor": 0,
  "metadata": {
    "colab": {
      "name": "Mortality_prediction",
      "provenance": []
    },
    "kernelspec": {
      "name": "python3",
      "display_name": "Python 3"
    },
    "accelerator": "GPU"
  },
  "cells": [
    {
      "cell_type": "code",
      "metadata": {
        "id": "7YmJfxXSLxbr",
        "colab_type": "code",
        "outputId": "0b1b4ea1-3c88-44b5-a2d8-167913a4194b",
        "colab": {
          "base_uri": "https://localhost:8080/",
          "height": 254
        }
      },
      "source": [
        "#set up the spark env on colab\n",
        "!apt-get install openjdk-8-jdk-headless -qq > /dev/null\n",
        "!wget -q https://downloads.apache.org/spark/spark-2.4.5/spark-2.4.5-bin-hadoop2.7.tgz\n",
        "!tar xf spark-2.4.5-bin-hadoop2.7.tgz\n",
        "!pip install pyspark\n",
        "!pip install -q findspark\n",
        "import os\n",
        "os.environ[\"JAVA_HOME\"] = \"/usr/lib/jvm/java-8-openjdk-amd64\"\n",
        "os.environ[\"SPARK_HOME\"] = \"/content/spark-2.4.5-bin-hadoop2.7\"\n",
        "import findspark\n",
        "findspark.init()"
      ],
      "execution_count": 0,
      "outputs": [
        {
          "output_type": "stream",
          "text": [
            "Collecting pyspark\n",
            "\u001b[?25l  Downloading https://files.pythonhosted.org/packages/9a/5a/271c416c1c2185b6cb0151b29a91fff6fcaed80173c8584ff6d20e46b465/pyspark-2.4.5.tar.gz (217.8MB)\n",
            "\u001b[K     |████████████████████████████████| 217.8MB 59kB/s \n",
            "\u001b[?25hCollecting py4j==0.10.7\n",
            "\u001b[?25l  Downloading https://files.pythonhosted.org/packages/e3/53/c737818eb9a7dc32a7cd4f1396e787bd94200c3997c72c1dbe028587bd76/py4j-0.10.7-py2.py3-none-any.whl (197kB)\n",
            "\u001b[K     |████████████████████████████████| 204kB 45.9MB/s \n",
            "\u001b[?25hBuilding wheels for collected packages: pyspark\n",
            "  Building wheel for pyspark (setup.py) ... \u001b[?25l\u001b[?25hdone\n",
            "  Created wheel for pyspark: filename=pyspark-2.4.5-py2.py3-none-any.whl size=218257927 sha256=85d2960740f67f77db7349d08f45db660569d49f5e791070fac6fdf2a0bbb422\n",
            "  Stored in directory: /root/.cache/pip/wheels/bf/db/04/61d66a5939364e756eb1c1be4ec5bdce6e04047fc7929a3c3c\n",
            "Successfully built pyspark\n",
            "Installing collected packages: py4j, pyspark\n",
            "Successfully installed py4j-0.10.7 pyspark-2.4.5\n"
          ],
          "name": "stdout"
        }
      ]
    },
    {
      "cell_type": "code",
      "metadata": {
        "id": "oJwJ8aSAp40D",
        "colab_type": "code",
        "outputId": "2912beed-35f8-4d95-912e-dd15e614e875",
        "colab": {
          "base_uri": "https://localhost:8080/",
          "height": 35
        }
      },
      "source": [
        "from google.colab import drive\n",
        "drive.mount('/content/drive')"
      ],
      "execution_count": 37,
      "outputs": [
        {
          "output_type": "stream",
          "text": [
            "Drive already mounted at /content/drive; to attempt to forcibly remount, call drive.mount(\"/content/drive\", force_remount=True).\n"
          ],
          "name": "stdout"
        }
      ]
    },
    {
      "cell_type": "code",
      "metadata": {
        "id": "lDLkTfhoL3SW",
        "colab_type": "code",
        "colab": {}
      },
      "source": [
        "from pyspark import SparkConf, SparkContext\n",
        "import sys\n",
        "import re, string \n",
        "assert sys.version_info >= (3, 5) # make sure we have Python 3.5+\n",
        "\n",
        "from pyspark.sql import SparkSession, functions, types\n",
        "spark = SparkSession.builder.appName('correlate_logs').getOrCreate()\n",
        "assert spark.version >= '2.4' # make sure we have Spark 2.4+\n",
        "spark.sparkContext.setLogLevel('WARN')\n",
        "sc = spark.sparkContext"
      ],
      "execution_count": 0,
      "outputs": []
    },
    {
      "cell_type": "code",
      "metadata": {
        "id": "dp-_tGoPBlXi",
        "colab_type": "code",
        "colab": {}
      },
      "source": [
        "admission = spark.read.csv(\"./drive/My Drive/mimic3/ADMISSIONS.csv.gz\", header=True)\n",
        "patients = spark.read.csv(\"./drive/My Drive/mimic3/PATIENTS.csv.gz\", header=True)\n",
        "transfers = spark.read.csv(\"./drive/My Drive/mimic3/TRANSFERS.csv.gz\", header=True)\n",
        "callout = spark.read.csv(\"./drive/My Drive/mimic3/CALLOUT.csv.gz\", header=True)\n",
        "diagonosis = spark.read.csv(\"./drive/My Drive/mimic3/DIAGNOSES_ICD.csv.gz\", header=True)\n",
        "procedures = spark.read.csv(\"./drive/My Drive/mimic3/PROCEDURES_ICD.csv.gz\", header=True)\n",
        "cptevent = spark.read.csv(\"./drive/My Drive/mimic3/CPTEVENTS.csv.gz\", header=True)\n",
        "inputevents_cv = spark.read.csv(\"./drive/My Drive/mimic3/INPUTEVENTS_CV.csv.gz\", header=True)\n",
        "inputevents_mv = spark.read.csv(\"./drive/My Drive/mimic3/INPUTEVENTS_MV.csv.gz\", header=True)\n",
        "outputevents = spark.read.csv(\"./drive/My Drive/mimic3/OUTPUTEVENTS.csv.gz\", header=True)\n",
        "labs = spark.read.csv(\"./drive/My Drive/mimic3/LABEVENTS.csv.gz\", header=True)\n",
        "microlabs = spark.read.csv(\"./drive/My Drive/mimic3/MICROBIOLOGYEVENTS.csv.gz\", header=True)\n",
        "notes = spark.read.csv(\"./drive/My Drive/mimic3/NOTEEVENTS.csv.gz\", header=True)\n",
        "proceduresevent = spark.read.csv(\"./drive/My Drive/mimic3/PROCEDUREEVENTS_MV.csv.gz\", header=True)\n",
        "chartevents = spark.read.csv(\"./drive/My Drive/mimic3/CHARTEVENTS.csv.gz\", header=True)\n",
        "prescriptions = spark.read.csv(\"./drive/My Drive/mimic3/PRESCRIPTIONS.csv.gz\", header=True)\n",
        "D_procdedures = spark.read.csv(\"./drive/My Drive/mimic3/D_ICD_PROCEDURES.csv.gz\", header=True)"
      ],
      "execution_count": 0,
      "outputs": []
    },
    {
      "cell_type": "markdown",
      "metadata": {
        "id": "TttGpuU1Lnh4",
        "colab_type": "text"
      },
      "source": [
        ""
      ]
    },
    {
      "cell_type": "code",
      "metadata": {
        "id": "MlZSqnYxCILo",
        "colab_type": "code",
        "colab": {}
      },
      "source": [
        "#Add the Length of Stay feature\n",
        "admission = admission.withColumn('ADMITTIME',admission['ADMITTIME'].cast(types.TimestampType())).withColumn('DISCHTIME',admission['DISCHTIME'].cast(types.TimestampType()))\n",
        "admission = admission.withColumn('LOSdays',admission['DISCHTIME'].cast(types.LongType())-admission['ADMITTIME'].cast(types.LongType()))\n",
        "admission = admission.withColumn('LOSdays', functions.round(admission['LOSdays']/(3600*24),2))"
      ],
      "execution_count": 0,
      "outputs": []
    },
    {
      "cell_type": "code",
      "metadata": {
        "id": "VRjEGF0eCKjo",
        "colab_type": "code",
        "colab": {}
      },
      "source": [
        "#Calculate the patient age by using the first transfer record and DOB feature \n",
        "first_transfer = transfers.groupBy('SUBJECT_ID').agg({'INTIME':'min'})\n",
        "joined_df = first_transfer.join(patients, first_transfer['SUBJECT_ID']==patients['SUBJECT_ID'], 'inner')\n",
        "joined_df = joined_df.withColumn('DOB',joined_df['DOB'].cast(types.TimestampType())).withColumn('min(INTIME)',joined_df['min(INTIME)'].cast(types.TimestampType()))\n",
        "# joined_df = joined_df.groupBy(patients['SUBJECT_ID']).agg({\"INTIME\": \"min\"})"
      ],
      "execution_count": 0,
      "outputs": []
    },
    {
      "cell_type": "code",
      "metadata": {
        "id": "vFWIM8_3KfEP",
        "colab_type": "code",
        "colab": {}
      },
      "source": [
        "joined_df = joined_df.withColumn('Age',joined_df['min(INTIME)'].cast(types.LongType())-joined_df['DOB'].cast(types.LongType()))\n",
        "joined_df = joined_df.withColumn('Age',functions.round(joined_df['Age']/(365.242*3600*24),4))\n",
        "joined_df = joined_df.select(first_transfer.SUBJECT_ID,'Age','Gender') \n",
        "admission = admission.join(joined_df, admission['SUBJECT_ID']==joined_df['SUBJECT_ID'],'left').drop(joined_df.SUBJECT_ID)\n",
        "admission = admission.withColumnRenamed('DIAGNOSIS','AdmitDiagnosis')"
      ],
      "execution_count": 0,
      "outputs": []
    },
    {
      "cell_type": "markdown",
      "metadata": {
        "id": "C2HfgyCGnHcG",
        "colab_type": "text"
      },
      "source": [
        ""
      ]
    },
    {
      "cell_type": "code",
      "metadata": {
        "id": "z51DeQkqKxw7",
        "colab_type": "code",
        "colab": {}
      },
      "source": [
        "# Calculate the daily callout for each admission \n",
        "callout_count = callout.groupBy('HADM_ID').agg({'CALLOUT_SERVICE':'count'})\n",
        "admission = admission.join(callout_count, callout_count['HADM_ID']==admission['HADM_ID'], 'left').drop(callout_count.HADM_ID)\n",
        "admission = admission.withColumn('NumCallouts', functions.round(admission['count(CALLOUT_SERVICE)']/admission['LOSdays'],2))"
      ],
      "execution_count": 0,
      "outputs": []
    },
    {
      "cell_type": "code",
      "metadata": {
        "id": "90UUZN_Tg97k",
        "colab_type": "code",
        "colab": {}
      },
      "source": [
        "# Calculate the daily diagonosis for each admission \n",
        "diagonosis_count = diagonosis.groupBy('HADM_ID').agg({'ICD9_CODE':'count'})\n",
        "admission = admission.join(diagonosis_count, diagonosis_count['HADM_ID']==admission['HADM_ID'], 'left').drop(diagonosis_count.HADM_ID)\n",
        "admission = admission.withColumn('NumDiagnosis', functions.round(admission['count(ICD9_CODE)']/admission['LOSdays'],2))"
      ],
      "execution_count": 0,
      "outputs": []
    },
    {
      "cell_type": "code",
      "metadata": {
        "id": "jestocBMPAK-",
        "colab_type": "code",
        "colab": {}
      },
      "source": [
        "# Calculate the daily procedure for each admission \n",
        "procedures_count = procedures.groupBy('HADM_ID').agg({'HADM_ID':'count'})\n",
        "admission = admission.join(procedures_count, procedures_count['HADM_ID']==admission['HADM_ID'], 'left').drop(procedures_count.HADM_ID)\n",
        "admission = admission.withColumn('NumProcs', functions.round(admission['count(HADM_ID)']/admission['LOSdays'],2))\n",
        "# replace all null with 0 \n",
        "admission = admission.na.fill(0)\n",
        "admission = admission.drop('count(CALLOUT_SERVICE)', 'count(ICD9_CODE)', 'count(HADM_ID)')"
      ],
      "execution_count": 0,
      "outputs": []
    },
    {
      "cell_type": "code",
      "metadata": {
        "id": "bYHukZWh52_t",
        "colab_type": "code",
        "colab": {}
      },
      "source": [
        "# Calculate the daily CPTevents for each admission \n",
        "cptevent_count = cptevent.groupBy('HADM_ID').agg({'HADM_ID':'count'})\n",
        "admission = admission.join(cptevent_count, cptevent_count['HADM_ID']==admission['HADM_ID'], 'left').drop(cptevent_count.HADM_ID)\n",
        "admission = admission.withColumn('NumCPTevents', functions.round(admission['count(HADM_ID)']/admission['LOSdays'],2))\n",
        "admission = admission.drop('count(HADM_ID)')"
      ],
      "execution_count": 0,
      "outputs": []
    },
    {
      "cell_type": "code",
      "metadata": {
        "id": "d2KH2zqAgVWm",
        "colab_type": "code",
        "colab": {}
      },
      "source": [
        "# Caculate daily average number of input events(union of cv events and mv events)\n",
        "inputevents_cv_count = inputevents_cv.groupby('HADM_ID').agg({'HADM_ID':'count'})\n",
        "inputevents_mv_count = inputevents_mv.groupby('HADM_ID').agg({'SUBJECT_ID':'count'})\n",
        "admission = admission.join(inputevents_cv_count, inputevents_cv_count['HADM_ID']==admission['HADM_ID'], 'left').drop(inputevents_cv_count.HADM_ID)\n",
        "admission = admission.join(inputevents_mv_count, inputevents_mv_count['HADM_ID']==admission['HADM_ID'], 'left').drop(inputevents_mv_count.HADM_ID)\n",
        "admission = admission.na.fill(0)\n",
        "admission = admission.withColumn('NumInput', functions.round((admission['count(HADM_ID)']+admission['count(SUBJECT_ID)'])/admission['LOSdays'],2))\n",
        "admission = admission.drop('count(HADM_ID)', 'count(SUBJECT_ID)')                                                                                                                \n",
        "\n"
      ],
      "execution_count": 0,
      "outputs": []
    },
    {
      "cell_type": "code",
      "metadata": {
        "id": "JPcBQfxhnU6w",
        "colab_type": "code",
        "colab": {}
      },
      "source": [
        "# Caculate daily average number of output events\n",
        "outputevents_count = outputevents.groupBy('HADM_ID').agg({'HADM_ID':'count'})\n",
        "admission = admission.join(outputevents_count, outputevents_count['HADM_ID']==admission['HADM_ID'], 'left').drop(outputevents_count.HADM_ID)\n",
        "admission = admission.withColumn('NumOutput', functions.round(admission['count(HADM_ID)']/admission['LOSdays'],2))\n",
        "admission = admission.drop('count(HADM_ID)')\n",
        "admission = admission.na.fill(0)"
      ],
      "execution_count": 0,
      "outputs": []
    },
    {
      "cell_type": "code",
      "metadata": {
        "id": "54kVbvNzo7xD",
        "colab_type": "code",
        "colab": {}
      },
      "source": [
        "# Caculate daily average number of labs\n",
        "labs_count = labs.groupBy('HADM_ID').agg({'HADM_ID':'count'})\n",
        "admission = admission.join(labs_count, labs_count['HADM_ID']==admission['HADM_ID'], 'left').drop(labs_count.HADM_ID)\n",
        "admission = admission.withColumn('NumLabs', functions.round(admission['count(HADM_ID)']/admission['LOSdays'],2))\n",
        "admission = admission.drop('count(HADM_ID)')\n",
        "admission = admission.na.fill(0)"
      ],
      "execution_count": 0,
      "outputs": []
    },
    {
      "cell_type": "code",
      "metadata": {
        "id": "Kn7cfA4qzx4e",
        "colab_type": "code",
        "colab": {}
      },
      "source": [
        "# Caculate daily average number of microbiology labs\n",
        "microlabs_count = microlabs.groupBy('HADM_ID').agg({'HADM_ID':'count'})\n",
        "admission = admission.join(microlabs_count, microlabs_count['HADM_ID']==admission['HADM_ID'], 'left').drop(microlabs_count.HADM_ID)\n",
        "admission = admission.withColumn('NumMicroLabs', functions.round(admission['count(HADM_ID)']/admission['LOSdays'],2))\n",
        "admission = admission.drop('count(HADM_ID)')\n",
        "admission = admission.na.fill(0)"
      ],
      "execution_count": 0,
      "outputs": []
    },
    {
      "cell_type": "code",
      "metadata": {
        "id": "0cn6mPzB7LgP",
        "colab_type": "code",
        "colab": {}
      },
      "source": [
        "# Caculate Daily average number of notes \n",
        "notes_count = notes.groupBy('HADM_ID').agg({'HADM_ID':'count'})\n",
        "admission = admission.join(notes_count, notes_count['HADM_ID']==admission['HADM_ID'], 'left').drop(notes_count.HADM_ID)\n",
        "admission = admission.withColumn('NumNotes', functions.round(admission['count(HADM_ID)']/admission['LOSdays'],2))\n",
        "admission = admission.drop('count(HADM_ID)')\n",
        "admission = admission.na.fill(0)"
      ],
      "execution_count": 0,
      "outputs": []
    },
    {
      "cell_type": "code",
      "metadata": {
        "id": "lVzg77zZGV2A",
        "colab_type": "code",
        "colab": {}
      },
      "source": [
        "# Caculate Daily average number of procedure events \n",
        "proceduresevent_count = proceduresevent.groupBy('HADM_ID').agg({'HADM_ID':'count'})\n",
        "admission = admission.join(proceduresevent_count, proceduresevent_count['HADM_ID']==admission['HADM_ID'], 'left').drop(proceduresevent_count.HADM_ID)\n",
        "admission = admission.withColumn('NumProcEvents', functions.round(admission['count(HADM_ID)']/admission['LOSdays'],2))\n",
        "admission = admission.drop('count(HADM_ID)')\n",
        "admission = admission.na.fill(0)"
      ],
      "execution_count": 0,
      "outputs": []
    },
    {
      "cell_type": "code",
      "metadata": {
        "id": "vDImUO0aJwcL",
        "colab_type": "code",
        "colab": {}
      },
      "source": [
        "# Caculate Daily average number of procedure events \n",
        "transfers_count = transfers.groupBy('HADM_ID').agg({'HADM_ID':'count'})\n",
        "admission = admission.join(transfers_count, transfers_count['HADM_ID']==admission['HADM_ID'], 'left').drop(transfers_count.HADM_ID)\n",
        "admission = admission.withColumn('NumTransfers', functions.round(admission['count(HADM_ID)']/admission['LOSdays'],2))\n",
        "admission = admission.drop('count(HADM_ID)')\n",
        "admission = admission.na.fill(0)"
      ],
      "execution_count": 0,
      "outputs": []
    },
    {
      "cell_type": "code",
      "metadata": {
        "id": "QQVskNyALEPq",
        "colab_type": "code",
        "colab": {}
      },
      "source": [
        "# Caculate Daily average number of chart events \n",
        "chartevents_count = chartevents.groupBy('HADM_ID').agg({'HADM_ID':'count'})\n",
        "admission = admission.join(chartevents_count, chartevents_count['HADM_ID']==admission['HADM_ID'], 'left').drop(chartevents_count.HADM_ID)\n",
        "admission = admission.withColumn('NumChartEvents', functions.round(admission['count(HADM_ID)']/admission['LOSdays'],2))\n",
        "admission = admission.drop('count(HADM_ID)')\n",
        "admission = admission.na.fill(0)"
      ],
      "execution_count": 0,
      "outputs": []
    },
    {
      "cell_type": "code",
      "metadata": {
        "id": "8vDdECq5LsEn",
        "colab_type": "code",
        "colab": {}
      },
      "source": [
        "# Caculate Daily average number of prescription\n",
        "prescriptions_count = prescriptions.groupBy('HADM_ID').agg({'HADM_ID':'count'})\n",
        "admission = admission.join(prescriptions_count, prescriptions_count['HADM_ID']==admission['HADM_ID'], 'left').drop(prescriptions_count.HADM_ID)\n",
        "admission = admission.withColumn('NumRx', functions.round(admission['count(HADM_ID)']/admission['LOSdays'],2))\n",
        "admission = admission.drop('count(HADM_ID)')\n",
        "admission = admission.na.fill(0)\n"
      ],
      "execution_count": 0,
      "outputs": []
    },
    {
      "cell_type": "code",
      "metadata": {
        "id": "6zpqxEArNhZH",
        "colab_type": "code",
        "colab": {}
      },
      "source": [
        "# Extract the first procedure that paitient took after admission \n",
        "first_procedure = procedures.groupBy('HADM_ID').agg({'SEQ_NUM':'min'})\n",
        "first_procedure = first_procedure.join(procedures,first_procedure['HADM_ID']==procedures['HADM_ID'],'inner').drop(first_procedure.HADM_ID)\n",
        "first_procedure = first_procedure.filter(first_procedure['min(SEQ_NUM)']==first_procedure['SEQ_NUM'])\n",
        "first_procedure = first_procedure.join(D_procdedures, first_procedure['ICD9_CODE']==D_procdedures['ICD9_CODE']).drop(D_procdedures.ICD9_CODE)\n",
        "first_procedure = first_procedure.drop('min(SEQ_NUM)', 'ROW_ID', 'SUBJECT_ID' ,'SEQ_NUM', 'ICD9_CODE', 'LONG_TITLE')\n",
        "admission = admission.join(first_procedure, first_procedure['HADM_ID']==admission['HADM_ID'], 'left').drop(first_procedure.HADM_ID)"
      ],
      "execution_count": 0,
      "outputs": []
    },
    {
      "cell_type": "code",
      "metadata": {
        "id": "q8AyMdLrjBOt",
        "colab_type": "code",
        "colab": {}
      },
      "source": [
        "# Calculate the total number of daily interactions between the patient and the hospital (a summary of all the above)\n",
        "admission = admission.withColumn('TotalNumInteract',admission['NumChartEvents']+admission['NumTransfers']+admission['NumProcEvents']+admission['NumRx']\\\n",
        "                                 +admission['NumOutput']+admission['NumNotes']+admission['NumMicroLabs']+admission['NumLabs']+admission['NumInput']\\\n",
        "                                 +admission['NumCPTevents']+admission['NumProcs']+admission['NumDiagnosis']+admission['NumCallouts'])\n",
        "# Drop the trvial columns \n",
        "admission = admission.drop('ROW_ID', 'ADMITTIME', 'DISCHTIME', 'DEATHTIME', 'DISCHARGE_LOCATION', 'LANGUAGE', 'EDREGTIME', 'EDOUTTIME', 'HAS_CHARTEVENTS_DATA')\n",
        "# Rename some columns for future efficiency\n",
        "admission = admission.withColumnRenamed('ADMISSION_TYPE','admit_type').withColumnRenamed('ADMISSION_LOCATION', 'admit_location').withColumnRenamed('INSURANCE', 'insurance').withColumnRenamed('RELIGION', 'religion').withColumnRenamed('Age', 'age').withColumnRenamed('Gender', 'gender').withColumnRenamed('ETHNICITY', 'ethnicity').withColumnRenamed('MARITAL_STATUS' ,'marital_status').withColumnRenamed('HOSPITAL_EXPIRE_FLAG', 'ExpiredHospital').withColumnRenamed('SHORT_TITLE','AdmitProcedure')"
      ],
      "execution_count": 0,
      "outputs": []
    },
    {
      "cell_type": "code",
      "metadata": {
        "id": "VIRHfYElzF7p",
        "colab_type": "code",
        "colab": {}
      },
      "source": [
        "# Save the preprocessing data as csv for modeling\n",
        "\n",
        "# admission.repartition(1).write.option(\"header\", \"true\").save(\"./drive/My Drive/mydata.csv\")\n",
        "# admission.write.csv('./drive/My Drive/mimic3/mimic3_pre.csv', header=True)\n",
        "# admission.repartition(1).write.csv(\"'./drive/My Drive/mimic3/mimic3_pre1.csv\", sep='|')\n",
        "admission.coalesce(1).write.format('com.databricks.spark.csv').save('./drive/My Drive/mimic3_pre',header = 'true')"
      ],
      "execution_count": 0,
      "outputs": []
    },
    {
      "cell_type": "code",
      "metadata": {
        "id": "qBzdivlkj6pd",
        "colab_type": "code",
        "colab": {}
      },
      "source": [
        "admission.filter((admission['AdmitDiagnosis']=='UPPER GI BLEED') & (admission['RELIGION']=='NOT SPECIFIED') & (admission['MARITAL_STATUS']=='SINGLE') & (admission['ADMISSION_TYPE']=='EMERGENCY') & \\\n",
        "               (admission['INSURANCE']=='Private') &  (admission['ETHNICITY']=='WHITE') & (admission['ADMISSION_LOCATION']=='EMERGENCY ROOM ADMIT') &(admission['Gender']=='M')  ).show()"
      ],
      "execution_count": 0,
      "outputs": []
    },
    {
      "cell_type": "code",
      "metadata": {
        "id": "hFmP9XC1D_1b",
        "colab_type": "code",
        "colab": {}
      },
      "source": [
        "admission.filter(admission['HADM_ID']==100003).show()"
      ],
      "execution_count": 0,
      "outputs": []
    },
    {
      "cell_type": "code",
      "metadata": {
        "id": "6JQKp1tzdKD_",
        "colab_type": "code",
        "outputId": "35f9c97d-7324-4aba-e35e-e38e1fd24c99",
        "colab": {
          "base_uri": "https://localhost:8080/",
          "height": 33
        }
      },
      "source": [
        "admission.count()"
      ],
      "execution_count": 0,
      "outputs": [
        {
          "output_type": "execute_result",
          "data": {
            "text/plain": [
              "58976"
            ]
          },
          "metadata": {
            "tags": []
          },
          "execution_count": 135
        }
      ]
    },
    {
      "cell_type": "code",
      "metadata": {
        "id": "qsQsigbRmc1k",
        "colab_type": "code",
        "outputId": "5d84e69c-e094-4557-8bac-e92afe77fd40",
        "colab": {
          "base_uri": "https://localhost:8080/",
          "height": 220
        }
      },
      "source": [
        "admission.show(5)"
      ],
      "execution_count": 0,
      "outputs": [
        {
          "output_type": "stream",
          "text": [
            "+----------+-------+----------+--------------------+----------+-----------------+--------------+--------------------+--------------------+--------------------+-------+-------+------+-----------+------------+--------+------------+--------+---------+-------+------------+--------+-------------+------------+--------------+-----+--------------------+------------------+\n",
            "|SUBJECT_ID|HADM_ID|admit_type|      admit_location| insurance|         religion|marital_status|           ethnicity|      AdmitDiagnosis|HOSPITAL_EXPIRE_FLAG|LOSdays|    age|gender|NumCallouts|NumDiagnosis|NumProcs|NumCPTevents|NumInput|NumOutput|NumLabs|NumMicroLabs|NumNotes|NumProcEvents|NumTransfers|NumChartEvents|NumRx|         SHORT_TITLE|  TotalNumInteract|\n",
            "+----------+-------+----------+--------------------+----------+-----------------+--------------+--------------------+--------------------+--------------------+-------+-------+------+-----------+------------+--------+------------+--------+---------+-------+------------+--------+-------------+------------+--------------+-----+--------------------+------------------+\n",
            "|     55853| 100010|  ELECTIVE|PHYS REFERRAL/NOR...|   Private|     EPISCOPALIAN|       MARRIED|               WHITE| RENAL MASS LEFT/SDA|                   0|    4.4|54.5201|     F|       0.23|        1.14|    0.68|        1.82|    6.59|     7.95|  30.45|         0.0|    0.45|         1.14|        0.91|        446.59| 9.09|  Nephroureterectomy| 507.0399999999999|\n",
            "|      8071| 100140| EMERGENCY|CLINIC REFERRAL/P...|   Private|PROTESTANT QUAKER|        SINGLE|BLACK/AFRICAN AME...|SUBGLOTTIC STENOS...|                   0|   0.73|24.8868|     F|        0.0|        5.48|    5.48|        1.37|   26.03|     5.48|  16.44|         0.0|    6.85|          0.0|        2.74|        939.73|23.29|Destruct larynx l...|           1032.89|\n",
            "|     52779| 100227| EMERGENCY|CLINIC REFERRAL/P...|  Medicaid|    NOT SPECIFIED|      DIVORCED|               WHITE|HYPOTENSION;ALTER...|                   0|  15.73|45.5798|     F|       0.06|         1.4|    0.25|        1.59|   14.11|     3.56|  31.85|        1.21|    1.02|         0.95|        0.19|        331.79|11.19| Cl reduc disloc-hip|399.16999999999996|\n",
            "|     54120| 100263| EMERGENCY|CLINIC REFERRAL/P...|Government|PROTESTANT QUAKER|        SINGLE|               WHITE|RENAL FAILURE;PNE...|                   0|   5.76|47.1602|     M|       0.35|        3.65|    0.52|        2.43|   45.49|     9.03|  64.58|        1.74|    2.26|         2.26|        0.69|        685.42|15.28|Cont inv mec ven ...| 833.6999999999999|\n",
            "|     74955| 100320|  ELECTIVE|PHYS REFERRAL/NOR...|  Medicare|           JEWISH|       MARRIED|               WHITE|   UPPER BI BLED/SDA|                   0|   8.28|85.9865|     M|       0.12|        1.93|     0.6|        0.85|    6.64|     5.19|  25.85|        0.12|    0.36|         0.72|        0.72|        264.01| 8.57|Part gastrec w je...| 315.6800000000001|\n",
            "+----------+-------+----------+--------------------+----------+-----------------+--------------+--------------------+--------------------+--------------------+-------+-------+------+-----------+------------+--------+------------+--------+---------+-------+------------+--------+-------------+------------+--------------+-----+--------------------+------------------+\n",
            "only showing top 5 rows\n",
            "\n"
          ],
          "name": "stdout"
        }
      ]
    },
    {
      "cell_type": "code",
      "metadata": {
        "id": "rSNOOzyP7aVz",
        "colab_type": "code",
        "outputId": "4ab94ed1-d6d2-419a-df40-0063cd5607a4",
        "colab": {
          "base_uri": "https://localhost:8080/",
          "height": 74
        }
      },
      "source": [
        "# IMPORT modules\n",
        "# Turn GPU on\n",
        "\n",
        "import pandas as pd\n",
        "import numpy as np\n",
        "import random as rnd\n",
        "import pprint\n",
        "from itertools import cycle, islice\n",
        "import numpy as np\n",
        "\n",
        "from scipy.stats import multivariate_normal\n",
        "\n",
        "from sklearn.model_selection import train_test_split\n",
        "from sklearn import model_selection, preprocessing\n",
        "from sklearn.metrics import classification_report, confusion_matrix, accuracy_score\n",
        "from sklearn.model_selection import cross_val_score, GridSearchCV, RandomizedSearchCV,KFold, cross_val_predict, StratifiedKFold, train_test_split, learning_curve, ShuffleSplit\n",
        "from sklearn.linear_model import LogisticRegression\n",
        "from sklearn.tree import DecisionTreeClassifier\n",
        "from sklearn.neighbors import KNeighborsClassifier\n",
        "from sklearn.discriminant_analysis import LinearDiscriminantAnalysis\n",
        "from sklearn.naive_bayes import GaussianNB\n",
        "from sklearn.svm import SVC \n",
        "from sklearn.linear_model import SGDClassifier\n",
        "from sklearn.ensemble import RandomForestClassifier\n",
        "from sklearn.model_selection import GridSearchCV, ShuffleSplit\n",
        "from sklearn.metrics import confusion_matrix, precision_score, recall_score, accuracy_score, f1_score\n",
        "from sklearn.model_selection import cross_val_predict\n",
        "from sklearn.metrics import confusion_matrix\n",
        "from sklearn.metrics import precision_recall_curve, average_precision_score, auc\n",
        "# from sklearn.utils.fixes import signature\n",
        "from sklearn.decomposition import PCA\n",
        "\n",
        "from sklearn.metrics import roc_curve\n",
        "from sklearn.metrics import roc_auc_score\n",
        "\n",
        "import seaborn as sns\n",
        "import matplotlib.pyplot as plt\n",
        "%matplotlib inline\n",
        "\n",
        "import tensorflow as tf\n",
        "\n",
        "from tensorflow.keras import models, regularizers, layers, optimizers, losses, metrics\n",
        "from tensorflow.keras.models import Sequential\n",
        "from tensorflow.keras.layers import Dense\n",
        "# from tensorflow.keras.utils import np_utils\n",
        "\n",
        "import warnings\n",
        "warnings.filterwarnings('ignore')\n",
        "# import os\n",
        "# print(os.listdir(\"../input\"))\n"
      ],
      "execution_count": 2,
      "outputs": [
        {
          "output_type": "stream",
          "text": [
            "/usr/local/lib/python3.6/dist-packages/statsmodels/tools/_testing.py:19: FutureWarning: pandas.util.testing is deprecated. Use the functions in the public API at pandas.testing instead.\n",
            "  import pandas.util.testing as tm\n"
          ],
          "name": "stderr"
        }
      ]
    },
    {
      "cell_type": "code",
      "metadata": {
        "id": "Y9IcDLbo7eYY",
        "colab_type": "code",
        "outputId": "3b12bbd1-054f-4a23-ad9a-365366d75f10",
        "colab": {
          "base_uri": "https://localhost:8080/",
          "height": 54
        }
      },
      "source": [
        "# Manually rename the part0000....csv file to mimic3_pre.csv\n",
        "data = pd.read_csv('/content/drive/My Drive/mimic3_pre/mimic3_pre.csv')\n",
        "print(\"With id\", data.shape)\n",
        "\n",
        "data_full = data.drop(['SUBJECT_ID','HADM_ID'], 1)\n",
        "print(\"No id\",data_full.shape)"
      ],
      "execution_count": 3,
      "outputs": [
        {
          "output_type": "stream",
          "text": [
            "With id (58976, 28)\n",
            "No id (58976, 26)\n"
          ],
          "name": "stdout"
        }
      ]
    },
    {
      "cell_type": "code",
      "metadata": {
        "id": "IWjoOddaBMrC",
        "colab_type": "code",
        "outputId": "07a860bf-1678-4169-8a29-539e9e937356",
        "colab": {
          "base_uri": "https://localhost:8080/",
          "height": 926
        }
      },
      "source": [
        "print(data_full.shape)\n",
        "data_full.info()\n",
        "data_full.describe()"
      ],
      "execution_count": 4,
      "outputs": [
        {
          "output_type": "stream",
          "text": [
            "(58976, 26)\n",
            "<class 'pandas.core.frame.DataFrame'>\n",
            "RangeIndex: 58976 entries, 0 to 58975\n",
            "Data columns (total 26 columns):\n",
            " #   Column            Non-Null Count  Dtype  \n",
            "---  ------            --------------  -----  \n",
            " 0   admit_type        58976 non-null  object \n",
            " 1   admit_location    58976 non-null  object \n",
            " 2   insurance         58976 non-null  object \n",
            " 3   religion          58518 non-null  object \n",
            " 4   marital_status    48848 non-null  object \n",
            " 5   ethnicity         58976 non-null  object \n",
            " 6   AdmitDiagnosis    58951 non-null  object \n",
            " 7   ExpiredHospital   58976 non-null  int64  \n",
            " 8   LOSdays           58976 non-null  float64\n",
            " 9   age               58976 non-null  float64\n",
            " 10  gender            58976 non-null  object \n",
            " 11  NumCallouts       58976 non-null  float64\n",
            " 12  NumDiagnosis      58976 non-null  float64\n",
            " 13  NumProcs          58976 non-null  float64\n",
            " 14  NumCPTevents      58976 non-null  float64\n",
            " 15  NumInput          58976 non-null  float64\n",
            " 16  NumOutput         58976 non-null  float64\n",
            " 17  NumLabs           58976 non-null  float64\n",
            " 18  NumMicroLabs      58976 non-null  float64\n",
            " 19  NumNotes          58976 non-null  float64\n",
            " 20  NumProcEvents     58976 non-null  float64\n",
            " 21  NumTransfers      58976 non-null  float64\n",
            " 22  NumChartEvents    58976 non-null  float64\n",
            " 23  NumRx             58976 non-null  float64\n",
            " 24  AdmitProcedure    50944 non-null  object \n",
            " 25  TotalNumInteract  58976 non-null  float64\n",
            "dtypes: float64(16), int64(1), object(9)\n",
            "memory usage: 11.7+ MB\n"
          ],
          "name": "stdout"
        },
        {
          "output_type": "execute_result",
          "data": {
            "text/html": [
              "<div>\n",
              "<style scoped>\n",
              "    .dataframe tbody tr th:only-of-type {\n",
              "        vertical-align: middle;\n",
              "    }\n",
              "\n",
              "    .dataframe tbody tr th {\n",
              "        vertical-align: top;\n",
              "    }\n",
              "\n",
              "    .dataframe thead th {\n",
              "        text-align: right;\n",
              "    }\n",
              "</style>\n",
              "<table border=\"1\" class=\"dataframe\">\n",
              "  <thead>\n",
              "    <tr style=\"text-align: right;\">\n",
              "      <th></th>\n",
              "      <th>ExpiredHospital</th>\n",
              "      <th>LOSdays</th>\n",
              "      <th>age</th>\n",
              "      <th>NumCallouts</th>\n",
              "      <th>NumDiagnosis</th>\n",
              "      <th>NumProcs</th>\n",
              "      <th>NumCPTevents</th>\n",
              "      <th>NumInput</th>\n",
              "      <th>NumOutput</th>\n",
              "      <th>NumLabs</th>\n",
              "      <th>NumMicroLabs</th>\n",
              "      <th>NumNotes</th>\n",
              "      <th>NumProcEvents</th>\n",
              "      <th>NumTransfers</th>\n",
              "      <th>NumChartEvents</th>\n",
              "      <th>NumRx</th>\n",
              "      <th>TotalNumInteract</th>\n",
              "    </tr>\n",
              "  </thead>\n",
              "  <tbody>\n",
              "    <tr>\n",
              "      <th>count</th>\n",
              "      <td>58976.000000</td>\n",
              "      <td>58976.000000</td>\n",
              "      <td>58976.000000</td>\n",
              "      <td>58976.000000</td>\n",
              "      <td>58976.000000</td>\n",
              "      <td>58976.000000</td>\n",
              "      <td>58976.000000</td>\n",
              "      <td>58976.000000</td>\n",
              "      <td>58976.000000</td>\n",
              "      <td>58976.000000</td>\n",
              "      <td>58976.000000</td>\n",
              "      <td>58976.000000</td>\n",
              "      <td>58976.000000</td>\n",
              "      <td>58976.000000</td>\n",
              "      <td>58976.000000</td>\n",
              "      <td>58976.000000</td>\n",
              "      <td>58976.000000</td>\n",
              "    </tr>\n",
              "    <tr>\n",
              "      <th>mean</th>\n",
              "      <td>0.099261</td>\n",
              "      <td>10.134000</td>\n",
              "      <td>64.014589</td>\n",
              "      <td>0.098508</td>\n",
              "      <td>2.529240</td>\n",
              "      <td>0.745273</td>\n",
              "      <td>1.053509</td>\n",
              "      <td>29.575238</td>\n",
              "      <td>7.017054</td>\n",
              "      <td>44.628215</td>\n",
              "      <td>1.183752</td>\n",
              "      <td>3.628099</td>\n",
              "      <td>0.667849</td>\n",
              "      <td>1.049343</td>\n",
              "      <td>518.870360</td>\n",
              "      <td>9.198982</td>\n",
              "      <td>620.245421</td>\n",
              "    </tr>\n",
              "    <tr>\n",
              "      <th>std</th>\n",
              "      <td>0.299014</td>\n",
              "      <td>12.456668</td>\n",
              "      <td>57.125449</td>\n",
              "      <td>0.335281</td>\n",
              "      <td>10.029017</td>\n",
              "      <td>4.475556</td>\n",
              "      <td>2.243433</td>\n",
              "      <td>70.959695</td>\n",
              "      <td>8.433482</td>\n",
              "      <td>103.155071</td>\n",
              "      <td>4.176414</td>\n",
              "      <td>7.435385</td>\n",
              "      <td>2.953734</td>\n",
              "      <td>3.996817</td>\n",
              "      <td>772.702496</td>\n",
              "      <td>24.995591</td>\n",
              "      <td>933.335790</td>\n",
              "    </tr>\n",
              "    <tr>\n",
              "      <th>min</th>\n",
              "      <td>0.000000</td>\n",
              "      <td>-0.950000</td>\n",
              "      <td>0.000000</td>\n",
              "      <td>-50.000000</td>\n",
              "      <td>-850.000000</td>\n",
              "      <td>-250.000000</td>\n",
              "      <td>-150.000000</td>\n",
              "      <td>-5800.000000</td>\n",
              "      <td>-500.000000</td>\n",
              "      <td>-6200.000000</td>\n",
              "      <td>-200.000000</td>\n",
              "      <td>-400.000000</td>\n",
              "      <td>-416.670000</td>\n",
              "      <td>-200.000000</td>\n",
              "      <td>-50300.000000</td>\n",
              "      <td>-3800.000000</td>\n",
              "      <td>-60933.350000</td>\n",
              "    </tr>\n",
              "    <tr>\n",
              "      <th>25%</th>\n",
              "      <td>0.000000</td>\n",
              "      <td>3.740000</td>\n",
              "      <td>42.908700</td>\n",
              "      <td>0.000000</td>\n",
              "      <td>0.820000</td>\n",
              "      <td>0.210000</td>\n",
              "      <td>0.000000</td>\n",
              "      <td>4.830000</td>\n",
              "      <td>1.747500</td>\n",
              "      <td>26.920000</td>\n",
              "      <td>0.160000</td>\n",
              "      <td>1.300000</td>\n",
              "      <td>0.000000</td>\n",
              "      <td>0.380000</td>\n",
              "      <td>206.967500</td>\n",
              "      <td>4.320000</td>\n",
              "      <td>268.755000</td>\n",
              "    </tr>\n",
              "    <tr>\n",
              "      <th>50%</th>\n",
              "      <td>0.000000</td>\n",
              "      <td>6.470000</td>\n",
              "      <td>61.168250</td>\n",
              "      <td>0.000000</td>\n",
              "      <td>1.400000</td>\n",
              "      <td>0.420000</td>\n",
              "      <td>0.970000</td>\n",
              "      <td>13.920000</td>\n",
              "      <td>5.280000</td>\n",
              "      <td>38.390000</td>\n",
              "      <td>0.510000</td>\n",
              "      <td>2.290000</td>\n",
              "      <td>0.000000</td>\n",
              "      <td>0.650000</td>\n",
              "      <td>416.510000</td>\n",
              "      <td>8.350000</td>\n",
              "      <td>498.170000</td>\n",
              "    </tr>\n",
              "    <tr>\n",
              "      <th>75%</th>\n",
              "      <td>0.000000</td>\n",
              "      <td>11.800000</td>\n",
              "      <td>75.393900</td>\n",
              "      <td>0.150000</td>\n",
              "      <td>2.400000</td>\n",
              "      <td>0.710000</td>\n",
              "      <td>1.550000</td>\n",
              "      <td>34.220000</td>\n",
              "      <td>10.440000</td>\n",
              "      <td>50.670000</td>\n",
              "      <td>1.350000</td>\n",
              "      <td>4.350000</td>\n",
              "      <td>0.880000</td>\n",
              "      <td>1.050000</td>\n",
              "      <td>697.255000</td>\n",
              "      <td>12.220000</td>\n",
              "      <td>810.895000</td>\n",
              "    </tr>\n",
              "    <tr>\n",
              "      <th>max</th>\n",
              "      <td>1.000000</td>\n",
              "      <td>294.660000</td>\n",
              "      <td>306.412700</td>\n",
              "      <td>50.000000</td>\n",
              "      <td>600.000000</td>\n",
              "      <td>400.000000</td>\n",
              "      <td>200.000000</td>\n",
              "      <td>4550.000000</td>\n",
              "      <td>350.000000</td>\n",
              "      <td>8800.000000</td>\n",
              "      <td>340.000000</td>\n",
              "      <td>600.000000</td>\n",
              "      <td>175.000000</td>\n",
              "      <td>300.000000</td>\n",
              "      <td>52000.000000</td>\n",
              "      <td>850.000000</td>\n",
              "      <td>64700.000000</td>\n",
              "    </tr>\n",
              "  </tbody>\n",
              "</table>\n",
              "</div>"
            ],
            "text/plain": [
              "       ExpiredHospital       LOSdays  ...         NumRx  TotalNumInteract\n",
              "count     58976.000000  58976.000000  ...  58976.000000      58976.000000\n",
              "mean          0.099261     10.134000  ...      9.198982        620.245421\n",
              "std           0.299014     12.456668  ...     24.995591        933.335790\n",
              "min           0.000000     -0.950000  ...  -3800.000000     -60933.350000\n",
              "25%           0.000000      3.740000  ...      4.320000        268.755000\n",
              "50%           0.000000      6.470000  ...      8.350000        498.170000\n",
              "75%           0.000000     11.800000  ...     12.220000        810.895000\n",
              "max           1.000000    294.660000  ...    850.000000      64700.000000\n",
              "\n",
              "[8 rows x 17 columns]"
            ]
          },
          "metadata": {
            "tags": []
          },
          "execution_count": 4
        }
      ]
    },
    {
      "cell_type": "code",
      "metadata": {
        "id": "aQ20gkgyFAXy",
        "colab_type": "code",
        "outputId": "1d17f721-e642-429e-affd-3e39d0c9a277",
        "colab": {
          "base_uri": "https://localhost:8080/",
          "height": 35
        }
      },
      "source": [
        "# We notice that there are negative values exist from the describe table \n",
        "# This is caused by the negative LOS values \n",
        "# Calculate the percentage of negative LOS values(dead case) of the total dead cases\n",
        "(data[(data['LOSdays']<0) & (data['ExpiredHospital']==1)].shape[0])/(data[data['ExpiredHospital']==1].shape[0])"
      ],
      "execution_count": 5,
      "outputs": [
        {
          "output_type": "execute_result",
          "data": {
            "text/plain": [
              "0.013324222753672703"
            ]
          },
          "metadata": {
            "tags": []
          },
          "execution_count": 5
        }
      ]
    },
    {
      "cell_type": "code",
      "metadata": {
        "id": "F6D4o6AvFcga",
        "colab_type": "code",
        "colab": {}
      },
      "source": [
        "# As the negative LOS cases didn't take a great part of dead cases, we can drop them\n",
        "data_full = data_full[data_full['LOSdays']>=0]"
      ],
      "execution_count": 0,
      "outputs": []
    },
    {
      "cell_type": "code",
      "metadata": {
        "id": "4zPXZRvSFl0q",
        "colab_type": "code",
        "outputId": "c6f4ca16-08ec-4466-c8f1-094efdcb0017",
        "colab": {
          "base_uri": "https://localhost:8080/",
          "height": 662
        }
      },
      "source": [
        "data_full.head(10)"
      ],
      "execution_count": 7,
      "outputs": [
        {
          "output_type": "execute_result",
          "data": {
            "text/html": [
              "<div>\n",
              "<style scoped>\n",
              "    .dataframe tbody tr th:only-of-type {\n",
              "        vertical-align: middle;\n",
              "    }\n",
              "\n",
              "    .dataframe tbody tr th {\n",
              "        vertical-align: top;\n",
              "    }\n",
              "\n",
              "    .dataframe thead th {\n",
              "        text-align: right;\n",
              "    }\n",
              "</style>\n",
              "<table border=\"1\" class=\"dataframe\">\n",
              "  <thead>\n",
              "    <tr style=\"text-align: right;\">\n",
              "      <th></th>\n",
              "      <th>admit_type</th>\n",
              "      <th>admit_location</th>\n",
              "      <th>insurance</th>\n",
              "      <th>religion</th>\n",
              "      <th>marital_status</th>\n",
              "      <th>ethnicity</th>\n",
              "      <th>AdmitDiagnosis</th>\n",
              "      <th>ExpiredHospital</th>\n",
              "      <th>LOSdays</th>\n",
              "      <th>age</th>\n",
              "      <th>gender</th>\n",
              "      <th>NumCallouts</th>\n",
              "      <th>NumDiagnosis</th>\n",
              "      <th>NumProcs</th>\n",
              "      <th>NumCPTevents</th>\n",
              "      <th>NumInput</th>\n",
              "      <th>NumOutput</th>\n",
              "      <th>NumLabs</th>\n",
              "      <th>NumMicroLabs</th>\n",
              "      <th>NumNotes</th>\n",
              "      <th>NumProcEvents</th>\n",
              "      <th>NumTransfers</th>\n",
              "      <th>NumChartEvents</th>\n",
              "      <th>NumRx</th>\n",
              "      <th>AdmitProcedure</th>\n",
              "      <th>TotalNumInteract</th>\n",
              "    </tr>\n",
              "  </thead>\n",
              "  <tbody>\n",
              "    <tr>\n",
              "      <th>0</th>\n",
              "      <td>ELECTIVE</td>\n",
              "      <td>PHYS REFERRAL/NORMAL DELI</td>\n",
              "      <td>Private</td>\n",
              "      <td>EPISCOPALIAN</td>\n",
              "      <td>MARRIED</td>\n",
              "      <td>WHITE</td>\n",
              "      <td>RENAL MASS LEFT/SDA</td>\n",
              "      <td>0</td>\n",
              "      <td>4.40</td>\n",
              "      <td>54.5201</td>\n",
              "      <td>F</td>\n",
              "      <td>0.23</td>\n",
              "      <td>1.14</td>\n",
              "      <td>0.68</td>\n",
              "      <td>1.82</td>\n",
              "      <td>6.59</td>\n",
              "      <td>7.95</td>\n",
              "      <td>30.45</td>\n",
              "      <td>0.00</td>\n",
              "      <td>0.45</td>\n",
              "      <td>1.14</td>\n",
              "      <td>0.91</td>\n",
              "      <td>446.59</td>\n",
              "      <td>9.09</td>\n",
              "      <td>Nephroureterectomy</td>\n",
              "      <td>507.04</td>\n",
              "    </tr>\n",
              "    <tr>\n",
              "      <th>1</th>\n",
              "      <td>EMERGENCY</td>\n",
              "      <td>CLINIC REFERRAL/PREMATURE</td>\n",
              "      <td>Private</td>\n",
              "      <td>PROTESTANT QUAKER</td>\n",
              "      <td>SINGLE</td>\n",
              "      <td>BLACK/AFRICAN AMERICAN</td>\n",
              "      <td>SUBGLOTTIC STENOSIS\\LARYNGOSCOPY; MICRO WITH C...</td>\n",
              "      <td>0</td>\n",
              "      <td>0.73</td>\n",
              "      <td>24.8868</td>\n",
              "      <td>F</td>\n",
              "      <td>0.00</td>\n",
              "      <td>5.48</td>\n",
              "      <td>5.48</td>\n",
              "      <td>1.37</td>\n",
              "      <td>26.03</td>\n",
              "      <td>5.48</td>\n",
              "      <td>16.44</td>\n",
              "      <td>0.00</td>\n",
              "      <td>6.85</td>\n",
              "      <td>0.00</td>\n",
              "      <td>2.74</td>\n",
              "      <td>939.73</td>\n",
              "      <td>23.29</td>\n",
              "      <td>Destruct larynx les NEC</td>\n",
              "      <td>1032.89</td>\n",
              "    </tr>\n",
              "    <tr>\n",
              "      <th>2</th>\n",
              "      <td>EMERGENCY</td>\n",
              "      <td>CLINIC REFERRAL/PREMATURE</td>\n",
              "      <td>Medicaid</td>\n",
              "      <td>NOT SPECIFIED</td>\n",
              "      <td>DIVORCED</td>\n",
              "      <td>WHITE</td>\n",
              "      <td>HYPOTENSION;ALTERED MENTAL STATUS</td>\n",
              "      <td>0</td>\n",
              "      <td>15.73</td>\n",
              "      <td>45.5798</td>\n",
              "      <td>F</td>\n",
              "      <td>0.06</td>\n",
              "      <td>1.40</td>\n",
              "      <td>0.25</td>\n",
              "      <td>1.59</td>\n",
              "      <td>14.11</td>\n",
              "      <td>3.56</td>\n",
              "      <td>31.85</td>\n",
              "      <td>1.21</td>\n",
              "      <td>1.02</td>\n",
              "      <td>0.95</td>\n",
              "      <td>0.19</td>\n",
              "      <td>331.79</td>\n",
              "      <td>11.19</td>\n",
              "      <td>Cl reduc disloc-hip</td>\n",
              "      <td>399.17</td>\n",
              "    </tr>\n",
              "    <tr>\n",
              "      <th>3</th>\n",
              "      <td>EMERGENCY</td>\n",
              "      <td>CLINIC REFERRAL/PREMATURE</td>\n",
              "      <td>Government</td>\n",
              "      <td>PROTESTANT QUAKER</td>\n",
              "      <td>SINGLE</td>\n",
              "      <td>WHITE</td>\n",
              "      <td>RENAL FAILURE;PNEUMONIA</td>\n",
              "      <td>0</td>\n",
              "      <td>5.76</td>\n",
              "      <td>47.1602</td>\n",
              "      <td>M</td>\n",
              "      <td>0.35</td>\n",
              "      <td>3.65</td>\n",
              "      <td>0.52</td>\n",
              "      <td>2.43</td>\n",
              "      <td>45.49</td>\n",
              "      <td>9.03</td>\n",
              "      <td>64.58</td>\n",
              "      <td>1.74</td>\n",
              "      <td>2.26</td>\n",
              "      <td>2.26</td>\n",
              "      <td>0.69</td>\n",
              "      <td>685.42</td>\n",
              "      <td>15.28</td>\n",
              "      <td>Cont inv mec ven &lt;96 hrs</td>\n",
              "      <td>833.70</td>\n",
              "    </tr>\n",
              "    <tr>\n",
              "      <th>4</th>\n",
              "      <td>ELECTIVE</td>\n",
              "      <td>PHYS REFERRAL/NORMAL DELI</td>\n",
              "      <td>Medicare</td>\n",
              "      <td>JEWISH</td>\n",
              "      <td>MARRIED</td>\n",
              "      <td>WHITE</td>\n",
              "      <td>UPPER BI BLED/SDA</td>\n",
              "      <td>0</td>\n",
              "      <td>8.28</td>\n",
              "      <td>85.9865</td>\n",
              "      <td>M</td>\n",
              "      <td>0.12</td>\n",
              "      <td>1.93</td>\n",
              "      <td>0.60</td>\n",
              "      <td>0.85</td>\n",
              "      <td>6.64</td>\n",
              "      <td>5.19</td>\n",
              "      <td>25.85</td>\n",
              "      <td>0.12</td>\n",
              "      <td>0.36</td>\n",
              "      <td>0.72</td>\n",
              "      <td>0.72</td>\n",
              "      <td>264.01</td>\n",
              "      <td>8.57</td>\n",
              "      <td>Part gastrec w jej anast</td>\n",
              "      <td>315.68</td>\n",
              "    </tr>\n",
              "    <tr>\n",
              "      <th>5</th>\n",
              "      <td>ELECTIVE</td>\n",
              "      <td>PHYS REFERRAL/NORMAL DELI</td>\n",
              "      <td>Medicare</td>\n",
              "      <td>CATHOLIC</td>\n",
              "      <td>MARRIED</td>\n",
              "      <td>WHITE</td>\n",
              "      <td>VISCERAL ARTERY ANEURYSM/SDA</td>\n",
              "      <td>0</td>\n",
              "      <td>5.25</td>\n",
              "      <td>74.3894</td>\n",
              "      <td>M</td>\n",
              "      <td>0.00</td>\n",
              "      <td>1.71</td>\n",
              "      <td>0.19</td>\n",
              "      <td>0.57</td>\n",
              "      <td>10.10</td>\n",
              "      <td>5.71</td>\n",
              "      <td>51.24</td>\n",
              "      <td>2.48</td>\n",
              "      <td>1.14</td>\n",
              "      <td>1.52</td>\n",
              "      <td>0.76</td>\n",
              "      <td>301.90</td>\n",
              "      <td>11.81</td>\n",
              "      <td>Abd artery resec w repla</td>\n",
              "      <td>389.13</td>\n",
              "    </tr>\n",
              "    <tr>\n",
              "      <th>6</th>\n",
              "      <td>NEWBORN</td>\n",
              "      <td>PHYS REFERRAL/NORMAL DELI</td>\n",
              "      <td>Private</td>\n",
              "      <td>PROTESTANT QUAKER</td>\n",
              "      <td>NaN</td>\n",
              "      <td>WHITE</td>\n",
              "      <td>NEWBORN</td>\n",
              "      <td>0</td>\n",
              "      <td>1.85</td>\n",
              "      <td>0.0021</td>\n",
              "      <td>F</td>\n",
              "      <td>0.00</td>\n",
              "      <td>2.16</td>\n",
              "      <td>0.54</td>\n",
              "      <td>0.00</td>\n",
              "      <td>0.00</td>\n",
              "      <td>0.00</td>\n",
              "      <td>14.05</td>\n",
              "      <td>0.54</td>\n",
              "      <td>1.08</td>\n",
              "      <td>0.00</td>\n",
              "      <td>2.16</td>\n",
              "      <td>17.84</td>\n",
              "      <td>0.00</td>\n",
              "      <td>Vaccination NEC</td>\n",
              "      <td>38.37</td>\n",
              "    </tr>\n",
              "    <tr>\n",
              "      <th>7</th>\n",
              "      <td>NEWBORN</td>\n",
              "      <td>PHYS REFERRAL/NORMAL DELI</td>\n",
              "      <td>Private</td>\n",
              "      <td>JEWISH</td>\n",
              "      <td>NaN</td>\n",
              "      <td>WHITE</td>\n",
              "      <td>NEWBORN</td>\n",
              "      <td>0</td>\n",
              "      <td>2.27</td>\n",
              "      <td>0.0006</td>\n",
              "      <td>M</td>\n",
              "      <td>0.00</td>\n",
              "      <td>1.32</td>\n",
              "      <td>0.44</td>\n",
              "      <td>0.00</td>\n",
              "      <td>0.00</td>\n",
              "      <td>0.00</td>\n",
              "      <td>13.66</td>\n",
              "      <td>0.44</td>\n",
              "      <td>0.88</td>\n",
              "      <td>0.00</td>\n",
              "      <td>1.76</td>\n",
              "      <td>18.50</td>\n",
              "      <td>0.00</td>\n",
              "      <td>Vaccination NEC</td>\n",
              "      <td>37.00</td>\n",
              "    </tr>\n",
              "    <tr>\n",
              "      <th>8</th>\n",
              "      <td>ELECTIVE</td>\n",
              "      <td>PHYS REFERRAL/NORMAL DELI</td>\n",
              "      <td>Private</td>\n",
              "      <td>NOT SPECIFIED</td>\n",
              "      <td>SINGLE</td>\n",
              "      <td>WHITE</td>\n",
              "      <td>RIGHT LUNG CA/SDA</td>\n",
              "      <td>0</td>\n",
              "      <td>13.08</td>\n",
              "      <td>62.7394</td>\n",
              "      <td>M</td>\n",
              "      <td>0.08</td>\n",
              "      <td>1.22</td>\n",
              "      <td>0.84</td>\n",
              "      <td>0.46</td>\n",
              "      <td>26.76</td>\n",
              "      <td>4.82</td>\n",
              "      <td>31.96</td>\n",
              "      <td>0.46</td>\n",
              "      <td>2.06</td>\n",
              "      <td>0.00</td>\n",
              "      <td>0.38</td>\n",
              "      <td>267.97</td>\n",
              "      <td>7.49</td>\n",
              "      <td>NaN</td>\n",
              "      <td>344.50</td>\n",
              "    </tr>\n",
              "    <tr>\n",
              "      <th>9</th>\n",
              "      <td>EMERGENCY</td>\n",
              "      <td>CLINIC REFERRAL/PREMATURE</td>\n",
              "      <td>Private</td>\n",
              "      <td>PROTESTANT QUAKER</td>\n",
              "      <td>MARRIED</td>\n",
              "      <td>WHITE</td>\n",
              "      <td>PNEUMONIA</td>\n",
              "      <td>0</td>\n",
              "      <td>4.62</td>\n",
              "      <td>34.8096</td>\n",
              "      <td>F</td>\n",
              "      <td>0.22</td>\n",
              "      <td>2.38</td>\n",
              "      <td>0.22</td>\n",
              "      <td>1.30</td>\n",
              "      <td>8.44</td>\n",
              "      <td>1.73</td>\n",
              "      <td>36.15</td>\n",
              "      <td>5.63</td>\n",
              "      <td>1.30</td>\n",
              "      <td>1.95</td>\n",
              "      <td>1.73</td>\n",
              "      <td>411.04</td>\n",
              "      <td>14.72</td>\n",
              "      <td>Arterial catheterization</td>\n",
              "      <td>486.81</td>\n",
              "    </tr>\n",
              "  </tbody>\n",
              "</table>\n",
              "</div>"
            ],
            "text/plain": [
              "  admit_type  ... TotalNumInteract\n",
              "0   ELECTIVE  ...           507.04\n",
              "1  EMERGENCY  ...          1032.89\n",
              "2  EMERGENCY  ...           399.17\n",
              "3  EMERGENCY  ...           833.70\n",
              "4   ELECTIVE  ...           315.68\n",
              "5   ELECTIVE  ...           389.13\n",
              "6    NEWBORN  ...            38.37\n",
              "7    NEWBORN  ...            37.00\n",
              "8   ELECTIVE  ...           344.50\n",
              "9  EMERGENCY  ...           486.81\n",
              "\n",
              "[10 rows x 26 columns]"
            ]
          },
          "metadata": {
            "tags": []
          },
          "execution_count": 7
        }
      ]
    },
    {
      "cell_type": "code",
      "metadata": {
        "id": "Zu82KHHKJIiA",
        "colab_type": "code",
        "outputId": "b7cd96d9-e07d-4c9e-f1bd-5ae4fdc3a2f6",
        "colab": {
          "base_uri": "https://localhost:8080/",
          "height": 879
        }
      },
      "source": [
        "data_full.hist(bins=50, figsize=(20,15))\n",
        "plt.show()"
      ],
      "execution_count": 0,
      "outputs": [
        {
          "output_type": "display_data",
          "data": {
            "image/png": "[encoded data removed]",
            "text/plain": [
              "<Figure size 1440x1080 with 20 Axes>"
            ]
          },
          "metadata": {
            "tags": [],
            "needs_background": "light"
          }
        }
      ]
    },
    {
      "cell_type": "code",
      "metadata": {
        "id": "c_OAsFODKeZ_",
        "colab_type": "code",
        "colab": {}
      },
      "source": [
        "# From the age histograms we saw that there are ages beyond 300\n",
        "# By checking the mimic 3 reference, all ages > 89 in the database were replaced with 300\n",
        "# So we replace age>300 with 89\n",
        "data_full['age'] = np.where(data_full['age'] > 300, 89, data_full['age'])\n"
      ],
      "execution_count": 0,
      "outputs": []
    },
    {
      "cell_type": "code",
      "metadata": {
        "id": "FhMQ8dMgJTQH",
        "colab_type": "code",
        "outputId": "e3a11674-765c-4730-e2d0-76411bb2170e",
        "colab": {
          "base_uri": "https://localhost:8080/",
          "height": 555
        }
      },
      "source": [
        "age_histogram = data_full.hist(column='age', bins=20, range=[0, 100])\n",
        "for ax in age_histogram.flatten():\n",
        "    ax.set_xlabel(\"Age\")\n",
        "    ax.set_ylabel(\"Num. of Patients\")\n",
        "plt.show()\n",
        "data_full.groupby('ExpiredHospital').size().plot.bar()\n",
        "plt.show()"
      ],
      "execution_count": 9,
      "outputs": [
        {
          "output_type": "display_data",
          "data": {
            "image/png": "[encoded data removed]",
            "text/plain": [
              "<Figure size 432x288 with 1 Axes>"
            ]
          },
          "metadata": {
            "tags": [],
            "needs_background": "light"
          }
        },
        {
          "output_type": "display_data",
          "data": {
            "image/png": "[encoded data removed]",
            "text/plain": [
              "<Figure size 432x288 with 1 Axes>"
            ]
          },
          "metadata": {
            "tags": [],
            "needs_background": "light"
          }
        }
      ]
    },
    {
      "cell_type": "markdown",
      "metadata": {
        "id": "WvAQgAwdUMZh",
        "colab_type": "text"
      },
      "source": [
        "This is considered an imbalanced dataset as the classes of lived vs. expired are imbalanced 9:1. Consider a simple, dumb model, one that always predicts that the patient lives and it assumes 0 percent mortality.\n",
        "\n",
        "Accuracy is defined as (true positives + true negatives) / all samples, so this model has a fantastic accuracy of 90 percent on MIMIC3 dataset. With 100 patients and a model predicting that all patients lived, TN=90 and FN=10, the accuracy is (0+90)/100=90 percent.\n",
        "\n",
        "\n",
        "This exercise with a dumb model provides the necessary perspective on the problem, as it gives us a certain baseline to compare against the machine. We know by now that a 90 percent accuracy is not such a high goal to achieve. It’s considered common sense in ML to try come up with a sanity check, a baseline against which to compare a metric, before we measure the machine performance on a task. \n",
        "\n",
        "When a problem involves a moderate to highly imbalanced classes situation == such as mortality in our dataset being 10 percent — accuracy is not the only metric to monitor, as it may be quite misleading. The relevance of the predictions is an important parameter as well:\n",
        "\n",
        "Precision = TP/(TP+FN)\n",
        "\n",
        "How many selected items were relevant? Our dumb model’s precision is 0, as no true positives (TP) have been selected (0/0+10).\n",
        "\n",
        "Recall = TP/TP+FP\n",
        "\n",
        "How many relevant items are selected?  Recall for this model is also 0, as nothing predicted was relevant (actually recall is indeterminate 0/0).\n",
        "\n",
        "#https://developers.google.com/machine-learning/crash-course/classification/accuracy"
      ]
    },
    {
      "cell_type": "code",
      "metadata": {
        "id": "e_6sPoEqJsDc",
        "colab_type": "code",
        "outputId": "4f07906f-2b46-4a5f-fef6-64791d256be7",
        "colab": {
          "base_uri": "https://localhost:8080/",
          "height": 145
        }
      },
      "source": [
        "#LOS was eliminated from the dataset as it is never a good idea to provide the model information from the future. \n",
        "#When asked to predict mortality, the LOS is not yet known, so it should not be given to the model during training. \n",
        "\n",
        "# Some other non-related features are also droped \n",
        "y = data_full['ExpiredHospital']\n",
        "X = data_full.drop('ExpiredHospital', 1)\n",
        "\n",
        "X = X.drop('LOSdays', 1)\n",
        "X = X.drop('AdmitDiagnosis', 1)\n",
        "X = X.drop('AdmitProcedure', 1)\n",
        "X = X.drop('marital_status', 1)\n",
        "X = X.drop('ethnicity', 1)\n",
        "X = X.drop('religion', 1)\n",
        "X = X.drop('insurance', 1)\n",
        "\n",
        "print(\"y - Labels\", y.shape)\n",
        "print(\"X - No Label No id \", X.shape)\n",
        "print(X.columns)"
      ],
      "execution_count": 10,
      "outputs": [
        {
          "output_type": "stream",
          "text": [
            "y - Labels (58880,)\n",
            "X - No Label No id  (58880, 18)\n",
            "Index(['admit_type', 'admit_location', 'age', 'gender', 'NumCallouts',\n",
            "       'NumDiagnosis', 'NumProcs', 'NumCPTevents', 'NumInput', 'NumOutput',\n",
            "       'NumLabs', 'NumMicroLabs', 'NumNotes', 'NumProcEvents', 'NumTransfers',\n",
            "       'NumChartEvents', 'NumRx', 'TotalNumInteract'],\n",
            "      dtype='object')\n"
          ],
          "name": "stdout"
        }
      ]
    },
    {
      "cell_type": "code",
      "metadata": {
        "id": "kbqp679DLKM5",
        "colab_type": "code",
        "outputId": "10b99a51-c1a4-4916-fc86-dbd0aaa2241c",
        "colab": {
          "base_uri": "https://localhost:8080/",
          "height": 963
        }
      },
      "source": [
        "# Check that all numerical X columns have no missing values\n",
        "X.info()\n",
        "X.describe()\n",
        "data_full.isnull().sum(axis = 0)"
      ],
      "execution_count": 11,
      "outputs": [
        {
          "output_type": "stream",
          "text": [
            "<class 'pandas.core.frame.DataFrame'>\n",
            "Int64Index: 58880 entries, 0 to 58975\n",
            "Data columns (total 18 columns):\n",
            " #   Column            Non-Null Count  Dtype  \n",
            "---  ------            --------------  -----  \n",
            " 0   admit_type        58880 non-null  object \n",
            " 1   admit_location    58880 non-null  object \n",
            " 2   age               58880 non-null  float64\n",
            " 3   gender            58880 non-null  object \n",
            " 4   NumCallouts       58880 non-null  float64\n",
            " 5   NumDiagnosis      58880 non-null  float64\n",
            " 6   NumProcs          58880 non-null  float64\n",
            " 7   NumCPTevents      58880 non-null  float64\n",
            " 8   NumInput          58880 non-null  float64\n",
            " 9   NumOutput         58880 non-null  float64\n",
            " 10  NumLabs           58880 non-null  float64\n",
            " 11  NumMicroLabs      58880 non-null  float64\n",
            " 12  NumNotes          58880 non-null  float64\n",
            " 13  NumProcEvents     58880 non-null  float64\n",
            " 14  NumTransfers      58880 non-null  float64\n",
            " 15  NumChartEvents    58880 non-null  float64\n",
            " 16  NumRx             58880 non-null  float64\n",
            " 17  TotalNumInteract  58880 non-null  float64\n",
            "dtypes: float64(15), object(3)\n",
            "memory usage: 8.5+ MB\n"
          ],
          "name": "stdout"
        },
        {
          "output_type": "execute_result",
          "data": {
            "text/plain": [
              "admit_type              0\n",
              "admit_location          0\n",
              "insurance               0\n",
              "religion              452\n",
              "marital_status      10097\n",
              "ethnicity               0\n",
              "AdmitDiagnosis         25\n",
              "ExpiredHospital         0\n",
              "LOSdays                 0\n",
              "age                     0\n",
              "gender                  0\n",
              "NumCallouts             0\n",
              "NumDiagnosis            0\n",
              "NumProcs                0\n",
              "NumCPTevents            0\n",
              "NumInput                0\n",
              "NumOutput               0\n",
              "NumLabs                 0\n",
              "NumMicroLabs            0\n",
              "NumNotes                0\n",
              "NumProcEvents           0\n",
              "NumTransfers            0\n",
              "NumChartEvents          0\n",
              "NumRx                   0\n",
              "AdmitProcedure       8009\n",
              "TotalNumInteract        0\n",
              "dtype: int64"
            ]
          },
          "metadata": {
            "tags": []
          },
          "execution_count": 11
        }
      ]
    },
    {
      "cell_type": "code",
      "metadata": {
        "id": "V2g1ZNsYLNnv",
        "colab_type": "code",
        "outputId": "e6fa5005-6191-4186-c775-c4a2c0e8161a",
        "colab": {
          "base_uri": "https://localhost:8080/",
          "height": 1000
        }
      },
      "source": [
        "data_full.groupby('ExpiredHospital').size().plot.bar()\n",
        "plt.show()\n",
        "data_full.groupby('admit_type').size().plot.bar()\n",
        "plt.show()\n",
        "data_full.groupby('admit_location').size().plot.bar()\n",
        "plt.show()"
      ],
      "execution_count": 12,
      "outputs": [
        {
          "output_type": "display_data",
          "data": {
            "image/png": "[encoded data removed]",
            "text/plain": [
              "<Figure size 432x288 with 1 Axes>"
            ]
          },
          "metadata": {
            "tags": [],
            "needs_background": "light"
          }
        },
        {
          "output_type": "display_data",
          "data": {
            "image/png": "[encoded data removed]",
            "text/plain": [
              "<Figure size 432x288 with 1 Axes>"
            ]
          },
          "metadata": {
            "tags": [],
            "needs_background": "light"
          }
        },
        {
          "output_type": "display_data",
          "data": {
            "image/png": "[encoded data removed]",
            "text/plain": [
              "<Figure size 432x288 with 1 Axes>"
            ]
          },
          "metadata": {
            "tags": [],
            "needs_background": "light"
          }
        }
      ]
    },
    {
      "cell_type": "code",
      "metadata": {
        "id": "rRndTBB-duAU",
        "colab_type": "code",
        "colab": {}
      },
      "source": [
        ""
      ],
      "execution_count": 0,
      "outputs": []
    },
    {
      "cell_type": "code",
      "metadata": {
        "id": "SFk24L9iMsZ-",
        "colab_type": "code",
        "outputId": "c370f45b-0006-4769-85d3-0acb78fe9956",
        "colab": {
          "base_uri": "https://localhost:8080/",
          "height": 54
        }
      },
      "source": [
        "# Use one-hot-encoding to convert categorical features to numerical\n",
        "\n",
        "print(X.shape)\n",
        "categorical_columns = [\n",
        "                    'gender',                     \n",
        "                    'admit_type',\n",
        "                    'admit_location'\n",
        "                      ]\n",
        "for col in categorical_columns:\n",
        "    #if the original column is present replace it with a one-hot\n",
        "    if col in X.columns:\n",
        "        one_hot_encoded = pd.get_dummies(X[col])\n",
        "        X = X.drop(col, axis=1)\n",
        "        X = X.join(one_hot_encoded, lsuffix='_left', rsuffix='_right')\n",
        "        \n",
        "print(X.shape)"
      ],
      "execution_count": 14,
      "outputs": [
        {
          "output_type": "stream",
          "text": [
            "(58880, 30)\n",
            "(58880, 30)\n"
          ],
          "name": "stdout"
        }
      ]
    },
    {
      "cell_type": "code",
      "metadata": {
        "id": "4jarjNcRAach",
        "colab_type": "code",
        "outputId": "56cff054-4ef7-41f1-f5ef-37da3c14ce26",
        "colab": {
          "base_uri": "https://localhost:8080/",
          "height": 270
        }
      },
      "source": [
        "X.head()"
      ],
      "execution_count": 18,
      "outputs": [
        {
          "output_type": "execute_result",
          "data": {
            "text/html": [
              "<div>\n",
              "<style scoped>\n",
              "    .dataframe tbody tr th:only-of-type {\n",
              "        vertical-align: middle;\n",
              "    }\n",
              "\n",
              "    .dataframe tbody tr th {\n",
              "        vertical-align: top;\n",
              "    }\n",
              "\n",
              "    .dataframe thead th {\n",
              "        text-align: right;\n",
              "    }\n",
              "</style>\n",
              "<table border=\"1\" class=\"dataframe\">\n",
              "  <thead>\n",
              "    <tr style=\"text-align: right;\">\n",
              "      <th></th>\n",
              "      <th>age</th>\n",
              "      <th>NumCallouts</th>\n",
              "      <th>NumDiagnosis</th>\n",
              "      <th>NumProcs</th>\n",
              "      <th>NumCPTevents</th>\n",
              "      <th>NumInput</th>\n",
              "      <th>NumOutput</th>\n",
              "      <th>NumLabs</th>\n",
              "      <th>NumMicroLabs</th>\n",
              "      <th>NumNotes</th>\n",
              "      <th>NumProcEvents</th>\n",
              "      <th>NumTransfers</th>\n",
              "      <th>NumChartEvents</th>\n",
              "      <th>NumRx</th>\n",
              "      <th>TotalNumInteract</th>\n",
              "      <th>F</th>\n",
              "      <th>M</th>\n",
              "      <th>ELECTIVE</th>\n",
              "      <th>EMERGENCY</th>\n",
              "      <th>NEWBORN</th>\n",
              "      <th>URGENT</th>\n",
              "      <th>** INFO NOT AVAILABLE **</th>\n",
              "      <th>CLINIC REFERRAL/PREMATURE</th>\n",
              "      <th>EMERGENCY ROOM ADMIT</th>\n",
              "      <th>HMO REFERRAL/SICK</th>\n",
              "      <th>PHYS REFERRAL/NORMAL DELI</th>\n",
              "      <th>TRANSFER FROM HOSP/EXTRAM</th>\n",
              "      <th>TRANSFER FROM OTHER HEALT</th>\n",
              "      <th>TRANSFER FROM SKILLED NUR</th>\n",
              "      <th>TRSF WITHIN THIS FACILITY</th>\n",
              "    </tr>\n",
              "  </thead>\n",
              "  <tbody>\n",
              "    <tr>\n",
              "      <th>0</th>\n",
              "      <td>54.5201</td>\n",
              "      <td>0.23</td>\n",
              "      <td>1.14</td>\n",
              "      <td>0.68</td>\n",
              "      <td>1.82</td>\n",
              "      <td>6.59</td>\n",
              "      <td>7.95</td>\n",
              "      <td>30.45</td>\n",
              "      <td>0.00</td>\n",
              "      <td>0.45</td>\n",
              "      <td>1.14</td>\n",
              "      <td>0.91</td>\n",
              "      <td>446.59</td>\n",
              "      <td>9.09</td>\n",
              "      <td>507.04</td>\n",
              "      <td>1</td>\n",
              "      <td>0</td>\n",
              "      <td>1</td>\n",
              "      <td>0</td>\n",
              "      <td>0</td>\n",
              "      <td>0</td>\n",
              "      <td>0</td>\n",
              "      <td>0</td>\n",
              "      <td>0</td>\n",
              "      <td>0</td>\n",
              "      <td>1</td>\n",
              "      <td>0</td>\n",
              "      <td>0</td>\n",
              "      <td>0</td>\n",
              "      <td>0</td>\n",
              "    </tr>\n",
              "    <tr>\n",
              "      <th>1</th>\n",
              "      <td>24.8868</td>\n",
              "      <td>0.00</td>\n",
              "      <td>5.48</td>\n",
              "      <td>5.48</td>\n",
              "      <td>1.37</td>\n",
              "      <td>26.03</td>\n",
              "      <td>5.48</td>\n",
              "      <td>16.44</td>\n",
              "      <td>0.00</td>\n",
              "      <td>6.85</td>\n",
              "      <td>0.00</td>\n",
              "      <td>2.74</td>\n",
              "      <td>939.73</td>\n",
              "      <td>23.29</td>\n",
              "      <td>1032.89</td>\n",
              "      <td>1</td>\n",
              "      <td>0</td>\n",
              "      <td>0</td>\n",
              "      <td>1</td>\n",
              "      <td>0</td>\n",
              "      <td>0</td>\n",
              "      <td>0</td>\n",
              "      <td>1</td>\n",
              "      <td>0</td>\n",
              "      <td>0</td>\n",
              "      <td>0</td>\n",
              "      <td>0</td>\n",
              "      <td>0</td>\n",
              "      <td>0</td>\n",
              "      <td>0</td>\n",
              "    </tr>\n",
              "    <tr>\n",
              "      <th>2</th>\n",
              "      <td>45.5798</td>\n",
              "      <td>0.06</td>\n",
              "      <td>1.40</td>\n",
              "      <td>0.25</td>\n",
              "      <td>1.59</td>\n",
              "      <td>14.11</td>\n",
              "      <td>3.56</td>\n",
              "      <td>31.85</td>\n",
              "      <td>1.21</td>\n",
              "      <td>1.02</td>\n",
              "      <td>0.95</td>\n",
              "      <td>0.19</td>\n",
              "      <td>331.79</td>\n",
              "      <td>11.19</td>\n",
              "      <td>399.17</td>\n",
              "      <td>1</td>\n",
              "      <td>0</td>\n",
              "      <td>0</td>\n",
              "      <td>1</td>\n",
              "      <td>0</td>\n",
              "      <td>0</td>\n",
              "      <td>0</td>\n",
              "      <td>1</td>\n",
              "      <td>0</td>\n",
              "      <td>0</td>\n",
              "      <td>0</td>\n",
              "      <td>0</td>\n",
              "      <td>0</td>\n",
              "      <td>0</td>\n",
              "      <td>0</td>\n",
              "    </tr>\n",
              "    <tr>\n",
              "      <th>3</th>\n",
              "      <td>47.1602</td>\n",
              "      <td>0.35</td>\n",
              "      <td>3.65</td>\n",
              "      <td>0.52</td>\n",
              "      <td>2.43</td>\n",
              "      <td>45.49</td>\n",
              "      <td>9.03</td>\n",
              "      <td>64.58</td>\n",
              "      <td>1.74</td>\n",
              "      <td>2.26</td>\n",
              "      <td>2.26</td>\n",
              "      <td>0.69</td>\n",
              "      <td>685.42</td>\n",
              "      <td>15.28</td>\n",
              "      <td>833.70</td>\n",
              "      <td>0</td>\n",
              "      <td>1</td>\n",
              "      <td>0</td>\n",
              "      <td>1</td>\n",
              "      <td>0</td>\n",
              "      <td>0</td>\n",
              "      <td>0</td>\n",
              "      <td>1</td>\n",
              "      <td>0</td>\n",
              "      <td>0</td>\n",
              "      <td>0</td>\n",
              "      <td>0</td>\n",
              "      <td>0</td>\n",
              "      <td>0</td>\n",
              "      <td>0</td>\n",
              "    </tr>\n",
              "    <tr>\n",
              "      <th>4</th>\n",
              "      <td>85.9865</td>\n",
              "      <td>0.12</td>\n",
              "      <td>1.93</td>\n",
              "      <td>0.60</td>\n",
              "      <td>0.85</td>\n",
              "      <td>6.64</td>\n",
              "      <td>5.19</td>\n",
              "      <td>25.85</td>\n",
              "      <td>0.12</td>\n",
              "      <td>0.36</td>\n",
              "      <td>0.72</td>\n",
              "      <td>0.72</td>\n",
              "      <td>264.01</td>\n",
              "      <td>8.57</td>\n",
              "      <td>315.68</td>\n",
              "      <td>0</td>\n",
              "      <td>1</td>\n",
              "      <td>1</td>\n",
              "      <td>0</td>\n",
              "      <td>0</td>\n",
              "      <td>0</td>\n",
              "      <td>0</td>\n",
              "      <td>0</td>\n",
              "      <td>0</td>\n",
              "      <td>0</td>\n",
              "      <td>1</td>\n",
              "      <td>0</td>\n",
              "      <td>0</td>\n",
              "      <td>0</td>\n",
              "      <td>0</td>\n",
              "    </tr>\n",
              "  </tbody>\n",
              "</table>\n",
              "</div>"
            ],
            "text/plain": [
              "       age  NumCallouts  ...  TRANSFER FROM SKILLED NUR  TRSF WITHIN THIS FACILITY\n",
              "0  54.5201         0.23  ...                          0                          0\n",
              "1  24.8868         0.00  ...                          0                          0\n",
              "2  45.5798         0.06  ...                          0                          0\n",
              "3  47.1602         0.35  ...                          0                          0\n",
              "4  85.9865         0.12  ...                          0                          0\n",
              "\n",
              "[5 rows x 30 columns]"
            ]
          },
          "metadata": {
            "tags": []
          },
          "execution_count": 18
        }
      ]
    },
    {
      "cell_type": "code",
      "metadata": {
        "id": "PFcsdVxJYGAs",
        "colab_type": "code",
        "outputId": "3eeaa5b0-eb3e-4107-a45e-537a858761b5",
        "colab": {
          "base_uri": "https://localhost:8080/",
          "height": 90
        }
      },
      "source": [
        "print(data_full.shape)\n",
        "print(X.shape)\n",
        "\n",
        "XnotNorm = X.copy()\n",
        "print('XnotNorm ', XnotNorm.shape)\n",
        "\n",
        "ynotNorm = y.copy()\n",
        "print('ynotNorm ', ynotNorm.shape)"
      ],
      "execution_count": 19,
      "outputs": [
        {
          "output_type": "stream",
          "text": [
            "(58880, 26)\n",
            "(58880, 30)\n",
            "XnotNorm  (58880, 30)\n",
            "ynotNorm  (58880,)\n"
          ],
          "name": "stdout"
        }
      ]
    },
    {
      "cell_type": "code",
      "metadata": {
        "id": "316YkcrAYISz",
        "colab_type": "code",
        "outputId": "9666e137-0472-4900-a4c1-0ed7f8866cf3",
        "colab": {
          "base_uri": "https://localhost:8080/",
          "height": 272
        }
      },
      "source": [
        "# Normalize the data since we can see from the histgrams above, the data is skewed \n",
        "x = XnotNorm.values #returns a numpy array\n",
        "scaler = preprocessing.StandardScaler()\n",
        "x_scaled = scaler.fit_transform(x)\n",
        "XNorm = pd.DataFrame(x_scaled, columns=XnotNorm.columns)\n",
        "print(XNorm)"
      ],
      "execution_count": 20,
      "outputs": [
        {
          "output_type": "stream",
          "text": [
            "            age  ...  TRSF WITHIN THIS FACILITY\n",
            "0     -0.004857  ...                  -0.009216\n",
            "1     -1.099361  ...                  -0.009216\n",
            "2     -0.335066  ...                  -0.009216\n",
            "3     -0.276694  ...                  -0.009216\n",
            "4      1.157354  ...                  -0.009216\n",
            "...         ...  ...                        ...\n",
            "58875 -2.018507  ...                  -0.009216\n",
            "58876 -0.798087  ...                  -0.009216\n",
            "58877 -0.293983  ...                  -0.009216\n",
            "58878 -2.018462  ...                  -0.009216\n",
            "58879 -2.018514  ...                  -0.009216\n",
            "\n",
            "[58880 rows x 30 columns]\n"
          ],
          "name": "stdout"
        }
      ]
    },
    {
      "cell_type": "code",
      "metadata": {
        "id": "gqcNVm_jYt9G",
        "colab_type": "code",
        "outputId": "cb14690b-b47e-49b6-b0d3-b3cb27191d37",
        "colab": {
          "base_uri": "https://localhost:8080/",
          "height": 90
        }
      },
      "source": [
        "# SPLIT into Train & Test\n",
        "\n",
        "X_train, X_test, y_train, y_test = train_test_split(XNorm, y, test_size=0.1, random_state=42)\n",
        "print ('X_train: ', X_train.shape)\n",
        "print ('X_test: ', X_test.shape)\n",
        "print ('y_train: ', y_train.shape)\n",
        "print ('y_test: ', y_test.shape)"
      ],
      "execution_count": 21,
      "outputs": [
        {
          "output_type": "stream",
          "text": [
            "X_train:  (52992, 30)\n",
            "X_test:  (5888, 30)\n",
            "y_train:  (52992,)\n",
            "y_test:  (5888,)\n"
          ],
          "name": "stdout"
        }
      ]
    },
    {
      "cell_type": "markdown",
      "metadata": {
        "id": "Qp0D00qUdPOh",
        "colab_type": "text"
      },
      "source": [
        "A ML model needs one, and only one, metric to use for calculations of the loss function and optimizer. The model will refuse to work if presented with two metrics, such as precision and recall. In the case of imbalanced classes, precision and recall have one prodigy, named F1 score — the harmonic mean of precision and recall. A higher F1 score is better.\n",
        "\n",
        "I’ve used accuracy, precision, recall and F1 score as the models’ metrics for optimization, but only one metric at a time. In addition, I’ve also optimized the models on the area under the vurve (AUC) of the receiver operating characteristic (ROC), even though ROC AUC is best used with balanced classes. A higher AUC is better.\n",
        "\n",
        "Task: predict mortality as a supervised learning classification based on a binary decision (yes / no)\n",
        "Experience: MIMIC3 subset detailed above\n",
        "Performance: accuracy, F1 score, and ROC AUC "
      ]
    },
    {
      "cell_type": "code",
      "metadata": {
        "id": "Z7WUUzkGYwbs",
        "colab_type": "code",
        "outputId": "da12a9e1-cf53-4003-acf6-b178d1bcba63",
        "colab": {
          "base_uri": "https://localhost:8080/",
          "height": 399
        }
      },
      "source": [
        "# Test Models and evaluation metric\n",
        "seed = 7\n",
        "scorings = ['accuracy', 'f1', 'roc_auc']\n",
        "\n",
        "# Spot Check Algorithms\n",
        "Mymodels = []\n",
        "Mymodels.append(('LogReg', LogisticRegression()))\n",
        "Mymodels.append(('RandomForest', RandomForestClassifier()))\n",
        "Mymodels.append(('SGDclassifier', SGDClassifier()))\n",
        "Mymodels.append(('KNearestNeighbors', KNeighborsClassifier()))\n",
        "Mymodels.append(('DecisionTreeClassifier', DecisionTreeClassifier()))\n",
        "Mymodels.append(('GaussianNB', GaussianNB()))\n",
        "Mymodels.append(('SVM', SVC()))\n",
        "\n",
        "# Evaluate each model in turn with corss validation\n",
        "results = []\n",
        "names = []\n",
        "for scoring in scorings:\n",
        "  for name, model in Mymodels:\n",
        "      kfold = model_selection.KFold(n_splits=10, random_state=seed)\n",
        "      cv_results = model_selection.cross_val_score(model, X_train, y_train, cv=kfold, scoring=scoring)\n",
        "      results.append(cv_results)\n",
        "      names.append(name)\n",
        "      msg = \"%s: %f (%f)\" % (name, cv_results.mean(), cv_results.std())\n",
        "      print(msg) "
      ],
      "execution_count": 0,
      "outputs": [
        {
          "output_type": "stream",
          "text": [
            "LogReg: 0.932631 (0.002249)\n",
            "RandomForest: 0.940029 (0.002413)\n",
            "SGDclassifier: 0.929216 (0.003664)\n",
            "KNearestNeighbors: 0.930046 (0.002741)\n",
            "DecisionTreeClassifier: 0.902080 (0.002969)\n",
            "GaussianNB: 0.873792 (0.007453)\n",
            "SVM: 0.933858 (0.001988)\n",
            "LogReg: 0.546050 (0.015879)\n",
            "RandomForest: 0.610045 (0.010186)\n",
            "SGDclassifier: 0.500921 (0.038844)\n",
            "KNearestNeighbors: 0.541081 (0.013481)\n",
            "DecisionTreeClassifier: 0.503817 (0.016223)\n",
            "GaussianNB: 0.504987 (0.017766)\n",
            "SVM: 0.534952 (0.011895)\n",
            "LogReg: 0.900432 (0.009283)\n",
            "RandomForest: 0.925266 (0.005594)\n",
            "SGDclassifier: 0.881566 (0.011689)\n",
            "KNearestNeighbors: 0.830628 (0.007461)\n",
            "DecisionTreeClassifier: 0.731772 (0.007912)\n",
            "GaussianNB: 0.858887 (0.009837)\n",
            "SVM: 0.886151 (0.006392)\n"
          ],
          "name": "stdout"
        }
      ]
    },
    {
      "cell_type": "code",
      "metadata": {
        "id": "WEjXu0M5aNJ5",
        "colab_type": "code",
        "outputId": "72ed68a0-cf1f-4846-dad3-a755ad7c098e",
        "colab": {
          "base_uri": "https://localhost:8080/",
          "height": 163
        }
      },
      "source": [
        "# we can see from the above three different metrics that RF model gave the best performance \n",
        "# So in the following i will tune the hyperparameters of RF model using gird search\n",
        "model = RandomForestClassifier()\n",
        "param_grid = [{},]\n",
        "grid_search = GridSearchCV(model, param_grid, cv=5, scoring='roc_auc') \n",
        "grid_search.fit(XNorm, y)\n",
        "print(grid_search.best_estimator_)"
      ],
      "execution_count": 22,
      "outputs": [
        {
          "output_type": "stream",
          "text": [
            "RandomForestClassifier(bootstrap=True, ccp_alpha=0.0, class_weight=None,\n",
            "                       criterion='gini', max_depth=None, max_features='auto',\n",
            "                       max_leaf_nodes=None, max_samples=None,\n",
            "                       min_impurity_decrease=0.0, min_impurity_split=None,\n",
            "                       min_samples_leaf=1, min_samples_split=2,\n",
            "                       min_weight_fraction_leaf=0.0, n_estimators=100,\n",
            "                       n_jobs=None, oob_score=False, random_state=None,\n",
            "                       verbose=0, warm_start=False)\n"
          ],
          "name": "stdout"
        }
      ]
    },
    {
      "cell_type": "markdown",
      "metadata": {
        "id": "OIhCdf9Mzsod",
        "colab_type": "text"
      },
      "source": [
        "n_estimators = number of trees in the foreset\n",
        "max_features = max number of features considered for splitting a node\n",
        "max_depth = max number of levels in each decision tree\n",
        "min_samples_split = min number of data points placed in a node before the node is split\n",
        "min_samples_leaf = min number of data points allowed in a leaf node\n",
        "bootstrap = method for sampling data points (with or without replacement)"
      ]
    },
    {
      "cell_type": "code",
      "metadata": {
        "id": "oO6I7L2emrME",
        "colab_type": "code",
        "outputId": "3096ebc5-6d1f-4545-b0a3-3cc642361c2f",
        "colab": {
          "base_uri": "https://localhost:8080/",
          "height": 163
        }
      },
      "source": [
        "\n",
        "# Set the model according to above results\n",
        "RandomForestClassifier(bootstrap=True, ccp_alpha=0.0, class_weight=None,\n",
        "                       criterion='gini', max_depth=None, max_features='auto',\n",
        "                       max_leaf_nodes=None, max_samples=None,\n",
        "                       min_impurity_decrease=0.0, min_impurity_split=None,\n",
        "                       min_samples_leaf=1, min_samples_split=2,\n",
        "                       min_weight_fraction_leaf=0.0, n_estimators=100,\n",
        "                       n_jobs=None, oob_score=False, random_state=None,\n",
        "                       verbose=0, warm_start=False)\n"
      ],
      "execution_count": 24,
      "outputs": [
        {
          "output_type": "execute_result",
          "data": {
            "text/plain": [
              "RandomForestClassifier(bootstrap=True, ccp_alpha=0.0, class_weight=None,\n",
              "                       criterion='gini', max_depth=None, max_features='auto',\n",
              "                       max_leaf_nodes=None, max_samples=None,\n",
              "                       min_impurity_decrease=0.0, min_impurity_split=None,\n",
              "                       min_samples_leaf=1, min_samples_split=2,\n",
              "                       min_weight_fraction_leaf=0.0, n_estimators=100,\n",
              "                       n_jobs=None, oob_score=False, random_state=None,\n",
              "                       verbose=0, warm_start=False)"
            ]
          },
          "metadata": {
            "tags": []
          },
          "execution_count": 24
        }
      ]
    },
    {
      "cell_type": "code",
      "metadata": {
        "id": "SqQQd9hopjt-",
        "colab_type": "code",
        "colab": {}
      },
      "source": [
        "def plot_learning_curve(estimator, title, X, y, ylim=None, cv=None,\n",
        "                        n_jobs=1, train_sizes=np.linspace(.1, 1.0, 5)):\n",
        "    plt.figure()\n",
        "    plt.title(title)\n",
        "    if ylim is not None:\n",
        "        plt.ylim(*ylim)\n",
        "    plt.xlabel(\"Training examples\")\n",
        "    plt.ylabel(\"Error\")\n",
        "    # Determines cross-validated training and test scores for different training set sizes.\n",
        "    train_sizes, train_scores, test_scores = learning_curve(\n",
        "        estimator, X, y, cv=cv, n_jobs=n_jobs, train_sizes=train_sizes)\n",
        "    train_scores_mean = 1-np.mean(train_scores, axis=1)\n",
        "    train_scores_std = np.std(train_scores, axis=1)\n",
        "    test_scores_mean = 1-np.mean(test_scores, axis=1)\n",
        "    test_scores_std = np.std(test_scores, axis=1)\n",
        "    plt.grid()\n",
        "\n",
        "    plt.fill_between(train_sizes, train_scores_mean - train_scores_std,\n",
        "                     train_scores_mean + train_scores_std, alpha=0.1,\n",
        "                     color=\"r\")\n",
        "    plt.fill_between(train_sizes, test_scores_mean - test_scores_std,\n",
        "                     test_scores_mean + test_scores_std, alpha=0.1, color=\"g\")\n",
        "    plt.plot(train_sizes, train_scores_mean, 'o-', color=\"r\",\n",
        "             label=\"Training score\")\n",
        "    plt.plot(train_sizes, test_scores_mean, 'o-', color=\"g\",\n",
        "             label=\"Cross-validation score\")\n",
        "\n",
        "    plt.legend(loc=\"best\")\n",
        "    return plt"
      ],
      "execution_count": 0,
      "outputs": []
    },
    {
      "cell_type": "code",
      "metadata": {
        "id": "uejWEBhZpmv0",
        "colab_type": "code",
        "outputId": "25debc39-baa9-42bb-84c6-91cdb01b588b",
        "colab": {
          "base_uri": "https://localhost:8080/",
          "height": 314
        }
      },
      "source": [
        "# LEARNING CURVES Train / Validation\n",
        "\n",
        "title = \"Learning Curves \"\n",
        "cv = ShuffleSplit(n_splits=10, test_size=0.2, random_state=0)\n",
        "plot_learning_curve(model, title, XNorm, y, cv=cv, n_jobs=5)"
      ],
      "execution_count": 26,
      "outputs": [
        {
          "output_type": "execute_result",
          "data": {
            "text/plain": [
              "<module 'matplotlib.pyplot' from '/usr/local/lib/python3.6/dist-packages/matplotlib/pyplot.py'>"
            ]
          },
          "metadata": {
            "tags": []
          },
          "execution_count": 26
        },
        {
          "output_type": "display_data",
          "data": {
            "image/png": "[encoded data removed]",
            "text/plain": [
              "<Figure size 432x288 with 1 Axes>"
            ]
          },
          "metadata": {
            "tags": [],
            "needs_background": "light"
          }
        }
      ]
    },
    {
      "cell_type": "code",
      "metadata": {
        "id": "YPdG8w0qprW8",
        "colab_type": "code",
        "outputId": "49a80885-4531-4bc8-9684-0d9124814479",
        "colab": {
          "base_uri": "https://localhost:8080/",
          "height": 108
        }
      },
      "source": [
        "# Model FINAL fit and evaluation on test\n",
        "\n",
        "model.fit(X_train, y_train)\n",
        "final_predictions = model.predict(X_test)\n",
        "\n",
        "#final_acc = accuracy(y_test, final_predictions)\n",
        "# Confusion matrix\n",
        "\n",
        "conf_mx = confusion_matrix(y_test, final_predictions)\n",
        "\n",
        "TN = conf_mx[0,0]\n",
        "FP = conf_mx[0,1]\n",
        "FN = conf_mx[1,0]\n",
        "TP = conf_mx[1,1]\n",
        "\n",
        "print ('TN: ', TN)\n",
        "print ('FP: ', FP)\n",
        "print ('FN: ', FN)\n",
        "print ('TP: ', TP)\n",
        "\n",
        "recall = TP/(TP+FN)\n",
        "precision = TP/(TP+FP)\n",
        "\n",
        "print (recall, precision)"
      ],
      "execution_count": 27,
      "outputs": [
        {
          "output_type": "stream",
          "text": [
            "TN:  5250\n",
            "FP:  46\n",
            "FN:  302\n",
            "TP:  290\n",
            "0.48986486486486486 0.8630952380952381\n"
          ],
          "name": "stdout"
        }
      ]
    },
    {
      "cell_type": "code",
      "metadata": {
        "id": "zGiprdA0ffd5",
        "colab_type": "code",
        "colab": {
          "base_uri": "https://localhost:8080/",
          "height": 244
        },
        "outputId": "9bf4193f-656b-4327-efdc-83bcbd9bd862"
      },
      "source": [
        "# Save the model as a pickle file so that can be used in Web application \n",
        "import pickle\n",
        "import os\n",
        "\n",
        "os.mkdir('./drive/My Drive/mortality_model.pkl')\n",
        "pkl_filename = \"./drive/My Drive/mortality_model.pkl\"\n",
        "with open(pkl_filename, 'wb') as file:\n",
        "    pickle.dump(model, file)"
      ],
      "execution_count": 42,
      "outputs": [
        {
          "output_type": "error",
          "ename": "FileExistsError",
          "evalue": "ignored",
          "traceback": [
            "\u001b[0;31m---------------------------------------------------------------------------\u001b[0m",
            "\u001b[0;31mFileExistsError\u001b[0m                           Traceback (most recent call last)",
            "\u001b[0;32m<ipython-input-42-f171832b6cdd>\u001b[0m in \u001b[0;36m<module>\u001b[0;34m()\u001b[0m\n\u001b[1;32m      2\u001b[0m \u001b[0;32mimport\u001b[0m \u001b[0mos\u001b[0m\u001b[0;34m\u001b[0m\u001b[0;34m\u001b[0m\u001b[0m\n\u001b[1;32m      3\u001b[0m \u001b[0;34m\u001b[0m\u001b[0m\n\u001b[0;32m----> 4\u001b[0;31m \u001b[0mos\u001b[0m\u001b[0;34m.\u001b[0m\u001b[0mmkdir\u001b[0m\u001b[0;34m(\u001b[0m\u001b[0;34m'./drive/My Drive/mortality_model.pkl'\u001b[0m\u001b[0;34m)\u001b[0m\u001b[0;34m\u001b[0m\u001b[0;34m\u001b[0m\u001b[0m\n\u001b[0m\u001b[1;32m      5\u001b[0m \u001b[0mpkl_filename\u001b[0m \u001b[0;34m=\u001b[0m \u001b[0;34m\"./drive/My Drive/mortality_model.pkl\"\u001b[0m\u001b[0;34m\u001b[0m\u001b[0;34m\u001b[0m\u001b[0m\n\u001b[1;32m      6\u001b[0m \u001b[0;32mwith\u001b[0m \u001b[0mopen\u001b[0m\u001b[0;34m(\u001b[0m\u001b[0mpkl_filename\u001b[0m\u001b[0;34m,\u001b[0m \u001b[0;34m'wb'\u001b[0m\u001b[0;34m)\u001b[0m \u001b[0;32mas\u001b[0m \u001b[0mfile\u001b[0m\u001b[0;34m:\u001b[0m\u001b[0;34m\u001b[0m\u001b[0;34m\u001b[0m\u001b[0m\n",
            "\u001b[0;31mFileExistsError\u001b[0m: [Errno 17] File exists: './drive/My Drive/mortality_model.pkl'"
          ]
        }
      ]
    },
    {
      "cell_type": "code",
      "metadata": {
        "id": "rSxNqMB-hfwM",
        "colab_type": "code",
        "colab": {
          "base_uri": "https://localhost:8080/",
          "height": 35
        },
        "outputId": "dea46b39-e7d2-49de-a630-b5e4a2fbac03"
      },
      "source": [
        "!pwd"
      ],
      "execution_count": 40,
      "outputs": [
        {
          "output_type": "stream",
          "text": [
            "/content\n"
          ],
          "name": "stdout"
        }
      ]
    },
    {
      "cell_type": "code",
      "metadata": {
        "id": "Jh08jlJTyea7",
        "colab_type": "code",
        "colab": {}
      },
      "source": [
        "def plot_confusion_matrix(cm,target_names,title='Confusion matrix',cmap=None,\n",
        "                          normalize=False):\n",
        "    import itertools\n",
        "    accuracy = np.trace(cm) / float(np.sum(cm))\n",
        "    misclass = 1 - accuracy\n",
        "\n",
        "    if cmap is None:\n",
        "        cmap = plt.get_cmap('Blues')\n",
        "\n",
        "    plt.figure(figsize=(8, 6))\n",
        "    plt.imshow(cm, interpolation='nearest', cmap=cmap)\n",
        "    plt.title(title)\n",
        "    plt.colorbar()\n",
        "\n",
        "    if target_names is not None:\n",
        "        tick_marks = np.arange(len(target_names))\n",
        "        plt.xticks(tick_marks, target_names, rotation=45)\n",
        "        plt.yticks(tick_marks, target_names)\n",
        "\n",
        "    if normalize:\n",
        "        cm = cm.astype('float') / cm.sum(axis=1)[:, np.newaxis]\n",
        "        \n",
        "    thresh = cm.max() / 1.5 if normalize else cm.max() / 2\n",
        "    for i, j in itertools.product(range(cm.shape[0]), range(cm.shape[1])):\n",
        "        if normalize:\n",
        "            plt.text(j, i, \"{:0.4f}\".format(cm[i, j]),\n",
        "                     horizontalalignment=\"center\",\n",
        "                     color=\"white\" if cm[i, j] > thresh else \"black\")\n",
        "        else:\n",
        "            plt.text(j, i, \"{:,}\".format(cm[i, j]),\n",
        "                     horizontalalignment=\"center\",\n",
        "                     color=\"white\" if cm[i, j] > thresh else \"black\")\n",
        "\n",
        "\n",
        "    plt.tight_layout()\n",
        "    plt.ylabel('True label')\n",
        "    plt.xlabel('Predicted label\\naccuracy={:0.4f}; misclass={:0.4f}'.format(accuracy, misclass))\n",
        "    plt.show()"
      ],
      "execution_count": 0,
      "outputs": []
    },
    {
      "cell_type": "code",
      "metadata": {
        "id": "d3iJC6TUyj6j",
        "colab_type": "code",
        "outputId": "12014f3c-f4ec-4976-c697-64c4b7c6b9d7",
        "colab": {
          "base_uri": "https://localhost:8080/",
          "height": 467
        }
      },
      "source": [
        "plot_confusion_matrix(conf_mx, \n",
        "                      normalize    = False,\n",
        "                      target_names = ['lived', 'died'],\n",
        "                      title        = \"Confusion Matrix\")"
      ],
      "execution_count": 0,
      "outputs": [
        {
          "output_type": "display_data",
          "data": {
            "image/png": "[encoded data removed]",
            "text/plain": [
              "<Figure size 576x432 with 2 Axes>"
            ]
          },
          "metadata": {
            "tags": []
          }
        }
      ]
    },
    {
      "cell_type": "code",
      "metadata": {
        "id": "jVQALFlHymbs",
        "colab_type": "code",
        "outputId": "c2564aa1-be76-44d3-c3ac-58724185d441",
        "colab": {
          "base_uri": "https://localhost:8080/",
          "height": 90
        }
      },
      "source": [
        "print ('precision ',round(precision_score(y_test, final_predictions),4))\n",
        "print ('recall ',round(recall_score(y_test, final_predictions) ,4))\n",
        "print ('accuracy ',round(accuracy_score(y_test, final_predictions),4))\n",
        "print ('F1 score ',round(f1_score(y_test, final_predictions),4))"
      ],
      "execution_count": 0,
      "outputs": [
        {
          "output_type": "stream",
          "text": [
            "precision  0.848\n",
            "recall  0.4899\n",
            "accuracy  0.9399\n",
            "F1 score  0.621\n"
          ],
          "name": "stdout"
        }
      ]
    },
    {
      "cell_type": "code",
      "metadata": {
        "id": "7nbsQnscypxr",
        "colab_type": "code",
        "outputId": "78bb69dc-c060-4b1c-de23-58c377780dd8",
        "colab": {
          "base_uri": "https://localhost:8080/",
          "height": 1000
        }
      },
      "source": [
        "# FEATURE IMPORTANCE \n",
        "\n",
        "trainFinalFI = XNorm\n",
        "yFinalFI = y\n",
        "model.fit(trainFinalFI,yFinalFI)\n",
        "\n",
        "FI_model = pd.DataFrame({\"Feature Importance\":model.feature_importances_,}, index=trainFinalFI.columns)\n",
        "FI_model[FI_model[\"Feature Importance\"] > 0.01].sort_values(\"Feature Importance\").plot(kind=\"barh\",figsize=(15,25))\n",
        "plt.xticks(rotation=90)\n",
        "plt.xticks(rotation=90)\n",
        "plt.show()"
      ],
      "execution_count": 0,
      "outputs": [
        {
          "output_type": "display_data",
          "data": {
            "image/png": "[encoded data removed]",
            "text/plain": [
              "<Figure size 1080x1800 with 1 Axes>"
            ]
          },
          "metadata": {
            "tags": []
          }
        }
      ]
    },
    {
      "cell_type": "code",
      "metadata": {
        "id": "vzgIVrzNyr5x",
        "colab_type": "code",
        "outputId": "ad8a274d-1b2e-4406-ba7f-ac5708913548",
        "colab": {
          "base_uri": "https://localhost:8080/",
          "height": 435
        }
      },
      "source": [
        "# List of important features for model\n",
        "FI_model = pd.DataFrame({\"Feature Importance\":model.feature_importances_,}, index=trainFinalFI.columns)\n",
        "FI_model=FI_model.sort_values('Feature Importance', ascending = False)\n",
        "print(FI_model[FI_model[\"Feature Importance\"] > 0.0025])"
      ],
      "execution_count": 0,
      "outputs": [
        {
          "output_type": "stream",
          "text": [
            "                           Feature Importance\n",
            "NumLabs                              0.137071\n",
            "TotalNumInteract                     0.105987\n",
            "NumChartEvents                       0.089846\n",
            "NumInput                             0.080057\n",
            "age                                  0.071403\n",
            "NumCPTevents                         0.070740\n",
            "NumRx                                0.059056\n",
            "NumMicroLabs                         0.051400\n",
            "NumNotes                             0.050423\n",
            "NumDiagnosis                         0.049110\n",
            "NumOutput                            0.047242\n",
            "NumTransfers                         0.045287\n",
            "NumProcs                             0.041643\n",
            "NumCallouts                          0.035810\n",
            "NumProcEvents                        0.023767\n",
            "EMERGENCY ROOM ADMIT                 0.005929\n",
            "M                                    0.005557\n",
            "F                                    0.005518\n",
            "TRANSFER FROM HOSP/EXTRAM            0.004499\n",
            "EMERGENCY                            0.004475\n",
            "CLINIC REFERRAL/PREMATURE            0.003819\n",
            "PHYS REFERRAL/NORMAL DELI            0.003450\n"
          ],
          "name": "stdout"
        }
      ]
    },
    {
      "cell_type": "code",
      "metadata": {
        "id": "KtWKD_yI32MJ",
        "colab_type": "code",
        "outputId": "e8cd6896-93ac-4c44-8373-f8c77a488dbd",
        "colab": {
          "base_uri": "https://localhost:8080/",
          "height": 314
        }
      },
      "source": [
        "# calculate AUC\n",
        "auc = roc_auc_score(y_test, final_predictions)\n",
        "print('AUC: %.3f' % auc)\n",
        "# calculate roc curve\n",
        "fpr, tpr, thresholds = roc_curve(y_test, final_predictions)\n",
        "# plot no skill\n",
        "plt.plot([0, 1], [0, 1], linestyle='--')\n",
        "# plot the roc curve for the model\n",
        "plt.plot(fpr, tpr, marker='.')\n",
        "plt.title('AUC for ROC')\n",
        "plt.xlabel('False Positive Rate')\n",
        "plt.ylabel('True Positive Rate')\n",
        "plt.show()\n",
        "# the curve is closer to the left corner the better the model perform\n",
        "# or say the larger the area under the roc curve the better the model perform "
      ],
      "execution_count": 0,
      "outputs": [
        {
          "output_type": "stream",
          "text": [
            "AUC: 0.740\n"
          ],
          "name": "stdout"
        },
        {
          "output_type": "display_data",
          "data": {
            "image/png": "[encoded data removed]",
            "text/plain": [
              "<Figure size 432x288 with 1 Axes>"
            ]
          },
          "metadata": {
            "tags": []
          }
        }
      ]
    },
    {
      "cell_type": "code",
      "metadata": {
        "id": "ofansrxr4Ew5",
        "colab_type": "code",
        "outputId": "09691517-0dbb-4be6-9a3a-cd59ee114899",
        "colab": {
          "base_uri": "https://localhost:8080/",
          "height": 284
        }
      },
      "source": [
        "Preds = final_predictions.copy()\n",
        "#print(len(Preds))\n",
        "#print(Preds)\n",
        "Preds[ np.where( Preds >= 0.5 ) ] = 1\n",
        "Preds[ np.where( Preds < 0.5 ) ] = 0\n",
        "\n",
        "# calculate precision-recall curve\n",
        "precision, recall, thresholds = precision_recall_curve(y_test, Preds)\n",
        "# calculate F1 score\n",
        "f1 = f1_score(y_test, Preds)\n",
        "print('f1=%.3f' % (f1))\n",
        "# plot no skill\n",
        "plt.plot([0, 1], [0.5, 0.5], linestyle='--')\n",
        "# plot the roc curve for the model\n",
        "plt.plot(recall, precision, marker='.')\n",
        "# show the plot\n",
        "plt.show()"
      ],
      "execution_count": 0,
      "outputs": [
        {
          "output_type": "stream",
          "text": [
            "f1=0.621\n"
          ],
          "name": "stdout"
        },
        {
          "output_type": "display_data",
          "data": {
            "image/png": "[encoded data removed]",
            "text/plain": [
              "<Figure size 432x288 with 1 Axes>"
            ]
          },
          "metadata": {
            "tags": []
          }
        }
      ]
    },
    {
      "cell_type": "markdown",
      "metadata": {
        "id": "Y-w7GmkD5kpx",
        "colab_type": "text"
      },
      "source": [
        "Future work:\n",
        "Tune the model with a higher recal and a reliable precision as the mortality prediction needs to be sensitive rather accurate."
      ]
    },
    {
      "cell_type": "code",
      "metadata": {
        "id": "M_rB3M2z5hsS",
        "colab_type": "code",
        "outputId": "d9d3f07d-45db-45bd-8f68-b014bc37aa7c",
        "colab": {
          "base_uri": "https://localhost:8080/",
          "height": 1000
        }
      },
      "source": [
        "# Try a neuronetwork model\n",
        "\n",
        "\n",
        "# Use of DROPOUT to avoid over fitting\n",
        "model = Sequential()\n",
        "model.add(Dense(2048, activation='relu', kernel_regularizer=regularizers.l2(0.001), input_shape=(30,)))\n",
        "#model.add(layers.BatchNormalization())\n",
        "model.add(Dense(2048, activation='relu', kernel_regularizer=regularizers.l2(0.001)))\n",
        "model.add(Dropout(0.5))\n",
        "model.add(Dense(2048, activation='relu', kernel_regularizer=regularizers.l2(0.001)))\n",
        "model.add(Dropout(0.5))\n",
        "model.add(Dense(1, activation='sigmoid'))\n",
        "print(model.summary())\n",
        "\n",
        "# FIT / TRAIN model\n",
        "\n",
        "NumEpochs = 100\n",
        "BatchSize = 16\n",
        "\n",
        "model.compile(optimizer=optimizers.Adam(lr=1e-5), loss='binary_crossentropy', metrics=['binary_accuracy'])\n",
        "history = model.fit(X_train, y_train, epochs=NumEpochs, batch_size=BatchSize, validation_data=(X_test, y_test))\n",
        "\n",
        "results = model.evaluate(X_test, y_test)\n",
        "print(\"_\"*100)\n",
        "print(\"Test Loss and Accuracy\")\n",
        "print(\"results \", results)\n",
        "history_dict = history.history\n",
        "history_dict.keys()"
      ],
      "execution_count": 0,
      "outputs": [
        {
          "output_type": "stream",
          "text": [
            "Model: \"sequential_8\"\n",
            "_________________________________________________________________\n",
            "Layer (type)                 Output Shape              Param #   \n",
            "=================================================================\n",
            "dense_18 (Dense)             (None, 2048)              63488     \n",
            "_________________________________________________________________\n",
            "dense_19 (Dense)             (None, 2048)              4196352   \n",
            "_________________________________________________________________\n",
            "dropout_8 (Dropout)          (None, 2048)              0         \n",
            "_________________________________________________________________\n",
            "dense_20 (Dense)             (None, 2048)              4196352   \n",
            "_________________________________________________________________\n",
            "dropout_9 (Dropout)          (None, 2048)              0         \n",
            "_________________________________________________________________\n",
            "dense_21 (Dense)             (None, 1)                 2049      \n",
            "=================================================================\n",
            "Total params: 8,458,241\n",
            "Trainable params: 8,458,241\n",
            "Non-trainable params: 0\n",
            "_________________________________________________________________\n",
            "None\n",
            "Epoch 1/100\n",
            "3312/3312 [==============================] - 17s 5ms/step - loss: 3.2364 - binary_accuracy: 0.9262 - val_loss: 2.3886 - val_binary_accuracy: 0.9327\n",
            "Epoch 2/100\n",
            "3312/3312 [==============================] - 17s 5ms/step - loss: 1.9127 - binary_accuracy: 0.9326 - val_loss: 1.5355 - val_binary_accuracy: 0.9341\n",
            "Epoch 3/100\n",
            "3312/3312 [==============================] - 17s 5ms/step - loss: 1.2844 - binary_accuracy: 0.9339 - val_loss: 1.0790 - val_binary_accuracy: 0.9355\n",
            "Epoch 4/100\n",
            "3312/3312 [==============================] - 17s 5ms/step - loss: 0.9263 - binary_accuracy: 0.9346 - val_loss: 0.8043 - val_binary_accuracy: 0.9346\n",
            "Epoch 5/100\n",
            "3312/3312 [==============================] - 17s 5ms/step - loss: 0.7011 - binary_accuracy: 0.9351 - val_loss: 0.6229 - val_binary_accuracy: 0.9348\n",
            "Epoch 6/100\n",
            "3312/3312 [==============================] - 17s 5ms/step - loss: 0.5588 - binary_accuracy: 0.9357 - val_loss: 0.5133 - val_binary_accuracy: 0.9344\n",
            "Epoch 7/100\n",
            "3312/3312 [==============================] - 17s 5ms/step - loss: 0.4696 - binary_accuracy: 0.9353 - val_loss: 0.4398 - val_binary_accuracy: 0.9348\n",
            "Epoch 8/100\n",
            "3312/3312 [==============================] - 17s 5ms/step - loss: 0.4030 - binary_accuracy: 0.9366 - val_loss: 0.3831 - val_binary_accuracy: 0.9367\n",
            "Epoch 9/100\n",
            "3312/3312 [==============================] - 17s 5ms/step - loss: 0.3560 - binary_accuracy: 0.9368 - val_loss: 0.3464 - val_binary_accuracy: 0.9338\n",
            "Epoch 10/100\n",
            "3312/3312 [==============================] - 17s 5ms/step - loss: 0.3220 - binary_accuracy: 0.9374 - val_loss: 0.3156 - val_binary_accuracy: 0.9355\n",
            "Epoch 11/100\n",
            "3312/3312 [==============================] - 17s 5ms/step - loss: 0.2972 - binary_accuracy: 0.9366 - val_loss: 0.2941 - val_binary_accuracy: 0.9358\n",
            "Epoch 12/100\n",
            "3312/3312 [==============================] - 17s 5ms/step - loss: 0.2777 - binary_accuracy: 0.9372 - val_loss: 0.2767 - val_binary_accuracy: 0.9351\n",
            "Epoch 13/100\n",
            "3312/3312 [==============================] - 17s 5ms/step - loss: 0.2637 - binary_accuracy: 0.9377 - val_loss: 0.2643 - val_binary_accuracy: 0.9353\n",
            "Epoch 14/100\n",
            "3312/3312 [==============================] - 17s 5ms/step - loss: 0.2519 - binary_accuracy: 0.9376 - val_loss: 0.2546 - val_binary_accuracy: 0.9370\n",
            "Epoch 15/100\n",
            "3312/3312 [==============================] - 17s 5ms/step - loss: 0.2437 - binary_accuracy: 0.9376 - val_loss: 0.2463 - val_binary_accuracy: 0.9348\n",
            "Epoch 16/100\n",
            "3312/3312 [==============================] - 17s 5ms/step - loss: 0.2353 - binary_accuracy: 0.9379 - val_loss: 0.2424 - val_binary_accuracy: 0.9358\n",
            "Epoch 17/100\n",
            "3312/3312 [==============================] - 17s 5ms/step - loss: 0.2303 - binary_accuracy: 0.9384 - val_loss: 0.2345 - val_binary_accuracy: 0.9361\n",
            "Epoch 18/100\n",
            "3312/3312 [==============================] - 17s 5ms/step - loss: 0.2245 - binary_accuracy: 0.9383 - val_loss: 0.2289 - val_binary_accuracy: 0.9368\n",
            "Epoch 19/100\n",
            "3312/3312 [==============================] - 17s 5ms/step - loss: 0.2201 - binary_accuracy: 0.9380 - val_loss: 0.2247 - val_binary_accuracy: 0.9361\n",
            "Epoch 20/100\n",
            "3312/3312 [==============================] - 17s 5ms/step - loss: 0.2167 - binary_accuracy: 0.9383 - val_loss: 0.2215 - val_binary_accuracy: 0.9350\n",
            "Epoch 21/100\n",
            "3312/3312 [==============================] - 17s 5ms/step - loss: 0.2132 - binary_accuracy: 0.9394 - val_loss: 0.2220 - val_binary_accuracy: 0.9356\n",
            "Epoch 22/100\n",
            "3312/3312 [==============================] - 17s 5ms/step - loss: 0.2108 - binary_accuracy: 0.9392 - val_loss: 0.2202 - val_binary_accuracy: 0.9338\n",
            "Epoch 23/100\n",
            "3312/3312 [==============================] - 17s 5ms/step - loss: 0.2087 - binary_accuracy: 0.9388 - val_loss: 0.2167 - val_binary_accuracy: 0.9355\n",
            "Epoch 24/100\n",
            "3312/3312 [==============================] - 17s 5ms/step - loss: 0.2067 - binary_accuracy: 0.9387 - val_loss: 0.2171 - val_binary_accuracy: 0.9361\n",
            "Epoch 25/100\n",
            "3312/3312 [==============================] - 17s 5ms/step - loss: 0.2042 - binary_accuracy: 0.9395 - val_loss: 0.2138 - val_binary_accuracy: 0.9370\n",
            "Epoch 26/100\n",
            "3312/3312 [==============================] - 17s 5ms/step - loss: 0.2022 - binary_accuracy: 0.9394 - val_loss: 0.2116 - val_binary_accuracy: 0.9367\n",
            "Epoch 27/100\n",
            "3312/3312 [==============================] - 17s 5ms/step - loss: 0.2014 - binary_accuracy: 0.9397 - val_loss: 0.2133 - val_binary_accuracy: 0.9339\n",
            "Epoch 28/100\n",
            "3312/3312 [==============================] - 17s 5ms/step - loss: 0.1997 - binary_accuracy: 0.9400 - val_loss: 0.2098 - val_binary_accuracy: 0.9363\n",
            "Epoch 29/100\n",
            "3312/3312 [==============================] - 17s 5ms/step - loss: 0.1988 - binary_accuracy: 0.9403 - val_loss: 0.2069 - val_binary_accuracy: 0.9367\n",
            "Epoch 30/100\n",
            "3312/3312 [==============================] - 17s 5ms/step - loss: 0.1979 - binary_accuracy: 0.9400 - val_loss: 0.2077 - val_binary_accuracy: 0.9373\n",
            "Epoch 31/100\n",
            "3312/3312 [==============================] - 17s 5ms/step - loss: 0.1963 - binary_accuracy: 0.9397 - val_loss: 0.2068 - val_binary_accuracy: 0.9361\n",
            "Epoch 32/100\n",
            "3312/3312 [==============================] - 17s 5ms/step - loss: 0.1961 - binary_accuracy: 0.9408 - val_loss: 0.2067 - val_binary_accuracy: 0.9368\n",
            "Epoch 33/100\n",
            "3312/3312 [==============================] - 17s 5ms/step - loss: 0.1949 - binary_accuracy: 0.9401 - val_loss: 0.2053 - val_binary_accuracy: 0.9361\n",
            "Epoch 34/100\n",
            "3312/3312 [==============================] - 17s 5ms/step - loss: 0.1939 - binary_accuracy: 0.9402 - val_loss: 0.2056 - val_binary_accuracy: 0.9363\n",
            "Epoch 35/100\n",
            "3312/3312 [==============================] - 17s 5ms/step - loss: 0.1933 - binary_accuracy: 0.9402 - val_loss: 0.2059 - val_binary_accuracy: 0.9346\n",
            "Epoch 36/100\n",
            "3312/3312 [==============================] - 17s 5ms/step - loss: 0.1922 - binary_accuracy: 0.9408 - val_loss: 0.2046 - val_binary_accuracy: 0.9361\n",
            "Epoch 37/100\n",
            "3312/3312 [==============================] - 17s 5ms/step - loss: 0.1916 - binary_accuracy: 0.9409 - val_loss: 0.2047 - val_binary_accuracy: 0.9360\n",
            "Epoch 38/100\n",
            "3312/3312 [==============================] - 17s 5ms/step - loss: 0.1912 - binary_accuracy: 0.9407 - val_loss: 0.2016 - val_binary_accuracy: 0.9358\n",
            "Epoch 39/100\n",
            "3312/3312 [==============================] - 17s 5ms/step - loss: 0.1910 - binary_accuracy: 0.9401 - val_loss: 0.2036 - val_binary_accuracy: 0.9361\n",
            "Epoch 40/100\n",
            "3312/3312 [==============================] - 17s 5ms/step - loss: 0.1903 - binary_accuracy: 0.9404 - val_loss: 0.2027 - val_binary_accuracy: 0.9372\n",
            "Epoch 41/100\n",
            "3312/3312 [==============================] - 17s 5ms/step - loss: 0.1897 - binary_accuracy: 0.9407 - val_loss: 0.1994 - val_binary_accuracy: 0.9358\n",
            "Epoch 42/100\n",
            "3312/3312 [==============================] - 17s 5ms/step - loss: 0.1893 - binary_accuracy: 0.9408 - val_loss: 0.2035 - val_binary_accuracy: 0.9361\n",
            "Epoch 43/100\n",
            "3312/3312 [==============================] - 17s 5ms/step - loss: 0.1889 - binary_accuracy: 0.9410 - val_loss: 0.1978 - val_binary_accuracy: 0.9365\n",
            "Epoch 44/100\n",
            "3312/3312 [==============================] - 17s 5ms/step - loss: 0.1884 - binary_accuracy: 0.9413 - val_loss: 0.2001 - val_binary_accuracy: 0.9361\n",
            "Epoch 45/100\n",
            "3312/3312 [==============================] - 17s 5ms/step - loss: 0.1878 - binary_accuracy: 0.9418 - val_loss: 0.1998 - val_binary_accuracy: 0.9389\n",
            "Epoch 46/100\n",
            "3312/3312 [==============================] - 17s 5ms/step - loss: 0.1874 - binary_accuracy: 0.9414 - val_loss: 0.1974 - val_binary_accuracy: 0.9370\n",
            "Epoch 47/100\n",
            "3312/3312 [==============================] - 17s 5ms/step - loss: 0.1871 - binary_accuracy: 0.9415 - val_loss: 0.1968 - val_binary_accuracy: 0.9382\n",
            "Epoch 48/100\n",
            "3312/3312 [==============================] - 17s 5ms/step - loss: 0.1862 - binary_accuracy: 0.9415 - val_loss: 0.1991 - val_binary_accuracy: 0.9346\n",
            "Epoch 49/100\n",
            "3312/3312 [==============================] - 17s 5ms/step - loss: 0.1858 - binary_accuracy: 0.9415 - val_loss: 0.1995 - val_binary_accuracy: 0.9365\n",
            "Epoch 50/100\n",
            "3312/3312 [==============================] - 17s 5ms/step - loss: 0.1855 - binary_accuracy: 0.9422 - val_loss: 0.2012 - val_binary_accuracy: 0.9377\n",
            "Epoch 51/100\n",
            "3312/3312 [==============================] - 17s 5ms/step - loss: 0.1850 - binary_accuracy: 0.9421 - val_loss: 0.1968 - val_binary_accuracy: 0.9375\n",
            "Epoch 52/100\n",
            "3312/3312 [==============================] - 17s 5ms/step - loss: 0.1848 - binary_accuracy: 0.9420 - val_loss: 0.1971 - val_binary_accuracy: 0.9356\n",
            "Epoch 53/100\n",
            "3312/3312 [==============================] - 17s 5ms/step - loss: 0.1845 - binary_accuracy: 0.9420 - val_loss: 0.1952 - val_binary_accuracy: 0.9355\n",
            "Epoch 54/100\n",
            "3312/3312 [==============================] - 17s 5ms/step - loss: 0.1840 - binary_accuracy: 0.9418 - val_loss: 0.1966 - val_binary_accuracy: 0.9373\n",
            "Epoch 55/100\n",
            "3312/3312 [==============================] - 17s 5ms/step - loss: 0.1834 - binary_accuracy: 0.9419 - val_loss: 0.1981 - val_binary_accuracy: 0.9363\n",
            "Epoch 56/100\n",
            "3312/3312 [==============================] - 17s 5ms/step - loss: 0.1835 - binary_accuracy: 0.9419 - val_loss: 0.1957 - val_binary_accuracy: 0.9382\n",
            "Epoch 57/100\n",
            "3312/3312 [==============================] - 17s 5ms/step - loss: 0.1831 - binary_accuracy: 0.9419 - val_loss: 0.1976 - val_binary_accuracy: 0.9360\n",
            "Epoch 58/100\n",
            "3312/3312 [==============================] - 17s 5ms/step - loss: 0.1827 - binary_accuracy: 0.9421 - val_loss: 0.1963 - val_binary_accuracy: 0.9368\n",
            "Epoch 59/100\n",
            "3312/3312 [==============================] - 17s 5ms/step - loss: 0.1824 - binary_accuracy: 0.9418 - val_loss: 0.1971 - val_binary_accuracy: 0.9373\n",
            "Epoch 60/100\n",
            "3312/3312 [==============================] - 17s 5ms/step - loss: 0.1818 - binary_accuracy: 0.9416 - val_loss: 0.1970 - val_binary_accuracy: 0.9365\n",
            "Epoch 61/100\n",
            "3312/3312 [==============================] - 17s 5ms/step - loss: 0.1818 - binary_accuracy: 0.9425 - val_loss: 0.1961 - val_binary_accuracy: 0.9368\n",
            "Epoch 62/100\n",
            "3312/3312 [==============================] - 17s 5ms/step - loss: 0.1812 - binary_accuracy: 0.9423 - val_loss: 0.2000 - val_binary_accuracy: 0.9339\n",
            "Epoch 63/100\n",
            "3312/3312 [==============================] - 17s 5ms/step - loss: 0.1814 - binary_accuracy: 0.9422 - val_loss: 0.1921 - val_binary_accuracy: 0.9370\n",
            "Epoch 64/100\n",
            "3312/3312 [==============================] - 17s 5ms/step - loss: 0.1810 - binary_accuracy: 0.9424 - val_loss: 0.1935 - val_binary_accuracy: 0.9361\n",
            "Epoch 65/100\n",
            "3312/3312 [==============================] - 17s 5ms/step - loss: 0.1802 - binary_accuracy: 0.9424 - val_loss: 0.1930 - val_binary_accuracy: 0.9380\n",
            "Epoch 66/100\n",
            "3312/3312 [==============================] - 17s 5ms/step - loss: 0.1800 - binary_accuracy: 0.9427 - val_loss: 0.1933 - val_binary_accuracy: 0.9383\n",
            "Epoch 67/100\n",
            "3312/3312 [==============================] - 17s 5ms/step - loss: 0.1802 - binary_accuracy: 0.9431 - val_loss: 0.1938 - val_binary_accuracy: 0.9360\n",
            "Epoch 68/100\n",
            "3312/3312 [==============================] - 17s 5ms/step - loss: 0.1803 - binary_accuracy: 0.9424 - val_loss: 0.1934 - val_binary_accuracy: 0.9368\n",
            "Epoch 69/100\n",
            "3312/3312 [==============================] - 17s 5ms/step - loss: 0.1800 - binary_accuracy: 0.9427 - val_loss: 0.1924 - val_binary_accuracy: 0.9375\n",
            "Epoch 70/100\n",
            "3312/3312 [==============================] - 17s 5ms/step - loss: 0.1791 - binary_accuracy: 0.9434 - val_loss: 0.1938 - val_binary_accuracy: 0.9367\n",
            "Epoch 71/100\n",
            "3312/3312 [==============================] - 17s 5ms/step - loss: 0.1792 - binary_accuracy: 0.9436 - val_loss: 0.1937 - val_binary_accuracy: 0.9373\n",
            "Epoch 72/100\n",
            "3312/3312 [==============================] - 17s 5ms/step - loss: 0.1787 - binary_accuracy: 0.9436 - val_loss: 0.1912 - val_binary_accuracy: 0.9358\n",
            "Epoch 73/100\n",
            "3312/3312 [==============================] - 17s 5ms/step - loss: 0.1785 - binary_accuracy: 0.9434 - val_loss: 0.1896 - val_binary_accuracy: 0.9387\n",
            "Epoch 74/100\n",
            "3312/3312 [==============================] - 17s 5ms/step - loss: 0.1783 - binary_accuracy: 0.9434 - val_loss: 0.1932 - val_binary_accuracy: 0.9367\n",
            "Epoch 75/100\n",
            "3312/3312 [==============================] - 17s 5ms/step - loss: 0.1778 - binary_accuracy: 0.9434 - val_loss: 0.1920 - val_binary_accuracy: 0.9387\n",
            "Epoch 76/100\n",
            "3312/3312 [==============================] - 17s 5ms/step - loss: 0.1778 - binary_accuracy: 0.9430 - val_loss: 0.1914 - val_binary_accuracy: 0.9375\n",
            "Epoch 77/100\n",
            "3312/3312 [==============================] - 17s 5ms/step - loss: 0.1778 - binary_accuracy: 0.9433 - val_loss: 0.1910 - val_binary_accuracy: 0.9365\n",
            "Epoch 78/100\n",
            "3312/3312 [==============================] - 17s 5ms/step - loss: 0.1776 - binary_accuracy: 0.9432 - val_loss: 0.1914 - val_binary_accuracy: 0.9377\n",
            "Epoch 79/100\n",
            "3312/3312 [==============================] - 17s 5ms/step - loss: 0.1769 - binary_accuracy: 0.9436 - val_loss: 0.1911 - val_binary_accuracy: 0.9368\n",
            "Epoch 80/100\n",
            "3312/3312 [==============================] - 17s 5ms/step - loss: 0.1771 - binary_accuracy: 0.9430 - val_loss: 0.1917 - val_binary_accuracy: 0.9378\n",
            "Epoch 81/100\n",
            "3312/3312 [==============================] - 17s 5ms/step - loss: 0.1767 - binary_accuracy: 0.9439 - val_loss: 0.1897 - val_binary_accuracy: 0.9377\n",
            "Epoch 82/100\n",
            "3312/3312 [==============================] - 17s 5ms/step - loss: 0.1766 - binary_accuracy: 0.9435 - val_loss: 0.1924 - val_binary_accuracy: 0.9378\n",
            "Epoch 83/100\n",
            "3312/3312 [==============================] - 17s 5ms/step - loss: 0.1765 - binary_accuracy: 0.9440 - val_loss: 0.1937 - val_binary_accuracy: 0.9370\n",
            "Epoch 84/100\n",
            "3312/3312 [==============================] - 17s 5ms/step - loss: 0.1759 - binary_accuracy: 0.9438 - val_loss: 0.1914 - val_binary_accuracy: 0.9373\n",
            "Epoch 85/100\n",
            "3312/3312 [==============================] - 17s 5ms/step - loss: 0.1760 - binary_accuracy: 0.9437 - val_loss: 0.1959 - val_binary_accuracy: 0.9377\n",
            "Epoch 86/100\n",
            "3312/3312 [==============================] - 17s 5ms/step - loss: 0.1761 - binary_accuracy: 0.9439 - val_loss: 0.1928 - val_binary_accuracy: 0.9363\n",
            "Epoch 87/100\n",
            "3312/3312 [==============================] - 17s 5ms/step - loss: 0.1754 - binary_accuracy: 0.9437 - val_loss: 0.1920 - val_binary_accuracy: 0.9382\n",
            "Epoch 88/100\n",
            "3312/3312 [==============================] - 17s 5ms/step - loss: 0.1748 - binary_accuracy: 0.9443 - val_loss: 0.1903 - val_binary_accuracy: 0.9367\n",
            "Epoch 89/100\n",
            "3312/3312 [==============================] - 17s 5ms/step - loss: 0.1751 - binary_accuracy: 0.9441 - val_loss: 0.1915 - val_binary_accuracy: 0.9360\n",
            "Epoch 90/100\n",
            "3312/3312 [==============================] - 17s 5ms/step - loss: 0.1750 - binary_accuracy: 0.9438 - val_loss: 0.1915 - val_binary_accuracy: 0.9375\n",
            "Epoch 91/100\n",
            "3312/3312 [==============================] - 17s 5ms/step - loss: 0.1753 - binary_accuracy: 0.9439 - val_loss: 0.1913 - val_binary_accuracy: 0.9355\n",
            "Epoch 92/100\n",
            "3312/3312 [==============================] - 17s 5ms/step - loss: 0.1750 - binary_accuracy: 0.9437 - val_loss: 0.1894 - val_binary_accuracy: 0.9378\n",
            "Epoch 93/100\n",
            "3312/3312 [==============================] - 17s 5ms/step - loss: 0.1747 - binary_accuracy: 0.9438 - val_loss: 0.1892 - val_binary_accuracy: 0.9380\n",
            "Epoch 94/100\n",
            "3312/3312 [==============================] - 17s 5ms/step - loss: 0.1743 - binary_accuracy: 0.9443 - val_loss: 0.1905 - val_binary_accuracy: 0.9367\n",
            "Epoch 95/100\n",
            "3312/3312 [==============================] - 17s 5ms/step - loss: 0.1748 - binary_accuracy: 0.9442 - val_loss: 0.1948 - val_binary_accuracy: 0.9372\n",
            "Epoch 96/100\n",
            "3312/3312 [==============================] - 17s 5ms/step - loss: 0.1745 - binary_accuracy: 0.9443 - val_loss: 0.1897 - val_binary_accuracy: 0.9383\n",
            "Epoch 97/100\n",
            "3312/3312 [==============================] - 17s 5ms/step - loss: 0.1741 - binary_accuracy: 0.9443 - val_loss: 0.1894 - val_binary_accuracy: 0.9394\n",
            "Epoch 98/100\n",
            "3312/3312 [==============================] - 17s 5ms/step - loss: 0.1733 - binary_accuracy: 0.9446 - val_loss: 0.1889 - val_binary_accuracy: 0.9390\n",
            "Epoch 99/100\n",
            "3312/3312 [==============================] - 17s 5ms/step - loss: 0.1737 - binary_accuracy: 0.9442 - val_loss: 0.1915 - val_binary_accuracy: 0.9375\n",
            "Epoch 100/100\n",
            "3312/3312 [==============================] - 17s 5ms/step - loss: 0.1736 - binary_accuracy: 0.9444 - val_loss: 0.1905 - val_binary_accuracy: 0.9397\n",
            "184/184 [==============================] - 0s 2ms/step - loss: 0.1905 - binary_accuracy: 0.9397\n",
            "____________________________________________________________________________________________________\n",
            "Test Loss and Accuracy\n",
            "results  [0.19052793085575104, 0.93970787525177]\n"
          ],
          "name": "stdout"
        },
        {
          "output_type": "execute_result",
          "data": {
            "text/plain": [
              "dict_keys(['loss', 'binary_accuracy', 'val_loss', 'val_binary_accuracy'])"
            ]
          },
          "metadata": {
            "tags": []
          },
          "execution_count": 56
        }
      ]
    },
    {
      "cell_type": "code",
      "metadata": {
        "id": "m-IP1Ac44lA5",
        "colab_type": "code",
        "outputId": "899cfa21-c294-4dec-8090-f8249b013f58",
        "colab": {
          "base_uri": "https://localhost:8080/",
          "height": 574
        }
      },
      "source": [
        "# VALIDATION LOSS curves\n",
        "\n",
        "plt.clf()\n",
        "history_dict = history.history\n",
        "loss_values = history_dict['loss']\n",
        "val_loss_values = history_dict['val_loss']\n",
        "epochs = range(1, (len(history_dict['loss']) + 1))\n",
        "plt.plot(epochs, loss_values, 'bo', label='Training loss')\n",
        "plt.plot(epochs, val_loss_values, 'r', label='Validation loss')\n",
        "plt.title('Training and validation loss')\n",
        "plt.xlabel('Epochs')\n",
        "plt.ylabel('Loss')\n",
        "plt.legend()\n",
        "plt.show()\n",
        "\n",
        "# VALIDATION ACCURACY curves\n",
        "\n",
        "plt.clf()\n",
        "acc_values = history_dict['binary_accuracy']\n",
        "val_acc_values = history_dict['val_binary_accuracy']\n",
        "epochs = range(1, (len(history_dict['binary_accuracy']) + 1))\n",
        "plt.plot(epochs, acc_values, 'bo', label='Training acc')\n",
        "plt.plot(epochs, val_acc_values, 'r', label='Validation acc')\n",
        "plt.title('Training and validation accuracy')\n",
        "plt.xlabel('Epochs')\n",
        "plt.ylabel('Accuracy')\n",
        "plt.legend()\n",
        "plt.show()"
      ],
      "execution_count": 0,
      "outputs": [
        {
          "output_type": "display_data",
          "data": {
            "image/png": "[encoded data removed]",
            "text/plain": [
              "<Figure size 432x288 with 1 Axes>"
            ]
          },
          "metadata": {
            "tags": []
          }
        },
        {
          "output_type": "display_data",
          "data": {
            "image/png": "[encoded data removed]",
            "text/plain": [
              "<Figure size 432x288 with 1 Axes>"
            ]
          },
          "metadata": {
            "tags": []
          }
        }
      ]
    },
    {
      "cell_type": "code",
      "metadata": {
        "id": "xVRmLVME9zQl",
        "colab_type": "code",
        "outputId": "86b5afa6-05b8-40ea-b44d-89ada5602e05",
        "colab": {
          "base_uri": "https://localhost:8080/",
          "height": 108
        }
      },
      "source": [
        "final_predictions = model.predict(X_test)\n",
        "\n",
        "Preds = final_predictions.copy()\n",
        "#print(len(Preds))\n",
        "#print(Preds)\n",
        "Preds[ np.where( Preds >= 0.5 ) ] = 1\n",
        "Preds[ np.where( Preds < 0.5 ) ] = 0\n",
        "#print(Preds)\n",
        "# Confusion matrix\n",
        "\n",
        "conf_mx = confusion_matrix(y_test, Preds)\n",
        "\n",
        "TN = conf_mx[0,0]\n",
        "FP = conf_mx[0,1]\n",
        "FN = conf_mx[1,0]\n",
        "TP = conf_mx[1,1]\n",
        "\n",
        "print ('TN: ', TN)\n",
        "print ('FP: ', FP)\n",
        "print ('FN: ', FN)\n",
        "print ('TP: ', TP)\n",
        "\n",
        "recall = TP/(TP+FN)\n",
        "precision = TP/(TP+FP)\n",
        "\n",
        "print (recall, precision)"
      ],
      "execution_count": 0,
      "outputs": [
        {
          "output_type": "stream",
          "text": [
            "TN:  5218\n",
            "FP:  78\n",
            "FN:  277\n",
            "TP:  315\n",
            "0.5320945945945946 0.8015267175572519\n"
          ],
          "name": "stdout"
        }
      ]
    },
    {
      "cell_type": "code",
      "metadata": {
        "id": "lcZWdSfm95EB",
        "colab_type": "code",
        "outputId": "0daf3bf1-b885-4b9f-982a-6859cdd402a7",
        "colab": {
          "base_uri": "https://localhost:8080/",
          "height": 467
        }
      },
      "source": [
        "plot_confusion_matrix(conf_mx, \n",
        "                      normalize    = False,\n",
        "                      target_names = ['lived', 'died'],\n",
        "                      title        = \"Confusion Matrix\")"
      ],
      "execution_count": 0,
      "outputs": [
        {
          "output_type": "display_data",
          "data": {
            "image/png": "[encoded data removed]",
            "text/plain": [
              "<Figure size 576x432 with 2 Axes>"
            ]
          },
          "metadata": {
            "tags": []
          }
        }
      ]
    },
    {
      "cell_type": "code",
      "metadata": {
        "id": "mswZjjEj96aT",
        "colab_type": "code",
        "outputId": "b515a6c2-28aa-424a-86ca-a7e86f7eb933",
        "colab": {
          "base_uri": "https://localhost:8080/",
          "height": 90
        }
      },
      "source": [
        "print ('precision ',precision_score(y_test, Preds))\n",
        "print ('recall ',recall_score(y_test, Preds) )\n",
        "print ('accuracy ',accuracy_score(y_test, Preds))\n",
        "print ('F1 score ',f1_score(y_test, Preds))"
      ],
      "execution_count": 0,
      "outputs": [
        {
          "output_type": "stream",
          "text": [
            "precision  0.8015267175572519\n",
            "recall  0.5320945945945946\n",
            "accuracy  0.9397078804347826\n",
            "F1 score  0.6395939086294417\n"
          ],
          "name": "stdout"
        }
      ]
    },
    {
      "cell_type": "code",
      "metadata": {
        "id": "go-CTT3l98pY",
        "colab_type": "code",
        "outputId": "e6c956af-1741-4858-ddd0-d2fb407f17be",
        "colab": {
          "base_uri": "https://localhost:8080/",
          "height": 299
        }
      },
      "source": [
        "# calculate AUC\n",
        "auc = roc_auc_score(y_test, Preds)\n",
        "print('AUC: %.3f' % auc)\n",
        "# calculate roc curve\n",
        "fpr, tpr, thresholds = roc_curve(y_test, Preds)\n",
        "# plot no skill\n",
        "plt.plot([0, 1], [0, 1], linestyle='--')\n",
        "# plot the roc curve for the model\n",
        "plt.plot(fpr, tpr, marker='.')\n",
        "plt.title('ROC ')\n",
        "# show the plot\n",
        "plt.show()"
      ],
      "execution_count": 0,
      "outputs": [
        {
          "output_type": "stream",
          "text": [
            "AUC: 0.759\n"
          ],
          "name": "stdout"
        },
        {
          "output_type": "display_data",
          "data": {
            "image/png": "[encoded data removed]",
            "text/plain": [
              "<Figure size 432x288 with 1 Axes>"
            ]
          },
          "metadata": {
            "tags": []
          }
        }
      ]
    },
    {
      "cell_type": "code",
      "metadata": {
        "id": "jrCbvezk9-us",
        "colab_type": "code",
        "outputId": "77d0c63a-ca15-4e29-b8e1-0ef8cfe52b7e",
        "colab": {
          "base_uri": "https://localhost:8080/",
          "height": 284
        }
      },
      "source": [
        "# calculate precision-recall curve\n",
        "precision, recall, thresholds = precision_recall_curve(y_test, Preds)\n",
        "# calculate F1 score\n",
        "f1 = f1_score(y_test, Preds)\n",
        "# calculate precision-recall AUC\n",
        "#auc = auc(recall, precision)\n",
        "# calculate average precision score\n",
        "ap = average_precision_score(y_test, Preds)\n",
        "print('f1=%.3f ap=%.3f' % (f1, ap))\n",
        "# plot no skill\n",
        "plt.plot([0, 1], [0.5, 0.5], linestyle='--')\n",
        "# plot the roc curve for the model\n",
        "plt.plot(recall, precision, marker='.')\n",
        "# show the plot\n",
        "plt.show()"
      ],
      "execution_count": 0,
      "outputs": [
        {
          "output_type": "stream",
          "text": [
            "f1=0.640 ap=0.474\n"
          ],
          "name": "stdout"
        },
        {
          "output_type": "display_data",
          "data": {
            "image/png": "[encoded data removed]",
            "text/plain": [
              "<Figure size 432x288 with 1 Axes>"
            ]
          },
          "metadata": {
            "tags": []
          }
        }
      ]
    },
    {
      "cell_type": "code",
      "metadata": {
        "id": "uzZINaUUDe9-",
        "colab_type": "code",
        "colab": {}
      },
      "source": [
        "# The NN model and RF model gave similar performances."
      ],
      "execution_count": 0,
      "outputs": []
    }
  ]
}